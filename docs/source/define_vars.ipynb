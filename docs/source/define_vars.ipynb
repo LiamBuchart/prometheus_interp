{
 "cells": [
  {
   "cell_type": "markdown",
   "id": "b3da12b7",
   "metadata": {},
   "source": [
    "User Input for a Prometheus Run\n",
    "=================================\n",
    "\n",
    "Please run each code block and follow the instructions.\n",
    "The end result will be a downloadable .csv file with the necessary values.\n",
    "Ensure that you have python installed on your machine before starting.\n",
    "\n",
    "There is an accompanying how-to in the \"Setup\" tab.\n",
    "\n",
    "This notebook will always attempt to grab the most up-to-date model data. If running more a previous day, it will grab the 18Z run."
   ]
  },
  {
   "cell_type": "code",
   "execution_count": 1,
   "id": "aa30f526",
   "metadata": {},
   "outputs": [],
   "source": [
    "# Necessary imports \n",
    "import pandas as pd\n",
    "import geopandas as gpd\n",
    "import numpy as np\n",
    "import matplotlib.pyplot as plt\n",
    "import json\n",
    "import scipy\n",
    "import ipywidgets as widgets\n",
    "import requests\n",
    "import xarray as xr\n",
    "import shutil\n",
    "import cfgrib\n",
    "\n",
    "from ipyleaflet import Map, Marker, GeoJSON\n",
    "from ipywidgets import Output\n",
    "from IPython.display import display\n",
    "from datetime import datetime\n",
    "from scipy.interpolate import griddata\n",
    "\n",
    "from etl_prometheus_data import download_data, KDTree_interpolate_grib2_to_point, GRID_interpolate_grib2_to_point\n",
    "from file_funcs import set_filenames\n"
   ]
  },
  {
   "cell_type": "code",
   "execution_count": 2,
   "id": "095fef03",
   "metadata": {},
   "outputs": [
    {
     "name": "stdout",
     "output_type": "stream",
     "text": [
      "Note: you only have to run this cell every few hours when new perimeters come in\n",
      "Shapefile already exists. Downloading the latest data...\n",
      "Downloaded perimeters.shp\n",
      "Downloaded perimeters.shx\n",
      "Downloaded perimeters.dbf\n",
      "Downloaded perimeters.prj\n"
     ]
    }
   ],
   "source": [
    "# run the etl_nfdf_polygons.py script to get the NFDF polygons\n",
    "print(\"Note: you only have to run this cell every few hours when new perimeters come in\")\n",
    "%run etl_nfdb_polygons.py"
   ]
  },
  {
   "cell_type": "code",
   "execution_count": 3,
   "id": "a1e71ae7",
   "metadata": {},
   "outputs": [
    {
     "name": "stderr",
     "output_type": "stream",
     "text": [
      "C:\\Users\\lbuchart\\AppData\\Local\\Temp\\ipykernel_14588\\131360457.py:14: DeprecationWarning: The 'unary_union' attribute is deprecated, use the 'union_all()' method instead.\n",
      "  center = gdf.geometry.unary_union.centroid.coords[0][::-1]\n"
     ]
    },
    {
     "name": "stdout",
     "output_type": "stream",
     "text": [
      "Click on the map to get coordinates\n",
      "Double-click to zoom in or use the zoom controls\n",
      "Your final click is the selected location, ensure that the marker is moved to where you want it\n"
     ]
    },
    {
     "data": {
      "application/vnd.jupyter.widget-view+json": {
       "model_id": "5822c7e5cc684b33a06fc6a0a6826948",
       "version_major": 2,
       "version_minor": 0
      },
      "text/plain": [
       "Map(center=[56.48708139474024, -106.821388247468], controls=(ZoomControl(options=['position', 'zoom_in_text', …"
      ]
     },
     "metadata": {},
     "output_type": "display_data"
    },
    {
     "data": {
      "application/vnd.jupyter.widget-view+json": {
       "model_id": "3efb52b56bc544c4937a1633fd91ca4c",
       "version_major": 2,
       "version_minor": 0
      },
      "text/plain": [
       "Output()"
      ]
     },
     "metadata": {},
     "output_type": "display_data"
    }
   ],
   "source": [
    "# Load the GeoJSON file with geopandas\n",
    "gdf = gpd.read_file('Canada_perimeters.geojson')\n",
    "\n",
    "# Ensure CRS is WGS84\n",
    "gdf = gdf.to_crs(epsg=4326)\n",
    "\n",
    "# Optionally drop columns you don't need\n",
    "gdf = gdf.drop(columns=['FIRSTDATE', 'LASTDATE', 'CONSIS_ID'])\n",
    "\n",
    "# Convert to GeoJSON dict\n",
    "geojson_data = json.loads(gdf.to_json())\n",
    "\n",
    "# Center the map on the centroid of all polygons\n",
    "center = gdf.geometry.unary_union.centroid.coords[0][::-1]\n",
    "m = Map(center=center, zoom=4)\n",
    "\n",
    "# Add the GeoJSON layer\n",
    "geojson_layer = GeoJSON(\n",
    "    data=geojson_data,\n",
    "    name='NFDB Polygons',\n",
    "    style={\n",
    "        'color': 'red',\n",
    "        'weight': 1,\n",
    "        'fillColor': 'orange',\n",
    "        'fillOpacity': 0.6\n",
    "    }\n",
    ")\n",
    "m.add_layer(geojson_layer)\n",
    "\n",
    "# add marker that will be updated on click\n",
    "marker = Marker(location=center)    \n",
    "m.add_layer(marker)\n",
    "\n",
    "out = Output()\n",
    "\n",
    "def handle_map_click(**kwargs):\n",
    "    if kwargs.get('type') == 'click':\n",
    "        latlon = kwargs.get('coordinates')\n",
    "        marker.location = latlon\n",
    "        with out:\n",
    "            print(f\"Clicked location: {latlon}\")\n",
    "\n",
    "m.on_interaction(handle_map_click)\n",
    "\n",
    "print(\"Click on the map to get coordinates\")\n",
    "print(\"Double-click to zoom in or use the zoom controls\")\n",
    "print(\"Your final click is the selected location, ensure that the marker is moved to where you want it\")\n",
    "display(m, out)"
   ]
  },
  {
   "cell_type": "code",
   "execution_count": 4,
   "id": "47a5f7ee",
   "metadata": {},
   "outputs": [
    {
     "name": "stdout",
     "output_type": "stream",
     "text": [
      "The final coordinates you have selected are: [47.81315451752768, -53.22052001953125]\n"
     ]
    }
   ],
   "source": [
    "coords = marker.location\n",
    "print(f\"The final coordinates you have selected are: {coords}\")\n",
    "\n",
    "# save the map to an HTML file\n",
    "m.save('nfdb_polygons_map.html')"
   ]
  },
  {
   "cell_type": "code",
   "execution_count": 5,
   "id": "19646c01",
   "metadata": {},
   "outputs": [
    {
     "name": "stdout",
     "output_type": "stream",
     "text": [
      "Requires your initial forecast hour in UTC, and your current timezone offset from UTC..\n",
      "please\n"
     ]
    },
    {
     "data": {
      "application/vnd.jupyter.widget-view+json": {
       "model_id": "3a5297d137f24c72b3007d19e7f71632",
       "version_major": 2,
       "version_minor": 0
      },
      "text/plain": [
       "Dropdown(description='Model:', options=('rdps', 'hrdps'), value='rdps')"
      ]
     },
     "metadata": {},
     "output_type": "display_data"
    },
    {
     "data": {
      "application/vnd.jupyter.widget-view+json": {
       "model_id": "87f6327c8eef456aae1358148e681cfb",
       "version_major": 2,
       "version_minor": 0
      },
      "text/plain": [
       "Dropdown(description='Model Initialization Time:', index=4, options=('00', '06', '12', '18', 'auto'), style=De…"
      ]
     },
     "metadata": {},
     "output_type": "display_data"
    },
    {
     "data": {
      "application/vnd.jupyter.widget-view+json": {
       "model_id": "b57c72bd4b0f4993af2c9f207411522d",
       "version_major": 2,
       "version_minor": 0
      },
      "text/plain": [
       "IntSlider(value=2025, continuous_update=False, description='Year:', max=2025, min=2020)"
      ]
     },
     "metadata": {},
     "output_type": "display_data"
    },
    {
     "data": {
      "application/vnd.jupyter.widget-view+json": {
       "model_id": "9956050d56e94d63ba6fa3980f32156f",
       "version_major": 2,
       "version_minor": 0
      },
      "text/plain": [
       "IntSlider(value=1, continuous_update=False, description='Month:', max=12, min=1)"
      ]
     },
     "metadata": {},
     "output_type": "display_data"
    },
    {
     "data": {
      "application/vnd.jupyter.widget-view+json": {
       "model_id": "73c3314e6561470e9668c8babec563e3",
       "version_major": 2,
       "version_minor": 0
      },
      "text/plain": [
       "IntSlider(value=1, continuous_update=False, description='Day:', max=31, min=1)"
      ]
     },
     "metadata": {},
     "output_type": "display_data"
    },
    {
     "data": {
      "application/vnd.jupyter.widget-view+json": {
       "model_id": "8019762797f24b88b0d4aafc3a0462e4",
       "version_major": 2,
       "version_minor": 0
      },
      "text/plain": [
       "IntSlider(value=0, continuous_update=False, description='Hour (UTC):', max=23)"
      ]
     },
     "metadata": {},
     "output_type": "display_data"
    },
    {
     "data": {
      "application/vnd.jupyter.widget-view+json": {
       "model_id": "9fd441525c0c44468498b779306abf21",
       "version_major": 2,
       "version_minor": 0
      },
      "text/plain": [
       "IntSlider(value=48, continuous_update=False, description='Forecast Length (hours):', max=72, min=24, step=6, s…"
      ]
     },
     "metadata": {},
     "output_type": "display_data"
    },
    {
     "data": {
      "application/vnd.jupyter.widget-view+json": {
       "model_id": "9cb4d6476efd4f969479ef26d3433838",
       "version_major": 2,
       "version_minor": 0
      },
      "text/plain": [
       "IntSlider(value=6, continuous_update=False, description='Number of hours behind UTC:', max=14, style=SliderSty…"
      ]
     },
     "metadata": {},
     "output_type": "display_data"
    },
    {
     "name": "stdout",
     "output_type": "stream",
     "text": [
      "Once you are happy with your selections\n",
      "Move to the next cell to begin gathering files and interpolating\n",
      "Note that the MSC Datamart only has data from the previous 30 days\n"
     ]
    }
   ],
   "source": [
    "# now select model and dates to download ECCC data\n",
    "from IPython.display import display\n",
    "model_dropdown = widgets.Dropdown(\n",
    "    options=['rdps', 'hrdps'],\n",
    "    value='rdps',\n",
    "    description='Model:',\n",
    ")\n",
    "\n",
    "model_run = widgets.Dropdown(\n",
    "    options=['00', '06', '12', '18', \"auto\"],\n",
    "    value='auto',\n",
    "    description='Model Initialization Time:',\n",
    "    style= {'description_width': 'initial'}\n",
    ")\n",
    "\n",
    "current_year = datetime.now().year\n",
    "year_slider = widgets.IntSlider(\n",
    "    value=int(current_year),\n",
    "    min=2020,\n",
    "    max = int(current_year),\n",
    "    step=1,\n",
    "    description='Year:',\n",
    "    continuous_update=False\n",
    ")\n",
    "\n",
    "month_slider = widgets.IntSlider(\n",
    "    value=1,\n",
    "    min=1,\n",
    "    max=12,\n",
    "    step=1,\n",
    "    description='Month:',\n",
    "    continuous_update=False\n",
    ")\n",
    "\n",
    "day_slider = widgets.IntSlider(\n",
    "    value=1,\n",
    "    min=1, \n",
    "    max=31,\n",
    "    step=1,\n",
    "    description='Day:',\n",
    "    continuous_update=False\n",
    ")\n",
    "\n",
    "hour_slider = widgets.IntSlider(\n",
    "    value=0,\n",
    "    min=0, \n",
    "    max=23,\n",
    "    step=1,\n",
    "    description='Hour (UTC):',\n",
    "    continuous_update=False\n",
    ")\n",
    "\n",
    "forecast_slider = widgets.IntSlider(\n",
    "    value=48,\n",
    "    min=24,  # 24\n",
    "    max=72,  # 72\n",
    "    step=6,  # 6\n",
    "    description='Forecast Length (hours):',\n",
    "    continuous_update=False,\n",
    "    style= {'description_width': 'initial'}\n",
    ")\n",
    "\n",
    "time_offset = widgets.IntSlider(\n",
    "    value=6,\n",
    "    min=0,\n",
    "    max=14,\n",
    "    step=1,\n",
    "    description='Number of hours behind UTC:',\n",
    "    continuous_update=False,\n",
    "    style= {'description_width': 'initial'}\n",
    ")\n",
    "\n",
    "# Display the widgets\n",
    "print(\"Requires your initial forecast hour in UTC, and your current timezone offset from UTC..\")\n",
    "print(\"please\")\n",
    "\n",
    "display(model_dropdown, model_run, year_slider, month_slider, day_slider, hour_slider, forecast_slider, time_offset)\n",
    "\n",
    "print(\"Once you are happy with your selections\")\n",
    "print(\"Move to the next cell to begin gathering files and interpolating\")\n",
    "\n",
    "print(\"Note that the MSC Datamart only has data from the previous 30 days\")"
   ]
  },
  {
   "cell_type": "code",
   "execution_count": 6,
   "id": "87948fe5",
   "metadata": {},
   "outputs": [
    {
     "name": "stdout",
     "output_type": "stream",
     "text": [
      "If you are running a very up-to-date model and this breaks...\n",
      "The latest model data might not be in, try going one model run previous\n",
      "Selected Model: rdps\n",
      "Selected Model Run: auto\n",
      "Selected Date: 2025-08-18--09\n",
      "Forecast Length: 48 hours\n",
      "The model starts at \n",
      "2025-08-18 03:00:00 20250818T06Z_MSC_RDPS_AirTemp_AGL-2m_RLatLon0.09_PT003H.grib2\n",
      "2025-08-18 03:00:00 20250818T06Z_MSC_RDPS_RelativeHumidity_AGL-2m_RLatLon0.09_PT003H.grib2\n",
      "2025-08-18 03:00:00 20250818T06Z_MSC_RDPS_WindSpeed_AGL-10m_RLatLon0.09_PT003H.grib2\n",
      "2025-08-18 03:00:00 20250818T06Z_MSC_RDPS_WindDir_AGL-10m_RLatLon0.09_PT003H.grib2\n",
      "2025-08-18 03:00:00 20250818T06Z_MSC_RDPS_Precip-Accum1h_Sfc_RLatLon0.09_PT003H.grib2\n",
      "2025-08-18 04:00:00 20250818T06Z_MSC_RDPS_AirTemp_AGL-2m_RLatLon0.09_PT004H.grib2\n",
      "2025-08-18 04:00:00 20250818T06Z_MSC_RDPS_RelativeHumidity_AGL-2m_RLatLon0.09_PT004H.grib2\n",
      "2025-08-18 04:00:00 20250818T06Z_MSC_RDPS_WindSpeed_AGL-10m_RLatLon0.09_PT004H.grib2\n",
      "2025-08-18 04:00:00 20250818T06Z_MSC_RDPS_WindDir_AGL-10m_RLatLon0.09_PT004H.grib2\n",
      "2025-08-18 04:00:00 20250818T06Z_MSC_RDPS_Precip-Accum1h_Sfc_RLatLon0.09_PT004H.grib2\n",
      "2025-08-18 05:00:00 20250818T06Z_MSC_RDPS_AirTemp_AGL-2m_RLatLon0.09_PT005H.grib2\n",
      "2025-08-18 05:00:00 20250818T06Z_MSC_RDPS_RelativeHumidity_AGL-2m_RLatLon0.09_PT005H.grib2\n",
      "2025-08-18 05:00:00 20250818T06Z_MSC_RDPS_WindSpeed_AGL-10m_RLatLon0.09_PT005H.grib2\n",
      "2025-08-18 05:00:00 20250818T06Z_MSC_RDPS_WindDir_AGL-10m_RLatLon0.09_PT005H.grib2\n",
      "2025-08-18 05:00:00 20250818T06Z_MSC_RDPS_Precip-Accum1h_Sfc_RLatLon0.09_PT005H.grib2\n",
      "2025-08-18 06:00:00 20250818T06Z_MSC_RDPS_AirTemp_AGL-2m_RLatLon0.09_PT006H.grib2\n",
      "2025-08-18 06:00:00 20250818T06Z_MSC_RDPS_RelativeHumidity_AGL-2m_RLatLon0.09_PT006H.grib2\n",
      "2025-08-18 06:00:00 20250818T06Z_MSC_RDPS_WindSpeed_AGL-10m_RLatLon0.09_PT006H.grib2\n",
      "2025-08-18 06:00:00 20250818T06Z_MSC_RDPS_WindDir_AGL-10m_RLatLon0.09_PT006H.grib2\n",
      "2025-08-18 06:00:00 20250818T06Z_MSC_RDPS_Precip-Accum1h_Sfc_RLatLon0.09_PT006H.grib2\n",
      "2025-08-18 07:00:00 20250818T06Z_MSC_RDPS_AirTemp_AGL-2m_RLatLon0.09_PT007H.grib2\n",
      "2025-08-18 07:00:00 20250818T06Z_MSC_RDPS_RelativeHumidity_AGL-2m_RLatLon0.09_PT007H.grib2\n",
      "2025-08-18 07:00:00 20250818T06Z_MSC_RDPS_WindSpeed_AGL-10m_RLatLon0.09_PT007H.grib2\n",
      "2025-08-18 07:00:00 20250818T06Z_MSC_RDPS_WindDir_AGL-10m_RLatLon0.09_PT007H.grib2\n",
      "2025-08-18 07:00:00 20250818T06Z_MSC_RDPS_Precip-Accum1h_Sfc_RLatLon0.09_PT007H.grib2\n",
      "2025-08-18 08:00:00 20250818T06Z_MSC_RDPS_AirTemp_AGL-2m_RLatLon0.09_PT008H.grib2\n",
      "2025-08-18 08:00:00 20250818T06Z_MSC_RDPS_RelativeHumidity_AGL-2m_RLatLon0.09_PT008H.grib2\n",
      "2025-08-18 08:00:00 20250818T06Z_MSC_RDPS_WindSpeed_AGL-10m_RLatLon0.09_PT008H.grib2\n",
      "2025-08-18 08:00:00 20250818T06Z_MSC_RDPS_WindDir_AGL-10m_RLatLon0.09_PT008H.grib2\n",
      "2025-08-18 08:00:00 20250818T06Z_MSC_RDPS_Precip-Accum1h_Sfc_RLatLon0.09_PT008H.grib2\n",
      "2025-08-18 09:00:00 20250818T06Z_MSC_RDPS_AirTemp_AGL-2m_RLatLon0.09_PT009H.grib2\n",
      "2025-08-18 09:00:00 20250818T06Z_MSC_RDPS_RelativeHumidity_AGL-2m_RLatLon0.09_PT009H.grib2\n",
      "2025-08-18 09:00:00 20250818T06Z_MSC_RDPS_WindSpeed_AGL-10m_RLatLon0.09_PT009H.grib2\n",
      "2025-08-18 09:00:00 20250818T06Z_MSC_RDPS_WindDir_AGL-10m_RLatLon0.09_PT009H.grib2\n",
      "2025-08-18 09:00:00 20250818T06Z_MSC_RDPS_Precip-Accum1h_Sfc_RLatLon0.09_PT009H.grib2\n",
      "2025-08-18 10:00:00 20250818T06Z_MSC_RDPS_AirTemp_AGL-2m_RLatLon0.09_PT010H.grib2\n",
      "2025-08-18 10:00:00 20250818T06Z_MSC_RDPS_RelativeHumidity_AGL-2m_RLatLon0.09_PT010H.grib2\n",
      "2025-08-18 10:00:00 20250818T06Z_MSC_RDPS_WindSpeed_AGL-10m_RLatLon0.09_PT010H.grib2\n",
      "2025-08-18 10:00:00 20250818T06Z_MSC_RDPS_WindDir_AGL-10m_RLatLon0.09_PT010H.grib2\n",
      "2025-08-18 10:00:00 20250818T06Z_MSC_RDPS_Precip-Accum1h_Sfc_RLatLon0.09_PT010H.grib2\n",
      "2025-08-18 11:00:00 20250818T06Z_MSC_RDPS_AirTemp_AGL-2m_RLatLon0.09_PT011H.grib2\n",
      "2025-08-18 11:00:00 20250818T06Z_MSC_RDPS_RelativeHumidity_AGL-2m_RLatLon0.09_PT011H.grib2\n",
      "2025-08-18 11:00:00 20250818T06Z_MSC_RDPS_WindSpeed_AGL-10m_RLatLon0.09_PT011H.grib2\n",
      "2025-08-18 11:00:00 20250818T06Z_MSC_RDPS_WindDir_AGL-10m_RLatLon0.09_PT011H.grib2\n",
      "2025-08-18 11:00:00 20250818T06Z_MSC_RDPS_Precip-Accum1h_Sfc_RLatLon0.09_PT011H.grib2\n",
      "2025-08-18 12:00:00 20250818T06Z_MSC_RDPS_AirTemp_AGL-2m_RLatLon0.09_PT012H.grib2\n",
      "2025-08-18 12:00:00 20250818T06Z_MSC_RDPS_RelativeHumidity_AGL-2m_RLatLon0.09_PT012H.grib2\n",
      "2025-08-18 12:00:00 20250818T06Z_MSC_RDPS_WindSpeed_AGL-10m_RLatLon0.09_PT012H.grib2\n",
      "2025-08-18 12:00:00 20250818T06Z_MSC_RDPS_WindDir_AGL-10m_RLatLon0.09_PT012H.grib2\n",
      "2025-08-18 12:00:00 20250818T06Z_MSC_RDPS_Precip-Accum1h_Sfc_RLatLon0.09_PT012H.grib2\n",
      "2025-08-18 13:00:00 20250818T06Z_MSC_RDPS_AirTemp_AGL-2m_RLatLon0.09_PT013H.grib2\n",
      "2025-08-18 13:00:00 20250818T06Z_MSC_RDPS_RelativeHumidity_AGL-2m_RLatLon0.09_PT013H.grib2\n",
      "2025-08-18 13:00:00 20250818T06Z_MSC_RDPS_WindSpeed_AGL-10m_RLatLon0.09_PT013H.grib2\n",
      "2025-08-18 13:00:00 20250818T06Z_MSC_RDPS_WindDir_AGL-10m_RLatLon0.09_PT013H.grib2\n",
      "2025-08-18 13:00:00 20250818T06Z_MSC_RDPS_Precip-Accum1h_Sfc_RLatLon0.09_PT013H.grib2\n",
      "2025-08-18 14:00:00 20250818T06Z_MSC_RDPS_AirTemp_AGL-2m_RLatLon0.09_PT014H.grib2\n",
      "2025-08-18 14:00:00 20250818T06Z_MSC_RDPS_RelativeHumidity_AGL-2m_RLatLon0.09_PT014H.grib2\n",
      "2025-08-18 14:00:00 20250818T06Z_MSC_RDPS_WindSpeed_AGL-10m_RLatLon0.09_PT014H.grib2\n",
      "2025-08-18 14:00:00 20250818T06Z_MSC_RDPS_WindDir_AGL-10m_RLatLon0.09_PT014H.grib2\n",
      "2025-08-18 14:00:00 20250818T06Z_MSC_RDPS_Precip-Accum1h_Sfc_RLatLon0.09_PT014H.grib2\n",
      "2025-08-18 15:00:00 20250818T06Z_MSC_RDPS_AirTemp_AGL-2m_RLatLon0.09_PT015H.grib2\n",
      "2025-08-18 15:00:00 20250818T06Z_MSC_RDPS_RelativeHumidity_AGL-2m_RLatLon0.09_PT015H.grib2\n",
      "2025-08-18 15:00:00 20250818T06Z_MSC_RDPS_WindSpeed_AGL-10m_RLatLon0.09_PT015H.grib2\n",
      "2025-08-18 15:00:00 20250818T06Z_MSC_RDPS_WindDir_AGL-10m_RLatLon0.09_PT015H.grib2\n",
      "2025-08-18 15:00:00 20250818T06Z_MSC_RDPS_Precip-Accum1h_Sfc_RLatLon0.09_PT015H.grib2\n",
      "2025-08-18 16:00:00 20250818T06Z_MSC_RDPS_AirTemp_AGL-2m_RLatLon0.09_PT016H.grib2\n",
      "2025-08-18 16:00:00 20250818T06Z_MSC_RDPS_RelativeHumidity_AGL-2m_RLatLon0.09_PT016H.grib2\n",
      "2025-08-18 16:00:00 20250818T06Z_MSC_RDPS_WindSpeed_AGL-10m_RLatLon0.09_PT016H.grib2\n",
      "2025-08-18 16:00:00 20250818T06Z_MSC_RDPS_WindDir_AGL-10m_RLatLon0.09_PT016H.grib2\n",
      "2025-08-18 16:00:00 20250818T06Z_MSC_RDPS_Precip-Accum1h_Sfc_RLatLon0.09_PT016H.grib2\n",
      "2025-08-18 17:00:00 20250818T06Z_MSC_RDPS_AirTemp_AGL-2m_RLatLon0.09_PT017H.grib2\n",
      "2025-08-18 17:00:00 20250818T06Z_MSC_RDPS_RelativeHumidity_AGL-2m_RLatLon0.09_PT017H.grib2\n",
      "2025-08-18 17:00:00 20250818T06Z_MSC_RDPS_WindSpeed_AGL-10m_RLatLon0.09_PT017H.grib2\n",
      "2025-08-18 17:00:00 20250818T06Z_MSC_RDPS_WindDir_AGL-10m_RLatLon0.09_PT017H.grib2\n",
      "2025-08-18 17:00:00 20250818T06Z_MSC_RDPS_Precip-Accum1h_Sfc_RLatLon0.09_PT017H.grib2\n",
      "2025-08-18 18:00:00 20250818T06Z_MSC_RDPS_AirTemp_AGL-2m_RLatLon0.09_PT018H.grib2\n",
      "2025-08-18 18:00:00 20250818T06Z_MSC_RDPS_RelativeHumidity_AGL-2m_RLatLon0.09_PT018H.grib2\n",
      "2025-08-18 18:00:00 20250818T06Z_MSC_RDPS_WindSpeed_AGL-10m_RLatLon0.09_PT018H.grib2\n",
      "2025-08-18 18:00:00 20250818T06Z_MSC_RDPS_WindDir_AGL-10m_RLatLon0.09_PT018H.grib2\n",
      "2025-08-18 18:00:00 20250818T06Z_MSC_RDPS_Precip-Accum1h_Sfc_RLatLon0.09_PT018H.grib2\n",
      "2025-08-18 19:00:00 20250818T06Z_MSC_RDPS_AirTemp_AGL-2m_RLatLon0.09_PT019H.grib2\n",
      "2025-08-18 19:00:00 20250818T06Z_MSC_RDPS_RelativeHumidity_AGL-2m_RLatLon0.09_PT019H.grib2\n",
      "2025-08-18 19:00:00 20250818T06Z_MSC_RDPS_WindSpeed_AGL-10m_RLatLon0.09_PT019H.grib2\n",
      "2025-08-18 19:00:00 20250818T06Z_MSC_RDPS_WindDir_AGL-10m_RLatLon0.09_PT019H.grib2\n",
      "2025-08-18 19:00:00 20250818T06Z_MSC_RDPS_Precip-Accum1h_Sfc_RLatLon0.09_PT019H.grib2\n",
      "2025-08-18 20:00:00 20250818T06Z_MSC_RDPS_AirTemp_AGL-2m_RLatLon0.09_PT020H.grib2\n",
      "2025-08-18 20:00:00 20250818T06Z_MSC_RDPS_RelativeHumidity_AGL-2m_RLatLon0.09_PT020H.grib2\n",
      "2025-08-18 20:00:00 20250818T06Z_MSC_RDPS_WindSpeed_AGL-10m_RLatLon0.09_PT020H.grib2\n",
      "2025-08-18 20:00:00 20250818T06Z_MSC_RDPS_WindDir_AGL-10m_RLatLon0.09_PT020H.grib2\n",
      "2025-08-18 20:00:00 20250818T06Z_MSC_RDPS_Precip-Accum1h_Sfc_RLatLon0.09_PT020H.grib2\n",
      "2025-08-18 21:00:00 20250818T06Z_MSC_RDPS_AirTemp_AGL-2m_RLatLon0.09_PT021H.grib2\n",
      "2025-08-18 21:00:00 20250818T06Z_MSC_RDPS_RelativeHumidity_AGL-2m_RLatLon0.09_PT021H.grib2\n",
      "2025-08-18 21:00:00 20250818T06Z_MSC_RDPS_WindSpeed_AGL-10m_RLatLon0.09_PT021H.grib2\n",
      "2025-08-18 21:00:00 20250818T06Z_MSC_RDPS_WindDir_AGL-10m_RLatLon0.09_PT021H.grib2\n",
      "2025-08-18 21:00:00 20250818T06Z_MSC_RDPS_Precip-Accum1h_Sfc_RLatLon0.09_PT021H.grib2\n",
      "2025-08-18 22:00:00 20250818T06Z_MSC_RDPS_AirTemp_AGL-2m_RLatLon0.09_PT022H.grib2\n",
      "2025-08-18 22:00:00 20250818T06Z_MSC_RDPS_RelativeHumidity_AGL-2m_RLatLon0.09_PT022H.grib2\n",
      "2025-08-18 22:00:00 20250818T06Z_MSC_RDPS_WindSpeed_AGL-10m_RLatLon0.09_PT022H.grib2\n",
      "2025-08-18 22:00:00 20250818T06Z_MSC_RDPS_WindDir_AGL-10m_RLatLon0.09_PT022H.grib2\n",
      "2025-08-18 22:00:00 20250818T06Z_MSC_RDPS_Precip-Accum1h_Sfc_RLatLon0.09_PT022H.grib2\n",
      "2025-08-18 23:00:00 20250818T06Z_MSC_RDPS_AirTemp_AGL-2m_RLatLon0.09_PT023H.grib2\n",
      "2025-08-18 23:00:00 20250818T06Z_MSC_RDPS_RelativeHumidity_AGL-2m_RLatLon0.09_PT023H.grib2\n",
      "2025-08-18 23:00:00 20250818T06Z_MSC_RDPS_WindSpeed_AGL-10m_RLatLon0.09_PT023H.grib2\n",
      "2025-08-18 23:00:00 20250818T06Z_MSC_RDPS_WindDir_AGL-10m_RLatLon0.09_PT023H.grib2\n",
      "2025-08-18 23:00:00 20250818T06Z_MSC_RDPS_Precip-Accum1h_Sfc_RLatLon0.09_PT023H.grib2\n",
      "2025-08-19 00:00:00 20250818T06Z_MSC_RDPS_AirTemp_AGL-2m_RLatLon0.09_PT024H.grib2\n",
      "2025-08-19 00:00:00 20250818T06Z_MSC_RDPS_RelativeHumidity_AGL-2m_RLatLon0.09_PT024H.grib2\n",
      "2025-08-19 00:00:00 20250818T06Z_MSC_RDPS_WindSpeed_AGL-10m_RLatLon0.09_PT024H.grib2\n",
      "2025-08-19 00:00:00 20250818T06Z_MSC_RDPS_WindDir_AGL-10m_RLatLon0.09_PT024H.grib2\n",
      "2025-08-19 00:00:00 20250818T06Z_MSC_RDPS_Precip-Accum1h_Sfc_RLatLon0.09_PT024H.grib2\n",
      "2025-08-19 01:00:00 20250818T06Z_MSC_RDPS_AirTemp_AGL-2m_RLatLon0.09_PT025H.grib2\n",
      "2025-08-19 01:00:00 20250818T06Z_MSC_RDPS_RelativeHumidity_AGL-2m_RLatLon0.09_PT025H.grib2\n",
      "2025-08-19 01:00:00 20250818T06Z_MSC_RDPS_WindSpeed_AGL-10m_RLatLon0.09_PT025H.grib2\n",
      "2025-08-19 01:00:00 20250818T06Z_MSC_RDPS_WindDir_AGL-10m_RLatLon0.09_PT025H.grib2\n",
      "2025-08-19 01:00:00 20250818T06Z_MSC_RDPS_Precip-Accum1h_Sfc_RLatLon0.09_PT025H.grib2\n",
      "2025-08-19 02:00:00 20250818T06Z_MSC_RDPS_AirTemp_AGL-2m_RLatLon0.09_PT026H.grib2\n",
      "2025-08-19 02:00:00 20250818T06Z_MSC_RDPS_RelativeHumidity_AGL-2m_RLatLon0.09_PT026H.grib2\n",
      "2025-08-19 02:00:00 20250818T06Z_MSC_RDPS_WindSpeed_AGL-10m_RLatLon0.09_PT026H.grib2\n",
      "2025-08-19 02:00:00 20250818T06Z_MSC_RDPS_WindDir_AGL-10m_RLatLon0.09_PT026H.grib2\n",
      "2025-08-19 02:00:00 20250818T06Z_MSC_RDPS_Precip-Accum1h_Sfc_RLatLon0.09_PT026H.grib2\n",
      "2025-08-19 03:00:00 20250818T06Z_MSC_RDPS_AirTemp_AGL-2m_RLatLon0.09_PT027H.grib2\n",
      "2025-08-19 03:00:00 20250818T06Z_MSC_RDPS_RelativeHumidity_AGL-2m_RLatLon0.09_PT027H.grib2\n",
      "2025-08-19 03:00:00 20250818T06Z_MSC_RDPS_WindSpeed_AGL-10m_RLatLon0.09_PT027H.grib2\n",
      "2025-08-19 03:00:00 20250818T06Z_MSC_RDPS_WindDir_AGL-10m_RLatLon0.09_PT027H.grib2\n",
      "2025-08-19 03:00:00 20250818T06Z_MSC_RDPS_Precip-Accum1h_Sfc_RLatLon0.09_PT027H.grib2\n",
      "2025-08-19 04:00:00 20250818T06Z_MSC_RDPS_AirTemp_AGL-2m_RLatLon0.09_PT028H.grib2\n",
      "2025-08-19 04:00:00 20250818T06Z_MSC_RDPS_RelativeHumidity_AGL-2m_RLatLon0.09_PT028H.grib2\n",
      "2025-08-19 04:00:00 20250818T06Z_MSC_RDPS_WindSpeed_AGL-10m_RLatLon0.09_PT028H.grib2\n",
      "2025-08-19 04:00:00 20250818T06Z_MSC_RDPS_WindDir_AGL-10m_RLatLon0.09_PT028H.grib2\n",
      "2025-08-19 04:00:00 20250818T06Z_MSC_RDPS_Precip-Accum1h_Sfc_RLatLon0.09_PT028H.grib2\n",
      "2025-08-19 05:00:00 20250818T06Z_MSC_RDPS_AirTemp_AGL-2m_RLatLon0.09_PT029H.grib2\n",
      "2025-08-19 05:00:00 20250818T06Z_MSC_RDPS_RelativeHumidity_AGL-2m_RLatLon0.09_PT029H.grib2\n",
      "2025-08-19 05:00:00 20250818T06Z_MSC_RDPS_WindSpeed_AGL-10m_RLatLon0.09_PT029H.grib2\n",
      "2025-08-19 05:00:00 20250818T06Z_MSC_RDPS_WindDir_AGL-10m_RLatLon0.09_PT029H.grib2\n",
      "2025-08-19 05:00:00 20250818T06Z_MSC_RDPS_Precip-Accum1h_Sfc_RLatLon0.09_PT029H.grib2\n",
      "2025-08-19 06:00:00 20250818T06Z_MSC_RDPS_AirTemp_AGL-2m_RLatLon0.09_PT030H.grib2\n",
      "2025-08-19 06:00:00 20250818T06Z_MSC_RDPS_RelativeHumidity_AGL-2m_RLatLon0.09_PT030H.grib2\n",
      "2025-08-19 06:00:00 20250818T06Z_MSC_RDPS_WindSpeed_AGL-10m_RLatLon0.09_PT030H.grib2\n",
      "2025-08-19 06:00:00 20250818T06Z_MSC_RDPS_WindDir_AGL-10m_RLatLon0.09_PT030H.grib2\n",
      "2025-08-19 06:00:00 20250818T06Z_MSC_RDPS_Precip-Accum1h_Sfc_RLatLon0.09_PT030H.grib2\n",
      "2025-08-19 07:00:00 20250818T06Z_MSC_RDPS_AirTemp_AGL-2m_RLatLon0.09_PT031H.grib2\n",
      "2025-08-19 07:00:00 20250818T06Z_MSC_RDPS_RelativeHumidity_AGL-2m_RLatLon0.09_PT031H.grib2\n",
      "2025-08-19 07:00:00 20250818T06Z_MSC_RDPS_WindSpeed_AGL-10m_RLatLon0.09_PT031H.grib2\n",
      "2025-08-19 07:00:00 20250818T06Z_MSC_RDPS_WindDir_AGL-10m_RLatLon0.09_PT031H.grib2\n",
      "2025-08-19 07:00:00 20250818T06Z_MSC_RDPS_Precip-Accum1h_Sfc_RLatLon0.09_PT031H.grib2\n",
      "2025-08-19 08:00:00 20250818T06Z_MSC_RDPS_AirTemp_AGL-2m_RLatLon0.09_PT032H.grib2\n",
      "2025-08-19 08:00:00 20250818T06Z_MSC_RDPS_RelativeHumidity_AGL-2m_RLatLon0.09_PT032H.grib2\n",
      "2025-08-19 08:00:00 20250818T06Z_MSC_RDPS_WindSpeed_AGL-10m_RLatLon0.09_PT032H.grib2\n",
      "2025-08-19 08:00:00 20250818T06Z_MSC_RDPS_WindDir_AGL-10m_RLatLon0.09_PT032H.grib2\n",
      "2025-08-19 08:00:00 20250818T06Z_MSC_RDPS_Precip-Accum1h_Sfc_RLatLon0.09_PT032H.grib2\n",
      "2025-08-19 09:00:00 20250818T06Z_MSC_RDPS_AirTemp_AGL-2m_RLatLon0.09_PT033H.grib2\n",
      "2025-08-19 09:00:00 20250818T06Z_MSC_RDPS_RelativeHumidity_AGL-2m_RLatLon0.09_PT033H.grib2\n",
      "2025-08-19 09:00:00 20250818T06Z_MSC_RDPS_WindSpeed_AGL-10m_RLatLon0.09_PT033H.grib2\n",
      "2025-08-19 09:00:00 20250818T06Z_MSC_RDPS_WindDir_AGL-10m_RLatLon0.09_PT033H.grib2\n",
      "2025-08-19 09:00:00 20250818T06Z_MSC_RDPS_Precip-Accum1h_Sfc_RLatLon0.09_PT033H.grib2\n",
      "2025-08-19 10:00:00 20250818T06Z_MSC_RDPS_AirTemp_AGL-2m_RLatLon0.09_PT034H.grib2\n",
      "2025-08-19 10:00:00 20250818T06Z_MSC_RDPS_RelativeHumidity_AGL-2m_RLatLon0.09_PT034H.grib2\n",
      "2025-08-19 10:00:00 20250818T06Z_MSC_RDPS_WindSpeed_AGL-10m_RLatLon0.09_PT034H.grib2\n",
      "2025-08-19 10:00:00 20250818T06Z_MSC_RDPS_WindDir_AGL-10m_RLatLon0.09_PT034H.grib2\n",
      "2025-08-19 10:00:00 20250818T06Z_MSC_RDPS_Precip-Accum1h_Sfc_RLatLon0.09_PT034H.grib2\n",
      "2025-08-19 11:00:00 20250818T06Z_MSC_RDPS_AirTemp_AGL-2m_RLatLon0.09_PT035H.grib2\n",
      "2025-08-19 11:00:00 20250818T06Z_MSC_RDPS_RelativeHumidity_AGL-2m_RLatLon0.09_PT035H.grib2\n",
      "2025-08-19 11:00:00 20250818T06Z_MSC_RDPS_WindSpeed_AGL-10m_RLatLon0.09_PT035H.grib2\n",
      "2025-08-19 11:00:00 20250818T06Z_MSC_RDPS_WindDir_AGL-10m_RLatLon0.09_PT035H.grib2\n",
      "2025-08-19 11:00:00 20250818T06Z_MSC_RDPS_Precip-Accum1h_Sfc_RLatLon0.09_PT035H.grib2\n",
      "2025-08-19 12:00:00 20250818T06Z_MSC_RDPS_AirTemp_AGL-2m_RLatLon0.09_PT036H.grib2\n",
      "2025-08-19 12:00:00 20250818T06Z_MSC_RDPS_RelativeHumidity_AGL-2m_RLatLon0.09_PT036H.grib2\n",
      "2025-08-19 12:00:00 20250818T06Z_MSC_RDPS_WindSpeed_AGL-10m_RLatLon0.09_PT036H.grib2\n",
      "2025-08-19 12:00:00 20250818T06Z_MSC_RDPS_WindDir_AGL-10m_RLatLon0.09_PT036H.grib2\n",
      "2025-08-19 12:00:00 20250818T06Z_MSC_RDPS_Precip-Accum1h_Sfc_RLatLon0.09_PT036H.grib2\n",
      "2025-08-19 13:00:00 20250818T06Z_MSC_RDPS_AirTemp_AGL-2m_RLatLon0.09_PT037H.grib2\n",
      "2025-08-19 13:00:00 20250818T06Z_MSC_RDPS_RelativeHumidity_AGL-2m_RLatLon0.09_PT037H.grib2\n",
      "2025-08-19 13:00:00 20250818T06Z_MSC_RDPS_WindSpeed_AGL-10m_RLatLon0.09_PT037H.grib2\n",
      "2025-08-19 13:00:00 20250818T06Z_MSC_RDPS_WindDir_AGL-10m_RLatLon0.09_PT037H.grib2\n",
      "2025-08-19 13:00:00 20250818T06Z_MSC_RDPS_Precip-Accum1h_Sfc_RLatLon0.09_PT037H.grib2\n",
      "2025-08-19 14:00:00 20250818T06Z_MSC_RDPS_AirTemp_AGL-2m_RLatLon0.09_PT038H.grib2\n",
      "2025-08-19 14:00:00 20250818T06Z_MSC_RDPS_RelativeHumidity_AGL-2m_RLatLon0.09_PT038H.grib2\n",
      "2025-08-19 14:00:00 20250818T06Z_MSC_RDPS_WindSpeed_AGL-10m_RLatLon0.09_PT038H.grib2\n",
      "2025-08-19 14:00:00 20250818T06Z_MSC_RDPS_WindDir_AGL-10m_RLatLon0.09_PT038H.grib2\n",
      "2025-08-19 14:00:00 20250818T06Z_MSC_RDPS_Precip-Accum1h_Sfc_RLatLon0.09_PT038H.grib2\n",
      "2025-08-19 15:00:00 20250818T06Z_MSC_RDPS_AirTemp_AGL-2m_RLatLon0.09_PT039H.grib2\n",
      "2025-08-19 15:00:00 20250818T06Z_MSC_RDPS_RelativeHumidity_AGL-2m_RLatLon0.09_PT039H.grib2\n",
      "2025-08-19 15:00:00 20250818T06Z_MSC_RDPS_WindSpeed_AGL-10m_RLatLon0.09_PT039H.grib2\n",
      "2025-08-19 15:00:00 20250818T06Z_MSC_RDPS_WindDir_AGL-10m_RLatLon0.09_PT039H.grib2\n",
      "2025-08-19 15:00:00 20250818T06Z_MSC_RDPS_Precip-Accum1h_Sfc_RLatLon0.09_PT039H.grib2\n",
      "2025-08-19 16:00:00 20250818T06Z_MSC_RDPS_AirTemp_AGL-2m_RLatLon0.09_PT040H.grib2\n",
      "2025-08-19 16:00:00 20250818T06Z_MSC_RDPS_RelativeHumidity_AGL-2m_RLatLon0.09_PT040H.grib2\n",
      "2025-08-19 16:00:00 20250818T06Z_MSC_RDPS_WindSpeed_AGL-10m_RLatLon0.09_PT040H.grib2\n",
      "2025-08-19 16:00:00 20250818T06Z_MSC_RDPS_WindDir_AGL-10m_RLatLon0.09_PT040H.grib2\n",
      "2025-08-19 16:00:00 20250818T06Z_MSC_RDPS_Precip-Accum1h_Sfc_RLatLon0.09_PT040H.grib2\n",
      "2025-08-19 17:00:00 20250818T06Z_MSC_RDPS_AirTemp_AGL-2m_RLatLon0.09_PT041H.grib2\n",
      "2025-08-19 17:00:00 20250818T06Z_MSC_RDPS_RelativeHumidity_AGL-2m_RLatLon0.09_PT041H.grib2\n",
      "2025-08-19 17:00:00 20250818T06Z_MSC_RDPS_WindSpeed_AGL-10m_RLatLon0.09_PT041H.grib2\n",
      "2025-08-19 17:00:00 20250818T06Z_MSC_RDPS_WindDir_AGL-10m_RLatLon0.09_PT041H.grib2\n",
      "2025-08-19 17:00:00 20250818T06Z_MSC_RDPS_Precip-Accum1h_Sfc_RLatLon0.09_PT041H.grib2\n",
      "2025-08-19 18:00:00 20250818T06Z_MSC_RDPS_AirTemp_AGL-2m_RLatLon0.09_PT042H.grib2\n",
      "2025-08-19 18:00:00 20250818T06Z_MSC_RDPS_RelativeHumidity_AGL-2m_RLatLon0.09_PT042H.grib2\n",
      "2025-08-19 18:00:00 20250818T06Z_MSC_RDPS_WindSpeed_AGL-10m_RLatLon0.09_PT042H.grib2\n",
      "2025-08-19 18:00:00 20250818T06Z_MSC_RDPS_WindDir_AGL-10m_RLatLon0.09_PT042H.grib2\n",
      "2025-08-19 18:00:00 20250818T06Z_MSC_RDPS_Precip-Accum1h_Sfc_RLatLon0.09_PT042H.grib2\n",
      "2025-08-19 19:00:00 20250818T06Z_MSC_RDPS_AirTemp_AGL-2m_RLatLon0.09_PT043H.grib2\n",
      "2025-08-19 19:00:00 20250818T06Z_MSC_RDPS_RelativeHumidity_AGL-2m_RLatLon0.09_PT043H.grib2\n",
      "2025-08-19 19:00:00 20250818T06Z_MSC_RDPS_WindSpeed_AGL-10m_RLatLon0.09_PT043H.grib2\n",
      "2025-08-19 19:00:00 20250818T06Z_MSC_RDPS_WindDir_AGL-10m_RLatLon0.09_PT043H.grib2\n",
      "2025-08-19 19:00:00 20250818T06Z_MSC_RDPS_Precip-Accum1h_Sfc_RLatLon0.09_PT043H.grib2\n",
      "2025-08-19 20:00:00 20250818T06Z_MSC_RDPS_AirTemp_AGL-2m_RLatLon0.09_PT044H.grib2\n",
      "2025-08-19 20:00:00 20250818T06Z_MSC_RDPS_RelativeHumidity_AGL-2m_RLatLon0.09_PT044H.grib2\n",
      "2025-08-19 20:00:00 20250818T06Z_MSC_RDPS_WindSpeed_AGL-10m_RLatLon0.09_PT044H.grib2\n",
      "2025-08-19 20:00:00 20250818T06Z_MSC_RDPS_WindDir_AGL-10m_RLatLon0.09_PT044H.grib2\n",
      "2025-08-19 20:00:00 20250818T06Z_MSC_RDPS_Precip-Accum1h_Sfc_RLatLon0.09_PT044H.grib2\n",
      "2025-08-19 21:00:00 20250818T06Z_MSC_RDPS_AirTemp_AGL-2m_RLatLon0.09_PT045H.grib2\n",
      "2025-08-19 21:00:00 20250818T06Z_MSC_RDPS_RelativeHumidity_AGL-2m_RLatLon0.09_PT045H.grib2\n",
      "2025-08-19 21:00:00 20250818T06Z_MSC_RDPS_WindSpeed_AGL-10m_RLatLon0.09_PT045H.grib2\n",
      "2025-08-19 21:00:00 20250818T06Z_MSC_RDPS_WindDir_AGL-10m_RLatLon0.09_PT045H.grib2\n",
      "2025-08-19 21:00:00 20250818T06Z_MSC_RDPS_Precip-Accum1h_Sfc_RLatLon0.09_PT045H.grib2\n",
      "2025-08-19 22:00:00 20250818T06Z_MSC_RDPS_AirTemp_AGL-2m_RLatLon0.09_PT046H.grib2\n",
      "2025-08-19 22:00:00 20250818T06Z_MSC_RDPS_RelativeHumidity_AGL-2m_RLatLon0.09_PT046H.grib2\n",
      "2025-08-19 22:00:00 20250818T06Z_MSC_RDPS_WindSpeed_AGL-10m_RLatLon0.09_PT046H.grib2\n",
      "2025-08-19 22:00:00 20250818T06Z_MSC_RDPS_WindDir_AGL-10m_RLatLon0.09_PT046H.grib2\n",
      "2025-08-19 22:00:00 20250818T06Z_MSC_RDPS_Precip-Accum1h_Sfc_RLatLon0.09_PT046H.grib2\n",
      "2025-08-19 23:00:00 20250818T06Z_MSC_RDPS_AirTemp_AGL-2m_RLatLon0.09_PT047H.grib2\n",
      "2025-08-19 23:00:00 20250818T06Z_MSC_RDPS_RelativeHumidity_AGL-2m_RLatLon0.09_PT047H.grib2\n",
      "2025-08-19 23:00:00 20250818T06Z_MSC_RDPS_WindSpeed_AGL-10m_RLatLon0.09_PT047H.grib2\n",
      "2025-08-19 23:00:00 20250818T06Z_MSC_RDPS_WindDir_AGL-10m_RLatLon0.09_PT047H.grib2\n",
      "2025-08-19 23:00:00 20250818T06Z_MSC_RDPS_Precip-Accum1h_Sfc_RLatLon0.09_PT047H.grib2\n",
      "2025-08-20 00:00:00 20250818T06Z_MSC_RDPS_AirTemp_AGL-2m_RLatLon0.09_PT048H.grib2\n",
      "2025-08-20 00:00:00 20250818T06Z_MSC_RDPS_RelativeHumidity_AGL-2m_RLatLon0.09_PT048H.grib2\n",
      "2025-08-20 00:00:00 20250818T06Z_MSC_RDPS_WindSpeed_AGL-10m_RLatLon0.09_PT048H.grib2\n",
      "2025-08-20 00:00:00 20250818T06Z_MSC_RDPS_WindDir_AGL-10m_RLatLon0.09_PT048H.grib2\n",
      "2025-08-20 00:00:00 20250818T06Z_MSC_RDPS_Precip-Accum1h_Sfc_RLatLon0.09_PT048H.grib2\n",
      "2025-08-20 01:00:00 20250818T06Z_MSC_RDPS_AirTemp_AGL-2m_RLatLon0.09_PT049H.grib2\n",
      "2025-08-20 01:00:00 20250818T06Z_MSC_RDPS_RelativeHumidity_AGL-2m_RLatLon0.09_PT049H.grib2\n",
      "2025-08-20 01:00:00 20250818T06Z_MSC_RDPS_WindSpeed_AGL-10m_RLatLon0.09_PT049H.grib2\n",
      "2025-08-20 01:00:00 20250818T06Z_MSC_RDPS_WindDir_AGL-10m_RLatLon0.09_PT049H.grib2\n",
      "2025-08-20 01:00:00 20250818T06Z_MSC_RDPS_Precip-Accum1h_Sfc_RLatLon0.09_PT049H.grib2\n",
      "2025-08-20 02:00:00 20250818T06Z_MSC_RDPS_AirTemp_AGL-2m_RLatLon0.09_PT050H.grib2\n",
      "2025-08-20 02:00:00 20250818T06Z_MSC_RDPS_RelativeHumidity_AGL-2m_RLatLon0.09_PT050H.grib2\n",
      "2025-08-20 02:00:00 20250818T06Z_MSC_RDPS_WindSpeed_AGL-10m_RLatLon0.09_PT050H.grib2\n",
      "2025-08-20 02:00:00 20250818T06Z_MSC_RDPS_WindDir_AGL-10m_RLatLon0.09_PT050H.grib2\n",
      "2025-08-20 02:00:00 20250818T06Z_MSC_RDPS_Precip-Accum1h_Sfc_RLatLon0.09_PT050H.grib2\n"
     ]
    }
   ],
   "source": [
    "print(\"If you are running a very up-to-date model and this breaks...\")\n",
    "print(\"The latest model data might not be in, try going one model run previous\")\n",
    "model_files = set_filenames(model_dropdown.value, model_run.value, \n",
    "                            year_slider.value, month_slider.value, \n",
    "                            day_slider.value, hour_slider.value, \n",
    "                            forecast_slider.value, \n",
    "                            time_offset.value)"
   ]
  },
  {
   "cell_type": "code",
   "execution_count": null,
   "id": "d706cb2a",
   "metadata": {},
   "outputs": [
    {
     "name": "stdout",
     "output_type": "stream",
     "text": [
      "KDTree finds the nearest neighbour on the model grid - very fast ~3mins\n",
      "Linear interpolation is much slower, a 30hr forecast will take ~30mins to process the data\n",
      "In my experience the absolute difference between methods is ~0.4degC for temp\n"
     ]
    },
    {
     "data": {
      "application/vnd.jupyter.widget-view+json": {
       "model_id": "4cc0ada3eb33420c93c52d76ef99f42d",
       "version_major": 2,
       "version_minor": 0
      },
      "text/plain": [
       "Dropdown(description='Interpolation Method:', options=('KDTree', 'Linear'), style=DescriptionStyle(description…"
      ]
     },
     "metadata": {},
     "output_type": "display_data"
    }
   ],
   "source": [
    "# determine what kind of interpolation do you want to do\n",
    "interp_dropdown = widgets.Dropdown(\n",
    "    options=['KDTree', 'Linear'],\n",
    "    value='KDTree',\n",
    "    description='Interpolation Method:',\n",
    "    style= {'description_width': 'initial'}\n",
    ")\n",
    "\n",
    "print(\"KDTree finds the nearest neighbour on the model grid - fast ~10mins\")\n",
    "print(\"Linear interpolation is much slower, a 30hr forecast will take ~45mins to process the data\")\n",
    "print(\"In my experience the absolute difference between methods is ~0.4degC for temp\")\n",
    "\n",
    "display(interp_dropdown)"
   ]
  },
  {
   "cell_type": "code",
   "execution_count": 8,
   "id": "d9cb06f1",
   "metadata": {},
   "outputs": [
    {
     "name": "stdout",
     "output_type": "stream",
     "text": [
      "        HOURLY  HOUR TEMP   RH   WD   WS PRECIP       temp_datetime\n",
      "0   18/08/2025     3  NaN  NaN  NaN  NaN    NaN 2025-08-18 03:00:00\n",
      "1   18/08/2025     4  NaN  NaN  NaN  NaN    NaN 2025-08-18 04:00:00\n",
      "2   18/08/2025     5  NaN  NaN  NaN  NaN    NaN 2025-08-18 05:00:00\n",
      "3   18/08/2025     6  NaN  NaN  NaN  NaN    NaN 2025-08-18 06:00:00\n",
      "4   18/08/2025     7  NaN  NaN  NaN  NaN    NaN 2025-08-18 07:00:00\n",
      "5   18/08/2025     8  NaN  NaN  NaN  NaN    NaN 2025-08-18 08:00:00\n",
      "6   18/08/2025     9  NaN  NaN  NaN  NaN    NaN 2025-08-18 09:00:00\n",
      "7   18/08/2025    10  NaN  NaN  NaN  NaN    NaN 2025-08-18 10:00:00\n",
      "8   18/08/2025    11  NaN  NaN  NaN  NaN    NaN 2025-08-18 11:00:00\n",
      "9   18/08/2025    12  NaN  NaN  NaN  NaN    NaN 2025-08-18 12:00:00\n",
      "10  18/08/2025    13  NaN  NaN  NaN  NaN    NaN 2025-08-18 13:00:00\n",
      "11  18/08/2025    14  NaN  NaN  NaN  NaN    NaN 2025-08-18 14:00:00\n",
      "12  18/08/2025    15  NaN  NaN  NaN  NaN    NaN 2025-08-18 15:00:00\n",
      "13  18/08/2025    16  NaN  NaN  NaN  NaN    NaN 2025-08-18 16:00:00\n",
      "14  18/08/2025    17  NaN  NaN  NaN  NaN    NaN 2025-08-18 17:00:00\n",
      "15  18/08/2025    18  NaN  NaN  NaN  NaN    NaN 2025-08-18 18:00:00\n",
      "16  18/08/2025    19  NaN  NaN  NaN  NaN    NaN 2025-08-18 19:00:00\n",
      "17  18/08/2025    20  NaN  NaN  NaN  NaN    NaN 2025-08-18 20:00:00\n",
      "18  18/08/2025    21  NaN  NaN  NaN  NaN    NaN 2025-08-18 21:00:00\n",
      "19  18/08/2025    22  NaN  NaN  NaN  NaN    NaN 2025-08-18 22:00:00\n",
      "20  18/08/2025    23  NaN  NaN  NaN  NaN    NaN 2025-08-18 23:00:00\n",
      "21  19/08/2025     0  NaN  NaN  NaN  NaN    NaN 2025-08-19 00:00:00\n",
      "22  19/08/2025     1  NaN  NaN  NaN  NaN    NaN 2025-08-19 01:00:00\n",
      "23  19/08/2025     2  NaN  NaN  NaN  NaN    NaN 2025-08-19 02:00:00\n",
      "24  19/08/2025     3  NaN  NaN  NaN  NaN    NaN 2025-08-19 03:00:00\n",
      "25  19/08/2025     4  NaN  NaN  NaN  NaN    NaN 2025-08-19 04:00:00\n",
      "26  19/08/2025     5  NaN  NaN  NaN  NaN    NaN 2025-08-19 05:00:00\n",
      "27  19/08/2025     6  NaN  NaN  NaN  NaN    NaN 2025-08-19 06:00:00\n",
      "28  19/08/2025     7  NaN  NaN  NaN  NaN    NaN 2025-08-19 07:00:00\n",
      "29  19/08/2025     8  NaN  NaN  NaN  NaN    NaN 2025-08-19 08:00:00\n",
      "30  19/08/2025     9  NaN  NaN  NaN  NaN    NaN 2025-08-19 09:00:00\n",
      "31  19/08/2025    10  NaN  NaN  NaN  NaN    NaN 2025-08-19 10:00:00\n",
      "32  19/08/2025    11  NaN  NaN  NaN  NaN    NaN 2025-08-19 11:00:00\n",
      "33  19/08/2025    12  NaN  NaN  NaN  NaN    NaN 2025-08-19 12:00:00\n",
      "34  19/08/2025    13  NaN  NaN  NaN  NaN    NaN 2025-08-19 13:00:00\n",
      "35  19/08/2025    14  NaN  NaN  NaN  NaN    NaN 2025-08-19 14:00:00\n",
      "36  19/08/2025    15  NaN  NaN  NaN  NaN    NaN 2025-08-19 15:00:00\n",
      "37  19/08/2025    16  NaN  NaN  NaN  NaN    NaN 2025-08-19 16:00:00\n",
      "38  19/08/2025    17  NaN  NaN  NaN  NaN    NaN 2025-08-19 17:00:00\n",
      "39  19/08/2025    18  NaN  NaN  NaN  NaN    NaN 2025-08-19 18:00:00\n",
      "40  19/08/2025    19  NaN  NaN  NaN  NaN    NaN 2025-08-19 19:00:00\n",
      "41  19/08/2025    20  NaN  NaN  NaN  NaN    NaN 2025-08-19 20:00:00\n",
      "42  19/08/2025    21  NaN  NaN  NaN  NaN    NaN 2025-08-19 21:00:00\n",
      "43  19/08/2025    22  NaN  NaN  NaN  NaN    NaN 2025-08-19 22:00:00\n",
      "44  19/08/2025    23  NaN  NaN  NaN  NaN    NaN 2025-08-19 23:00:00\n",
      "45  20/08/2025     0  NaN  NaN  NaN  NaN    NaN 2025-08-20 00:00:00\n",
      "46  20/08/2025     1  NaN  NaN  NaN  NaN    NaN 2025-08-20 01:00:00\n",
      "47  20/08/2025     2  NaN  NaN  NaN  NaN    NaN 2025-08-20 02:00:00\n"
     ]
    }
   ],
   "source": [
    "# make the dataframe to store the interpolate variables \n",
    "# following the example provided at: \n",
    "# https://spotwx.com/products/grib_index.php?model=hrdps_1km_west&lat=50.80476&lon=-116.82362&tz=America/Edmonton&display=table_prometheus\n",
    "# open the prometheus json file to help with creating the \n",
    "with open('prometheus_vars.json', 'r') as f:\n",
    "            prometheus_vars = json.load(f)\n",
    "\n",
    "all_final_vars = prometheus_vars[\"required_vars\"]\n",
    "dynamic_vars = prometheus_vars[\"eccc_equivalents\"]\n",
    "\n",
    "output_df = pd.DataFrame(columns=all_final_vars.values())\n",
    "\n",
    "# now deal with the indexes - fill the HOURLY and HOUR columns\n",
    "times = model_files[\"datetime\"].unique()\n",
    "\n",
    "output_df[\"HOURLY\"] = times\n",
    "output_df[\"HOUR\"] = times\n",
    "output_df[\"temp_datetime\"] = times\n",
    "\n",
    "def just_date(x):\n",
    "    # change datetime object to dd/mm/yy format\n",
    "    return x.strftime(\"%d/%m/%Y\")\n",
    "\n",
    "def just_hour(x):\n",
    "    # grab just the hour of the datetime object\n",
    "    return x.hour\n",
    "\n",
    "output_df[\"HOURLY\"] = output_df[\"HOURLY\"].apply(just_date)\n",
    "output_df[\"HOUR\"] = output_df[\"HOUR\"].apply(just_hour)\n",
    "\n",
    "print(output_df)\n",
    "\n"
   ]
  },
  {
   "cell_type": "code",
   "execution_count": 9,
   "id": "11441269",
   "metadata": {},
   "outputs": [
    {
     "name": "stdout",
     "output_type": "stream",
     "text": [
      "0\n",
      "https://dd.weather.gc.ca/20250818/WXO-DD/model_rdps/10km/06/003/20250818T06Z_MSC_RDPS_AirTemp_AGL-2m_RLatLon0.09_PT003H.grib2 20250818T06Z_MSC_RDPS_AirTemp_AGL-2m_RLatLon0.09_PT003H.grib2\n",
      "File downloaded successfully: 20250818T06Z_MSC_RDPS_AirTemp_AGL-2m_RLatLon0.09_PT003H.grib2, moving to /temp/ ...\n",
      "Commence interpolation\n"
     ]
    },
    {
     "name": "stderr",
     "output_type": "stream",
     "text": [
      "c:\\Users\\lbuchart\\AppData\\Local\\anaconda3\\envs\\prom-env\\Lib\\site-packages\\cfgrib\\xarray_plugin.py:131: FutureWarning: In a future version, xarray will not decode timedelta values based on the presence of a timedelta-like units attribute by default. Instead it will rely on the presence of a timedelta64 dtype attribute, which is now xarray's default way of encoding timedelta64 values. To continue decoding timedeltas based on the presence of a timedelta-like units attribute, users will need to explicitly opt-in by passing True or CFTimedeltaCoder(decode_via_units=True) to decode_timedelta. To silence this warning, set decode_timedelta to True, False, or a 'CFTimedeltaCoder' instance.\n",
      "  vars, attrs, coord_names = xr.conventions.decode_cf_variables(\n"
     ]
    },
    {
     "name": "stdout",
     "output_type": "stream",
     "text": [
      "2025-08-18 03:00:00 t2m 285.19357\n",
      "5\n",
      "https://dd.weather.gc.ca/20250818/WXO-DD/model_rdps/10km/06/004/20250818T06Z_MSC_RDPS_AirTemp_AGL-2m_RLatLon0.09_PT004H.grib2 20250818T06Z_MSC_RDPS_AirTemp_AGL-2m_RLatLon0.09_PT004H.grib2\n",
      "File downloaded successfully: 20250818T06Z_MSC_RDPS_AirTemp_AGL-2m_RLatLon0.09_PT004H.grib2, moving to /temp/ ...\n",
      "Commence interpolation\n"
     ]
    },
    {
     "name": "stderr",
     "output_type": "stream",
     "text": [
      "c:\\Users\\lbuchart\\AppData\\Local\\anaconda3\\envs\\prom-env\\Lib\\site-packages\\cfgrib\\xarray_plugin.py:131: FutureWarning: In a future version, xarray will not decode timedelta values based on the presence of a timedelta-like units attribute by default. Instead it will rely on the presence of a timedelta64 dtype attribute, which is now xarray's default way of encoding timedelta64 values. To continue decoding timedeltas based on the presence of a timedelta-like units attribute, users will need to explicitly opt-in by passing True or CFTimedeltaCoder(decode_via_units=True) to decode_timedelta. To silence this warning, set decode_timedelta to True, False, or a 'CFTimedeltaCoder' instance.\n",
      "  vars, attrs, coord_names = xr.conventions.decode_cf_variables(\n"
     ]
    },
    {
     "name": "stdout",
     "output_type": "stream",
     "text": [
      "2025-08-18 04:00:00 t2m 285.89496\n",
      "10\n",
      "https://dd.weather.gc.ca/20250818/WXO-DD/model_rdps/10km/06/005/20250818T06Z_MSC_RDPS_AirTemp_AGL-2m_RLatLon0.09_PT005H.grib2 20250818T06Z_MSC_RDPS_AirTemp_AGL-2m_RLatLon0.09_PT005H.grib2\n",
      "File downloaded successfully: 20250818T06Z_MSC_RDPS_AirTemp_AGL-2m_RLatLon0.09_PT005H.grib2, moving to /temp/ ...\n",
      "Commence interpolation\n"
     ]
    },
    {
     "name": "stderr",
     "output_type": "stream",
     "text": [
      "c:\\Users\\lbuchart\\AppData\\Local\\anaconda3\\envs\\prom-env\\Lib\\site-packages\\cfgrib\\xarray_plugin.py:131: FutureWarning: In a future version, xarray will not decode timedelta values based on the presence of a timedelta-like units attribute by default. Instead it will rely on the presence of a timedelta64 dtype attribute, which is now xarray's default way of encoding timedelta64 values. To continue decoding timedeltas based on the presence of a timedelta-like units attribute, users will need to explicitly opt-in by passing True or CFTimedeltaCoder(decode_via_units=True) to decode_timedelta. To silence this warning, set decode_timedelta to True, False, or a 'CFTimedeltaCoder' instance.\n",
      "  vars, attrs, coord_names = xr.conventions.decode_cf_variables(\n"
     ]
    },
    {
     "name": "stdout",
     "output_type": "stream",
     "text": [
      "2025-08-18 05:00:00 t2m 287.7958\n",
      "15\n",
      "https://dd.weather.gc.ca/20250818/WXO-DD/model_rdps/10km/06/006/20250818T06Z_MSC_RDPS_AirTemp_AGL-2m_RLatLon0.09_PT006H.grib2 20250818T06Z_MSC_RDPS_AirTemp_AGL-2m_RLatLon0.09_PT006H.grib2\n",
      "File downloaded successfully: 20250818T06Z_MSC_RDPS_AirTemp_AGL-2m_RLatLon0.09_PT006H.grib2, moving to /temp/ ...\n",
      "Commence interpolation\n"
     ]
    },
    {
     "name": "stderr",
     "output_type": "stream",
     "text": [
      "c:\\Users\\lbuchart\\AppData\\Local\\anaconda3\\envs\\prom-env\\Lib\\site-packages\\cfgrib\\xarray_plugin.py:131: FutureWarning: In a future version, xarray will not decode timedelta values based on the presence of a timedelta-like units attribute by default. Instead it will rely on the presence of a timedelta64 dtype attribute, which is now xarray's default way of encoding timedelta64 values. To continue decoding timedeltas based on the presence of a timedelta-like units attribute, users will need to explicitly opt-in by passing True or CFTimedeltaCoder(decode_via_units=True) to decode_timedelta. To silence this warning, set decode_timedelta to True, False, or a 'CFTimedeltaCoder' instance.\n",
      "  vars, attrs, coord_names = xr.conventions.decode_cf_variables(\n"
     ]
    },
    {
     "name": "stdout",
     "output_type": "stream",
     "text": [
      "2025-08-18 06:00:00 t2m 290.1837\n",
      "20\n",
      "https://dd.weather.gc.ca/20250818/WXO-DD/model_rdps/10km/06/007/20250818T06Z_MSC_RDPS_AirTemp_AGL-2m_RLatLon0.09_PT007H.grib2 20250818T06Z_MSC_RDPS_AirTemp_AGL-2m_RLatLon0.09_PT007H.grib2\n",
      "File downloaded successfully: 20250818T06Z_MSC_RDPS_AirTemp_AGL-2m_RLatLon0.09_PT007H.grib2, moving to /temp/ ...\n",
      "Commence interpolation\n"
     ]
    },
    {
     "name": "stderr",
     "output_type": "stream",
     "text": [
      "c:\\Users\\lbuchart\\AppData\\Local\\anaconda3\\envs\\prom-env\\Lib\\site-packages\\cfgrib\\xarray_plugin.py:131: FutureWarning: In a future version, xarray will not decode timedelta values based on the presence of a timedelta-like units attribute by default. Instead it will rely on the presence of a timedelta64 dtype attribute, which is now xarray's default way of encoding timedelta64 values. To continue decoding timedeltas based on the presence of a timedelta-like units attribute, users will need to explicitly opt-in by passing True or CFTimedeltaCoder(decode_via_units=True) to decode_timedelta. To silence this warning, set decode_timedelta to True, False, or a 'CFTimedeltaCoder' instance.\n",
      "  vars, attrs, coord_names = xr.conventions.decode_cf_variables(\n"
     ]
    },
    {
     "name": "stdout",
     "output_type": "stream",
     "text": [
      "2025-08-18 07:00:00 t2m 291.80078\n",
      "25\n",
      "https://dd.weather.gc.ca/20250818/WXO-DD/model_rdps/10km/06/008/20250818T06Z_MSC_RDPS_AirTemp_AGL-2m_RLatLon0.09_PT008H.grib2 20250818T06Z_MSC_RDPS_AirTemp_AGL-2m_RLatLon0.09_PT008H.grib2\n",
      "File downloaded successfully: 20250818T06Z_MSC_RDPS_AirTemp_AGL-2m_RLatLon0.09_PT008H.grib2, moving to /temp/ ...\n",
      "Commence interpolation\n"
     ]
    },
    {
     "name": "stderr",
     "output_type": "stream",
     "text": [
      "c:\\Users\\lbuchart\\AppData\\Local\\anaconda3\\envs\\prom-env\\Lib\\site-packages\\cfgrib\\xarray_plugin.py:131: FutureWarning: In a future version, xarray will not decode timedelta values based on the presence of a timedelta-like units attribute by default. Instead it will rely on the presence of a timedelta64 dtype attribute, which is now xarray's default way of encoding timedelta64 values. To continue decoding timedeltas based on the presence of a timedelta-like units attribute, users will need to explicitly opt-in by passing True or CFTimedeltaCoder(decode_via_units=True) to decode_timedelta. To silence this warning, set decode_timedelta to True, False, or a 'CFTimedeltaCoder' instance.\n",
      "  vars, attrs, coord_names = xr.conventions.decode_cf_variables(\n"
     ]
    },
    {
     "name": "stdout",
     "output_type": "stream",
     "text": [
      "2025-08-18 08:00:00 t2m 293.08655\n",
      "30\n",
      "https://dd.weather.gc.ca/20250818/WXO-DD/model_rdps/10km/06/009/20250818T06Z_MSC_RDPS_AirTemp_AGL-2m_RLatLon0.09_PT009H.grib2 20250818T06Z_MSC_RDPS_AirTemp_AGL-2m_RLatLon0.09_PT009H.grib2\n",
      "File downloaded successfully: 20250818T06Z_MSC_RDPS_AirTemp_AGL-2m_RLatLon0.09_PT009H.grib2, moving to /temp/ ...\n",
      "Commence interpolation\n"
     ]
    },
    {
     "name": "stderr",
     "output_type": "stream",
     "text": [
      "c:\\Users\\lbuchart\\AppData\\Local\\anaconda3\\envs\\prom-env\\Lib\\site-packages\\cfgrib\\xarray_plugin.py:131: FutureWarning: In a future version, xarray will not decode timedelta values based on the presence of a timedelta-like units attribute by default. Instead it will rely on the presence of a timedelta64 dtype attribute, which is now xarray's default way of encoding timedelta64 values. To continue decoding timedeltas based on the presence of a timedelta-like units attribute, users will need to explicitly opt-in by passing True or CFTimedeltaCoder(decode_via_units=True) to decode_timedelta. To silence this warning, set decode_timedelta to True, False, or a 'CFTimedeltaCoder' instance.\n",
      "  vars, attrs, coord_names = xr.conventions.decode_cf_variables(\n"
     ]
    },
    {
     "name": "stdout",
     "output_type": "stream",
     "text": [
      "2025-08-18 09:00:00 t2m 294.0132\n",
      "35\n",
      "https://dd.weather.gc.ca/20250818/WXO-DD/model_rdps/10km/06/010/20250818T06Z_MSC_RDPS_AirTemp_AGL-2m_RLatLon0.09_PT010H.grib2 20250818T06Z_MSC_RDPS_AirTemp_AGL-2m_RLatLon0.09_PT010H.grib2\n",
      "File downloaded successfully: 20250818T06Z_MSC_RDPS_AirTemp_AGL-2m_RLatLon0.09_PT010H.grib2, moving to /temp/ ...\n",
      "Commence interpolation\n"
     ]
    },
    {
     "name": "stderr",
     "output_type": "stream",
     "text": [
      "c:\\Users\\lbuchart\\AppData\\Local\\anaconda3\\envs\\prom-env\\Lib\\site-packages\\cfgrib\\xarray_plugin.py:131: FutureWarning: In a future version, xarray will not decode timedelta values based on the presence of a timedelta-like units attribute by default. Instead it will rely on the presence of a timedelta64 dtype attribute, which is now xarray's default way of encoding timedelta64 values. To continue decoding timedeltas based on the presence of a timedelta-like units attribute, users will need to explicitly opt-in by passing True or CFTimedeltaCoder(decode_via_units=True) to decode_timedelta. To silence this warning, set decode_timedelta to True, False, or a 'CFTimedeltaCoder' instance.\n",
      "  vars, attrs, coord_names = xr.conventions.decode_cf_variables(\n"
     ]
    },
    {
     "name": "stdout",
     "output_type": "stream",
     "text": [
      "2025-08-18 10:00:00 t2m 294.8305\n",
      "40\n",
      "https://dd.weather.gc.ca/20250818/WXO-DD/model_rdps/10km/06/011/20250818T06Z_MSC_RDPS_AirTemp_AGL-2m_RLatLon0.09_PT011H.grib2 20250818T06Z_MSC_RDPS_AirTemp_AGL-2m_RLatLon0.09_PT011H.grib2\n",
      "File downloaded successfully: 20250818T06Z_MSC_RDPS_AirTemp_AGL-2m_RLatLon0.09_PT011H.grib2, moving to /temp/ ...\n",
      "Commence interpolation\n"
     ]
    },
    {
     "name": "stderr",
     "output_type": "stream",
     "text": [
      "c:\\Users\\lbuchart\\AppData\\Local\\anaconda3\\envs\\prom-env\\Lib\\site-packages\\cfgrib\\xarray_plugin.py:131: FutureWarning: In a future version, xarray will not decode timedelta values based on the presence of a timedelta-like units attribute by default. Instead it will rely on the presence of a timedelta64 dtype attribute, which is now xarray's default way of encoding timedelta64 values. To continue decoding timedeltas based on the presence of a timedelta-like units attribute, users will need to explicitly opt-in by passing True or CFTimedeltaCoder(decode_via_units=True) to decode_timedelta. To silence this warning, set decode_timedelta to True, False, or a 'CFTimedeltaCoder' instance.\n",
      "  vars, attrs, coord_names = xr.conventions.decode_cf_variables(\n"
     ]
    },
    {
     "name": "stdout",
     "output_type": "stream",
     "text": [
      "2025-08-18 11:00:00 t2m 295.35043\n",
      "45\n",
      "https://dd.weather.gc.ca/20250818/WXO-DD/model_rdps/10km/06/012/20250818T06Z_MSC_RDPS_AirTemp_AGL-2m_RLatLon0.09_PT012H.grib2 20250818T06Z_MSC_RDPS_AirTemp_AGL-2m_RLatLon0.09_PT012H.grib2\n",
      "File downloaded successfully: 20250818T06Z_MSC_RDPS_AirTemp_AGL-2m_RLatLon0.09_PT012H.grib2, moving to /temp/ ...\n",
      "Commence interpolation\n"
     ]
    },
    {
     "name": "stderr",
     "output_type": "stream",
     "text": [
      "c:\\Users\\lbuchart\\AppData\\Local\\anaconda3\\envs\\prom-env\\Lib\\site-packages\\cfgrib\\xarray_plugin.py:131: FutureWarning: In a future version, xarray will not decode timedelta values based on the presence of a timedelta-like units attribute by default. Instead it will rely on the presence of a timedelta64 dtype attribute, which is now xarray's default way of encoding timedelta64 values. To continue decoding timedeltas based on the presence of a timedelta-like units attribute, users will need to explicitly opt-in by passing True or CFTimedeltaCoder(decode_via_units=True) to decode_timedelta. To silence this warning, set decode_timedelta to True, False, or a 'CFTimedeltaCoder' instance.\n",
      "  vars, attrs, coord_names = xr.conventions.decode_cf_variables(\n"
     ]
    },
    {
     "name": "stdout",
     "output_type": "stream",
     "text": [
      "2025-08-18 12:00:00 t2m 295.05017\n",
      "50\n",
      "https://dd.weather.gc.ca/20250818/WXO-DD/model_rdps/10km/06/013/20250818T06Z_MSC_RDPS_AirTemp_AGL-2m_RLatLon0.09_PT013H.grib2 20250818T06Z_MSC_RDPS_AirTemp_AGL-2m_RLatLon0.09_PT013H.grib2\n",
      "File downloaded successfully: 20250818T06Z_MSC_RDPS_AirTemp_AGL-2m_RLatLon0.09_PT013H.grib2, moving to /temp/ ...\n",
      "Commence interpolation\n"
     ]
    },
    {
     "name": "stderr",
     "output_type": "stream",
     "text": [
      "c:\\Users\\lbuchart\\AppData\\Local\\anaconda3\\envs\\prom-env\\Lib\\site-packages\\cfgrib\\xarray_plugin.py:131: FutureWarning: In a future version, xarray will not decode timedelta values based on the presence of a timedelta-like units attribute by default. Instead it will rely on the presence of a timedelta64 dtype attribute, which is now xarray's default way of encoding timedelta64 values. To continue decoding timedeltas based on the presence of a timedelta-like units attribute, users will need to explicitly opt-in by passing True or CFTimedeltaCoder(decode_via_units=True) to decode_timedelta. To silence this warning, set decode_timedelta to True, False, or a 'CFTimedeltaCoder' instance.\n",
      "  vars, attrs, coord_names = xr.conventions.decode_cf_variables(\n"
     ]
    },
    {
     "name": "stdout",
     "output_type": "stream",
     "text": [
      "2025-08-18 13:00:00 t2m 293.7119\n",
      "55\n",
      "https://dd.weather.gc.ca/20250818/WXO-DD/model_rdps/10km/06/014/20250818T06Z_MSC_RDPS_AirTemp_AGL-2m_RLatLon0.09_PT014H.grib2 20250818T06Z_MSC_RDPS_AirTemp_AGL-2m_RLatLon0.09_PT014H.grib2\n",
      "File downloaded successfully: 20250818T06Z_MSC_RDPS_AirTemp_AGL-2m_RLatLon0.09_PT014H.grib2, moving to /temp/ ...\n",
      "Commence interpolation\n"
     ]
    },
    {
     "name": "stderr",
     "output_type": "stream",
     "text": [
      "c:\\Users\\lbuchart\\AppData\\Local\\anaconda3\\envs\\prom-env\\Lib\\site-packages\\cfgrib\\xarray_plugin.py:131: FutureWarning: In a future version, xarray will not decode timedelta values based on the presence of a timedelta-like units attribute by default. Instead it will rely on the presence of a timedelta64 dtype attribute, which is now xarray's default way of encoding timedelta64 values. To continue decoding timedeltas based on the presence of a timedelta-like units attribute, users will need to explicitly opt-in by passing True or CFTimedeltaCoder(decode_via_units=True) to decode_timedelta. To silence this warning, set decode_timedelta to True, False, or a 'CFTimedeltaCoder' instance.\n",
      "  vars, attrs, coord_names = xr.conventions.decode_cf_variables(\n"
     ]
    },
    {
     "name": "stdout",
     "output_type": "stream",
     "text": [
      "2025-08-18 14:00:00 t2m 292.7273\n",
      "60\n",
      "https://dd.weather.gc.ca/20250818/WXO-DD/model_rdps/10km/06/015/20250818T06Z_MSC_RDPS_AirTemp_AGL-2m_RLatLon0.09_PT015H.grib2 20250818T06Z_MSC_RDPS_AirTemp_AGL-2m_RLatLon0.09_PT015H.grib2\n",
      "File downloaded successfully: 20250818T06Z_MSC_RDPS_AirTemp_AGL-2m_RLatLon0.09_PT015H.grib2, moving to /temp/ ...\n",
      "Commence interpolation\n"
     ]
    },
    {
     "name": "stderr",
     "output_type": "stream",
     "text": [
      "c:\\Users\\lbuchart\\AppData\\Local\\anaconda3\\envs\\prom-env\\Lib\\site-packages\\cfgrib\\xarray_plugin.py:131: FutureWarning: In a future version, xarray will not decode timedelta values based on the presence of a timedelta-like units attribute by default. Instead it will rely on the presence of a timedelta64 dtype attribute, which is now xarray's default way of encoding timedelta64 values. To continue decoding timedeltas based on the presence of a timedelta-like units attribute, users will need to explicitly opt-in by passing True or CFTimedeltaCoder(decode_via_units=True) to decode_timedelta. To silence this warning, set decode_timedelta to True, False, or a 'CFTimedeltaCoder' instance.\n",
      "  vars, attrs, coord_names = xr.conventions.decode_cf_variables(\n"
     ]
    },
    {
     "name": "stdout",
     "output_type": "stream",
     "text": [
      "2025-08-18 15:00:00 t2m 291.14227\n",
      "65\n",
      "https://dd.weather.gc.ca/20250818/WXO-DD/model_rdps/10km/06/016/20250818T06Z_MSC_RDPS_AirTemp_AGL-2m_RLatLon0.09_PT016H.grib2 20250818T06Z_MSC_RDPS_AirTemp_AGL-2m_RLatLon0.09_PT016H.grib2\n",
      "File downloaded successfully: 20250818T06Z_MSC_RDPS_AirTemp_AGL-2m_RLatLon0.09_PT016H.grib2, moving to /temp/ ...\n",
      "Commence interpolation\n"
     ]
    },
    {
     "name": "stderr",
     "output_type": "stream",
     "text": [
      "c:\\Users\\lbuchart\\AppData\\Local\\anaconda3\\envs\\prom-env\\Lib\\site-packages\\cfgrib\\xarray_plugin.py:131: FutureWarning: In a future version, xarray will not decode timedelta values based on the presence of a timedelta-like units attribute by default. Instead it will rely on the presence of a timedelta64 dtype attribute, which is now xarray's default way of encoding timedelta64 values. To continue decoding timedeltas based on the presence of a timedelta-like units attribute, users will need to explicitly opt-in by passing True or CFTimedeltaCoder(decode_via_units=True) to decode_timedelta. To silence this warning, set decode_timedelta to True, False, or a 'CFTimedeltaCoder' instance.\n",
      "  vars, attrs, coord_names = xr.conventions.decode_cf_variables(\n"
     ]
    },
    {
     "name": "stdout",
     "output_type": "stream",
     "text": [
      "2025-08-18 16:00:00 t2m 290.49298\n",
      "70\n",
      "https://dd.weather.gc.ca/20250818/WXO-DD/model_rdps/10km/06/017/20250818T06Z_MSC_RDPS_AirTemp_AGL-2m_RLatLon0.09_PT017H.grib2 20250818T06Z_MSC_RDPS_AirTemp_AGL-2m_RLatLon0.09_PT017H.grib2\n",
      "File downloaded successfully: 20250818T06Z_MSC_RDPS_AirTemp_AGL-2m_RLatLon0.09_PT017H.grib2, moving to /temp/ ...\n",
      "Commence interpolation\n"
     ]
    },
    {
     "name": "stderr",
     "output_type": "stream",
     "text": [
      "c:\\Users\\lbuchart\\AppData\\Local\\anaconda3\\envs\\prom-env\\Lib\\site-packages\\cfgrib\\xarray_plugin.py:131: FutureWarning: In a future version, xarray will not decode timedelta values based on the presence of a timedelta-like units attribute by default. Instead it will rely on the presence of a timedelta64 dtype attribute, which is now xarray's default way of encoding timedelta64 values. To continue decoding timedeltas based on the presence of a timedelta-like units attribute, users will need to explicitly opt-in by passing True or CFTimedeltaCoder(decode_via_units=True) to decode_timedelta. To silence this warning, set decode_timedelta to True, False, or a 'CFTimedeltaCoder' instance.\n",
      "  vars, attrs, coord_names = xr.conventions.decode_cf_variables(\n"
     ]
    },
    {
     "name": "stdout",
     "output_type": "stream",
     "text": [
      "2025-08-18 17:00:00 t2m 289.6199\n",
      "75\n",
      "https://dd.weather.gc.ca/20250818/WXO-DD/model_rdps/10km/06/018/20250818T06Z_MSC_RDPS_AirTemp_AGL-2m_RLatLon0.09_PT018H.grib2 20250818T06Z_MSC_RDPS_AirTemp_AGL-2m_RLatLon0.09_PT018H.grib2\n",
      "File downloaded successfully: 20250818T06Z_MSC_RDPS_AirTemp_AGL-2m_RLatLon0.09_PT018H.grib2, moving to /temp/ ...\n",
      "Commence interpolation\n"
     ]
    },
    {
     "name": "stderr",
     "output_type": "stream",
     "text": [
      "c:\\Users\\lbuchart\\AppData\\Local\\anaconda3\\envs\\prom-env\\Lib\\site-packages\\cfgrib\\xarray_plugin.py:131: FutureWarning: In a future version, xarray will not decode timedelta values based on the presence of a timedelta-like units attribute by default. Instead it will rely on the presence of a timedelta64 dtype attribute, which is now xarray's default way of encoding timedelta64 values. To continue decoding timedeltas based on the presence of a timedelta-like units attribute, users will need to explicitly opt-in by passing True or CFTimedeltaCoder(decode_via_units=True) to decode_timedelta. To silence this warning, set decode_timedelta to True, False, or a 'CFTimedeltaCoder' instance.\n",
      "  vars, attrs, coord_names = xr.conventions.decode_cf_variables(\n"
     ]
    },
    {
     "name": "stdout",
     "output_type": "stream",
     "text": [
      "2025-08-18 18:00:00 t2m 288.71008\n",
      "80\n",
      "https://dd.weather.gc.ca/20250818/WXO-DD/model_rdps/10km/06/019/20250818T06Z_MSC_RDPS_AirTemp_AGL-2m_RLatLon0.09_PT019H.grib2 20250818T06Z_MSC_RDPS_AirTemp_AGL-2m_RLatLon0.09_PT019H.grib2\n",
      "File downloaded successfully: 20250818T06Z_MSC_RDPS_AirTemp_AGL-2m_RLatLon0.09_PT019H.grib2, moving to /temp/ ...\n",
      "Commence interpolation\n"
     ]
    },
    {
     "name": "stderr",
     "output_type": "stream",
     "text": [
      "c:\\Users\\lbuchart\\AppData\\Local\\anaconda3\\envs\\prom-env\\Lib\\site-packages\\cfgrib\\xarray_plugin.py:131: FutureWarning: In a future version, xarray will not decode timedelta values based on the presence of a timedelta-like units attribute by default. Instead it will rely on the presence of a timedelta64 dtype attribute, which is now xarray's default way of encoding timedelta64 values. To continue decoding timedeltas based on the presence of a timedelta-like units attribute, users will need to explicitly opt-in by passing True or CFTimedeltaCoder(decode_via_units=True) to decode_timedelta. To silence this warning, set decode_timedelta to True, False, or a 'CFTimedeltaCoder' instance.\n",
      "  vars, attrs, coord_names = xr.conventions.decode_cf_variables(\n"
     ]
    },
    {
     "name": "stdout",
     "output_type": "stream",
     "text": [
      "2025-08-18 19:00:00 t2m 288.33432\n",
      "85\n",
      "https://dd.weather.gc.ca/20250818/WXO-DD/model_rdps/10km/06/020/20250818T06Z_MSC_RDPS_AirTemp_AGL-2m_RLatLon0.09_PT020H.grib2 20250818T06Z_MSC_RDPS_AirTemp_AGL-2m_RLatLon0.09_PT020H.grib2\n",
      "File downloaded successfully: 20250818T06Z_MSC_RDPS_AirTemp_AGL-2m_RLatLon0.09_PT020H.grib2, moving to /temp/ ...\n",
      "Commence interpolation\n"
     ]
    },
    {
     "name": "stderr",
     "output_type": "stream",
     "text": [
      "c:\\Users\\lbuchart\\AppData\\Local\\anaconda3\\envs\\prom-env\\Lib\\site-packages\\cfgrib\\xarray_plugin.py:131: FutureWarning: In a future version, xarray will not decode timedelta values based on the presence of a timedelta-like units attribute by default. Instead it will rely on the presence of a timedelta64 dtype attribute, which is now xarray's default way of encoding timedelta64 values. To continue decoding timedeltas based on the presence of a timedelta-like units attribute, users will need to explicitly opt-in by passing True or CFTimedeltaCoder(decode_via_units=True) to decode_timedelta. To silence this warning, set decode_timedelta to True, False, or a 'CFTimedeltaCoder' instance.\n",
      "  vars, attrs, coord_names = xr.conventions.decode_cf_variables(\n"
     ]
    },
    {
     "name": "stdout",
     "output_type": "stream",
     "text": [
      "2025-08-18 20:00:00 t2m 288.24844\n",
      "90\n",
      "https://dd.weather.gc.ca/20250818/WXO-DD/model_rdps/10km/06/021/20250818T06Z_MSC_RDPS_AirTemp_AGL-2m_RLatLon0.09_PT021H.grib2 20250818T06Z_MSC_RDPS_AirTemp_AGL-2m_RLatLon0.09_PT021H.grib2\n",
      "File downloaded successfully: 20250818T06Z_MSC_RDPS_AirTemp_AGL-2m_RLatLon0.09_PT021H.grib2, moving to /temp/ ...\n",
      "Commence interpolation\n"
     ]
    },
    {
     "name": "stderr",
     "output_type": "stream",
     "text": [
      "c:\\Users\\lbuchart\\AppData\\Local\\anaconda3\\envs\\prom-env\\Lib\\site-packages\\cfgrib\\xarray_plugin.py:131: FutureWarning: In a future version, xarray will not decode timedelta values based on the presence of a timedelta-like units attribute by default. Instead it will rely on the presence of a timedelta64 dtype attribute, which is now xarray's default way of encoding timedelta64 values. To continue decoding timedeltas based on the presence of a timedelta-like units attribute, users will need to explicitly opt-in by passing True or CFTimedeltaCoder(decode_via_units=True) to decode_timedelta. To silence this warning, set decode_timedelta to True, False, or a 'CFTimedeltaCoder' instance.\n",
      "  vars, attrs, coord_names = xr.conventions.decode_cf_variables(\n"
     ]
    },
    {
     "name": "stdout",
     "output_type": "stream",
     "text": [
      "2025-08-18 21:00:00 t2m 287.99594\n",
      "95\n",
      "https://dd.weather.gc.ca/20250818/WXO-DD/model_rdps/10km/06/022/20250818T06Z_MSC_RDPS_AirTemp_AGL-2m_RLatLon0.09_PT022H.grib2 20250818T06Z_MSC_RDPS_AirTemp_AGL-2m_RLatLon0.09_PT022H.grib2\n",
      "File downloaded successfully: 20250818T06Z_MSC_RDPS_AirTemp_AGL-2m_RLatLon0.09_PT022H.grib2, moving to /temp/ ...\n",
      "Commence interpolation\n"
     ]
    },
    {
     "name": "stderr",
     "output_type": "stream",
     "text": [
      "c:\\Users\\lbuchart\\AppData\\Local\\anaconda3\\envs\\prom-env\\Lib\\site-packages\\cfgrib\\xarray_plugin.py:131: FutureWarning: In a future version, xarray will not decode timedelta values based on the presence of a timedelta-like units attribute by default. Instead it will rely on the presence of a timedelta64 dtype attribute, which is now xarray's default way of encoding timedelta64 values. To continue decoding timedeltas based on the presence of a timedelta-like units attribute, users will need to explicitly opt-in by passing True or CFTimedeltaCoder(decode_via_units=True) to decode_timedelta. To silence this warning, set decode_timedelta to True, False, or a 'CFTimedeltaCoder' instance.\n",
      "  vars, attrs, coord_names = xr.conventions.decode_cf_variables(\n"
     ]
    },
    {
     "name": "stdout",
     "output_type": "stream",
     "text": [
      "2025-08-18 22:00:00 t2m 288.0264\n",
      "100\n",
      "https://dd.weather.gc.ca/20250818/WXO-DD/model_rdps/10km/06/023/20250818T06Z_MSC_RDPS_AirTemp_AGL-2m_RLatLon0.09_PT023H.grib2 20250818T06Z_MSC_RDPS_AirTemp_AGL-2m_RLatLon0.09_PT023H.grib2\n",
      "File downloaded successfully: 20250818T06Z_MSC_RDPS_AirTemp_AGL-2m_RLatLon0.09_PT023H.grib2, moving to /temp/ ...\n",
      "Commence interpolation\n"
     ]
    },
    {
     "name": "stderr",
     "output_type": "stream",
     "text": [
      "c:\\Users\\lbuchart\\AppData\\Local\\anaconda3\\envs\\prom-env\\Lib\\site-packages\\cfgrib\\xarray_plugin.py:131: FutureWarning: In a future version, xarray will not decode timedelta values based on the presence of a timedelta-like units attribute by default. Instead it will rely on the presence of a timedelta64 dtype attribute, which is now xarray's default way of encoding timedelta64 values. To continue decoding timedeltas based on the presence of a timedelta-like units attribute, users will need to explicitly opt-in by passing True or CFTimedeltaCoder(decode_via_units=True) to decode_timedelta. To silence this warning, set decode_timedelta to True, False, or a 'CFTimedeltaCoder' instance.\n",
      "  vars, attrs, coord_names = xr.conventions.decode_cf_variables(\n"
     ]
    },
    {
     "name": "stdout",
     "output_type": "stream",
     "text": [
      "2025-08-18 23:00:00 t2m 287.32315\n",
      "105\n",
      "https://dd.weather.gc.ca/20250818/WXO-DD/model_rdps/10km/06/024/20250818T06Z_MSC_RDPS_AirTemp_AGL-2m_RLatLon0.09_PT024H.grib2 20250818T06Z_MSC_RDPS_AirTemp_AGL-2m_RLatLon0.09_PT024H.grib2\n",
      "File downloaded successfully: 20250818T06Z_MSC_RDPS_AirTemp_AGL-2m_RLatLon0.09_PT024H.grib2, moving to /temp/ ...\n",
      "Commence interpolation\n"
     ]
    },
    {
     "name": "stderr",
     "output_type": "stream",
     "text": [
      "c:\\Users\\lbuchart\\AppData\\Local\\anaconda3\\envs\\prom-env\\Lib\\site-packages\\cfgrib\\xarray_plugin.py:131: FutureWarning: In a future version, xarray will not decode timedelta values based on the presence of a timedelta-like units attribute by default. Instead it will rely on the presence of a timedelta64 dtype attribute, which is now xarray's default way of encoding timedelta64 values. To continue decoding timedeltas based on the presence of a timedelta-like units attribute, users will need to explicitly opt-in by passing True or CFTimedeltaCoder(decode_via_units=True) to decode_timedelta. To silence this warning, set decode_timedelta to True, False, or a 'CFTimedeltaCoder' instance.\n",
      "  vars, attrs, coord_names = xr.conventions.decode_cf_variables(\n"
     ]
    },
    {
     "name": "stdout",
     "output_type": "stream",
     "text": [
      "2025-08-19 00:00:00 t2m 286.92487\n",
      "110\n",
      "https://dd.weather.gc.ca/20250818/WXO-DD/model_rdps/10km/06/025/20250818T06Z_MSC_RDPS_AirTemp_AGL-2m_RLatLon0.09_PT025H.grib2 20250818T06Z_MSC_RDPS_AirTemp_AGL-2m_RLatLon0.09_PT025H.grib2\n",
      "File downloaded successfully: 20250818T06Z_MSC_RDPS_AirTemp_AGL-2m_RLatLon0.09_PT025H.grib2, moving to /temp/ ...\n",
      "Commence interpolation\n"
     ]
    },
    {
     "name": "stderr",
     "output_type": "stream",
     "text": [
      "c:\\Users\\lbuchart\\AppData\\Local\\anaconda3\\envs\\prom-env\\Lib\\site-packages\\cfgrib\\xarray_plugin.py:131: FutureWarning: In a future version, xarray will not decode timedelta values based on the presence of a timedelta-like units attribute by default. Instead it will rely on the presence of a timedelta64 dtype attribute, which is now xarray's default way of encoding timedelta64 values. To continue decoding timedeltas based on the presence of a timedelta-like units attribute, users will need to explicitly opt-in by passing True or CFTimedeltaCoder(decode_via_units=True) to decode_timedelta. To silence this warning, set decode_timedelta to True, False, or a 'CFTimedeltaCoder' instance.\n",
      "  vars, attrs, coord_names = xr.conventions.decode_cf_variables(\n"
     ]
    },
    {
     "name": "stdout",
     "output_type": "stream",
     "text": [
      "2025-08-19 01:00:00 t2m 286.84528\n",
      "115\n",
      "https://dd.weather.gc.ca/20250818/WXO-DD/model_rdps/10km/06/026/20250818T06Z_MSC_RDPS_AirTemp_AGL-2m_RLatLon0.09_PT026H.grib2 20250818T06Z_MSC_RDPS_AirTemp_AGL-2m_RLatLon0.09_PT026H.grib2\n",
      "File downloaded successfully: 20250818T06Z_MSC_RDPS_AirTemp_AGL-2m_RLatLon0.09_PT026H.grib2, moving to /temp/ ...\n",
      "Commence interpolation\n"
     ]
    },
    {
     "name": "stderr",
     "output_type": "stream",
     "text": [
      "c:\\Users\\lbuchart\\AppData\\Local\\anaconda3\\envs\\prom-env\\Lib\\site-packages\\cfgrib\\xarray_plugin.py:131: FutureWarning: In a future version, xarray will not decode timedelta values based on the presence of a timedelta-like units attribute by default. Instead it will rely on the presence of a timedelta64 dtype attribute, which is now xarray's default way of encoding timedelta64 values. To continue decoding timedeltas based on the presence of a timedelta-like units attribute, users will need to explicitly opt-in by passing True or CFTimedeltaCoder(decode_via_units=True) to decode_timedelta. To silence this warning, set decode_timedelta to True, False, or a 'CFTimedeltaCoder' instance.\n",
      "  vars, attrs, coord_names = xr.conventions.decode_cf_variables(\n"
     ]
    },
    {
     "name": "stdout",
     "output_type": "stream",
     "text": [
      "2025-08-19 02:00:00 t2m 286.90253\n",
      "120\n",
      "https://dd.weather.gc.ca/20250818/WXO-DD/model_rdps/10km/06/027/20250818T06Z_MSC_RDPS_AirTemp_AGL-2m_RLatLon0.09_PT027H.grib2 20250818T06Z_MSC_RDPS_AirTemp_AGL-2m_RLatLon0.09_PT027H.grib2\n",
      "File downloaded successfully: 20250818T06Z_MSC_RDPS_AirTemp_AGL-2m_RLatLon0.09_PT027H.grib2, moving to /temp/ ...\n",
      "Commence interpolation\n"
     ]
    },
    {
     "name": "stderr",
     "output_type": "stream",
     "text": [
      "c:\\Users\\lbuchart\\AppData\\Local\\anaconda3\\envs\\prom-env\\Lib\\site-packages\\cfgrib\\xarray_plugin.py:131: FutureWarning: In a future version, xarray will not decode timedelta values based on the presence of a timedelta-like units attribute by default. Instead it will rely on the presence of a timedelta64 dtype attribute, which is now xarray's default way of encoding timedelta64 values. To continue decoding timedeltas based on the presence of a timedelta-like units attribute, users will need to explicitly opt-in by passing True or CFTimedeltaCoder(decode_via_units=True) to decode_timedelta. To silence this warning, set decode_timedelta to True, False, or a 'CFTimedeltaCoder' instance.\n",
      "  vars, attrs, coord_names = xr.conventions.decode_cf_variables(\n"
     ]
    },
    {
     "name": "stdout",
     "output_type": "stream",
     "text": [
      "2025-08-19 03:00:00 t2m 286.78714\n",
      "125\n",
      "https://dd.weather.gc.ca/20250818/WXO-DD/model_rdps/10km/06/028/20250818T06Z_MSC_RDPS_AirTemp_AGL-2m_RLatLon0.09_PT028H.grib2 20250818T06Z_MSC_RDPS_AirTemp_AGL-2m_RLatLon0.09_PT028H.grib2\n",
      "File downloaded successfully: 20250818T06Z_MSC_RDPS_AirTemp_AGL-2m_RLatLon0.09_PT028H.grib2, moving to /temp/ ...\n",
      "Commence interpolation\n"
     ]
    },
    {
     "name": "stderr",
     "output_type": "stream",
     "text": [
      "c:\\Users\\lbuchart\\AppData\\Local\\anaconda3\\envs\\prom-env\\Lib\\site-packages\\cfgrib\\xarray_plugin.py:131: FutureWarning: In a future version, xarray will not decode timedelta values based on the presence of a timedelta-like units attribute by default. Instead it will rely on the presence of a timedelta64 dtype attribute, which is now xarray's default way of encoding timedelta64 values. To continue decoding timedeltas based on the presence of a timedelta-like units attribute, users will need to explicitly opt-in by passing True or CFTimedeltaCoder(decode_via_units=True) to decode_timedelta. To silence this warning, set decode_timedelta to True, False, or a 'CFTimedeltaCoder' instance.\n",
      "  vars, attrs, coord_names = xr.conventions.decode_cf_variables(\n"
     ]
    },
    {
     "name": "stdout",
     "output_type": "stream",
     "text": [
      "2025-08-19 04:00:00 t2m 286.96216\n",
      "130\n",
      "https://dd.weather.gc.ca/20250818/WXO-DD/model_rdps/10km/06/029/20250818T06Z_MSC_RDPS_AirTemp_AGL-2m_RLatLon0.09_PT029H.grib2 20250818T06Z_MSC_RDPS_AirTemp_AGL-2m_RLatLon0.09_PT029H.grib2\n",
      "File downloaded successfully: 20250818T06Z_MSC_RDPS_AirTemp_AGL-2m_RLatLon0.09_PT029H.grib2, moving to /temp/ ...\n",
      "Commence interpolation\n"
     ]
    },
    {
     "name": "stderr",
     "output_type": "stream",
     "text": [
      "c:\\Users\\lbuchart\\AppData\\Local\\anaconda3\\envs\\prom-env\\Lib\\site-packages\\cfgrib\\xarray_plugin.py:131: FutureWarning: In a future version, xarray will not decode timedelta values based on the presence of a timedelta-like units attribute by default. Instead it will rely on the presence of a timedelta64 dtype attribute, which is now xarray's default way of encoding timedelta64 values. To continue decoding timedeltas based on the presence of a timedelta-like units attribute, users will need to explicitly opt-in by passing True or CFTimedeltaCoder(decode_via_units=True) to decode_timedelta. To silence this warning, set decode_timedelta to True, False, or a 'CFTimedeltaCoder' instance.\n",
      "  vars, attrs, coord_names = xr.conventions.decode_cf_variables(\n"
     ]
    },
    {
     "name": "stdout",
     "output_type": "stream",
     "text": [
      "2025-08-19 05:00:00 t2m 287.43423\n",
      "135\n",
      "https://dd.weather.gc.ca/20250818/WXO-DD/model_rdps/10km/06/030/20250818T06Z_MSC_RDPS_AirTemp_AGL-2m_RLatLon0.09_PT030H.grib2 20250818T06Z_MSC_RDPS_AirTemp_AGL-2m_RLatLon0.09_PT030H.grib2\n",
      "File downloaded successfully: 20250818T06Z_MSC_RDPS_AirTemp_AGL-2m_RLatLon0.09_PT030H.grib2, moving to /temp/ ...\n",
      "Commence interpolation\n"
     ]
    },
    {
     "name": "stderr",
     "output_type": "stream",
     "text": [
      "c:\\Users\\lbuchart\\AppData\\Local\\anaconda3\\envs\\prom-env\\Lib\\site-packages\\cfgrib\\xarray_plugin.py:131: FutureWarning: In a future version, xarray will not decode timedelta values based on the presence of a timedelta-like units attribute by default. Instead it will rely on the presence of a timedelta64 dtype attribute, which is now xarray's default way of encoding timedelta64 values. To continue decoding timedeltas based on the presence of a timedelta-like units attribute, users will need to explicitly opt-in by passing True or CFTimedeltaCoder(decode_via_units=True) to decode_timedelta. To silence this warning, set decode_timedelta to True, False, or a 'CFTimedeltaCoder' instance.\n",
      "  vars, attrs, coord_names = xr.conventions.decode_cf_variables(\n"
     ]
    },
    {
     "name": "stdout",
     "output_type": "stream",
     "text": [
      "2025-08-19 06:00:00 t2m 287.72495\n",
      "140\n",
      "https://dd.weather.gc.ca/20250818/WXO-DD/model_rdps/10km/06/031/20250818T06Z_MSC_RDPS_AirTemp_AGL-2m_RLatLon0.09_PT031H.grib2 20250818T06Z_MSC_RDPS_AirTemp_AGL-2m_RLatLon0.09_PT031H.grib2\n",
      "File downloaded successfully: 20250818T06Z_MSC_RDPS_AirTemp_AGL-2m_RLatLon0.09_PT031H.grib2, moving to /temp/ ...\n",
      "Commence interpolation\n"
     ]
    },
    {
     "name": "stderr",
     "output_type": "stream",
     "text": [
      "c:\\Users\\lbuchart\\AppData\\Local\\anaconda3\\envs\\prom-env\\Lib\\site-packages\\cfgrib\\xarray_plugin.py:131: FutureWarning: In a future version, xarray will not decode timedelta values based on the presence of a timedelta-like units attribute by default. Instead it will rely on the presence of a timedelta64 dtype attribute, which is now xarray's default way of encoding timedelta64 values. To continue decoding timedeltas based on the presence of a timedelta-like units attribute, users will need to explicitly opt-in by passing True or CFTimedeltaCoder(decode_via_units=True) to decode_timedelta. To silence this warning, set decode_timedelta to True, False, or a 'CFTimedeltaCoder' instance.\n",
      "  vars, attrs, coord_names = xr.conventions.decode_cf_variables(\n"
     ]
    },
    {
     "name": "stdout",
     "output_type": "stream",
     "text": [
      "2025-08-19 07:00:00 t2m 288.108\n",
      "145\n",
      "https://dd.weather.gc.ca/20250818/WXO-DD/model_rdps/10km/06/032/20250818T06Z_MSC_RDPS_AirTemp_AGL-2m_RLatLon0.09_PT032H.grib2 20250818T06Z_MSC_RDPS_AirTemp_AGL-2m_RLatLon0.09_PT032H.grib2\n",
      "File downloaded successfully: 20250818T06Z_MSC_RDPS_AirTemp_AGL-2m_RLatLon0.09_PT032H.grib2, moving to /temp/ ...\n",
      "Commence interpolation\n"
     ]
    },
    {
     "name": "stderr",
     "output_type": "stream",
     "text": [
      "c:\\Users\\lbuchart\\AppData\\Local\\anaconda3\\envs\\prom-env\\Lib\\site-packages\\cfgrib\\xarray_plugin.py:131: FutureWarning: In a future version, xarray will not decode timedelta values based on the presence of a timedelta-like units attribute by default. Instead it will rely on the presence of a timedelta64 dtype attribute, which is now xarray's default way of encoding timedelta64 values. To continue decoding timedeltas based on the presence of a timedelta-like units attribute, users will need to explicitly opt-in by passing True or CFTimedeltaCoder(decode_via_units=True) to decode_timedelta. To silence this warning, set decode_timedelta to True, False, or a 'CFTimedeltaCoder' instance.\n",
      "  vars, attrs, coord_names = xr.conventions.decode_cf_variables(\n"
     ]
    },
    {
     "name": "stdout",
     "output_type": "stream",
     "text": [
      "2025-08-19 08:00:00 t2m 287.4711\n",
      "150\n",
      "https://dd.weather.gc.ca/20250818/WXO-DD/model_rdps/10km/06/033/20250818T06Z_MSC_RDPS_AirTemp_AGL-2m_RLatLon0.09_PT033H.grib2 20250818T06Z_MSC_RDPS_AirTemp_AGL-2m_RLatLon0.09_PT033H.grib2\n",
      "File downloaded successfully: 20250818T06Z_MSC_RDPS_AirTemp_AGL-2m_RLatLon0.09_PT033H.grib2, moving to /temp/ ...\n",
      "Commence interpolation\n"
     ]
    },
    {
     "name": "stderr",
     "output_type": "stream",
     "text": [
      "c:\\Users\\lbuchart\\AppData\\Local\\anaconda3\\envs\\prom-env\\Lib\\site-packages\\cfgrib\\xarray_plugin.py:131: FutureWarning: In a future version, xarray will not decode timedelta values based on the presence of a timedelta-like units attribute by default. Instead it will rely on the presence of a timedelta64 dtype attribute, which is now xarray's default way of encoding timedelta64 values. To continue decoding timedeltas based on the presence of a timedelta-like units attribute, users will need to explicitly opt-in by passing True or CFTimedeltaCoder(decode_via_units=True) to decode_timedelta. To silence this warning, set decode_timedelta to True, False, or a 'CFTimedeltaCoder' instance.\n",
      "  vars, attrs, coord_names = xr.conventions.decode_cf_variables(\n"
     ]
    },
    {
     "name": "stdout",
     "output_type": "stream",
     "text": [
      "2025-08-19 09:00:00 t2m 287.0678\n",
      "155\n",
      "https://dd.weather.gc.ca/20250818/WXO-DD/model_rdps/10km/06/034/20250818T06Z_MSC_RDPS_AirTemp_AGL-2m_RLatLon0.09_PT034H.grib2 20250818T06Z_MSC_RDPS_AirTemp_AGL-2m_RLatLon0.09_PT034H.grib2\n",
      "File downloaded successfully: 20250818T06Z_MSC_RDPS_AirTemp_AGL-2m_RLatLon0.09_PT034H.grib2, moving to /temp/ ...\n",
      "Commence interpolation\n"
     ]
    },
    {
     "name": "stderr",
     "output_type": "stream",
     "text": [
      "c:\\Users\\lbuchart\\AppData\\Local\\anaconda3\\envs\\prom-env\\Lib\\site-packages\\cfgrib\\xarray_plugin.py:131: FutureWarning: In a future version, xarray will not decode timedelta values based on the presence of a timedelta-like units attribute by default. Instead it will rely on the presence of a timedelta64 dtype attribute, which is now xarray's default way of encoding timedelta64 values. To continue decoding timedeltas based on the presence of a timedelta-like units attribute, users will need to explicitly opt-in by passing True or CFTimedeltaCoder(decode_via_units=True) to decode_timedelta. To silence this warning, set decode_timedelta to True, False, or a 'CFTimedeltaCoder' instance.\n",
      "  vars, attrs, coord_names = xr.conventions.decode_cf_variables(\n"
     ]
    },
    {
     "name": "stdout",
     "output_type": "stream",
     "text": [
      "2025-08-19 10:00:00 t2m 286.2592\n",
      "160\n",
      "https://dd.weather.gc.ca/20250818/WXO-DD/model_rdps/10km/06/035/20250818T06Z_MSC_RDPS_AirTemp_AGL-2m_RLatLon0.09_PT035H.grib2 20250818T06Z_MSC_RDPS_AirTemp_AGL-2m_RLatLon0.09_PT035H.grib2\n",
      "File downloaded successfully: 20250818T06Z_MSC_RDPS_AirTemp_AGL-2m_RLatLon0.09_PT035H.grib2, moving to /temp/ ...\n",
      "Commence interpolation\n"
     ]
    },
    {
     "name": "stderr",
     "output_type": "stream",
     "text": [
      "c:\\Users\\lbuchart\\AppData\\Local\\anaconda3\\envs\\prom-env\\Lib\\site-packages\\cfgrib\\xarray_plugin.py:131: FutureWarning: In a future version, xarray will not decode timedelta values based on the presence of a timedelta-like units attribute by default. Instead it will rely on the presence of a timedelta64 dtype attribute, which is now xarray's default way of encoding timedelta64 values. To continue decoding timedeltas based on the presence of a timedelta-like units attribute, users will need to explicitly opt-in by passing True or CFTimedeltaCoder(decode_via_units=True) to decode_timedelta. To silence this warning, set decode_timedelta to True, False, or a 'CFTimedeltaCoder' instance.\n",
      "  vars, attrs, coord_names = xr.conventions.decode_cf_variables(\n"
     ]
    },
    {
     "name": "stdout",
     "output_type": "stream",
     "text": [
      "2025-08-19 11:00:00 t2m 286.57443\n",
      "165\n",
      "https://dd.weather.gc.ca/20250818/WXO-DD/model_rdps/10km/06/036/20250818T06Z_MSC_RDPS_AirTemp_AGL-2m_RLatLon0.09_PT036H.grib2 20250818T06Z_MSC_RDPS_AirTemp_AGL-2m_RLatLon0.09_PT036H.grib2\n",
      "File downloaded successfully: 20250818T06Z_MSC_RDPS_AirTemp_AGL-2m_RLatLon0.09_PT036H.grib2, moving to /temp/ ...\n",
      "Commence interpolation\n"
     ]
    },
    {
     "name": "stderr",
     "output_type": "stream",
     "text": [
      "c:\\Users\\lbuchart\\AppData\\Local\\anaconda3\\envs\\prom-env\\Lib\\site-packages\\cfgrib\\xarray_plugin.py:131: FutureWarning: In a future version, xarray will not decode timedelta values based on the presence of a timedelta-like units attribute by default. Instead it will rely on the presence of a timedelta64 dtype attribute, which is now xarray's default way of encoding timedelta64 values. To continue decoding timedeltas based on the presence of a timedelta-like units attribute, users will need to explicitly opt-in by passing True or CFTimedeltaCoder(decode_via_units=True) to decode_timedelta. To silence this warning, set decode_timedelta to True, False, or a 'CFTimedeltaCoder' instance.\n",
      "  vars, attrs, coord_names = xr.conventions.decode_cf_variables(\n"
     ]
    },
    {
     "name": "stdout",
     "output_type": "stream",
     "text": [
      "2025-08-19 12:00:00 t2m 286.74402\n",
      "170\n",
      "https://dd.weather.gc.ca/20250818/WXO-DD/model_rdps/10km/06/037/20250818T06Z_MSC_RDPS_AirTemp_AGL-2m_RLatLon0.09_PT037H.grib2 20250818T06Z_MSC_RDPS_AirTemp_AGL-2m_RLatLon0.09_PT037H.grib2\n",
      "File downloaded successfully: 20250818T06Z_MSC_RDPS_AirTemp_AGL-2m_RLatLon0.09_PT037H.grib2, moving to /temp/ ...\n",
      "Commence interpolation\n"
     ]
    },
    {
     "name": "stderr",
     "output_type": "stream",
     "text": [
      "c:\\Users\\lbuchart\\AppData\\Local\\anaconda3\\envs\\prom-env\\Lib\\site-packages\\cfgrib\\xarray_plugin.py:131: FutureWarning: In a future version, xarray will not decode timedelta values based on the presence of a timedelta-like units attribute by default. Instead it will rely on the presence of a timedelta64 dtype attribute, which is now xarray's default way of encoding timedelta64 values. To continue decoding timedeltas based on the presence of a timedelta-like units attribute, users will need to explicitly opt-in by passing True or CFTimedeltaCoder(decode_via_units=True) to decode_timedelta. To silence this warning, set decode_timedelta to True, False, or a 'CFTimedeltaCoder' instance.\n",
      "  vars, attrs, coord_names = xr.conventions.decode_cf_variables(\n"
     ]
    },
    {
     "name": "stdout",
     "output_type": "stream",
     "text": [
      "2025-08-19 13:00:00 t2m 286.45\n",
      "175\n",
      "https://dd.weather.gc.ca/20250818/WXO-DD/model_rdps/10km/06/038/20250818T06Z_MSC_RDPS_AirTemp_AGL-2m_RLatLon0.09_PT038H.grib2 20250818T06Z_MSC_RDPS_AirTemp_AGL-2m_RLatLon0.09_PT038H.grib2\n",
      "File downloaded successfully: 20250818T06Z_MSC_RDPS_AirTemp_AGL-2m_RLatLon0.09_PT038H.grib2, moving to /temp/ ...\n",
      "Commence interpolation\n"
     ]
    },
    {
     "name": "stderr",
     "output_type": "stream",
     "text": [
      "c:\\Users\\lbuchart\\AppData\\Local\\anaconda3\\envs\\prom-env\\Lib\\site-packages\\cfgrib\\xarray_plugin.py:131: FutureWarning: In a future version, xarray will not decode timedelta values based on the presence of a timedelta-like units attribute by default. Instead it will rely on the presence of a timedelta64 dtype attribute, which is now xarray's default way of encoding timedelta64 values. To continue decoding timedeltas based on the presence of a timedelta-like units attribute, users will need to explicitly opt-in by passing True or CFTimedeltaCoder(decode_via_units=True) to decode_timedelta. To silence this warning, set decode_timedelta to True, False, or a 'CFTimedeltaCoder' instance.\n",
      "  vars, attrs, coord_names = xr.conventions.decode_cf_variables(\n"
     ]
    },
    {
     "name": "stdout",
     "output_type": "stream",
     "text": [
      "2025-08-19 14:00:00 t2m 285.83707\n",
      "180\n",
      "https://dd.weather.gc.ca/20250818/WXO-DD/model_rdps/10km/06/039/20250818T06Z_MSC_RDPS_AirTemp_AGL-2m_RLatLon0.09_PT039H.grib2 20250818T06Z_MSC_RDPS_AirTemp_AGL-2m_RLatLon0.09_PT039H.grib2\n",
      "File downloaded successfully: 20250818T06Z_MSC_RDPS_AirTemp_AGL-2m_RLatLon0.09_PT039H.grib2, moving to /temp/ ...\n",
      "Commence interpolation\n"
     ]
    },
    {
     "name": "stderr",
     "output_type": "stream",
     "text": [
      "c:\\Users\\lbuchart\\AppData\\Local\\anaconda3\\envs\\prom-env\\Lib\\site-packages\\cfgrib\\xarray_plugin.py:131: FutureWarning: In a future version, xarray will not decode timedelta values based on the presence of a timedelta-like units attribute by default. Instead it will rely on the presence of a timedelta64 dtype attribute, which is now xarray's default way of encoding timedelta64 values. To continue decoding timedeltas based on the presence of a timedelta-like units attribute, users will need to explicitly opt-in by passing True or CFTimedeltaCoder(decode_via_units=True) to decode_timedelta. To silence this warning, set decode_timedelta to True, False, or a 'CFTimedeltaCoder' instance.\n",
      "  vars, attrs, coord_names = xr.conventions.decode_cf_variables(\n"
     ]
    },
    {
     "name": "stdout",
     "output_type": "stream",
     "text": [
      "2025-08-19 15:00:00 t2m 285.05695\n",
      "185\n",
      "https://dd.weather.gc.ca/20250818/WXO-DD/model_rdps/10km/06/040/20250818T06Z_MSC_RDPS_AirTemp_AGL-2m_RLatLon0.09_PT040H.grib2 20250818T06Z_MSC_RDPS_AirTemp_AGL-2m_RLatLon0.09_PT040H.grib2\n",
      "File downloaded successfully: 20250818T06Z_MSC_RDPS_AirTemp_AGL-2m_RLatLon0.09_PT040H.grib2, moving to /temp/ ...\n",
      "Commence interpolation\n"
     ]
    },
    {
     "name": "stderr",
     "output_type": "stream",
     "text": [
      "c:\\Users\\lbuchart\\AppData\\Local\\anaconda3\\envs\\prom-env\\Lib\\site-packages\\cfgrib\\xarray_plugin.py:131: FutureWarning: In a future version, xarray will not decode timedelta values based on the presence of a timedelta-like units attribute by default. Instead it will rely on the presence of a timedelta64 dtype attribute, which is now xarray's default way of encoding timedelta64 values. To continue decoding timedeltas based on the presence of a timedelta-like units attribute, users will need to explicitly opt-in by passing True or CFTimedeltaCoder(decode_via_units=True) to decode_timedelta. To silence this warning, set decode_timedelta to True, False, or a 'CFTimedeltaCoder' instance.\n",
      "  vars, attrs, coord_names = xr.conventions.decode_cf_variables(\n"
     ]
    },
    {
     "name": "stdout",
     "output_type": "stream",
     "text": [
      "2025-08-19 16:00:00 t2m 284.12946\n",
      "190\n",
      "https://dd.weather.gc.ca/20250818/WXO-DD/model_rdps/10km/06/041/20250818T06Z_MSC_RDPS_AirTemp_AGL-2m_RLatLon0.09_PT041H.grib2 20250818T06Z_MSC_RDPS_AirTemp_AGL-2m_RLatLon0.09_PT041H.grib2\n",
      "File downloaded successfully: 20250818T06Z_MSC_RDPS_AirTemp_AGL-2m_RLatLon0.09_PT041H.grib2, moving to /temp/ ...\n",
      "Commence interpolation\n"
     ]
    },
    {
     "name": "stderr",
     "output_type": "stream",
     "text": [
      "c:\\Users\\lbuchart\\AppData\\Local\\anaconda3\\envs\\prom-env\\Lib\\site-packages\\cfgrib\\xarray_plugin.py:131: FutureWarning: In a future version, xarray will not decode timedelta values based on the presence of a timedelta-like units attribute by default. Instead it will rely on the presence of a timedelta64 dtype attribute, which is now xarray's default way of encoding timedelta64 values. To continue decoding timedeltas based on the presence of a timedelta-like units attribute, users will need to explicitly opt-in by passing True or CFTimedeltaCoder(decode_via_units=True) to decode_timedelta. To silence this warning, set decode_timedelta to True, False, or a 'CFTimedeltaCoder' instance.\n",
      "  vars, attrs, coord_names = xr.conventions.decode_cf_variables(\n"
     ]
    },
    {
     "name": "stdout",
     "output_type": "stream",
     "text": [
      "2025-08-19 17:00:00 t2m 283.4201\n",
      "195\n",
      "https://dd.weather.gc.ca/20250818/WXO-DD/model_rdps/10km/06/042/20250818T06Z_MSC_RDPS_AirTemp_AGL-2m_RLatLon0.09_PT042H.grib2 20250818T06Z_MSC_RDPS_AirTemp_AGL-2m_RLatLon0.09_PT042H.grib2\n",
      "File downloaded successfully: 20250818T06Z_MSC_RDPS_AirTemp_AGL-2m_RLatLon0.09_PT042H.grib2, moving to /temp/ ...\n",
      "Commence interpolation\n"
     ]
    },
    {
     "name": "stderr",
     "output_type": "stream",
     "text": [
      "c:\\Users\\lbuchart\\AppData\\Local\\anaconda3\\envs\\prom-env\\Lib\\site-packages\\cfgrib\\xarray_plugin.py:131: FutureWarning: In a future version, xarray will not decode timedelta values based on the presence of a timedelta-like units attribute by default. Instead it will rely on the presence of a timedelta64 dtype attribute, which is now xarray's default way of encoding timedelta64 values. To continue decoding timedeltas based on the presence of a timedelta-like units attribute, users will need to explicitly opt-in by passing True or CFTimedeltaCoder(decode_via_units=True) to decode_timedelta. To silence this warning, set decode_timedelta to True, False, or a 'CFTimedeltaCoder' instance.\n",
      "  vars, attrs, coord_names = xr.conventions.decode_cf_variables(\n"
     ]
    },
    {
     "name": "stdout",
     "output_type": "stream",
     "text": [
      "2025-08-19 18:00:00 t2m 283.29556\n",
      "200\n",
      "https://dd.weather.gc.ca/20250818/WXO-DD/model_rdps/10km/06/043/20250818T06Z_MSC_RDPS_AirTemp_AGL-2m_RLatLon0.09_PT043H.grib2 20250818T06Z_MSC_RDPS_AirTemp_AGL-2m_RLatLon0.09_PT043H.grib2\n",
      "File downloaded successfully: 20250818T06Z_MSC_RDPS_AirTemp_AGL-2m_RLatLon0.09_PT043H.grib2, moving to /temp/ ...\n",
      "Commence interpolation\n"
     ]
    },
    {
     "name": "stderr",
     "output_type": "stream",
     "text": [
      "c:\\Users\\lbuchart\\AppData\\Local\\anaconda3\\envs\\prom-env\\Lib\\site-packages\\cfgrib\\xarray_plugin.py:131: FutureWarning: In a future version, xarray will not decode timedelta values based on the presence of a timedelta-like units attribute by default. Instead it will rely on the presence of a timedelta64 dtype attribute, which is now xarray's default way of encoding timedelta64 values. To continue decoding timedeltas based on the presence of a timedelta-like units attribute, users will need to explicitly opt-in by passing True or CFTimedeltaCoder(decode_via_units=True) to decode_timedelta. To silence this warning, set decode_timedelta to True, False, or a 'CFTimedeltaCoder' instance.\n",
      "  vars, attrs, coord_names = xr.conventions.decode_cf_variables(\n"
     ]
    },
    {
     "name": "stdout",
     "output_type": "stream",
     "text": [
      "2025-08-19 19:00:00 t2m 282.93887\n",
      "205\n",
      "https://dd.weather.gc.ca/20250818/WXO-DD/model_rdps/10km/06/044/20250818T06Z_MSC_RDPS_AirTemp_AGL-2m_RLatLon0.09_PT044H.grib2 20250818T06Z_MSC_RDPS_AirTemp_AGL-2m_RLatLon0.09_PT044H.grib2\n",
      "File downloaded successfully: 20250818T06Z_MSC_RDPS_AirTemp_AGL-2m_RLatLon0.09_PT044H.grib2, moving to /temp/ ...\n",
      "Commence interpolation\n"
     ]
    },
    {
     "name": "stderr",
     "output_type": "stream",
     "text": [
      "c:\\Users\\lbuchart\\AppData\\Local\\anaconda3\\envs\\prom-env\\Lib\\site-packages\\cfgrib\\xarray_plugin.py:131: FutureWarning: In a future version, xarray will not decode timedelta values based on the presence of a timedelta-like units attribute by default. Instead it will rely on the presence of a timedelta64 dtype attribute, which is now xarray's default way of encoding timedelta64 values. To continue decoding timedeltas based on the presence of a timedelta-like units attribute, users will need to explicitly opt-in by passing True or CFTimedeltaCoder(decode_via_units=True) to decode_timedelta. To silence this warning, set decode_timedelta to True, False, or a 'CFTimedeltaCoder' instance.\n",
      "  vars, attrs, coord_names = xr.conventions.decode_cf_variables(\n"
     ]
    },
    {
     "name": "stdout",
     "output_type": "stream",
     "text": [
      "2025-08-19 20:00:00 t2m 282.897\n",
      "210\n",
      "https://dd.weather.gc.ca/20250818/WXO-DD/model_rdps/10km/06/045/20250818T06Z_MSC_RDPS_AirTemp_AGL-2m_RLatLon0.09_PT045H.grib2 20250818T06Z_MSC_RDPS_AirTemp_AGL-2m_RLatLon0.09_PT045H.grib2\n",
      "File downloaded successfully: 20250818T06Z_MSC_RDPS_AirTemp_AGL-2m_RLatLon0.09_PT045H.grib2, moving to /temp/ ...\n",
      "Commence interpolation\n"
     ]
    },
    {
     "name": "stderr",
     "output_type": "stream",
     "text": [
      "c:\\Users\\lbuchart\\AppData\\Local\\anaconda3\\envs\\prom-env\\Lib\\site-packages\\cfgrib\\xarray_plugin.py:131: FutureWarning: In a future version, xarray will not decode timedelta values based on the presence of a timedelta-like units attribute by default. Instead it will rely on the presence of a timedelta64 dtype attribute, which is now xarray's default way of encoding timedelta64 values. To continue decoding timedeltas based on the presence of a timedelta-like units attribute, users will need to explicitly opt-in by passing True or CFTimedeltaCoder(decode_via_units=True) to decode_timedelta. To silence this warning, set decode_timedelta to True, False, or a 'CFTimedeltaCoder' instance.\n",
      "  vars, attrs, coord_names = xr.conventions.decode_cf_variables(\n"
     ]
    },
    {
     "name": "stdout",
     "output_type": "stream",
     "text": [
      "2025-08-19 21:00:00 t2m 282.8238\n",
      "215\n",
      "https://dd.weather.gc.ca/20250818/WXO-DD/model_rdps/10km/06/046/20250818T06Z_MSC_RDPS_AirTemp_AGL-2m_RLatLon0.09_PT046H.grib2 20250818T06Z_MSC_RDPS_AirTemp_AGL-2m_RLatLon0.09_PT046H.grib2\n",
      "File downloaded successfully: 20250818T06Z_MSC_RDPS_AirTemp_AGL-2m_RLatLon0.09_PT046H.grib2, moving to /temp/ ...\n",
      "Commence interpolation\n"
     ]
    },
    {
     "name": "stderr",
     "output_type": "stream",
     "text": [
      "c:\\Users\\lbuchart\\AppData\\Local\\anaconda3\\envs\\prom-env\\Lib\\site-packages\\cfgrib\\xarray_plugin.py:131: FutureWarning: In a future version, xarray will not decode timedelta values based on the presence of a timedelta-like units attribute by default. Instead it will rely on the presence of a timedelta64 dtype attribute, which is now xarray's default way of encoding timedelta64 values. To continue decoding timedeltas based on the presence of a timedelta-like units attribute, users will need to explicitly opt-in by passing True or CFTimedeltaCoder(decode_via_units=True) to decode_timedelta. To silence this warning, set decode_timedelta to True, False, or a 'CFTimedeltaCoder' instance.\n",
      "  vars, attrs, coord_names = xr.conventions.decode_cf_variables(\n"
     ]
    },
    {
     "name": "stdout",
     "output_type": "stream",
     "text": [
      "2025-08-19 22:00:00 t2m 282.70917\n",
      "220\n",
      "https://dd.weather.gc.ca/20250818/WXO-DD/model_rdps/10km/06/047/20250818T06Z_MSC_RDPS_AirTemp_AGL-2m_RLatLon0.09_PT047H.grib2 20250818T06Z_MSC_RDPS_AirTemp_AGL-2m_RLatLon0.09_PT047H.grib2\n",
      "File downloaded successfully: 20250818T06Z_MSC_RDPS_AirTemp_AGL-2m_RLatLon0.09_PT047H.grib2, moving to /temp/ ...\n",
      "Commence interpolation\n"
     ]
    },
    {
     "name": "stderr",
     "output_type": "stream",
     "text": [
      "c:\\Users\\lbuchart\\AppData\\Local\\anaconda3\\envs\\prom-env\\Lib\\site-packages\\cfgrib\\xarray_plugin.py:131: FutureWarning: In a future version, xarray will not decode timedelta values based on the presence of a timedelta-like units attribute by default. Instead it will rely on the presence of a timedelta64 dtype attribute, which is now xarray's default way of encoding timedelta64 values. To continue decoding timedeltas based on the presence of a timedelta-like units attribute, users will need to explicitly opt-in by passing True or CFTimedeltaCoder(decode_via_units=True) to decode_timedelta. To silence this warning, set decode_timedelta to True, False, or a 'CFTimedeltaCoder' instance.\n",
      "  vars, attrs, coord_names = xr.conventions.decode_cf_variables(\n"
     ]
    },
    {
     "name": "stdout",
     "output_type": "stream",
     "text": [
      "2025-08-19 23:00:00 t2m 282.6009\n",
      "225\n",
      "https://dd.weather.gc.ca/20250818/WXO-DD/model_rdps/10km/06/048/20250818T06Z_MSC_RDPS_AirTemp_AGL-2m_RLatLon0.09_PT048H.grib2 20250818T06Z_MSC_RDPS_AirTemp_AGL-2m_RLatLon0.09_PT048H.grib2\n",
      "File downloaded successfully: 20250818T06Z_MSC_RDPS_AirTemp_AGL-2m_RLatLon0.09_PT048H.grib2, moving to /temp/ ...\n",
      "Commence interpolation\n"
     ]
    },
    {
     "name": "stderr",
     "output_type": "stream",
     "text": [
      "c:\\Users\\lbuchart\\AppData\\Local\\anaconda3\\envs\\prom-env\\Lib\\site-packages\\cfgrib\\xarray_plugin.py:131: FutureWarning: In a future version, xarray will not decode timedelta values based on the presence of a timedelta-like units attribute by default. Instead it will rely on the presence of a timedelta64 dtype attribute, which is now xarray's default way of encoding timedelta64 values. To continue decoding timedeltas based on the presence of a timedelta-like units attribute, users will need to explicitly opt-in by passing True or CFTimedeltaCoder(decode_via_units=True) to decode_timedelta. To silence this warning, set decode_timedelta to True, False, or a 'CFTimedeltaCoder' instance.\n",
      "  vars, attrs, coord_names = xr.conventions.decode_cf_variables(\n"
     ]
    },
    {
     "name": "stdout",
     "output_type": "stream",
     "text": [
      "2025-08-20 00:00:00 t2m 282.50357\n",
      "230\n",
      "https://dd.weather.gc.ca/20250818/WXO-DD/model_rdps/10km/06/049/20250818T06Z_MSC_RDPS_AirTemp_AGL-2m_RLatLon0.09_PT049H.grib2 20250818T06Z_MSC_RDPS_AirTemp_AGL-2m_RLatLon0.09_PT049H.grib2\n",
      "File downloaded successfully: 20250818T06Z_MSC_RDPS_AirTemp_AGL-2m_RLatLon0.09_PT049H.grib2, moving to /temp/ ...\n",
      "Commence interpolation\n"
     ]
    },
    {
     "name": "stderr",
     "output_type": "stream",
     "text": [
      "c:\\Users\\lbuchart\\AppData\\Local\\anaconda3\\envs\\prom-env\\Lib\\site-packages\\cfgrib\\xarray_plugin.py:131: FutureWarning: In a future version, xarray will not decode timedelta values based on the presence of a timedelta-like units attribute by default. Instead it will rely on the presence of a timedelta64 dtype attribute, which is now xarray's default way of encoding timedelta64 values. To continue decoding timedeltas based on the presence of a timedelta-like units attribute, users will need to explicitly opt-in by passing True or CFTimedeltaCoder(decode_via_units=True) to decode_timedelta. To silence this warning, set decode_timedelta to True, False, or a 'CFTimedeltaCoder' instance.\n",
      "  vars, attrs, coord_names = xr.conventions.decode_cf_variables(\n"
     ]
    },
    {
     "name": "stdout",
     "output_type": "stream",
     "text": [
      "2025-08-20 01:00:00 t2m 282.31097\n",
      "235\n",
      "https://dd.weather.gc.ca/20250818/WXO-DD/model_rdps/10km/06/050/20250818T06Z_MSC_RDPS_AirTemp_AGL-2m_RLatLon0.09_PT050H.grib2 20250818T06Z_MSC_RDPS_AirTemp_AGL-2m_RLatLon0.09_PT050H.grib2\n",
      "File downloaded successfully: 20250818T06Z_MSC_RDPS_AirTemp_AGL-2m_RLatLon0.09_PT050H.grib2, moving to /temp/ ...\n",
      "Commence interpolation\n"
     ]
    },
    {
     "name": "stderr",
     "output_type": "stream",
     "text": [
      "c:\\Users\\lbuchart\\AppData\\Local\\anaconda3\\envs\\prom-env\\Lib\\site-packages\\cfgrib\\xarray_plugin.py:131: FutureWarning: In a future version, xarray will not decode timedelta values based on the presence of a timedelta-like units attribute by default. Instead it will rely on the presence of a timedelta64 dtype attribute, which is now xarray's default way of encoding timedelta64 values. To continue decoding timedeltas based on the presence of a timedelta-like units attribute, users will need to explicitly opt-in by passing True or CFTimedeltaCoder(decode_via_units=True) to decode_timedelta. To silence this warning, set decode_timedelta to True, False, or a 'CFTimedeltaCoder' instance.\n",
      "  vars, attrs, coord_names = xr.conventions.decode_cf_variables(\n"
     ]
    },
    {
     "name": "stdout",
     "output_type": "stream",
     "text": [
      "2025-08-20 02:00:00 t2m 282.08295\n",
      "1\n",
      "https://dd.weather.gc.ca/20250818/WXO-DD/model_rdps/10km/06/003/20250818T06Z_MSC_RDPS_RelativeHumidity_AGL-2m_RLatLon0.09_PT003H.grib2 20250818T06Z_MSC_RDPS_RelativeHumidity_AGL-2m_RLatLon0.09_PT003H.grib2\n",
      "File downloaded successfully: 20250818T06Z_MSC_RDPS_RelativeHumidity_AGL-2m_RLatLon0.09_PT003H.grib2, moving to /temp/ ...\n",
      "Commence interpolation\n"
     ]
    },
    {
     "name": "stderr",
     "output_type": "stream",
     "text": [
      "c:\\Users\\lbuchart\\AppData\\Local\\anaconda3\\envs\\prom-env\\Lib\\site-packages\\cfgrib\\xarray_plugin.py:131: FutureWarning: In a future version, xarray will not decode timedelta values based on the presence of a timedelta-like units attribute by default. Instead it will rely on the presence of a timedelta64 dtype attribute, which is now xarray's default way of encoding timedelta64 values. To continue decoding timedeltas based on the presence of a timedelta-like units attribute, users will need to explicitly opt-in by passing True or CFTimedeltaCoder(decode_via_units=True) to decode_timedelta. To silence this warning, set decode_timedelta to True, False, or a 'CFTimedeltaCoder' instance.\n",
      "  vars, attrs, coord_names = xr.conventions.decode_cf_variables(\n"
     ]
    },
    {
     "name": "stdout",
     "output_type": "stream",
     "text": [
      "2025-08-18 03:00:00 r2 98.16826\n",
      "6\n",
      "https://dd.weather.gc.ca/20250818/WXO-DD/model_rdps/10km/06/004/20250818T06Z_MSC_RDPS_RelativeHumidity_AGL-2m_RLatLon0.09_PT004H.grib2 20250818T06Z_MSC_RDPS_RelativeHumidity_AGL-2m_RLatLon0.09_PT004H.grib2\n",
      "File downloaded successfully: 20250818T06Z_MSC_RDPS_RelativeHumidity_AGL-2m_RLatLon0.09_PT004H.grib2, moving to /temp/ ...\n",
      "Commence interpolation\n"
     ]
    },
    {
     "name": "stderr",
     "output_type": "stream",
     "text": [
      "c:\\Users\\lbuchart\\AppData\\Local\\anaconda3\\envs\\prom-env\\Lib\\site-packages\\cfgrib\\xarray_plugin.py:131: FutureWarning: In a future version, xarray will not decode timedelta values based on the presence of a timedelta-like units attribute by default. Instead it will rely on the presence of a timedelta64 dtype attribute, which is now xarray's default way of encoding timedelta64 values. To continue decoding timedeltas based on the presence of a timedelta-like units attribute, users will need to explicitly opt-in by passing True or CFTimedeltaCoder(decode_via_units=True) to decode_timedelta. To silence this warning, set decode_timedelta to True, False, or a 'CFTimedeltaCoder' instance.\n",
      "  vars, attrs, coord_names = xr.conventions.decode_cf_variables(\n"
     ]
    },
    {
     "name": "stdout",
     "output_type": "stream",
     "text": [
      "2025-08-18 04:00:00 r2 94.564835\n",
      "11\n",
      "https://dd.weather.gc.ca/20250818/WXO-DD/model_rdps/10km/06/005/20250818T06Z_MSC_RDPS_RelativeHumidity_AGL-2m_RLatLon0.09_PT005H.grib2 20250818T06Z_MSC_RDPS_RelativeHumidity_AGL-2m_RLatLon0.09_PT005H.grib2\n",
      "File downloaded successfully: 20250818T06Z_MSC_RDPS_RelativeHumidity_AGL-2m_RLatLon0.09_PT005H.grib2, moving to /temp/ ...\n",
      "Commence interpolation\n"
     ]
    },
    {
     "name": "stderr",
     "output_type": "stream",
     "text": [
      "c:\\Users\\lbuchart\\AppData\\Local\\anaconda3\\envs\\prom-env\\Lib\\site-packages\\cfgrib\\xarray_plugin.py:131: FutureWarning: In a future version, xarray will not decode timedelta values based on the presence of a timedelta-like units attribute by default. Instead it will rely on the presence of a timedelta64 dtype attribute, which is now xarray's default way of encoding timedelta64 values. To continue decoding timedeltas based on the presence of a timedelta-like units attribute, users will need to explicitly opt-in by passing True or CFTimedeltaCoder(decode_via_units=True) to decode_timedelta. To silence this warning, set decode_timedelta to True, False, or a 'CFTimedeltaCoder' instance.\n",
      "  vars, attrs, coord_names = xr.conventions.decode_cf_variables(\n"
     ]
    },
    {
     "name": "stdout",
     "output_type": "stream",
     "text": [
      "2025-08-18 05:00:00 r2 83.314\n",
      "16\n",
      "https://dd.weather.gc.ca/20250818/WXO-DD/model_rdps/10km/06/006/20250818T06Z_MSC_RDPS_RelativeHumidity_AGL-2m_RLatLon0.09_PT006H.grib2 20250818T06Z_MSC_RDPS_RelativeHumidity_AGL-2m_RLatLon0.09_PT006H.grib2\n",
      "File downloaded successfully: 20250818T06Z_MSC_RDPS_RelativeHumidity_AGL-2m_RLatLon0.09_PT006H.grib2, moving to /temp/ ...\n",
      "Commence interpolation\n"
     ]
    },
    {
     "name": "stderr",
     "output_type": "stream",
     "text": [
      "c:\\Users\\lbuchart\\AppData\\Local\\anaconda3\\envs\\prom-env\\Lib\\site-packages\\cfgrib\\xarray_plugin.py:131: FutureWarning: In a future version, xarray will not decode timedelta values based on the presence of a timedelta-like units attribute by default. Instead it will rely on the presence of a timedelta64 dtype attribute, which is now xarray's default way of encoding timedelta64 values. To continue decoding timedeltas based on the presence of a timedelta-like units attribute, users will need to explicitly opt-in by passing True or CFTimedeltaCoder(decode_via_units=True) to decode_timedelta. To silence this warning, set decode_timedelta to True, False, or a 'CFTimedeltaCoder' instance.\n",
      "  vars, attrs, coord_names = xr.conventions.decode_cf_variables(\n"
     ]
    },
    {
     "name": "stdout",
     "output_type": "stream",
     "text": [
      "2025-08-18 06:00:00 r2 69.09136\n",
      "21\n",
      "https://dd.weather.gc.ca/20250818/WXO-DD/model_rdps/10km/06/007/20250818T06Z_MSC_RDPS_RelativeHumidity_AGL-2m_RLatLon0.09_PT007H.grib2 20250818T06Z_MSC_RDPS_RelativeHumidity_AGL-2m_RLatLon0.09_PT007H.grib2\n",
      "File downloaded successfully: 20250818T06Z_MSC_RDPS_RelativeHumidity_AGL-2m_RLatLon0.09_PT007H.grib2, moving to /temp/ ...\n",
      "Commence interpolation\n"
     ]
    },
    {
     "name": "stderr",
     "output_type": "stream",
     "text": [
      "c:\\Users\\lbuchart\\AppData\\Local\\anaconda3\\envs\\prom-env\\Lib\\site-packages\\cfgrib\\xarray_plugin.py:131: FutureWarning: In a future version, xarray will not decode timedelta values based on the presence of a timedelta-like units attribute by default. Instead it will rely on the presence of a timedelta64 dtype attribute, which is now xarray's default way of encoding timedelta64 values. To continue decoding timedeltas based on the presence of a timedelta-like units attribute, users will need to explicitly opt-in by passing True or CFTimedeltaCoder(decode_via_units=True) to decode_timedelta. To silence this warning, set decode_timedelta to True, False, or a 'CFTimedeltaCoder' instance.\n",
      "  vars, attrs, coord_names = xr.conventions.decode_cf_variables(\n"
     ]
    },
    {
     "name": "stdout",
     "output_type": "stream",
     "text": [
      "2025-08-18 07:00:00 r2 60.13654\n",
      "26\n",
      "https://dd.weather.gc.ca/20250818/WXO-DD/model_rdps/10km/06/008/20250818T06Z_MSC_RDPS_RelativeHumidity_AGL-2m_RLatLon0.09_PT008H.grib2 20250818T06Z_MSC_RDPS_RelativeHumidity_AGL-2m_RLatLon0.09_PT008H.grib2\n",
      "File downloaded successfully: 20250818T06Z_MSC_RDPS_RelativeHumidity_AGL-2m_RLatLon0.09_PT008H.grib2, moving to /temp/ ...\n",
      "Commence interpolation\n"
     ]
    },
    {
     "name": "stderr",
     "output_type": "stream",
     "text": [
      "c:\\Users\\lbuchart\\AppData\\Local\\anaconda3\\envs\\prom-env\\Lib\\site-packages\\cfgrib\\xarray_plugin.py:131: FutureWarning: In a future version, xarray will not decode timedelta values based on the presence of a timedelta-like units attribute by default. Instead it will rely on the presence of a timedelta64 dtype attribute, which is now xarray's default way of encoding timedelta64 values. To continue decoding timedeltas based on the presence of a timedelta-like units attribute, users will need to explicitly opt-in by passing True or CFTimedeltaCoder(decode_via_units=True) to decode_timedelta. To silence this warning, set decode_timedelta to True, False, or a 'CFTimedeltaCoder' instance.\n",
      "  vars, attrs, coord_names = xr.conventions.decode_cf_variables(\n"
     ]
    },
    {
     "name": "stdout",
     "output_type": "stream",
     "text": [
      "2025-08-18 08:00:00 r2 54.85875\n",
      "31\n",
      "https://dd.weather.gc.ca/20250818/WXO-DD/model_rdps/10km/06/009/20250818T06Z_MSC_RDPS_RelativeHumidity_AGL-2m_RLatLon0.09_PT009H.grib2 20250818T06Z_MSC_RDPS_RelativeHumidity_AGL-2m_RLatLon0.09_PT009H.grib2\n",
      "File downloaded successfully: 20250818T06Z_MSC_RDPS_RelativeHumidity_AGL-2m_RLatLon0.09_PT009H.grib2, moving to /temp/ ...\n",
      "Commence interpolation\n"
     ]
    },
    {
     "name": "stderr",
     "output_type": "stream",
     "text": [
      "c:\\Users\\lbuchart\\AppData\\Local\\anaconda3\\envs\\prom-env\\Lib\\site-packages\\cfgrib\\xarray_plugin.py:131: FutureWarning: In a future version, xarray will not decode timedelta values based on the presence of a timedelta-like units attribute by default. Instead it will rely on the presence of a timedelta64 dtype attribute, which is now xarray's default way of encoding timedelta64 values. To continue decoding timedeltas based on the presence of a timedelta-like units attribute, users will need to explicitly opt-in by passing True or CFTimedeltaCoder(decode_via_units=True) to decode_timedelta. To silence this warning, set decode_timedelta to True, False, or a 'CFTimedeltaCoder' instance.\n",
      "  vars, attrs, coord_names = xr.conventions.decode_cf_variables(\n"
     ]
    },
    {
     "name": "stdout",
     "output_type": "stream",
     "text": [
      "2025-08-18 09:00:00 r2 52.304024\n",
      "36\n",
      "https://dd.weather.gc.ca/20250818/WXO-DD/model_rdps/10km/06/010/20250818T06Z_MSC_RDPS_RelativeHumidity_AGL-2m_RLatLon0.09_PT010H.grib2 20250818T06Z_MSC_RDPS_RelativeHumidity_AGL-2m_RLatLon0.09_PT010H.grib2\n",
      "File downloaded successfully: 20250818T06Z_MSC_RDPS_RelativeHumidity_AGL-2m_RLatLon0.09_PT010H.grib2, moving to /temp/ ...\n",
      "Commence interpolation\n"
     ]
    },
    {
     "name": "stderr",
     "output_type": "stream",
     "text": [
      "c:\\Users\\lbuchart\\AppData\\Local\\anaconda3\\envs\\prom-env\\Lib\\site-packages\\cfgrib\\xarray_plugin.py:131: FutureWarning: In a future version, xarray will not decode timedelta values based on the presence of a timedelta-like units attribute by default. Instead it will rely on the presence of a timedelta64 dtype attribute, which is now xarray's default way of encoding timedelta64 values. To continue decoding timedeltas based on the presence of a timedelta-like units attribute, users will need to explicitly opt-in by passing True or CFTimedeltaCoder(decode_via_units=True) to decode_timedelta. To silence this warning, set decode_timedelta to True, False, or a 'CFTimedeltaCoder' instance.\n",
      "  vars, attrs, coord_names = xr.conventions.decode_cf_variables(\n"
     ]
    },
    {
     "name": "stdout",
     "output_type": "stream",
     "text": [
      "2025-08-18 10:00:00 r2 50.320488\n",
      "41\n",
      "https://dd.weather.gc.ca/20250818/WXO-DD/model_rdps/10km/06/011/20250818T06Z_MSC_RDPS_RelativeHumidity_AGL-2m_RLatLon0.09_PT011H.grib2 20250818T06Z_MSC_RDPS_RelativeHumidity_AGL-2m_RLatLon0.09_PT011H.grib2\n",
      "File downloaded successfully: 20250818T06Z_MSC_RDPS_RelativeHumidity_AGL-2m_RLatLon0.09_PT011H.grib2, moving to /temp/ ...\n",
      "Commence interpolation\n"
     ]
    },
    {
     "name": "stderr",
     "output_type": "stream",
     "text": [
      "c:\\Users\\lbuchart\\AppData\\Local\\anaconda3\\envs\\prom-env\\Lib\\site-packages\\cfgrib\\xarray_plugin.py:131: FutureWarning: In a future version, xarray will not decode timedelta values based on the presence of a timedelta-like units attribute by default. Instead it will rely on the presence of a timedelta64 dtype attribute, which is now xarray's default way of encoding timedelta64 values. To continue decoding timedeltas based on the presence of a timedelta-like units attribute, users will need to explicitly opt-in by passing True or CFTimedeltaCoder(decode_via_units=True) to decode_timedelta. To silence this warning, set decode_timedelta to True, False, or a 'CFTimedeltaCoder' instance.\n",
      "  vars, attrs, coord_names = xr.conventions.decode_cf_variables(\n"
     ]
    },
    {
     "name": "stdout",
     "output_type": "stream",
     "text": [
      "2025-08-18 11:00:00 r2 48.727695\n",
      "46\n",
      "https://dd.weather.gc.ca/20250818/WXO-DD/model_rdps/10km/06/012/20250818T06Z_MSC_RDPS_RelativeHumidity_AGL-2m_RLatLon0.09_PT012H.grib2 20250818T06Z_MSC_RDPS_RelativeHumidity_AGL-2m_RLatLon0.09_PT012H.grib2\n",
      "File downloaded successfully: 20250818T06Z_MSC_RDPS_RelativeHumidity_AGL-2m_RLatLon0.09_PT012H.grib2, moving to /temp/ ...\n",
      "Commence interpolation\n"
     ]
    },
    {
     "name": "stderr",
     "output_type": "stream",
     "text": [
      "c:\\Users\\lbuchart\\AppData\\Local\\anaconda3\\envs\\prom-env\\Lib\\site-packages\\cfgrib\\xarray_plugin.py:131: FutureWarning: In a future version, xarray will not decode timedelta values based on the presence of a timedelta-like units attribute by default. Instead it will rely on the presence of a timedelta64 dtype attribute, which is now xarray's default way of encoding timedelta64 values. To continue decoding timedeltas based on the presence of a timedelta-like units attribute, users will need to explicitly opt-in by passing True or CFTimedeltaCoder(decode_via_units=True) to decode_timedelta. To silence this warning, set decode_timedelta to True, False, or a 'CFTimedeltaCoder' instance.\n",
      "  vars, attrs, coord_names = xr.conventions.decode_cf_variables(\n"
     ]
    },
    {
     "name": "stdout",
     "output_type": "stream",
     "text": [
      "2025-08-18 12:00:00 r2 50.74691\n",
      "51\n",
      "https://dd.weather.gc.ca/20250818/WXO-DD/model_rdps/10km/06/013/20250818T06Z_MSC_RDPS_RelativeHumidity_AGL-2m_RLatLon0.09_PT013H.grib2 20250818T06Z_MSC_RDPS_RelativeHumidity_AGL-2m_RLatLon0.09_PT013H.grib2\n",
      "File downloaded successfully: 20250818T06Z_MSC_RDPS_RelativeHumidity_AGL-2m_RLatLon0.09_PT013H.grib2, moving to /temp/ ...\n",
      "Commence interpolation\n"
     ]
    },
    {
     "name": "stderr",
     "output_type": "stream",
     "text": [
      "c:\\Users\\lbuchart\\AppData\\Local\\anaconda3\\envs\\prom-env\\Lib\\site-packages\\cfgrib\\xarray_plugin.py:131: FutureWarning: In a future version, xarray will not decode timedelta values based on the presence of a timedelta-like units attribute by default. Instead it will rely on the presence of a timedelta64 dtype attribute, which is now xarray's default way of encoding timedelta64 values. To continue decoding timedeltas based on the presence of a timedelta-like units attribute, users will need to explicitly opt-in by passing True or CFTimedeltaCoder(decode_via_units=True) to decode_timedelta. To silence this warning, set decode_timedelta to True, False, or a 'CFTimedeltaCoder' instance.\n",
      "  vars, attrs, coord_names = xr.conventions.decode_cf_variables(\n"
     ]
    },
    {
     "name": "stdout",
     "output_type": "stream",
     "text": [
      "2025-08-18 13:00:00 r2 57.172897\n",
      "56\n",
      "https://dd.weather.gc.ca/20250818/WXO-DD/model_rdps/10km/06/014/20250818T06Z_MSC_RDPS_RelativeHumidity_AGL-2m_RLatLon0.09_PT014H.grib2 20250818T06Z_MSC_RDPS_RelativeHumidity_AGL-2m_RLatLon0.09_PT014H.grib2\n",
      "File downloaded successfully: 20250818T06Z_MSC_RDPS_RelativeHumidity_AGL-2m_RLatLon0.09_PT014H.grib2, moving to /temp/ ...\n",
      "Commence interpolation\n"
     ]
    },
    {
     "name": "stderr",
     "output_type": "stream",
     "text": [
      "c:\\Users\\lbuchart\\AppData\\Local\\anaconda3\\envs\\prom-env\\Lib\\site-packages\\cfgrib\\xarray_plugin.py:131: FutureWarning: In a future version, xarray will not decode timedelta values based on the presence of a timedelta-like units attribute by default. Instead it will rely on the presence of a timedelta64 dtype attribute, which is now xarray's default way of encoding timedelta64 values. To continue decoding timedeltas based on the presence of a timedelta-like units attribute, users will need to explicitly opt-in by passing True or CFTimedeltaCoder(decode_via_units=True) to decode_timedelta. To silence this warning, set decode_timedelta to True, False, or a 'CFTimedeltaCoder' instance.\n",
      "  vars, attrs, coord_names = xr.conventions.decode_cf_variables(\n"
     ]
    },
    {
     "name": "stdout",
     "output_type": "stream",
     "text": [
      "2025-08-18 14:00:00 r2 60.355892\n",
      "61\n",
      "https://dd.weather.gc.ca/20250818/WXO-DD/model_rdps/10km/06/015/20250818T06Z_MSC_RDPS_RelativeHumidity_AGL-2m_RLatLon0.09_PT015H.grib2 20250818T06Z_MSC_RDPS_RelativeHumidity_AGL-2m_RLatLon0.09_PT015H.grib2\n",
      "File downloaded successfully: 20250818T06Z_MSC_RDPS_RelativeHumidity_AGL-2m_RLatLon0.09_PT015H.grib2, moving to /temp/ ...\n",
      "Commence interpolation\n"
     ]
    },
    {
     "name": "stderr",
     "output_type": "stream",
     "text": [
      "c:\\Users\\lbuchart\\AppData\\Local\\anaconda3\\envs\\prom-env\\Lib\\site-packages\\cfgrib\\xarray_plugin.py:131: FutureWarning: In a future version, xarray will not decode timedelta values based on the presence of a timedelta-like units attribute by default. Instead it will rely on the presence of a timedelta64 dtype attribute, which is now xarray's default way of encoding timedelta64 values. To continue decoding timedeltas based on the presence of a timedelta-like units attribute, users will need to explicitly opt-in by passing True or CFTimedeltaCoder(decode_via_units=True) to decode_timedelta. To silence this warning, set decode_timedelta to True, False, or a 'CFTimedeltaCoder' instance.\n",
      "  vars, attrs, coord_names = xr.conventions.decode_cf_variables(\n"
     ]
    },
    {
     "name": "stdout",
     "output_type": "stream",
     "text": [
      "2025-08-18 15:00:00 r2 64.71884\n",
      "66\n",
      "https://dd.weather.gc.ca/20250818/WXO-DD/model_rdps/10km/06/016/20250818T06Z_MSC_RDPS_RelativeHumidity_AGL-2m_RLatLon0.09_PT016H.grib2 20250818T06Z_MSC_RDPS_RelativeHumidity_AGL-2m_RLatLon0.09_PT016H.grib2\n",
      "File downloaded successfully: 20250818T06Z_MSC_RDPS_RelativeHumidity_AGL-2m_RLatLon0.09_PT016H.grib2, moving to /temp/ ...\n",
      "Commence interpolation\n"
     ]
    },
    {
     "name": "stderr",
     "output_type": "stream",
     "text": [
      "c:\\Users\\lbuchart\\AppData\\Local\\anaconda3\\envs\\prom-env\\Lib\\site-packages\\cfgrib\\xarray_plugin.py:131: FutureWarning: In a future version, xarray will not decode timedelta values based on the presence of a timedelta-like units attribute by default. Instead it will rely on the presence of a timedelta64 dtype attribute, which is now xarray's default way of encoding timedelta64 values. To continue decoding timedeltas based on the presence of a timedelta-like units attribute, users will need to explicitly opt-in by passing True or CFTimedeltaCoder(decode_via_units=True) to decode_timedelta. To silence this warning, set decode_timedelta to True, False, or a 'CFTimedeltaCoder' instance.\n",
      "  vars, attrs, coord_names = xr.conventions.decode_cf_variables(\n"
     ]
    },
    {
     "name": "stdout",
     "output_type": "stream",
     "text": [
      "2025-08-18 16:00:00 r2 70.09766\n",
      "71\n",
      "https://dd.weather.gc.ca/20250818/WXO-DD/model_rdps/10km/06/017/20250818T06Z_MSC_RDPS_RelativeHumidity_AGL-2m_RLatLon0.09_PT017H.grib2 20250818T06Z_MSC_RDPS_RelativeHumidity_AGL-2m_RLatLon0.09_PT017H.grib2\n",
      "File downloaded successfully: 20250818T06Z_MSC_RDPS_RelativeHumidity_AGL-2m_RLatLon0.09_PT017H.grib2, moving to /temp/ ...\n",
      "Commence interpolation\n"
     ]
    },
    {
     "name": "stderr",
     "output_type": "stream",
     "text": [
      "c:\\Users\\lbuchart\\AppData\\Local\\anaconda3\\envs\\prom-env\\Lib\\site-packages\\cfgrib\\xarray_plugin.py:131: FutureWarning: In a future version, xarray will not decode timedelta values based on the presence of a timedelta-like units attribute by default. Instead it will rely on the presence of a timedelta64 dtype attribute, which is now xarray's default way of encoding timedelta64 values. To continue decoding timedeltas based on the presence of a timedelta-like units attribute, users will need to explicitly opt-in by passing True or CFTimedeltaCoder(decode_via_units=True) to decode_timedelta. To silence this warning, set decode_timedelta to True, False, or a 'CFTimedeltaCoder' instance.\n",
      "  vars, attrs, coord_names = xr.conventions.decode_cf_variables(\n"
     ]
    },
    {
     "name": "stdout",
     "output_type": "stream",
     "text": [
      "2025-08-18 17:00:00 r2 77.399605\n",
      "76\n",
      "https://dd.weather.gc.ca/20250818/WXO-DD/model_rdps/10km/06/018/20250818T06Z_MSC_RDPS_RelativeHumidity_AGL-2m_RLatLon0.09_PT018H.grib2 20250818T06Z_MSC_RDPS_RelativeHumidity_AGL-2m_RLatLon0.09_PT018H.grib2\n",
      "File downloaded successfully: 20250818T06Z_MSC_RDPS_RelativeHumidity_AGL-2m_RLatLon0.09_PT018H.grib2, moving to /temp/ ...\n",
      "Commence interpolation\n"
     ]
    },
    {
     "name": "stderr",
     "output_type": "stream",
     "text": [
      "c:\\Users\\lbuchart\\AppData\\Local\\anaconda3\\envs\\prom-env\\Lib\\site-packages\\cfgrib\\xarray_plugin.py:131: FutureWarning: In a future version, xarray will not decode timedelta values based on the presence of a timedelta-like units attribute by default. Instead it will rely on the presence of a timedelta64 dtype attribute, which is now xarray's default way of encoding timedelta64 values. To continue decoding timedeltas based on the presence of a timedelta-like units attribute, users will need to explicitly opt-in by passing True or CFTimedeltaCoder(decode_via_units=True) to decode_timedelta. To silence this warning, set decode_timedelta to True, False, or a 'CFTimedeltaCoder' instance.\n",
      "  vars, attrs, coord_names = xr.conventions.decode_cf_variables(\n"
     ]
    },
    {
     "name": "stdout",
     "output_type": "stream",
     "text": [
      "2025-08-18 18:00:00 r2 82.39927\n",
      "81\n",
      "https://dd.weather.gc.ca/20250818/WXO-DD/model_rdps/10km/06/019/20250818T06Z_MSC_RDPS_RelativeHumidity_AGL-2m_RLatLon0.09_PT019H.grib2 20250818T06Z_MSC_RDPS_RelativeHumidity_AGL-2m_RLatLon0.09_PT019H.grib2\n",
      "File downloaded successfully: 20250818T06Z_MSC_RDPS_RelativeHumidity_AGL-2m_RLatLon0.09_PT019H.grib2, moving to /temp/ ...\n",
      "Commence interpolation\n"
     ]
    },
    {
     "name": "stderr",
     "output_type": "stream",
     "text": [
      "c:\\Users\\lbuchart\\AppData\\Local\\anaconda3\\envs\\prom-env\\Lib\\site-packages\\cfgrib\\xarray_plugin.py:131: FutureWarning: In a future version, xarray will not decode timedelta values based on the presence of a timedelta-like units attribute by default. Instead it will rely on the presence of a timedelta64 dtype attribute, which is now xarray's default way of encoding timedelta64 values. To continue decoding timedeltas based on the presence of a timedelta-like units attribute, users will need to explicitly opt-in by passing True or CFTimedeltaCoder(decode_via_units=True) to decode_timedelta. To silence this warning, set decode_timedelta to True, False, or a 'CFTimedeltaCoder' instance.\n",
      "  vars, attrs, coord_names = xr.conventions.decode_cf_variables(\n"
     ]
    },
    {
     "name": "stdout",
     "output_type": "stream",
     "text": [
      "2025-08-18 19:00:00 r2 86.41934\n",
      "86\n",
      "https://dd.weather.gc.ca/20250818/WXO-DD/model_rdps/10km/06/020/20250818T06Z_MSC_RDPS_RelativeHumidity_AGL-2m_RLatLon0.09_PT020H.grib2 20250818T06Z_MSC_RDPS_RelativeHumidity_AGL-2m_RLatLon0.09_PT020H.grib2\n",
      "File downloaded successfully: 20250818T06Z_MSC_RDPS_RelativeHumidity_AGL-2m_RLatLon0.09_PT020H.grib2, moving to /temp/ ...\n",
      "Commence interpolation\n"
     ]
    },
    {
     "name": "stderr",
     "output_type": "stream",
     "text": [
      "c:\\Users\\lbuchart\\AppData\\Local\\anaconda3\\envs\\prom-env\\Lib\\site-packages\\cfgrib\\xarray_plugin.py:131: FutureWarning: In a future version, xarray will not decode timedelta values based on the presence of a timedelta-like units attribute by default. Instead it will rely on the presence of a timedelta64 dtype attribute, which is now xarray's default way of encoding timedelta64 values. To continue decoding timedeltas based on the presence of a timedelta-like units attribute, users will need to explicitly opt-in by passing True or CFTimedeltaCoder(decode_via_units=True) to decode_timedelta. To silence this warning, set decode_timedelta to True, False, or a 'CFTimedeltaCoder' instance.\n",
      "  vars, attrs, coord_names = xr.conventions.decode_cf_variables(\n"
     ]
    },
    {
     "name": "stdout",
     "output_type": "stream",
     "text": [
      "2025-08-18 20:00:00 r2 91.432976\n",
      "91\n",
      "https://dd.weather.gc.ca/20250818/WXO-DD/model_rdps/10km/06/021/20250818T06Z_MSC_RDPS_RelativeHumidity_AGL-2m_RLatLon0.09_PT021H.grib2 20250818T06Z_MSC_RDPS_RelativeHumidity_AGL-2m_RLatLon0.09_PT021H.grib2\n",
      "File downloaded successfully: 20250818T06Z_MSC_RDPS_RelativeHumidity_AGL-2m_RLatLon0.09_PT021H.grib2, moving to /temp/ ...\n",
      "Commence interpolation\n"
     ]
    },
    {
     "name": "stderr",
     "output_type": "stream",
     "text": [
      "c:\\Users\\lbuchart\\AppData\\Local\\anaconda3\\envs\\prom-env\\Lib\\site-packages\\cfgrib\\xarray_plugin.py:131: FutureWarning: In a future version, xarray will not decode timedelta values based on the presence of a timedelta-like units attribute by default. Instead it will rely on the presence of a timedelta64 dtype attribute, which is now xarray's default way of encoding timedelta64 values. To continue decoding timedeltas based on the presence of a timedelta-like units attribute, users will need to explicitly opt-in by passing True or CFTimedeltaCoder(decode_via_units=True) to decode_timedelta. To silence this warning, set decode_timedelta to True, False, or a 'CFTimedeltaCoder' instance.\n",
      "  vars, attrs, coord_names = xr.conventions.decode_cf_variables(\n"
     ]
    },
    {
     "name": "stdout",
     "output_type": "stream",
     "text": [
      "2025-08-18 21:00:00 r2 95.92015\n",
      "96\n",
      "https://dd.weather.gc.ca/20250818/WXO-DD/model_rdps/10km/06/022/20250818T06Z_MSC_RDPS_RelativeHumidity_AGL-2m_RLatLon0.09_PT022H.grib2 20250818T06Z_MSC_RDPS_RelativeHumidity_AGL-2m_RLatLon0.09_PT022H.grib2\n",
      "File downloaded successfully: 20250818T06Z_MSC_RDPS_RelativeHumidity_AGL-2m_RLatLon0.09_PT022H.grib2, moving to /temp/ ...\n",
      "Commence interpolation\n"
     ]
    },
    {
     "name": "stderr",
     "output_type": "stream",
     "text": [
      "c:\\Users\\lbuchart\\AppData\\Local\\anaconda3\\envs\\prom-env\\Lib\\site-packages\\cfgrib\\xarray_plugin.py:131: FutureWarning: In a future version, xarray will not decode timedelta values based on the presence of a timedelta-like units attribute by default. Instead it will rely on the presence of a timedelta64 dtype attribute, which is now xarray's default way of encoding timedelta64 values. To continue decoding timedeltas based on the presence of a timedelta-like units attribute, users will need to explicitly opt-in by passing True or CFTimedeltaCoder(decode_via_units=True) to decode_timedelta. To silence this warning, set decode_timedelta to True, False, or a 'CFTimedeltaCoder' instance.\n",
      "  vars, attrs, coord_names = xr.conventions.decode_cf_variables(\n"
     ]
    },
    {
     "name": "stdout",
     "output_type": "stream",
     "text": [
      "2025-08-18 22:00:00 r2 97.56166\n",
      "101\n",
      "https://dd.weather.gc.ca/20250818/WXO-DD/model_rdps/10km/06/023/20250818T06Z_MSC_RDPS_RelativeHumidity_AGL-2m_RLatLon0.09_PT023H.grib2 20250818T06Z_MSC_RDPS_RelativeHumidity_AGL-2m_RLatLon0.09_PT023H.grib2\n",
      "File downloaded successfully: 20250818T06Z_MSC_RDPS_RelativeHumidity_AGL-2m_RLatLon0.09_PT023H.grib2, moving to /temp/ ...\n",
      "Commence interpolation\n"
     ]
    },
    {
     "name": "stderr",
     "output_type": "stream",
     "text": [
      "c:\\Users\\lbuchart\\AppData\\Local\\anaconda3\\envs\\prom-env\\Lib\\site-packages\\cfgrib\\xarray_plugin.py:131: FutureWarning: In a future version, xarray will not decode timedelta values based on the presence of a timedelta-like units attribute by default. Instead it will rely on the presence of a timedelta64 dtype attribute, which is now xarray's default way of encoding timedelta64 values. To continue decoding timedeltas based on the presence of a timedelta-like units attribute, users will need to explicitly opt-in by passing True or CFTimedeltaCoder(decode_via_units=True) to decode_timedelta. To silence this warning, set decode_timedelta to True, False, or a 'CFTimedeltaCoder' instance.\n",
      "  vars, attrs, coord_names = xr.conventions.decode_cf_variables(\n"
     ]
    },
    {
     "name": "stdout",
     "output_type": "stream",
     "text": [
      "2025-08-18 23:00:00 r2 98.3521\n",
      "106\n",
      "https://dd.weather.gc.ca/20250818/WXO-DD/model_rdps/10km/06/024/20250818T06Z_MSC_RDPS_RelativeHumidity_AGL-2m_RLatLon0.09_PT024H.grib2 20250818T06Z_MSC_RDPS_RelativeHumidity_AGL-2m_RLatLon0.09_PT024H.grib2\n",
      "File downloaded successfully: 20250818T06Z_MSC_RDPS_RelativeHumidity_AGL-2m_RLatLon0.09_PT024H.grib2, moving to /temp/ ...\n",
      "Commence interpolation\n"
     ]
    },
    {
     "name": "stderr",
     "output_type": "stream",
     "text": [
      "c:\\Users\\lbuchart\\AppData\\Local\\anaconda3\\envs\\prom-env\\Lib\\site-packages\\cfgrib\\xarray_plugin.py:131: FutureWarning: In a future version, xarray will not decode timedelta values based on the presence of a timedelta-like units attribute by default. Instead it will rely on the presence of a timedelta64 dtype attribute, which is now xarray's default way of encoding timedelta64 values. To continue decoding timedeltas based on the presence of a timedelta-like units attribute, users will need to explicitly opt-in by passing True or CFTimedeltaCoder(decode_via_units=True) to decode_timedelta. To silence this warning, set decode_timedelta to True, False, or a 'CFTimedeltaCoder' instance.\n",
      "  vars, attrs, coord_names = xr.conventions.decode_cf_variables(\n"
     ]
    },
    {
     "name": "stdout",
     "output_type": "stream",
     "text": [
      "2025-08-19 00:00:00 r2 98.674225\n",
      "111\n",
      "https://dd.weather.gc.ca/20250818/WXO-DD/model_rdps/10km/06/025/20250818T06Z_MSC_RDPS_RelativeHumidity_AGL-2m_RLatLon0.09_PT025H.grib2 20250818T06Z_MSC_RDPS_RelativeHumidity_AGL-2m_RLatLon0.09_PT025H.grib2\n",
      "File downloaded successfully: 20250818T06Z_MSC_RDPS_RelativeHumidity_AGL-2m_RLatLon0.09_PT025H.grib2, moving to /temp/ ...\n",
      "Commence interpolation\n"
     ]
    },
    {
     "name": "stderr",
     "output_type": "stream",
     "text": [
      "c:\\Users\\lbuchart\\AppData\\Local\\anaconda3\\envs\\prom-env\\Lib\\site-packages\\cfgrib\\xarray_plugin.py:131: FutureWarning: In a future version, xarray will not decode timedelta values based on the presence of a timedelta-like units attribute by default. Instead it will rely on the presence of a timedelta64 dtype attribute, which is now xarray's default way of encoding timedelta64 values. To continue decoding timedeltas based on the presence of a timedelta-like units attribute, users will need to explicitly opt-in by passing True or CFTimedeltaCoder(decode_via_units=True) to decode_timedelta. To silence this warning, set decode_timedelta to True, False, or a 'CFTimedeltaCoder' instance.\n",
      "  vars, attrs, coord_names = xr.conventions.decode_cf_variables(\n"
     ]
    },
    {
     "name": "stdout",
     "output_type": "stream",
     "text": [
      "2025-08-19 01:00:00 r2 99.1933\n",
      "116\n",
      "https://dd.weather.gc.ca/20250818/WXO-DD/model_rdps/10km/06/026/20250818T06Z_MSC_RDPS_RelativeHumidity_AGL-2m_RLatLon0.09_PT026H.grib2 20250818T06Z_MSC_RDPS_RelativeHumidity_AGL-2m_RLatLon0.09_PT026H.grib2\n",
      "File downloaded successfully: 20250818T06Z_MSC_RDPS_RelativeHumidity_AGL-2m_RLatLon0.09_PT026H.grib2, moving to /temp/ ...\n",
      "Commence interpolation\n"
     ]
    },
    {
     "name": "stderr",
     "output_type": "stream",
     "text": [
      "c:\\Users\\lbuchart\\AppData\\Local\\anaconda3\\envs\\prom-env\\Lib\\site-packages\\cfgrib\\xarray_plugin.py:131: FutureWarning: In a future version, xarray will not decode timedelta values based on the presence of a timedelta-like units attribute by default. Instead it will rely on the presence of a timedelta64 dtype attribute, which is now xarray's default way of encoding timedelta64 values. To continue decoding timedeltas based on the presence of a timedelta-like units attribute, users will need to explicitly opt-in by passing True or CFTimedeltaCoder(decode_via_units=True) to decode_timedelta. To silence this warning, set decode_timedelta to True, False, or a 'CFTimedeltaCoder' instance.\n",
      "  vars, attrs, coord_names = xr.conventions.decode_cf_variables(\n"
     ]
    },
    {
     "name": "stdout",
     "output_type": "stream",
     "text": [
      "2025-08-19 02:00:00 r2 99.55774\n",
      "121\n",
      "https://dd.weather.gc.ca/20250818/WXO-DD/model_rdps/10km/06/027/20250818T06Z_MSC_RDPS_RelativeHumidity_AGL-2m_RLatLon0.09_PT027H.grib2 20250818T06Z_MSC_RDPS_RelativeHumidity_AGL-2m_RLatLon0.09_PT027H.grib2\n",
      "File downloaded successfully: 20250818T06Z_MSC_RDPS_RelativeHumidity_AGL-2m_RLatLon0.09_PT027H.grib2, moving to /temp/ ...\n",
      "Commence interpolation\n"
     ]
    },
    {
     "name": "stderr",
     "output_type": "stream",
     "text": [
      "c:\\Users\\lbuchart\\AppData\\Local\\anaconda3\\envs\\prom-env\\Lib\\site-packages\\cfgrib\\xarray_plugin.py:131: FutureWarning: In a future version, xarray will not decode timedelta values based on the presence of a timedelta-like units attribute by default. Instead it will rely on the presence of a timedelta64 dtype attribute, which is now xarray's default way of encoding timedelta64 values. To continue decoding timedeltas based on the presence of a timedelta-like units attribute, users will need to explicitly opt-in by passing True or CFTimedeltaCoder(decode_via_units=True) to decode_timedelta. To silence this warning, set decode_timedelta to True, False, or a 'CFTimedeltaCoder' instance.\n",
      "  vars, attrs, coord_names = xr.conventions.decode_cf_variables(\n"
     ]
    },
    {
     "name": "stdout",
     "output_type": "stream",
     "text": [
      "2025-08-19 03:00:00 r2 99.37578\n",
      "126\n",
      "https://dd.weather.gc.ca/20250818/WXO-DD/model_rdps/10km/06/028/20250818T06Z_MSC_RDPS_RelativeHumidity_AGL-2m_RLatLon0.09_PT028H.grib2 20250818T06Z_MSC_RDPS_RelativeHumidity_AGL-2m_RLatLon0.09_PT028H.grib2\n",
      "File downloaded successfully: 20250818T06Z_MSC_RDPS_RelativeHumidity_AGL-2m_RLatLon0.09_PT028H.grib2, moving to /temp/ ...\n",
      "Commence interpolation\n"
     ]
    },
    {
     "name": "stderr",
     "output_type": "stream",
     "text": [
      "c:\\Users\\lbuchart\\AppData\\Local\\anaconda3\\envs\\prom-env\\Lib\\site-packages\\cfgrib\\xarray_plugin.py:131: FutureWarning: In a future version, xarray will not decode timedelta values based on the presence of a timedelta-like units attribute by default. Instead it will rely on the presence of a timedelta64 dtype attribute, which is now xarray's default way of encoding timedelta64 values. To continue decoding timedeltas based on the presence of a timedelta-like units attribute, users will need to explicitly opt-in by passing True or CFTimedeltaCoder(decode_via_units=True) to decode_timedelta. To silence this warning, set decode_timedelta to True, False, or a 'CFTimedeltaCoder' instance.\n",
      "  vars, attrs, coord_names = xr.conventions.decode_cf_variables(\n"
     ]
    },
    {
     "name": "stdout",
     "output_type": "stream",
     "text": [
      "2025-08-19 04:00:00 r2 99.15713\n",
      "131\n",
      "https://dd.weather.gc.ca/20250818/WXO-DD/model_rdps/10km/06/029/20250818T06Z_MSC_RDPS_RelativeHumidity_AGL-2m_RLatLon0.09_PT029H.grib2 20250818T06Z_MSC_RDPS_RelativeHumidity_AGL-2m_RLatLon0.09_PT029H.grib2\n",
      "File downloaded successfully: 20250818T06Z_MSC_RDPS_RelativeHumidity_AGL-2m_RLatLon0.09_PT029H.grib2, moving to /temp/ ...\n",
      "Commence interpolation\n"
     ]
    },
    {
     "name": "stderr",
     "output_type": "stream",
     "text": [
      "c:\\Users\\lbuchart\\AppData\\Local\\anaconda3\\envs\\prom-env\\Lib\\site-packages\\cfgrib\\xarray_plugin.py:131: FutureWarning: In a future version, xarray will not decode timedelta values based on the presence of a timedelta-like units attribute by default. Instead it will rely on the presence of a timedelta64 dtype attribute, which is now xarray's default way of encoding timedelta64 values. To continue decoding timedeltas based on the presence of a timedelta-like units attribute, users will need to explicitly opt-in by passing True or CFTimedeltaCoder(decode_via_units=True) to decode_timedelta. To silence this warning, set decode_timedelta to True, False, or a 'CFTimedeltaCoder' instance.\n",
      "  vars, attrs, coord_names = xr.conventions.decode_cf_variables(\n"
     ]
    },
    {
     "name": "stdout",
     "output_type": "stream",
     "text": [
      "2025-08-19 05:00:00 r2 97.97904\n",
      "136\n",
      "https://dd.weather.gc.ca/20250818/WXO-DD/model_rdps/10km/06/030/20250818T06Z_MSC_RDPS_RelativeHumidity_AGL-2m_RLatLon0.09_PT030H.grib2 20250818T06Z_MSC_RDPS_RelativeHumidity_AGL-2m_RLatLon0.09_PT030H.grib2\n",
      "File downloaded successfully: 20250818T06Z_MSC_RDPS_RelativeHumidity_AGL-2m_RLatLon0.09_PT030H.grib2, moving to /temp/ ...\n",
      "Commence interpolation\n"
     ]
    },
    {
     "name": "stderr",
     "output_type": "stream",
     "text": [
      "c:\\Users\\lbuchart\\AppData\\Local\\anaconda3\\envs\\prom-env\\Lib\\site-packages\\cfgrib\\xarray_plugin.py:131: FutureWarning: In a future version, xarray will not decode timedelta values based on the presence of a timedelta-like units attribute by default. Instead it will rely on the presence of a timedelta64 dtype attribute, which is now xarray's default way of encoding timedelta64 values. To continue decoding timedeltas based on the presence of a timedelta-like units attribute, users will need to explicitly opt-in by passing True or CFTimedeltaCoder(decode_via_units=True) to decode_timedelta. To silence this warning, set decode_timedelta to True, False, or a 'CFTimedeltaCoder' instance.\n",
      "  vars, attrs, coord_names = xr.conventions.decode_cf_variables(\n"
     ]
    },
    {
     "name": "stdout",
     "output_type": "stream",
     "text": [
      "2025-08-19 06:00:00 r2 96.541534\n",
      "141\n",
      "https://dd.weather.gc.ca/20250818/WXO-DD/model_rdps/10km/06/031/20250818T06Z_MSC_RDPS_RelativeHumidity_AGL-2m_RLatLon0.09_PT031H.grib2 20250818T06Z_MSC_RDPS_RelativeHumidity_AGL-2m_RLatLon0.09_PT031H.grib2\n",
      "File downloaded successfully: 20250818T06Z_MSC_RDPS_RelativeHumidity_AGL-2m_RLatLon0.09_PT031H.grib2, moving to /temp/ ...\n",
      "Commence interpolation\n"
     ]
    },
    {
     "name": "stderr",
     "output_type": "stream",
     "text": [
      "c:\\Users\\lbuchart\\AppData\\Local\\anaconda3\\envs\\prom-env\\Lib\\site-packages\\cfgrib\\xarray_plugin.py:131: FutureWarning: In a future version, xarray will not decode timedelta values based on the presence of a timedelta-like units attribute by default. Instead it will rely on the presence of a timedelta64 dtype attribute, which is now xarray's default way of encoding timedelta64 values. To continue decoding timedeltas based on the presence of a timedelta-like units attribute, users will need to explicitly opt-in by passing True or CFTimedeltaCoder(decode_via_units=True) to decode_timedelta. To silence this warning, set decode_timedelta to True, False, or a 'CFTimedeltaCoder' instance.\n",
      "  vars, attrs, coord_names = xr.conventions.decode_cf_variables(\n"
     ]
    },
    {
     "name": "stdout",
     "output_type": "stream",
     "text": [
      "2025-08-19 07:00:00 r2 95.86369\n",
      "146\n",
      "https://dd.weather.gc.ca/20250818/WXO-DD/model_rdps/10km/06/032/20250818T06Z_MSC_RDPS_RelativeHumidity_AGL-2m_RLatLon0.09_PT032H.grib2 20250818T06Z_MSC_RDPS_RelativeHumidity_AGL-2m_RLatLon0.09_PT032H.grib2\n",
      "File downloaded successfully: 20250818T06Z_MSC_RDPS_RelativeHumidity_AGL-2m_RLatLon0.09_PT032H.grib2, moving to /temp/ ...\n",
      "Commence interpolation\n"
     ]
    },
    {
     "name": "stderr",
     "output_type": "stream",
     "text": [
      "c:\\Users\\lbuchart\\AppData\\Local\\anaconda3\\envs\\prom-env\\Lib\\site-packages\\cfgrib\\xarray_plugin.py:131: FutureWarning: In a future version, xarray will not decode timedelta values based on the presence of a timedelta-like units attribute by default. Instead it will rely on the presence of a timedelta64 dtype attribute, which is now xarray's default way of encoding timedelta64 values. To continue decoding timedeltas based on the presence of a timedelta-like units attribute, users will need to explicitly opt-in by passing True or CFTimedeltaCoder(decode_via_units=True) to decode_timedelta. To silence this warning, set decode_timedelta to True, False, or a 'CFTimedeltaCoder' instance.\n",
      "  vars, attrs, coord_names = xr.conventions.decode_cf_variables(\n"
     ]
    },
    {
     "name": "stdout",
     "output_type": "stream",
     "text": [
      "2025-08-19 08:00:00 r2 96.94583\n",
      "151\n",
      "https://dd.weather.gc.ca/20250818/WXO-DD/model_rdps/10km/06/033/20250818T06Z_MSC_RDPS_RelativeHumidity_AGL-2m_RLatLon0.09_PT033H.grib2 20250818T06Z_MSC_RDPS_RelativeHumidity_AGL-2m_RLatLon0.09_PT033H.grib2\n",
      "File downloaded successfully: 20250818T06Z_MSC_RDPS_RelativeHumidity_AGL-2m_RLatLon0.09_PT033H.grib2, moving to /temp/ ...\n",
      "Commence interpolation\n"
     ]
    },
    {
     "name": "stderr",
     "output_type": "stream",
     "text": [
      "c:\\Users\\lbuchart\\AppData\\Local\\anaconda3\\envs\\prom-env\\Lib\\site-packages\\cfgrib\\xarray_plugin.py:131: FutureWarning: In a future version, xarray will not decode timedelta values based on the presence of a timedelta-like units attribute by default. Instead it will rely on the presence of a timedelta64 dtype attribute, which is now xarray's default way of encoding timedelta64 values. To continue decoding timedeltas based on the presence of a timedelta-like units attribute, users will need to explicitly opt-in by passing True or CFTimedeltaCoder(decode_via_units=True) to decode_timedelta. To silence this warning, set decode_timedelta to True, False, or a 'CFTimedeltaCoder' instance.\n",
      "  vars, attrs, coord_names = xr.conventions.decode_cf_variables(\n"
     ]
    },
    {
     "name": "stdout",
     "output_type": "stream",
     "text": [
      "2025-08-19 09:00:00 r2 96.396255\n",
      "156\n",
      "https://dd.weather.gc.ca/20250818/WXO-DD/model_rdps/10km/06/034/20250818T06Z_MSC_RDPS_RelativeHumidity_AGL-2m_RLatLon0.09_PT034H.grib2 20250818T06Z_MSC_RDPS_RelativeHumidity_AGL-2m_RLatLon0.09_PT034H.grib2\n",
      "File downloaded successfully: 20250818T06Z_MSC_RDPS_RelativeHumidity_AGL-2m_RLatLon0.09_PT034H.grib2, moving to /temp/ ...\n",
      "Commence interpolation\n"
     ]
    },
    {
     "name": "stderr",
     "output_type": "stream",
     "text": [
      "c:\\Users\\lbuchart\\AppData\\Local\\anaconda3\\envs\\prom-env\\Lib\\site-packages\\cfgrib\\xarray_plugin.py:131: FutureWarning: In a future version, xarray will not decode timedelta values based on the presence of a timedelta-like units attribute by default. Instead it will rely on the presence of a timedelta64 dtype attribute, which is now xarray's default way of encoding timedelta64 values. To continue decoding timedeltas based on the presence of a timedelta-like units attribute, users will need to explicitly opt-in by passing True or CFTimedeltaCoder(decode_via_units=True) to decode_timedelta. To silence this warning, set decode_timedelta to True, False, or a 'CFTimedeltaCoder' instance.\n",
      "  vars, attrs, coord_names = xr.conventions.decode_cf_variables(\n"
     ]
    },
    {
     "name": "stdout",
     "output_type": "stream",
     "text": [
      "2025-08-19 10:00:00 r2 92.753\n",
      "161\n",
      "https://dd.weather.gc.ca/20250818/WXO-DD/model_rdps/10km/06/035/20250818T06Z_MSC_RDPS_RelativeHumidity_AGL-2m_RLatLon0.09_PT035H.grib2 20250818T06Z_MSC_RDPS_RelativeHumidity_AGL-2m_RLatLon0.09_PT035H.grib2\n",
      "File downloaded successfully: 20250818T06Z_MSC_RDPS_RelativeHumidity_AGL-2m_RLatLon0.09_PT035H.grib2, moving to /temp/ ...\n",
      "Commence interpolation\n"
     ]
    },
    {
     "name": "stderr",
     "output_type": "stream",
     "text": [
      "c:\\Users\\lbuchart\\AppData\\Local\\anaconda3\\envs\\prom-env\\Lib\\site-packages\\cfgrib\\xarray_plugin.py:131: FutureWarning: In a future version, xarray will not decode timedelta values based on the presence of a timedelta-like units attribute by default. Instead it will rely on the presence of a timedelta64 dtype attribute, which is now xarray's default way of encoding timedelta64 values. To continue decoding timedeltas based on the presence of a timedelta-like units attribute, users will need to explicitly opt-in by passing True or CFTimedeltaCoder(decode_via_units=True) to decode_timedelta. To silence this warning, set decode_timedelta to True, False, or a 'CFTimedeltaCoder' instance.\n",
      "  vars, attrs, coord_names = xr.conventions.decode_cf_variables(\n"
     ]
    },
    {
     "name": "stdout",
     "output_type": "stream",
     "text": [
      "2025-08-19 11:00:00 r2 88.126305\n",
      "166\n",
      "https://dd.weather.gc.ca/20250818/WXO-DD/model_rdps/10km/06/036/20250818T06Z_MSC_RDPS_RelativeHumidity_AGL-2m_RLatLon0.09_PT036H.grib2 20250818T06Z_MSC_RDPS_RelativeHumidity_AGL-2m_RLatLon0.09_PT036H.grib2\n",
      "File downloaded successfully: 20250818T06Z_MSC_RDPS_RelativeHumidity_AGL-2m_RLatLon0.09_PT036H.grib2, moving to /temp/ ...\n",
      "Commence interpolation\n"
     ]
    },
    {
     "name": "stderr",
     "output_type": "stream",
     "text": [
      "c:\\Users\\lbuchart\\AppData\\Local\\anaconda3\\envs\\prom-env\\Lib\\site-packages\\cfgrib\\xarray_plugin.py:131: FutureWarning: In a future version, xarray will not decode timedelta values based on the presence of a timedelta-like units attribute by default. Instead it will rely on the presence of a timedelta64 dtype attribute, which is now xarray's default way of encoding timedelta64 values. To continue decoding timedeltas based on the presence of a timedelta-like units attribute, users will need to explicitly opt-in by passing True or CFTimedeltaCoder(decode_via_units=True) to decode_timedelta. To silence this warning, set decode_timedelta to True, False, or a 'CFTimedeltaCoder' instance.\n",
      "  vars, attrs, coord_names = xr.conventions.decode_cf_variables(\n"
     ]
    },
    {
     "name": "stdout",
     "output_type": "stream",
     "text": [
      "2025-08-19 12:00:00 r2 85.66498\n",
      "171\n",
      "https://dd.weather.gc.ca/20250818/WXO-DD/model_rdps/10km/06/037/20250818T06Z_MSC_RDPS_RelativeHumidity_AGL-2m_RLatLon0.09_PT037H.grib2 20250818T06Z_MSC_RDPS_RelativeHumidity_AGL-2m_RLatLon0.09_PT037H.grib2\n",
      "File downloaded successfully: 20250818T06Z_MSC_RDPS_RelativeHumidity_AGL-2m_RLatLon0.09_PT037H.grib2, moving to /temp/ ...\n",
      "Commence interpolation\n"
     ]
    },
    {
     "name": "stderr",
     "output_type": "stream",
     "text": [
      "c:\\Users\\lbuchart\\AppData\\Local\\anaconda3\\envs\\prom-env\\Lib\\site-packages\\cfgrib\\xarray_plugin.py:131: FutureWarning: In a future version, xarray will not decode timedelta values based on the presence of a timedelta-like units attribute by default. Instead it will rely on the presence of a timedelta64 dtype attribute, which is now xarray's default way of encoding timedelta64 values. To continue decoding timedeltas based on the presence of a timedelta-like units attribute, users will need to explicitly opt-in by passing True or CFTimedeltaCoder(decode_via_units=True) to decode_timedelta. To silence this warning, set decode_timedelta to True, False, or a 'CFTimedeltaCoder' instance.\n",
      "  vars, attrs, coord_names = xr.conventions.decode_cf_variables(\n"
     ]
    },
    {
     "name": "stdout",
     "output_type": "stream",
     "text": [
      "2025-08-19 13:00:00 r2 85.349655\n",
      "176\n",
      "https://dd.weather.gc.ca/20250818/WXO-DD/model_rdps/10km/06/038/20250818T06Z_MSC_RDPS_RelativeHumidity_AGL-2m_RLatLon0.09_PT038H.grib2 20250818T06Z_MSC_RDPS_RelativeHumidity_AGL-2m_RLatLon0.09_PT038H.grib2\n",
      "File downloaded successfully: 20250818T06Z_MSC_RDPS_RelativeHumidity_AGL-2m_RLatLon0.09_PT038H.grib2, moving to /temp/ ...\n",
      "Commence interpolation\n"
     ]
    },
    {
     "name": "stderr",
     "output_type": "stream",
     "text": [
      "c:\\Users\\lbuchart\\AppData\\Local\\anaconda3\\envs\\prom-env\\Lib\\site-packages\\cfgrib\\xarray_plugin.py:131: FutureWarning: In a future version, xarray will not decode timedelta values based on the presence of a timedelta-like units attribute by default. Instead it will rely on the presence of a timedelta64 dtype attribute, which is now xarray's default way of encoding timedelta64 values. To continue decoding timedeltas based on the presence of a timedelta-like units attribute, users will need to explicitly opt-in by passing True or CFTimedeltaCoder(decode_via_units=True) to decode_timedelta. To silence this warning, set decode_timedelta to True, False, or a 'CFTimedeltaCoder' instance.\n",
      "  vars, attrs, coord_names = xr.conventions.decode_cf_variables(\n"
     ]
    },
    {
     "name": "stdout",
     "output_type": "stream",
     "text": [
      "2025-08-19 14:00:00 r2 86.23312\n",
      "181\n",
      "https://dd.weather.gc.ca/20250818/WXO-DD/model_rdps/10km/06/039/20250818T06Z_MSC_RDPS_RelativeHumidity_AGL-2m_RLatLon0.09_PT039H.grib2 20250818T06Z_MSC_RDPS_RelativeHumidity_AGL-2m_RLatLon0.09_PT039H.grib2\n",
      "File downloaded successfully: 20250818T06Z_MSC_RDPS_RelativeHumidity_AGL-2m_RLatLon0.09_PT039H.grib2, moving to /temp/ ...\n",
      "Commence interpolation\n"
     ]
    },
    {
     "name": "stderr",
     "output_type": "stream",
     "text": [
      "c:\\Users\\lbuchart\\AppData\\Local\\anaconda3\\envs\\prom-env\\Lib\\site-packages\\cfgrib\\xarray_plugin.py:131: FutureWarning: In a future version, xarray will not decode timedelta values based on the presence of a timedelta-like units attribute by default. Instead it will rely on the presence of a timedelta64 dtype attribute, which is now xarray's default way of encoding timedelta64 values. To continue decoding timedeltas based on the presence of a timedelta-like units attribute, users will need to explicitly opt-in by passing True or CFTimedeltaCoder(decode_via_units=True) to decode_timedelta. To silence this warning, set decode_timedelta to True, False, or a 'CFTimedeltaCoder' instance.\n",
      "  vars, attrs, coord_names = xr.conventions.decode_cf_variables(\n"
     ]
    },
    {
     "name": "stdout",
     "output_type": "stream",
     "text": [
      "2025-08-19 15:00:00 r2 89.37876\n",
      "186\n",
      "https://dd.weather.gc.ca/20250818/WXO-DD/model_rdps/10km/06/040/20250818T06Z_MSC_RDPS_RelativeHumidity_AGL-2m_RLatLon0.09_PT040H.grib2 20250818T06Z_MSC_RDPS_RelativeHumidity_AGL-2m_RLatLon0.09_PT040H.grib2\n",
      "File downloaded successfully: 20250818T06Z_MSC_RDPS_RelativeHumidity_AGL-2m_RLatLon0.09_PT040H.grib2, moving to /temp/ ...\n",
      "Commence interpolation\n"
     ]
    },
    {
     "name": "stderr",
     "output_type": "stream",
     "text": [
      "c:\\Users\\lbuchart\\AppData\\Local\\anaconda3\\envs\\prom-env\\Lib\\site-packages\\cfgrib\\xarray_plugin.py:131: FutureWarning: In a future version, xarray will not decode timedelta values based on the presence of a timedelta-like units attribute by default. Instead it will rely on the presence of a timedelta64 dtype attribute, which is now xarray's default way of encoding timedelta64 values. To continue decoding timedeltas based on the presence of a timedelta-like units attribute, users will need to explicitly opt-in by passing True or CFTimedeltaCoder(decode_via_units=True) to decode_timedelta. To silence this warning, set decode_timedelta to True, False, or a 'CFTimedeltaCoder' instance.\n",
      "  vars, attrs, coord_names = xr.conventions.decode_cf_variables(\n"
     ]
    },
    {
     "name": "stdout",
     "output_type": "stream",
     "text": [
      "2025-08-19 16:00:00 r2 92.04839\n",
      "191\n",
      "https://dd.weather.gc.ca/20250818/WXO-DD/model_rdps/10km/06/041/20250818T06Z_MSC_RDPS_RelativeHumidity_AGL-2m_RLatLon0.09_PT041H.grib2 20250818T06Z_MSC_RDPS_RelativeHumidity_AGL-2m_RLatLon0.09_PT041H.grib2\n",
      "File downloaded successfully: 20250818T06Z_MSC_RDPS_RelativeHumidity_AGL-2m_RLatLon0.09_PT041H.grib2, moving to /temp/ ...\n",
      "Commence interpolation\n"
     ]
    },
    {
     "name": "stderr",
     "output_type": "stream",
     "text": [
      "c:\\Users\\lbuchart\\AppData\\Local\\anaconda3\\envs\\prom-env\\Lib\\site-packages\\cfgrib\\xarray_plugin.py:131: FutureWarning: In a future version, xarray will not decode timedelta values based on the presence of a timedelta-like units attribute by default. Instead it will rely on the presence of a timedelta64 dtype attribute, which is now xarray's default way of encoding timedelta64 values. To continue decoding timedeltas based on the presence of a timedelta-like units attribute, users will need to explicitly opt-in by passing True or CFTimedeltaCoder(decode_via_units=True) to decode_timedelta. To silence this warning, set decode_timedelta to True, False, or a 'CFTimedeltaCoder' instance.\n",
      "  vars, attrs, coord_names = xr.conventions.decode_cf_variables(\n"
     ]
    },
    {
     "name": "stdout",
     "output_type": "stream",
     "text": [
      "2025-08-19 17:00:00 r2 93.430374\n",
      "196\n",
      "https://dd.weather.gc.ca/20250818/WXO-DD/model_rdps/10km/06/042/20250818T06Z_MSC_RDPS_RelativeHumidity_AGL-2m_RLatLon0.09_PT042H.grib2 20250818T06Z_MSC_RDPS_RelativeHumidity_AGL-2m_RLatLon0.09_PT042H.grib2\n",
      "File downloaded successfully: 20250818T06Z_MSC_RDPS_RelativeHumidity_AGL-2m_RLatLon0.09_PT042H.grib2, moving to /temp/ ...\n",
      "Commence interpolation\n"
     ]
    },
    {
     "name": "stderr",
     "output_type": "stream",
     "text": [
      "c:\\Users\\lbuchart\\AppData\\Local\\anaconda3\\envs\\prom-env\\Lib\\site-packages\\cfgrib\\xarray_plugin.py:131: FutureWarning: In a future version, xarray will not decode timedelta values based on the presence of a timedelta-like units attribute by default. Instead it will rely on the presence of a timedelta64 dtype attribute, which is now xarray's default way of encoding timedelta64 values. To continue decoding timedeltas based on the presence of a timedelta-like units attribute, users will need to explicitly opt-in by passing True or CFTimedeltaCoder(decode_via_units=True) to decode_timedelta. To silence this warning, set decode_timedelta to True, False, or a 'CFTimedeltaCoder' instance.\n",
      "  vars, attrs, coord_names = xr.conventions.decode_cf_variables(\n"
     ]
    },
    {
     "name": "stdout",
     "output_type": "stream",
     "text": [
      "2025-08-19 18:00:00 r2 94.23541\n",
      "201\n",
      "https://dd.weather.gc.ca/20250818/WXO-DD/model_rdps/10km/06/043/20250818T06Z_MSC_RDPS_RelativeHumidity_AGL-2m_RLatLon0.09_PT043H.grib2 20250818T06Z_MSC_RDPS_RelativeHumidity_AGL-2m_RLatLon0.09_PT043H.grib2\n",
      "File downloaded successfully: 20250818T06Z_MSC_RDPS_RelativeHumidity_AGL-2m_RLatLon0.09_PT043H.grib2, moving to /temp/ ...\n",
      "Commence interpolation\n"
     ]
    },
    {
     "name": "stderr",
     "output_type": "stream",
     "text": [
      "c:\\Users\\lbuchart\\AppData\\Local\\anaconda3\\envs\\prom-env\\Lib\\site-packages\\cfgrib\\xarray_plugin.py:131: FutureWarning: In a future version, xarray will not decode timedelta values based on the presence of a timedelta-like units attribute by default. Instead it will rely on the presence of a timedelta64 dtype attribute, which is now xarray's default way of encoding timedelta64 values. To continue decoding timedeltas based on the presence of a timedelta-like units attribute, users will need to explicitly opt-in by passing True or CFTimedeltaCoder(decode_via_units=True) to decode_timedelta. To silence this warning, set decode_timedelta to True, False, or a 'CFTimedeltaCoder' instance.\n",
      "  vars, attrs, coord_names = xr.conventions.decode_cf_variables(\n"
     ]
    },
    {
     "name": "stdout",
     "output_type": "stream",
     "text": [
      "2025-08-19 19:00:00 r2 96.0369\n",
      "206\n",
      "https://dd.weather.gc.ca/20250818/WXO-DD/model_rdps/10km/06/044/20250818T06Z_MSC_RDPS_RelativeHumidity_AGL-2m_RLatLon0.09_PT044H.grib2 20250818T06Z_MSC_RDPS_RelativeHumidity_AGL-2m_RLatLon0.09_PT044H.grib2\n",
      "File downloaded successfully: 20250818T06Z_MSC_RDPS_RelativeHumidity_AGL-2m_RLatLon0.09_PT044H.grib2, moving to /temp/ ...\n",
      "Commence interpolation\n"
     ]
    },
    {
     "name": "stderr",
     "output_type": "stream",
     "text": [
      "c:\\Users\\lbuchart\\AppData\\Local\\anaconda3\\envs\\prom-env\\Lib\\site-packages\\cfgrib\\xarray_plugin.py:131: FutureWarning: In a future version, xarray will not decode timedelta values based on the presence of a timedelta-like units attribute by default. Instead it will rely on the presence of a timedelta64 dtype attribute, which is now xarray's default way of encoding timedelta64 values. To continue decoding timedeltas based on the presence of a timedelta-like units attribute, users will need to explicitly opt-in by passing True or CFTimedeltaCoder(decode_via_units=True) to decode_timedelta. To silence this warning, set decode_timedelta to True, False, or a 'CFTimedeltaCoder' instance.\n",
      "  vars, attrs, coord_names = xr.conventions.decode_cf_variables(\n"
     ]
    },
    {
     "name": "stdout",
     "output_type": "stream",
     "text": [
      "2025-08-19 20:00:00 r2 95.935776\n",
      "211\n",
      "https://dd.weather.gc.ca/20250818/WXO-DD/model_rdps/10km/06/045/20250818T06Z_MSC_RDPS_RelativeHumidity_AGL-2m_RLatLon0.09_PT045H.grib2 20250818T06Z_MSC_RDPS_RelativeHumidity_AGL-2m_RLatLon0.09_PT045H.grib2\n",
      "File downloaded successfully: 20250818T06Z_MSC_RDPS_RelativeHumidity_AGL-2m_RLatLon0.09_PT045H.grib2, moving to /temp/ ...\n",
      "Commence interpolation\n"
     ]
    },
    {
     "name": "stderr",
     "output_type": "stream",
     "text": [
      "c:\\Users\\lbuchart\\AppData\\Local\\anaconda3\\envs\\prom-env\\Lib\\site-packages\\cfgrib\\xarray_plugin.py:131: FutureWarning: In a future version, xarray will not decode timedelta values based on the presence of a timedelta-like units attribute by default. Instead it will rely on the presence of a timedelta64 dtype attribute, which is now xarray's default way of encoding timedelta64 values. To continue decoding timedeltas based on the presence of a timedelta-like units attribute, users will need to explicitly opt-in by passing True or CFTimedeltaCoder(decode_via_units=True) to decode_timedelta. To silence this warning, set decode_timedelta to True, False, or a 'CFTimedeltaCoder' instance.\n",
      "  vars, attrs, coord_names = xr.conventions.decode_cf_variables(\n"
     ]
    },
    {
     "name": "stdout",
     "output_type": "stream",
     "text": [
      "2025-08-19 21:00:00 r2 95.59729\n",
      "216\n",
      "https://dd.weather.gc.ca/20250818/WXO-DD/model_rdps/10km/06/046/20250818T06Z_MSC_RDPS_RelativeHumidity_AGL-2m_RLatLon0.09_PT046H.grib2 20250818T06Z_MSC_RDPS_RelativeHumidity_AGL-2m_RLatLon0.09_PT046H.grib2\n",
      "File downloaded successfully: 20250818T06Z_MSC_RDPS_RelativeHumidity_AGL-2m_RLatLon0.09_PT046H.grib2, moving to /temp/ ...\n",
      "Commence interpolation\n"
     ]
    },
    {
     "name": "stderr",
     "output_type": "stream",
     "text": [
      "c:\\Users\\lbuchart\\AppData\\Local\\anaconda3\\envs\\prom-env\\Lib\\site-packages\\cfgrib\\xarray_plugin.py:131: FutureWarning: In a future version, xarray will not decode timedelta values based on the presence of a timedelta-like units attribute by default. Instead it will rely on the presence of a timedelta64 dtype attribute, which is now xarray's default way of encoding timedelta64 values. To continue decoding timedeltas based on the presence of a timedelta-like units attribute, users will need to explicitly opt-in by passing True or CFTimedeltaCoder(decode_via_units=True) to decode_timedelta. To silence this warning, set decode_timedelta to True, False, or a 'CFTimedeltaCoder' instance.\n",
      "  vars, attrs, coord_names = xr.conventions.decode_cf_variables(\n"
     ]
    },
    {
     "name": "stdout",
     "output_type": "stream",
     "text": [
      "2025-08-19 22:00:00 r2 95.6348\n",
      "221\n",
      "https://dd.weather.gc.ca/20250818/WXO-DD/model_rdps/10km/06/047/20250818T06Z_MSC_RDPS_RelativeHumidity_AGL-2m_RLatLon0.09_PT047H.grib2 20250818T06Z_MSC_RDPS_RelativeHumidity_AGL-2m_RLatLon0.09_PT047H.grib2\n",
      "File downloaded successfully: 20250818T06Z_MSC_RDPS_RelativeHumidity_AGL-2m_RLatLon0.09_PT047H.grib2, moving to /temp/ ...\n",
      "Commence interpolation\n"
     ]
    },
    {
     "name": "stderr",
     "output_type": "stream",
     "text": [
      "c:\\Users\\lbuchart\\AppData\\Local\\anaconda3\\envs\\prom-env\\Lib\\site-packages\\cfgrib\\xarray_plugin.py:131: FutureWarning: In a future version, xarray will not decode timedelta values based on the presence of a timedelta-like units attribute by default. Instead it will rely on the presence of a timedelta64 dtype attribute, which is now xarray's default way of encoding timedelta64 values. To continue decoding timedeltas based on the presence of a timedelta-like units attribute, users will need to explicitly opt-in by passing True or CFTimedeltaCoder(decode_via_units=True) to decode_timedelta. To silence this warning, set decode_timedelta to True, False, or a 'CFTimedeltaCoder' instance.\n",
      "  vars, attrs, coord_names = xr.conventions.decode_cf_variables(\n"
     ]
    },
    {
     "name": "stdout",
     "output_type": "stream",
     "text": [
      "2025-08-19 23:00:00 r2 95.42298\n",
      "226\n",
      "https://dd.weather.gc.ca/20250818/WXO-DD/model_rdps/10km/06/048/20250818T06Z_MSC_RDPS_RelativeHumidity_AGL-2m_RLatLon0.09_PT048H.grib2 20250818T06Z_MSC_RDPS_RelativeHumidity_AGL-2m_RLatLon0.09_PT048H.grib2\n",
      "File downloaded successfully: 20250818T06Z_MSC_RDPS_RelativeHumidity_AGL-2m_RLatLon0.09_PT048H.grib2, moving to /temp/ ...\n",
      "Commence interpolation\n"
     ]
    },
    {
     "name": "stderr",
     "output_type": "stream",
     "text": [
      "c:\\Users\\lbuchart\\AppData\\Local\\anaconda3\\envs\\prom-env\\Lib\\site-packages\\cfgrib\\xarray_plugin.py:131: FutureWarning: In a future version, xarray will not decode timedelta values based on the presence of a timedelta-like units attribute by default. Instead it will rely on the presence of a timedelta64 dtype attribute, which is now xarray's default way of encoding timedelta64 values. To continue decoding timedeltas based on the presence of a timedelta-like units attribute, users will need to explicitly opt-in by passing True or CFTimedeltaCoder(decode_via_units=True) to decode_timedelta. To silence this warning, set decode_timedelta to True, False, or a 'CFTimedeltaCoder' instance.\n",
      "  vars, attrs, coord_names = xr.conventions.decode_cf_variables(\n"
     ]
    },
    {
     "name": "stdout",
     "output_type": "stream",
     "text": [
      "2025-08-20 00:00:00 r2 95.338455\n",
      "231\n",
      "https://dd.weather.gc.ca/20250818/WXO-DD/model_rdps/10km/06/049/20250818T06Z_MSC_RDPS_RelativeHumidity_AGL-2m_RLatLon0.09_PT049H.grib2 20250818T06Z_MSC_RDPS_RelativeHumidity_AGL-2m_RLatLon0.09_PT049H.grib2\n",
      "File downloaded successfully: 20250818T06Z_MSC_RDPS_RelativeHumidity_AGL-2m_RLatLon0.09_PT049H.grib2, moving to /temp/ ...\n",
      "Commence interpolation\n"
     ]
    },
    {
     "name": "stderr",
     "output_type": "stream",
     "text": [
      "c:\\Users\\lbuchart\\AppData\\Local\\anaconda3\\envs\\prom-env\\Lib\\site-packages\\cfgrib\\xarray_plugin.py:131: FutureWarning: In a future version, xarray will not decode timedelta values based on the presence of a timedelta-like units attribute by default. Instead it will rely on the presence of a timedelta64 dtype attribute, which is now xarray's default way of encoding timedelta64 values. To continue decoding timedeltas based on the presence of a timedelta-like units attribute, users will need to explicitly opt-in by passing True or CFTimedeltaCoder(decode_via_units=True) to decode_timedelta. To silence this warning, set decode_timedelta to True, False, or a 'CFTimedeltaCoder' instance.\n",
      "  vars, attrs, coord_names = xr.conventions.decode_cf_variables(\n"
     ]
    },
    {
     "name": "stdout",
     "output_type": "stream",
     "text": [
      "2025-08-20 01:00:00 r2 95.39167\n",
      "236\n",
      "https://dd.weather.gc.ca/20250818/WXO-DD/model_rdps/10km/06/050/20250818T06Z_MSC_RDPS_RelativeHumidity_AGL-2m_RLatLon0.09_PT050H.grib2 20250818T06Z_MSC_RDPS_RelativeHumidity_AGL-2m_RLatLon0.09_PT050H.grib2\n",
      "File downloaded successfully: 20250818T06Z_MSC_RDPS_RelativeHumidity_AGL-2m_RLatLon0.09_PT050H.grib2, moving to /temp/ ...\n",
      "Commence interpolation\n"
     ]
    },
    {
     "name": "stderr",
     "output_type": "stream",
     "text": [
      "c:\\Users\\lbuchart\\AppData\\Local\\anaconda3\\envs\\prom-env\\Lib\\site-packages\\cfgrib\\xarray_plugin.py:131: FutureWarning: In a future version, xarray will not decode timedelta values based on the presence of a timedelta-like units attribute by default. Instead it will rely on the presence of a timedelta64 dtype attribute, which is now xarray's default way of encoding timedelta64 values. To continue decoding timedeltas based on the presence of a timedelta-like units attribute, users will need to explicitly opt-in by passing True or CFTimedeltaCoder(decode_via_units=True) to decode_timedelta. To silence this warning, set decode_timedelta to True, False, or a 'CFTimedeltaCoder' instance.\n",
      "  vars, attrs, coord_names = xr.conventions.decode_cf_variables(\n"
     ]
    },
    {
     "name": "stdout",
     "output_type": "stream",
     "text": [
      "2025-08-20 02:00:00 r2 95.152084\n",
      "3\n",
      "https://dd.weather.gc.ca/20250818/WXO-DD/model_rdps/10km/06/003/20250818T06Z_MSC_RDPS_WindDir_AGL-10m_RLatLon0.09_PT003H.grib2 20250818T06Z_MSC_RDPS_WindDir_AGL-10m_RLatLon0.09_PT003H.grib2\n",
      "File downloaded successfully: 20250818T06Z_MSC_RDPS_WindDir_AGL-10m_RLatLon0.09_PT003H.grib2, moving to /temp/ ...\n",
      "Commence interpolation\n"
     ]
    },
    {
     "name": "stderr",
     "output_type": "stream",
     "text": [
      "c:\\Users\\lbuchart\\AppData\\Local\\anaconda3\\envs\\prom-env\\Lib\\site-packages\\cfgrib\\xarray_plugin.py:131: FutureWarning: In a future version, xarray will not decode timedelta values based on the presence of a timedelta-like units attribute by default. Instead it will rely on the presence of a timedelta64 dtype attribute, which is now xarray's default way of encoding timedelta64 values. To continue decoding timedeltas based on the presence of a timedelta-like units attribute, users will need to explicitly opt-in by passing True or CFTimedeltaCoder(decode_via_units=True) to decode_timedelta. To silence this warning, set decode_timedelta to True, False, or a 'CFTimedeltaCoder' instance.\n",
      "  vars, attrs, coord_names = xr.conventions.decode_cf_variables(\n"
     ]
    },
    {
     "name": "stdout",
     "output_type": "stream",
     "text": [
      "2025-08-18 03:00:00 wdir10 209.1\n",
      "8\n",
      "https://dd.weather.gc.ca/20250818/WXO-DD/model_rdps/10km/06/004/20250818T06Z_MSC_RDPS_WindDir_AGL-10m_RLatLon0.09_PT004H.grib2 20250818T06Z_MSC_RDPS_WindDir_AGL-10m_RLatLon0.09_PT004H.grib2\n",
      "File downloaded successfully: 20250818T06Z_MSC_RDPS_WindDir_AGL-10m_RLatLon0.09_PT004H.grib2, moving to /temp/ ...\n",
      "Commence interpolation\n"
     ]
    },
    {
     "name": "stderr",
     "output_type": "stream",
     "text": [
      "c:\\Users\\lbuchart\\AppData\\Local\\anaconda3\\envs\\prom-env\\Lib\\site-packages\\cfgrib\\xarray_plugin.py:131: FutureWarning: In a future version, xarray will not decode timedelta values based on the presence of a timedelta-like units attribute by default. Instead it will rely on the presence of a timedelta64 dtype attribute, which is now xarray's default way of encoding timedelta64 values. To continue decoding timedeltas based on the presence of a timedelta-like units attribute, users will need to explicitly opt-in by passing True or CFTimedeltaCoder(decode_via_units=True) to decode_timedelta. To silence this warning, set decode_timedelta to True, False, or a 'CFTimedeltaCoder' instance.\n",
      "  vars, attrs, coord_names = xr.conventions.decode_cf_variables(\n"
     ]
    },
    {
     "name": "stdout",
     "output_type": "stream",
     "text": [
      "2025-08-18 04:00:00 wdir10 211.9\n",
      "13\n",
      "https://dd.weather.gc.ca/20250818/WXO-DD/model_rdps/10km/06/005/20250818T06Z_MSC_RDPS_WindDir_AGL-10m_RLatLon0.09_PT005H.grib2 20250818T06Z_MSC_RDPS_WindDir_AGL-10m_RLatLon0.09_PT005H.grib2\n",
      "File downloaded successfully: 20250818T06Z_MSC_RDPS_WindDir_AGL-10m_RLatLon0.09_PT005H.grib2, moving to /temp/ ...\n",
      "Commence interpolation\n"
     ]
    },
    {
     "name": "stderr",
     "output_type": "stream",
     "text": [
      "c:\\Users\\lbuchart\\AppData\\Local\\anaconda3\\envs\\prom-env\\Lib\\site-packages\\cfgrib\\xarray_plugin.py:131: FutureWarning: In a future version, xarray will not decode timedelta values based on the presence of a timedelta-like units attribute by default. Instead it will rely on the presence of a timedelta64 dtype attribute, which is now xarray's default way of encoding timedelta64 values. To continue decoding timedeltas based on the presence of a timedelta-like units attribute, users will need to explicitly opt-in by passing True or CFTimedeltaCoder(decode_via_units=True) to decode_timedelta. To silence this warning, set decode_timedelta to True, False, or a 'CFTimedeltaCoder' instance.\n",
      "  vars, attrs, coord_names = xr.conventions.decode_cf_variables(\n"
     ]
    },
    {
     "name": "stdout",
     "output_type": "stream",
     "text": [
      "2025-08-18 05:00:00 wdir10 214.4\n",
      "18\n",
      "https://dd.weather.gc.ca/20250818/WXO-DD/model_rdps/10km/06/006/20250818T06Z_MSC_RDPS_WindDir_AGL-10m_RLatLon0.09_PT006H.grib2 20250818T06Z_MSC_RDPS_WindDir_AGL-10m_RLatLon0.09_PT006H.grib2\n",
      "File downloaded successfully: 20250818T06Z_MSC_RDPS_WindDir_AGL-10m_RLatLon0.09_PT006H.grib2, moving to /temp/ ...\n",
      "Commence interpolation\n"
     ]
    },
    {
     "name": "stderr",
     "output_type": "stream",
     "text": [
      "c:\\Users\\lbuchart\\AppData\\Local\\anaconda3\\envs\\prom-env\\Lib\\site-packages\\cfgrib\\xarray_plugin.py:131: FutureWarning: In a future version, xarray will not decode timedelta values based on the presence of a timedelta-like units attribute by default. Instead it will rely on the presence of a timedelta64 dtype attribute, which is now xarray's default way of encoding timedelta64 values. To continue decoding timedeltas based on the presence of a timedelta-like units attribute, users will need to explicitly opt-in by passing True or CFTimedeltaCoder(decode_via_units=True) to decode_timedelta. To silence this warning, set decode_timedelta to True, False, or a 'CFTimedeltaCoder' instance.\n",
      "  vars, attrs, coord_names = xr.conventions.decode_cf_variables(\n"
     ]
    },
    {
     "name": "stdout",
     "output_type": "stream",
     "text": [
      "2025-08-18 06:00:00 wdir10 215.9\n",
      "23\n",
      "https://dd.weather.gc.ca/20250818/WXO-DD/model_rdps/10km/06/007/20250818T06Z_MSC_RDPS_WindDir_AGL-10m_RLatLon0.09_PT007H.grib2 20250818T06Z_MSC_RDPS_WindDir_AGL-10m_RLatLon0.09_PT007H.grib2\n",
      "File downloaded successfully: 20250818T06Z_MSC_RDPS_WindDir_AGL-10m_RLatLon0.09_PT007H.grib2, moving to /temp/ ...\n",
      "Commence interpolation\n"
     ]
    },
    {
     "name": "stderr",
     "output_type": "stream",
     "text": [
      "c:\\Users\\lbuchart\\AppData\\Local\\anaconda3\\envs\\prom-env\\Lib\\site-packages\\cfgrib\\xarray_plugin.py:131: FutureWarning: In a future version, xarray will not decode timedelta values based on the presence of a timedelta-like units attribute by default. Instead it will rely on the presence of a timedelta64 dtype attribute, which is now xarray's default way of encoding timedelta64 values. To continue decoding timedeltas based on the presence of a timedelta-like units attribute, users will need to explicitly opt-in by passing True or CFTimedeltaCoder(decode_via_units=True) to decode_timedelta. To silence this warning, set decode_timedelta to True, False, or a 'CFTimedeltaCoder' instance.\n",
      "  vars, attrs, coord_names = xr.conventions.decode_cf_variables(\n"
     ]
    },
    {
     "name": "stdout",
     "output_type": "stream",
     "text": [
      "2025-08-18 07:00:00 wdir10 214.6\n",
      "28\n",
      "https://dd.weather.gc.ca/20250818/WXO-DD/model_rdps/10km/06/008/20250818T06Z_MSC_RDPS_WindDir_AGL-10m_RLatLon0.09_PT008H.grib2 20250818T06Z_MSC_RDPS_WindDir_AGL-10m_RLatLon0.09_PT008H.grib2\n",
      "File downloaded successfully: 20250818T06Z_MSC_RDPS_WindDir_AGL-10m_RLatLon0.09_PT008H.grib2, moving to /temp/ ...\n",
      "Commence interpolation\n"
     ]
    },
    {
     "name": "stderr",
     "output_type": "stream",
     "text": [
      "c:\\Users\\lbuchart\\AppData\\Local\\anaconda3\\envs\\prom-env\\Lib\\site-packages\\cfgrib\\xarray_plugin.py:131: FutureWarning: In a future version, xarray will not decode timedelta values based on the presence of a timedelta-like units attribute by default. Instead it will rely on the presence of a timedelta64 dtype attribute, which is now xarray's default way of encoding timedelta64 values. To continue decoding timedeltas based on the presence of a timedelta-like units attribute, users will need to explicitly opt-in by passing True or CFTimedeltaCoder(decode_via_units=True) to decode_timedelta. To silence this warning, set decode_timedelta to True, False, or a 'CFTimedeltaCoder' instance.\n",
      "  vars, attrs, coord_names = xr.conventions.decode_cf_variables(\n"
     ]
    },
    {
     "name": "stdout",
     "output_type": "stream",
     "text": [
      "2025-08-18 08:00:00 wdir10 209.3\n",
      "33\n",
      "https://dd.weather.gc.ca/20250818/WXO-DD/model_rdps/10km/06/009/20250818T06Z_MSC_RDPS_WindDir_AGL-10m_RLatLon0.09_PT009H.grib2 20250818T06Z_MSC_RDPS_WindDir_AGL-10m_RLatLon0.09_PT009H.grib2\n",
      "File downloaded successfully: 20250818T06Z_MSC_RDPS_WindDir_AGL-10m_RLatLon0.09_PT009H.grib2, moving to /temp/ ...\n",
      "Commence interpolation\n"
     ]
    },
    {
     "name": "stderr",
     "output_type": "stream",
     "text": [
      "c:\\Users\\lbuchart\\AppData\\Local\\anaconda3\\envs\\prom-env\\Lib\\site-packages\\cfgrib\\xarray_plugin.py:131: FutureWarning: In a future version, xarray will not decode timedelta values based on the presence of a timedelta-like units attribute by default. Instead it will rely on the presence of a timedelta64 dtype attribute, which is now xarray's default way of encoding timedelta64 values. To continue decoding timedeltas based on the presence of a timedelta-like units attribute, users will need to explicitly opt-in by passing True or CFTimedeltaCoder(decode_via_units=True) to decode_timedelta. To silence this warning, set decode_timedelta to True, False, or a 'CFTimedeltaCoder' instance.\n",
      "  vars, attrs, coord_names = xr.conventions.decode_cf_variables(\n"
     ]
    },
    {
     "name": "stdout",
     "output_type": "stream",
     "text": [
      "2025-08-18 09:00:00 wdir10 199.6\n",
      "38\n",
      "https://dd.weather.gc.ca/20250818/WXO-DD/model_rdps/10km/06/010/20250818T06Z_MSC_RDPS_WindDir_AGL-10m_RLatLon0.09_PT010H.grib2 20250818T06Z_MSC_RDPS_WindDir_AGL-10m_RLatLon0.09_PT010H.grib2\n",
      "File downloaded successfully: 20250818T06Z_MSC_RDPS_WindDir_AGL-10m_RLatLon0.09_PT010H.grib2, moving to /temp/ ...\n",
      "Commence interpolation\n"
     ]
    },
    {
     "name": "stderr",
     "output_type": "stream",
     "text": [
      "c:\\Users\\lbuchart\\AppData\\Local\\anaconda3\\envs\\prom-env\\Lib\\site-packages\\cfgrib\\xarray_plugin.py:131: FutureWarning: In a future version, xarray will not decode timedelta values based on the presence of a timedelta-like units attribute by default. Instead it will rely on the presence of a timedelta64 dtype attribute, which is now xarray's default way of encoding timedelta64 values. To continue decoding timedeltas based on the presence of a timedelta-like units attribute, users will need to explicitly opt-in by passing True or CFTimedeltaCoder(decode_via_units=True) to decode_timedelta. To silence this warning, set decode_timedelta to True, False, or a 'CFTimedeltaCoder' instance.\n",
      "  vars, attrs, coord_names = xr.conventions.decode_cf_variables(\n"
     ]
    },
    {
     "name": "stdout",
     "output_type": "stream",
     "text": [
      "2025-08-18 10:00:00 wdir10 194.0\n",
      "43\n",
      "https://dd.weather.gc.ca/20250818/WXO-DD/model_rdps/10km/06/011/20250818T06Z_MSC_RDPS_WindDir_AGL-10m_RLatLon0.09_PT011H.grib2 20250818T06Z_MSC_RDPS_WindDir_AGL-10m_RLatLon0.09_PT011H.grib2\n",
      "File downloaded successfully: 20250818T06Z_MSC_RDPS_WindDir_AGL-10m_RLatLon0.09_PT011H.grib2, moving to /temp/ ...\n",
      "Commence interpolation\n"
     ]
    },
    {
     "name": "stderr",
     "output_type": "stream",
     "text": [
      "c:\\Users\\lbuchart\\AppData\\Local\\anaconda3\\envs\\prom-env\\Lib\\site-packages\\cfgrib\\xarray_plugin.py:131: FutureWarning: In a future version, xarray will not decode timedelta values based on the presence of a timedelta-like units attribute by default. Instead it will rely on the presence of a timedelta64 dtype attribute, which is now xarray's default way of encoding timedelta64 values. To continue decoding timedeltas based on the presence of a timedelta-like units attribute, users will need to explicitly opt-in by passing True or CFTimedeltaCoder(decode_via_units=True) to decode_timedelta. To silence this warning, set decode_timedelta to True, False, or a 'CFTimedeltaCoder' instance.\n",
      "  vars, attrs, coord_names = xr.conventions.decode_cf_variables(\n"
     ]
    },
    {
     "name": "stdout",
     "output_type": "stream",
     "text": [
      "2025-08-18 11:00:00 wdir10 221.8\n",
      "48\n",
      "https://dd.weather.gc.ca/20250818/WXO-DD/model_rdps/10km/06/012/20250818T06Z_MSC_RDPS_WindDir_AGL-10m_RLatLon0.09_PT012H.grib2 20250818T06Z_MSC_RDPS_WindDir_AGL-10m_RLatLon0.09_PT012H.grib2\n",
      "File downloaded successfully: 20250818T06Z_MSC_RDPS_WindDir_AGL-10m_RLatLon0.09_PT012H.grib2, moving to /temp/ ...\n",
      "Commence interpolation\n"
     ]
    },
    {
     "name": "stderr",
     "output_type": "stream",
     "text": [
      "c:\\Users\\lbuchart\\AppData\\Local\\anaconda3\\envs\\prom-env\\Lib\\site-packages\\cfgrib\\xarray_plugin.py:131: FutureWarning: In a future version, xarray will not decode timedelta values based on the presence of a timedelta-like units attribute by default. Instead it will rely on the presence of a timedelta64 dtype attribute, which is now xarray's default way of encoding timedelta64 values. To continue decoding timedeltas based on the presence of a timedelta-like units attribute, users will need to explicitly opt-in by passing True or CFTimedeltaCoder(decode_via_units=True) to decode_timedelta. To silence this warning, set decode_timedelta to True, False, or a 'CFTimedeltaCoder' instance.\n",
      "  vars, attrs, coord_names = xr.conventions.decode_cf_variables(\n"
     ]
    },
    {
     "name": "stdout",
     "output_type": "stream",
     "text": [
      "2025-08-18 12:00:00 wdir10 260.9\n",
      "53\n",
      "https://dd.weather.gc.ca/20250818/WXO-DD/model_rdps/10km/06/013/20250818T06Z_MSC_RDPS_WindDir_AGL-10m_RLatLon0.09_PT013H.grib2 20250818T06Z_MSC_RDPS_WindDir_AGL-10m_RLatLon0.09_PT013H.grib2\n",
      "File downloaded successfully: 20250818T06Z_MSC_RDPS_WindDir_AGL-10m_RLatLon0.09_PT013H.grib2, moving to /temp/ ...\n",
      "Commence interpolation\n"
     ]
    },
    {
     "name": "stderr",
     "output_type": "stream",
     "text": [
      "c:\\Users\\lbuchart\\AppData\\Local\\anaconda3\\envs\\prom-env\\Lib\\site-packages\\cfgrib\\xarray_plugin.py:131: FutureWarning: In a future version, xarray will not decode timedelta values based on the presence of a timedelta-like units attribute by default. Instead it will rely on the presence of a timedelta64 dtype attribute, which is now xarray's default way of encoding timedelta64 values. To continue decoding timedeltas based on the presence of a timedelta-like units attribute, users will need to explicitly opt-in by passing True or CFTimedeltaCoder(decode_via_units=True) to decode_timedelta. To silence this warning, set decode_timedelta to True, False, or a 'CFTimedeltaCoder' instance.\n",
      "  vars, attrs, coord_names = xr.conventions.decode_cf_variables(\n"
     ]
    },
    {
     "name": "stdout",
     "output_type": "stream",
     "text": [
      "2025-08-18 13:00:00 wdir10 273.1\n",
      "58\n",
      "https://dd.weather.gc.ca/20250818/WXO-DD/model_rdps/10km/06/014/20250818T06Z_MSC_RDPS_WindDir_AGL-10m_RLatLon0.09_PT014H.grib2 20250818T06Z_MSC_RDPS_WindDir_AGL-10m_RLatLon0.09_PT014H.grib2\n",
      "File downloaded successfully: 20250818T06Z_MSC_RDPS_WindDir_AGL-10m_RLatLon0.09_PT014H.grib2, moving to /temp/ ...\n",
      "Commence interpolation\n"
     ]
    },
    {
     "name": "stderr",
     "output_type": "stream",
     "text": [
      "c:\\Users\\lbuchart\\AppData\\Local\\anaconda3\\envs\\prom-env\\Lib\\site-packages\\cfgrib\\xarray_plugin.py:131: FutureWarning: In a future version, xarray will not decode timedelta values based on the presence of a timedelta-like units attribute by default. Instead it will rely on the presence of a timedelta64 dtype attribute, which is now xarray's default way of encoding timedelta64 values. To continue decoding timedeltas based on the presence of a timedelta-like units attribute, users will need to explicitly opt-in by passing True or CFTimedeltaCoder(decode_via_units=True) to decode_timedelta. To silence this warning, set decode_timedelta to True, False, or a 'CFTimedeltaCoder' instance.\n",
      "  vars, attrs, coord_names = xr.conventions.decode_cf_variables(\n"
     ]
    },
    {
     "name": "stdout",
     "output_type": "stream",
     "text": [
      "2025-08-18 14:00:00 wdir10 271.4\n",
      "63\n",
      "https://dd.weather.gc.ca/20250818/WXO-DD/model_rdps/10km/06/015/20250818T06Z_MSC_RDPS_WindDir_AGL-10m_RLatLon0.09_PT015H.grib2 20250818T06Z_MSC_RDPS_WindDir_AGL-10m_RLatLon0.09_PT015H.grib2\n",
      "File downloaded successfully: 20250818T06Z_MSC_RDPS_WindDir_AGL-10m_RLatLon0.09_PT015H.grib2, moving to /temp/ ...\n",
      "Commence interpolation\n"
     ]
    },
    {
     "name": "stderr",
     "output_type": "stream",
     "text": [
      "c:\\Users\\lbuchart\\AppData\\Local\\anaconda3\\envs\\prom-env\\Lib\\site-packages\\cfgrib\\xarray_plugin.py:131: FutureWarning: In a future version, xarray will not decode timedelta values based on the presence of a timedelta-like units attribute by default. Instead it will rely on the presence of a timedelta64 dtype attribute, which is now xarray's default way of encoding timedelta64 values. To continue decoding timedeltas based on the presence of a timedelta-like units attribute, users will need to explicitly opt-in by passing True or CFTimedeltaCoder(decode_via_units=True) to decode_timedelta. To silence this warning, set decode_timedelta to True, False, or a 'CFTimedeltaCoder' instance.\n",
      "  vars, attrs, coord_names = xr.conventions.decode_cf_variables(\n"
     ]
    },
    {
     "name": "stdout",
     "output_type": "stream",
     "text": [
      "2025-08-18 15:00:00 wdir10 266.8\n",
      "68\n",
      "https://dd.weather.gc.ca/20250818/WXO-DD/model_rdps/10km/06/016/20250818T06Z_MSC_RDPS_WindDir_AGL-10m_RLatLon0.09_PT016H.grib2 20250818T06Z_MSC_RDPS_WindDir_AGL-10m_RLatLon0.09_PT016H.grib2\n",
      "File downloaded successfully: 20250818T06Z_MSC_RDPS_WindDir_AGL-10m_RLatLon0.09_PT016H.grib2, moving to /temp/ ...\n",
      "Commence interpolation\n"
     ]
    },
    {
     "name": "stderr",
     "output_type": "stream",
     "text": [
      "c:\\Users\\lbuchart\\AppData\\Local\\anaconda3\\envs\\prom-env\\Lib\\site-packages\\cfgrib\\xarray_plugin.py:131: FutureWarning: In a future version, xarray will not decode timedelta values based on the presence of a timedelta-like units attribute by default. Instead it will rely on the presence of a timedelta64 dtype attribute, which is now xarray's default way of encoding timedelta64 values. To continue decoding timedeltas based on the presence of a timedelta-like units attribute, users will need to explicitly opt-in by passing True or CFTimedeltaCoder(decode_via_units=True) to decode_timedelta. To silence this warning, set decode_timedelta to True, False, or a 'CFTimedeltaCoder' instance.\n",
      "  vars, attrs, coord_names = xr.conventions.decode_cf_variables(\n"
     ]
    },
    {
     "name": "stdout",
     "output_type": "stream",
     "text": [
      "2025-08-18 16:00:00 wdir10 258.5\n",
      "73\n",
      "https://dd.weather.gc.ca/20250818/WXO-DD/model_rdps/10km/06/017/20250818T06Z_MSC_RDPS_WindDir_AGL-10m_RLatLon0.09_PT017H.grib2 20250818T06Z_MSC_RDPS_WindDir_AGL-10m_RLatLon0.09_PT017H.grib2\n",
      "File downloaded successfully: 20250818T06Z_MSC_RDPS_WindDir_AGL-10m_RLatLon0.09_PT017H.grib2, moving to /temp/ ...\n",
      "Commence interpolation\n"
     ]
    },
    {
     "name": "stderr",
     "output_type": "stream",
     "text": [
      "c:\\Users\\lbuchart\\AppData\\Local\\anaconda3\\envs\\prom-env\\Lib\\site-packages\\cfgrib\\xarray_plugin.py:131: FutureWarning: In a future version, xarray will not decode timedelta values based on the presence of a timedelta-like units attribute by default. Instead it will rely on the presence of a timedelta64 dtype attribute, which is now xarray's default way of encoding timedelta64 values. To continue decoding timedeltas based on the presence of a timedelta-like units attribute, users will need to explicitly opt-in by passing True or CFTimedeltaCoder(decode_via_units=True) to decode_timedelta. To silence this warning, set decode_timedelta to True, False, or a 'CFTimedeltaCoder' instance.\n",
      "  vars, attrs, coord_names = xr.conventions.decode_cf_variables(\n"
     ]
    },
    {
     "name": "stdout",
     "output_type": "stream",
     "text": [
      "2025-08-18 17:00:00 wdir10 247.5\n",
      "78\n",
      "https://dd.weather.gc.ca/20250818/WXO-DD/model_rdps/10km/06/018/20250818T06Z_MSC_RDPS_WindDir_AGL-10m_RLatLon0.09_PT018H.grib2 20250818T06Z_MSC_RDPS_WindDir_AGL-10m_RLatLon0.09_PT018H.grib2\n",
      "File downloaded successfully: 20250818T06Z_MSC_RDPS_WindDir_AGL-10m_RLatLon0.09_PT018H.grib2, moving to /temp/ ...\n",
      "Commence interpolation\n"
     ]
    },
    {
     "name": "stderr",
     "output_type": "stream",
     "text": [
      "c:\\Users\\lbuchart\\AppData\\Local\\anaconda3\\envs\\prom-env\\Lib\\site-packages\\cfgrib\\xarray_plugin.py:131: FutureWarning: In a future version, xarray will not decode timedelta values based on the presence of a timedelta-like units attribute by default. Instead it will rely on the presence of a timedelta64 dtype attribute, which is now xarray's default way of encoding timedelta64 values. To continue decoding timedeltas based on the presence of a timedelta-like units attribute, users will need to explicitly opt-in by passing True or CFTimedeltaCoder(decode_via_units=True) to decode_timedelta. To silence this warning, set decode_timedelta to True, False, or a 'CFTimedeltaCoder' instance.\n",
      "  vars, attrs, coord_names = xr.conventions.decode_cf_variables(\n"
     ]
    },
    {
     "name": "stdout",
     "output_type": "stream",
     "text": [
      "2025-08-18 18:00:00 wdir10 144.0\n",
      "83\n",
      "https://dd.weather.gc.ca/20250818/WXO-DD/model_rdps/10km/06/019/20250818T06Z_MSC_RDPS_WindDir_AGL-10m_RLatLon0.09_PT019H.grib2 20250818T06Z_MSC_RDPS_WindDir_AGL-10m_RLatLon0.09_PT019H.grib2\n",
      "File downloaded successfully: 20250818T06Z_MSC_RDPS_WindDir_AGL-10m_RLatLon0.09_PT019H.grib2, moving to /temp/ ...\n",
      "Commence interpolation\n"
     ]
    },
    {
     "name": "stderr",
     "output_type": "stream",
     "text": [
      "c:\\Users\\lbuchart\\AppData\\Local\\anaconda3\\envs\\prom-env\\Lib\\site-packages\\cfgrib\\xarray_plugin.py:131: FutureWarning: In a future version, xarray will not decode timedelta values based on the presence of a timedelta-like units attribute by default. Instead it will rely on the presence of a timedelta64 dtype attribute, which is now xarray's default way of encoding timedelta64 values. To continue decoding timedeltas based on the presence of a timedelta-like units attribute, users will need to explicitly opt-in by passing True or CFTimedeltaCoder(decode_via_units=True) to decode_timedelta. To silence this warning, set decode_timedelta to True, False, or a 'CFTimedeltaCoder' instance.\n",
      "  vars, attrs, coord_names = xr.conventions.decode_cf_variables(\n"
     ]
    },
    {
     "name": "stdout",
     "output_type": "stream",
     "text": [
      "2025-08-18 19:00:00 wdir10 137.8\n",
      "88\n",
      "https://dd.weather.gc.ca/20250818/WXO-DD/model_rdps/10km/06/020/20250818T06Z_MSC_RDPS_WindDir_AGL-10m_RLatLon0.09_PT020H.grib2 20250818T06Z_MSC_RDPS_WindDir_AGL-10m_RLatLon0.09_PT020H.grib2\n",
      "File downloaded successfully: 20250818T06Z_MSC_RDPS_WindDir_AGL-10m_RLatLon0.09_PT020H.grib2, moving to /temp/ ...\n",
      "Commence interpolation\n"
     ]
    },
    {
     "name": "stderr",
     "output_type": "stream",
     "text": [
      "c:\\Users\\lbuchart\\AppData\\Local\\anaconda3\\envs\\prom-env\\Lib\\site-packages\\cfgrib\\xarray_plugin.py:131: FutureWarning: In a future version, xarray will not decode timedelta values based on the presence of a timedelta-like units attribute by default. Instead it will rely on the presence of a timedelta64 dtype attribute, which is now xarray's default way of encoding timedelta64 values. To continue decoding timedeltas based on the presence of a timedelta-like units attribute, users will need to explicitly opt-in by passing True or CFTimedeltaCoder(decode_via_units=True) to decode_timedelta. To silence this warning, set decode_timedelta to True, False, or a 'CFTimedeltaCoder' instance.\n",
      "  vars, attrs, coord_names = xr.conventions.decode_cf_variables(\n"
     ]
    },
    {
     "name": "stdout",
     "output_type": "stream",
     "text": [
      "2025-08-18 20:00:00 wdir10 163.0\n",
      "93\n",
      "https://dd.weather.gc.ca/20250818/WXO-DD/model_rdps/10km/06/021/20250818T06Z_MSC_RDPS_WindDir_AGL-10m_RLatLon0.09_PT021H.grib2 20250818T06Z_MSC_RDPS_WindDir_AGL-10m_RLatLon0.09_PT021H.grib2\n",
      "File downloaded successfully: 20250818T06Z_MSC_RDPS_WindDir_AGL-10m_RLatLon0.09_PT021H.grib2, moving to /temp/ ...\n",
      "Commence interpolation\n"
     ]
    },
    {
     "name": "stderr",
     "output_type": "stream",
     "text": [
      "c:\\Users\\lbuchart\\AppData\\Local\\anaconda3\\envs\\prom-env\\Lib\\site-packages\\cfgrib\\xarray_plugin.py:131: FutureWarning: In a future version, xarray will not decode timedelta values based on the presence of a timedelta-like units attribute by default. Instead it will rely on the presence of a timedelta64 dtype attribute, which is now xarray's default way of encoding timedelta64 values. To continue decoding timedeltas based on the presence of a timedelta-like units attribute, users will need to explicitly opt-in by passing True or CFTimedeltaCoder(decode_via_units=True) to decode_timedelta. To silence this warning, set decode_timedelta to True, False, or a 'CFTimedeltaCoder' instance.\n",
      "  vars, attrs, coord_names = xr.conventions.decode_cf_variables(\n"
     ]
    },
    {
     "name": "stdout",
     "output_type": "stream",
     "text": [
      "2025-08-18 21:00:00 wdir10 174.3\n",
      "98\n",
      "https://dd.weather.gc.ca/20250818/WXO-DD/model_rdps/10km/06/022/20250818T06Z_MSC_RDPS_WindDir_AGL-10m_RLatLon0.09_PT022H.grib2 20250818T06Z_MSC_RDPS_WindDir_AGL-10m_RLatLon0.09_PT022H.grib2\n",
      "File downloaded successfully: 20250818T06Z_MSC_RDPS_WindDir_AGL-10m_RLatLon0.09_PT022H.grib2, moving to /temp/ ...\n",
      "Commence interpolation\n"
     ]
    },
    {
     "name": "stderr",
     "output_type": "stream",
     "text": [
      "c:\\Users\\lbuchart\\AppData\\Local\\anaconda3\\envs\\prom-env\\Lib\\site-packages\\cfgrib\\xarray_plugin.py:131: FutureWarning: In a future version, xarray will not decode timedelta values based on the presence of a timedelta-like units attribute by default. Instead it will rely on the presence of a timedelta64 dtype attribute, which is now xarray's default way of encoding timedelta64 values. To continue decoding timedeltas based on the presence of a timedelta-like units attribute, users will need to explicitly opt-in by passing True or CFTimedeltaCoder(decode_via_units=True) to decode_timedelta. To silence this warning, set decode_timedelta to True, False, or a 'CFTimedeltaCoder' instance.\n",
      "  vars, attrs, coord_names = xr.conventions.decode_cf_variables(\n"
     ]
    },
    {
     "name": "stdout",
     "output_type": "stream",
     "text": [
      "2025-08-18 22:00:00 wdir10 171.4\n",
      "103\n",
      "https://dd.weather.gc.ca/20250818/WXO-DD/model_rdps/10km/06/023/20250818T06Z_MSC_RDPS_WindDir_AGL-10m_RLatLon0.09_PT023H.grib2 20250818T06Z_MSC_RDPS_WindDir_AGL-10m_RLatLon0.09_PT023H.grib2\n",
      "File downloaded successfully: 20250818T06Z_MSC_RDPS_WindDir_AGL-10m_RLatLon0.09_PT023H.grib2, moving to /temp/ ...\n",
      "Commence interpolation\n"
     ]
    },
    {
     "name": "stderr",
     "output_type": "stream",
     "text": [
      "c:\\Users\\lbuchart\\AppData\\Local\\anaconda3\\envs\\prom-env\\Lib\\site-packages\\cfgrib\\xarray_plugin.py:131: FutureWarning: In a future version, xarray will not decode timedelta values based on the presence of a timedelta-like units attribute by default. Instead it will rely on the presence of a timedelta64 dtype attribute, which is now xarray's default way of encoding timedelta64 values. To continue decoding timedeltas based on the presence of a timedelta-like units attribute, users will need to explicitly opt-in by passing True or CFTimedeltaCoder(decode_via_units=True) to decode_timedelta. To silence this warning, set decode_timedelta to True, False, or a 'CFTimedeltaCoder' instance.\n",
      "  vars, attrs, coord_names = xr.conventions.decode_cf_variables(\n"
     ]
    },
    {
     "name": "stdout",
     "output_type": "stream",
     "text": [
      "2025-08-18 23:00:00 wdir10 159.4\n",
      "108\n",
      "https://dd.weather.gc.ca/20250818/WXO-DD/model_rdps/10km/06/024/20250818T06Z_MSC_RDPS_WindDir_AGL-10m_RLatLon0.09_PT024H.grib2 20250818T06Z_MSC_RDPS_WindDir_AGL-10m_RLatLon0.09_PT024H.grib2\n",
      "File downloaded successfully: 20250818T06Z_MSC_RDPS_WindDir_AGL-10m_RLatLon0.09_PT024H.grib2, moving to /temp/ ...\n",
      "Commence interpolation\n"
     ]
    },
    {
     "name": "stderr",
     "output_type": "stream",
     "text": [
      "c:\\Users\\lbuchart\\AppData\\Local\\anaconda3\\envs\\prom-env\\Lib\\site-packages\\cfgrib\\xarray_plugin.py:131: FutureWarning: In a future version, xarray will not decode timedelta values based on the presence of a timedelta-like units attribute by default. Instead it will rely on the presence of a timedelta64 dtype attribute, which is now xarray's default way of encoding timedelta64 values. To continue decoding timedeltas based on the presence of a timedelta-like units attribute, users will need to explicitly opt-in by passing True or CFTimedeltaCoder(decode_via_units=True) to decode_timedelta. To silence this warning, set decode_timedelta to True, False, or a 'CFTimedeltaCoder' instance.\n",
      "  vars, attrs, coord_names = xr.conventions.decode_cf_variables(\n"
     ]
    },
    {
     "name": "stdout",
     "output_type": "stream",
     "text": [
      "2025-08-19 00:00:00 wdir10 145.8\n",
      "113\n",
      "https://dd.weather.gc.ca/20250818/WXO-DD/model_rdps/10km/06/025/20250818T06Z_MSC_RDPS_WindDir_AGL-10m_RLatLon0.09_PT025H.grib2 20250818T06Z_MSC_RDPS_WindDir_AGL-10m_RLatLon0.09_PT025H.grib2\n",
      "File downloaded successfully: 20250818T06Z_MSC_RDPS_WindDir_AGL-10m_RLatLon0.09_PT025H.grib2, moving to /temp/ ...\n",
      "Commence interpolation\n"
     ]
    },
    {
     "name": "stderr",
     "output_type": "stream",
     "text": [
      "c:\\Users\\lbuchart\\AppData\\Local\\anaconda3\\envs\\prom-env\\Lib\\site-packages\\cfgrib\\xarray_plugin.py:131: FutureWarning: In a future version, xarray will not decode timedelta values based on the presence of a timedelta-like units attribute by default. Instead it will rely on the presence of a timedelta64 dtype attribute, which is now xarray's default way of encoding timedelta64 values. To continue decoding timedeltas based on the presence of a timedelta-like units attribute, users will need to explicitly opt-in by passing True or CFTimedeltaCoder(decode_via_units=True) to decode_timedelta. To silence this warning, set decode_timedelta to True, False, or a 'CFTimedeltaCoder' instance.\n",
      "  vars, attrs, coord_names = xr.conventions.decode_cf_variables(\n"
     ]
    },
    {
     "name": "stdout",
     "output_type": "stream",
     "text": [
      "2025-08-19 01:00:00 wdir10 136.5\n",
      "118\n",
      "https://dd.weather.gc.ca/20250818/WXO-DD/model_rdps/10km/06/026/20250818T06Z_MSC_RDPS_WindDir_AGL-10m_RLatLon0.09_PT026H.grib2 20250818T06Z_MSC_RDPS_WindDir_AGL-10m_RLatLon0.09_PT026H.grib2\n",
      "File downloaded successfully: 20250818T06Z_MSC_RDPS_WindDir_AGL-10m_RLatLon0.09_PT026H.grib2, moving to /temp/ ...\n",
      "Commence interpolation\n"
     ]
    },
    {
     "name": "stderr",
     "output_type": "stream",
     "text": [
      "c:\\Users\\lbuchart\\AppData\\Local\\anaconda3\\envs\\prom-env\\Lib\\site-packages\\cfgrib\\xarray_plugin.py:131: FutureWarning: In a future version, xarray will not decode timedelta values based on the presence of a timedelta-like units attribute by default. Instead it will rely on the presence of a timedelta64 dtype attribute, which is now xarray's default way of encoding timedelta64 values. To continue decoding timedeltas based on the presence of a timedelta-like units attribute, users will need to explicitly opt-in by passing True or CFTimedeltaCoder(decode_via_units=True) to decode_timedelta. To silence this warning, set decode_timedelta to True, False, or a 'CFTimedeltaCoder' instance.\n",
      "  vars, attrs, coord_names = xr.conventions.decode_cf_variables(\n"
     ]
    },
    {
     "name": "stdout",
     "output_type": "stream",
     "text": [
      "2025-08-19 02:00:00 wdir10 121.3\n",
      "123\n",
      "https://dd.weather.gc.ca/20250818/WXO-DD/model_rdps/10km/06/027/20250818T06Z_MSC_RDPS_WindDir_AGL-10m_RLatLon0.09_PT027H.grib2 20250818T06Z_MSC_RDPS_WindDir_AGL-10m_RLatLon0.09_PT027H.grib2\n",
      "File downloaded successfully: 20250818T06Z_MSC_RDPS_WindDir_AGL-10m_RLatLon0.09_PT027H.grib2, moving to /temp/ ...\n",
      "Commence interpolation\n"
     ]
    },
    {
     "name": "stderr",
     "output_type": "stream",
     "text": [
      "c:\\Users\\lbuchart\\AppData\\Local\\anaconda3\\envs\\prom-env\\Lib\\site-packages\\cfgrib\\xarray_plugin.py:131: FutureWarning: In a future version, xarray will not decode timedelta values based on the presence of a timedelta-like units attribute by default. Instead it will rely on the presence of a timedelta64 dtype attribute, which is now xarray's default way of encoding timedelta64 values. To continue decoding timedeltas based on the presence of a timedelta-like units attribute, users will need to explicitly opt-in by passing True or CFTimedeltaCoder(decode_via_units=True) to decode_timedelta. To silence this warning, set decode_timedelta to True, False, or a 'CFTimedeltaCoder' instance.\n",
      "  vars, attrs, coord_names = xr.conventions.decode_cf_variables(\n"
     ]
    },
    {
     "name": "stdout",
     "output_type": "stream",
     "text": [
      "2025-08-19 03:00:00 wdir10 98.9\n",
      "128\n",
      "https://dd.weather.gc.ca/20250818/WXO-DD/model_rdps/10km/06/028/20250818T06Z_MSC_RDPS_WindDir_AGL-10m_RLatLon0.09_PT028H.grib2 20250818T06Z_MSC_RDPS_WindDir_AGL-10m_RLatLon0.09_PT028H.grib2\n",
      "File downloaded successfully: 20250818T06Z_MSC_RDPS_WindDir_AGL-10m_RLatLon0.09_PT028H.grib2, moving to /temp/ ...\n",
      "Commence interpolation\n"
     ]
    },
    {
     "name": "stderr",
     "output_type": "stream",
     "text": [
      "c:\\Users\\lbuchart\\AppData\\Local\\anaconda3\\envs\\prom-env\\Lib\\site-packages\\cfgrib\\xarray_plugin.py:131: FutureWarning: In a future version, xarray will not decode timedelta values based on the presence of a timedelta-like units attribute by default. Instead it will rely on the presence of a timedelta64 dtype attribute, which is now xarray's default way of encoding timedelta64 values. To continue decoding timedeltas based on the presence of a timedelta-like units attribute, users will need to explicitly opt-in by passing True or CFTimedeltaCoder(decode_via_units=True) to decode_timedelta. To silence this warning, set decode_timedelta to True, False, or a 'CFTimedeltaCoder' instance.\n",
      "  vars, attrs, coord_names = xr.conventions.decode_cf_variables(\n"
     ]
    },
    {
     "name": "stdout",
     "output_type": "stream",
     "text": [
      "2025-08-19 04:00:00 wdir10 64.1\n",
      "133\n",
      "https://dd.weather.gc.ca/20250818/WXO-DD/model_rdps/10km/06/029/20250818T06Z_MSC_RDPS_WindDir_AGL-10m_RLatLon0.09_PT029H.grib2 20250818T06Z_MSC_RDPS_WindDir_AGL-10m_RLatLon0.09_PT029H.grib2\n",
      "File downloaded successfully: 20250818T06Z_MSC_RDPS_WindDir_AGL-10m_RLatLon0.09_PT029H.grib2, moving to /temp/ ...\n",
      "Commence interpolation\n"
     ]
    },
    {
     "name": "stderr",
     "output_type": "stream",
     "text": [
      "c:\\Users\\lbuchart\\AppData\\Local\\anaconda3\\envs\\prom-env\\Lib\\site-packages\\cfgrib\\xarray_plugin.py:131: FutureWarning: In a future version, xarray will not decode timedelta values based on the presence of a timedelta-like units attribute by default. Instead it will rely on the presence of a timedelta64 dtype attribute, which is now xarray's default way of encoding timedelta64 values. To continue decoding timedeltas based on the presence of a timedelta-like units attribute, users will need to explicitly opt-in by passing True or CFTimedeltaCoder(decode_via_units=True) to decode_timedelta. To silence this warning, set decode_timedelta to True, False, or a 'CFTimedeltaCoder' instance.\n",
      "  vars, attrs, coord_names = xr.conventions.decode_cf_variables(\n"
     ]
    },
    {
     "name": "stdout",
     "output_type": "stream",
     "text": [
      "2025-08-19 05:00:00 wdir10 49.9\n",
      "138\n",
      "https://dd.weather.gc.ca/20250818/WXO-DD/model_rdps/10km/06/030/20250818T06Z_MSC_RDPS_WindDir_AGL-10m_RLatLon0.09_PT030H.grib2 20250818T06Z_MSC_RDPS_WindDir_AGL-10m_RLatLon0.09_PT030H.grib2\n",
      "File downloaded successfully: 20250818T06Z_MSC_RDPS_WindDir_AGL-10m_RLatLon0.09_PT030H.grib2, moving to /temp/ ...\n",
      "Commence interpolation\n"
     ]
    },
    {
     "name": "stderr",
     "output_type": "stream",
     "text": [
      "c:\\Users\\lbuchart\\AppData\\Local\\anaconda3\\envs\\prom-env\\Lib\\site-packages\\cfgrib\\xarray_plugin.py:131: FutureWarning: In a future version, xarray will not decode timedelta values based on the presence of a timedelta-like units attribute by default. Instead it will rely on the presence of a timedelta64 dtype attribute, which is now xarray's default way of encoding timedelta64 values. To continue decoding timedeltas based on the presence of a timedelta-like units attribute, users will need to explicitly opt-in by passing True or CFTimedeltaCoder(decode_via_units=True) to decode_timedelta. To silence this warning, set decode_timedelta to True, False, or a 'CFTimedeltaCoder' instance.\n",
      "  vars, attrs, coord_names = xr.conventions.decode_cf_variables(\n"
     ]
    },
    {
     "name": "stdout",
     "output_type": "stream",
     "text": [
      "2025-08-19 06:00:00 wdir10 46.9\n",
      "143\n",
      "https://dd.weather.gc.ca/20250818/WXO-DD/model_rdps/10km/06/031/20250818T06Z_MSC_RDPS_WindDir_AGL-10m_RLatLon0.09_PT031H.grib2 20250818T06Z_MSC_RDPS_WindDir_AGL-10m_RLatLon0.09_PT031H.grib2\n",
      "File downloaded successfully: 20250818T06Z_MSC_RDPS_WindDir_AGL-10m_RLatLon0.09_PT031H.grib2, moving to /temp/ ...\n",
      "Commence interpolation\n"
     ]
    },
    {
     "name": "stderr",
     "output_type": "stream",
     "text": [
      "c:\\Users\\lbuchart\\AppData\\Local\\anaconda3\\envs\\prom-env\\Lib\\site-packages\\cfgrib\\xarray_plugin.py:131: FutureWarning: In a future version, xarray will not decode timedelta values based on the presence of a timedelta-like units attribute by default. Instead it will rely on the presence of a timedelta64 dtype attribute, which is now xarray's default way of encoding timedelta64 values. To continue decoding timedeltas based on the presence of a timedelta-like units attribute, users will need to explicitly opt-in by passing True or CFTimedeltaCoder(decode_via_units=True) to decode_timedelta. To silence this warning, set decode_timedelta to True, False, or a 'CFTimedeltaCoder' instance.\n",
      "  vars, attrs, coord_names = xr.conventions.decode_cf_variables(\n"
     ]
    },
    {
     "name": "stdout",
     "output_type": "stream",
     "text": [
      "2025-08-19 07:00:00 wdir10 45.6\n",
      "148\n",
      "https://dd.weather.gc.ca/20250818/WXO-DD/model_rdps/10km/06/032/20250818T06Z_MSC_RDPS_WindDir_AGL-10m_RLatLon0.09_PT032H.grib2 20250818T06Z_MSC_RDPS_WindDir_AGL-10m_RLatLon0.09_PT032H.grib2\n",
      "File downloaded successfully: 20250818T06Z_MSC_RDPS_WindDir_AGL-10m_RLatLon0.09_PT032H.grib2, moving to /temp/ ...\n",
      "Commence interpolation\n"
     ]
    },
    {
     "name": "stderr",
     "output_type": "stream",
     "text": [
      "c:\\Users\\lbuchart\\AppData\\Local\\anaconda3\\envs\\prom-env\\Lib\\site-packages\\cfgrib\\xarray_plugin.py:131: FutureWarning: In a future version, xarray will not decode timedelta values based on the presence of a timedelta-like units attribute by default. Instead it will rely on the presence of a timedelta64 dtype attribute, which is now xarray's default way of encoding timedelta64 values. To continue decoding timedeltas based on the presence of a timedelta-like units attribute, users will need to explicitly opt-in by passing True or CFTimedeltaCoder(decode_via_units=True) to decode_timedelta. To silence this warning, set decode_timedelta to True, False, or a 'CFTimedeltaCoder' instance.\n",
      "  vars, attrs, coord_names = xr.conventions.decode_cf_variables(\n"
     ]
    },
    {
     "name": "stdout",
     "output_type": "stream",
     "text": [
      "2025-08-19 08:00:00 wdir10 16.9\n",
      "153\n",
      "https://dd.weather.gc.ca/20250818/WXO-DD/model_rdps/10km/06/033/20250818T06Z_MSC_RDPS_WindDir_AGL-10m_RLatLon0.09_PT033H.grib2 20250818T06Z_MSC_RDPS_WindDir_AGL-10m_RLatLon0.09_PT033H.grib2\n",
      "File downloaded successfully: 20250818T06Z_MSC_RDPS_WindDir_AGL-10m_RLatLon0.09_PT033H.grib2, moving to /temp/ ...\n",
      "Commence interpolation\n"
     ]
    },
    {
     "name": "stderr",
     "output_type": "stream",
     "text": [
      "c:\\Users\\lbuchart\\AppData\\Local\\anaconda3\\envs\\prom-env\\Lib\\site-packages\\cfgrib\\xarray_plugin.py:131: FutureWarning: In a future version, xarray will not decode timedelta values based on the presence of a timedelta-like units attribute by default. Instead it will rely on the presence of a timedelta64 dtype attribute, which is now xarray's default way of encoding timedelta64 values. To continue decoding timedeltas based on the presence of a timedelta-like units attribute, users will need to explicitly opt-in by passing True or CFTimedeltaCoder(decode_via_units=True) to decode_timedelta. To silence this warning, set decode_timedelta to True, False, or a 'CFTimedeltaCoder' instance.\n",
      "  vars, attrs, coord_names = xr.conventions.decode_cf_variables(\n"
     ]
    },
    {
     "name": "stdout",
     "output_type": "stream",
     "text": [
      "2025-08-19 09:00:00 wdir10 3.9\n",
      "158\n",
      "https://dd.weather.gc.ca/20250818/WXO-DD/model_rdps/10km/06/034/20250818T06Z_MSC_RDPS_WindDir_AGL-10m_RLatLon0.09_PT034H.grib2 20250818T06Z_MSC_RDPS_WindDir_AGL-10m_RLatLon0.09_PT034H.grib2\n",
      "File downloaded successfully: 20250818T06Z_MSC_RDPS_WindDir_AGL-10m_RLatLon0.09_PT034H.grib2, moving to /temp/ ...\n",
      "Commence interpolation\n"
     ]
    },
    {
     "name": "stderr",
     "output_type": "stream",
     "text": [
      "c:\\Users\\lbuchart\\AppData\\Local\\anaconda3\\envs\\prom-env\\Lib\\site-packages\\cfgrib\\xarray_plugin.py:131: FutureWarning: In a future version, xarray will not decode timedelta values based on the presence of a timedelta-like units attribute by default. Instead it will rely on the presence of a timedelta64 dtype attribute, which is now xarray's default way of encoding timedelta64 values. To continue decoding timedeltas based on the presence of a timedelta-like units attribute, users will need to explicitly opt-in by passing True or CFTimedeltaCoder(decode_via_units=True) to decode_timedelta. To silence this warning, set decode_timedelta to True, False, or a 'CFTimedeltaCoder' instance.\n",
      "  vars, attrs, coord_names = xr.conventions.decode_cf_variables(\n"
     ]
    },
    {
     "name": "stdout",
     "output_type": "stream",
     "text": [
      "2025-08-19 10:00:00 wdir10 5.0\n",
      "163\n",
      "https://dd.weather.gc.ca/20250818/WXO-DD/model_rdps/10km/06/035/20250818T06Z_MSC_RDPS_WindDir_AGL-10m_RLatLon0.09_PT035H.grib2 20250818T06Z_MSC_RDPS_WindDir_AGL-10m_RLatLon0.09_PT035H.grib2\n",
      "File downloaded successfully: 20250818T06Z_MSC_RDPS_WindDir_AGL-10m_RLatLon0.09_PT035H.grib2, moving to /temp/ ...\n",
      "Commence interpolation\n"
     ]
    },
    {
     "name": "stderr",
     "output_type": "stream",
     "text": [
      "c:\\Users\\lbuchart\\AppData\\Local\\anaconda3\\envs\\prom-env\\Lib\\site-packages\\cfgrib\\xarray_plugin.py:131: FutureWarning: In a future version, xarray will not decode timedelta values based on the presence of a timedelta-like units attribute by default. Instead it will rely on the presence of a timedelta64 dtype attribute, which is now xarray's default way of encoding timedelta64 values. To continue decoding timedeltas based on the presence of a timedelta-like units attribute, users will need to explicitly opt-in by passing True or CFTimedeltaCoder(decode_via_units=True) to decode_timedelta. To silence this warning, set decode_timedelta to True, False, or a 'CFTimedeltaCoder' instance.\n",
      "  vars, attrs, coord_names = xr.conventions.decode_cf_variables(\n"
     ]
    },
    {
     "name": "stdout",
     "output_type": "stream",
     "text": [
      "2025-08-19 11:00:00 wdir10 357.5\n",
      "168\n",
      "https://dd.weather.gc.ca/20250818/WXO-DD/model_rdps/10km/06/036/20250818T06Z_MSC_RDPS_WindDir_AGL-10m_RLatLon0.09_PT036H.grib2 20250818T06Z_MSC_RDPS_WindDir_AGL-10m_RLatLon0.09_PT036H.grib2\n",
      "File downloaded successfully: 20250818T06Z_MSC_RDPS_WindDir_AGL-10m_RLatLon0.09_PT036H.grib2, moving to /temp/ ...\n",
      "Commence interpolation\n"
     ]
    },
    {
     "name": "stderr",
     "output_type": "stream",
     "text": [
      "c:\\Users\\lbuchart\\AppData\\Local\\anaconda3\\envs\\prom-env\\Lib\\site-packages\\cfgrib\\xarray_plugin.py:131: FutureWarning: In a future version, xarray will not decode timedelta values based on the presence of a timedelta-like units attribute by default. Instead it will rely on the presence of a timedelta64 dtype attribute, which is now xarray's default way of encoding timedelta64 values. To continue decoding timedeltas based on the presence of a timedelta-like units attribute, users will need to explicitly opt-in by passing True or CFTimedeltaCoder(decode_via_units=True) to decode_timedelta. To silence this warning, set decode_timedelta to True, False, or a 'CFTimedeltaCoder' instance.\n",
      "  vars, attrs, coord_names = xr.conventions.decode_cf_variables(\n"
     ]
    },
    {
     "name": "stdout",
     "output_type": "stream",
     "text": [
      "2025-08-19 12:00:00 wdir10 344.1\n",
      "173\n",
      "https://dd.weather.gc.ca/20250818/WXO-DD/model_rdps/10km/06/037/20250818T06Z_MSC_RDPS_WindDir_AGL-10m_RLatLon0.09_PT037H.grib2 20250818T06Z_MSC_RDPS_WindDir_AGL-10m_RLatLon0.09_PT037H.grib2\n",
      "File downloaded successfully: 20250818T06Z_MSC_RDPS_WindDir_AGL-10m_RLatLon0.09_PT037H.grib2, moving to /temp/ ...\n",
      "Commence interpolation\n"
     ]
    },
    {
     "name": "stderr",
     "output_type": "stream",
     "text": [
      "c:\\Users\\lbuchart\\AppData\\Local\\anaconda3\\envs\\prom-env\\Lib\\site-packages\\cfgrib\\xarray_plugin.py:131: FutureWarning: In a future version, xarray will not decode timedelta values based on the presence of a timedelta-like units attribute by default. Instead it will rely on the presence of a timedelta64 dtype attribute, which is now xarray's default way of encoding timedelta64 values. To continue decoding timedeltas based on the presence of a timedelta-like units attribute, users will need to explicitly opt-in by passing True or CFTimedeltaCoder(decode_via_units=True) to decode_timedelta. To silence this warning, set decode_timedelta to True, False, or a 'CFTimedeltaCoder' instance.\n",
      "  vars, attrs, coord_names = xr.conventions.decode_cf_variables(\n"
     ]
    },
    {
     "name": "stdout",
     "output_type": "stream",
     "text": [
      "2025-08-19 13:00:00 wdir10 341.1\n",
      "178\n",
      "https://dd.weather.gc.ca/20250818/WXO-DD/model_rdps/10km/06/038/20250818T06Z_MSC_RDPS_WindDir_AGL-10m_RLatLon0.09_PT038H.grib2 20250818T06Z_MSC_RDPS_WindDir_AGL-10m_RLatLon0.09_PT038H.grib2\n",
      "File downloaded successfully: 20250818T06Z_MSC_RDPS_WindDir_AGL-10m_RLatLon0.09_PT038H.grib2, moving to /temp/ ...\n",
      "Commence interpolation\n"
     ]
    },
    {
     "name": "stderr",
     "output_type": "stream",
     "text": [
      "c:\\Users\\lbuchart\\AppData\\Local\\anaconda3\\envs\\prom-env\\Lib\\site-packages\\cfgrib\\xarray_plugin.py:131: FutureWarning: In a future version, xarray will not decode timedelta values based on the presence of a timedelta-like units attribute by default. Instead it will rely on the presence of a timedelta64 dtype attribute, which is now xarray's default way of encoding timedelta64 values. To continue decoding timedeltas based on the presence of a timedelta-like units attribute, users will need to explicitly opt-in by passing True or CFTimedeltaCoder(decode_via_units=True) to decode_timedelta. To silence this warning, set decode_timedelta to True, False, or a 'CFTimedeltaCoder' instance.\n",
      "  vars, attrs, coord_names = xr.conventions.decode_cf_variables(\n"
     ]
    },
    {
     "name": "stdout",
     "output_type": "stream",
     "text": [
      "2025-08-19 14:00:00 wdir10 337.9\n",
      "183\n",
      "https://dd.weather.gc.ca/20250818/WXO-DD/model_rdps/10km/06/039/20250818T06Z_MSC_RDPS_WindDir_AGL-10m_RLatLon0.09_PT039H.grib2 20250818T06Z_MSC_RDPS_WindDir_AGL-10m_RLatLon0.09_PT039H.grib2\n",
      "File downloaded successfully: 20250818T06Z_MSC_RDPS_WindDir_AGL-10m_RLatLon0.09_PT039H.grib2, moving to /temp/ ...\n",
      "Commence interpolation\n"
     ]
    },
    {
     "name": "stderr",
     "output_type": "stream",
     "text": [
      "c:\\Users\\lbuchart\\AppData\\Local\\anaconda3\\envs\\prom-env\\Lib\\site-packages\\cfgrib\\xarray_plugin.py:131: FutureWarning: In a future version, xarray will not decode timedelta values based on the presence of a timedelta-like units attribute by default. Instead it will rely on the presence of a timedelta64 dtype attribute, which is now xarray's default way of encoding timedelta64 values. To continue decoding timedeltas based on the presence of a timedelta-like units attribute, users will need to explicitly opt-in by passing True or CFTimedeltaCoder(decode_via_units=True) to decode_timedelta. To silence this warning, set decode_timedelta to True, False, or a 'CFTimedeltaCoder' instance.\n",
      "  vars, attrs, coord_names = xr.conventions.decode_cf_variables(\n"
     ]
    },
    {
     "name": "stdout",
     "output_type": "stream",
     "text": [
      "2025-08-19 15:00:00 wdir10 331.6\n",
      "188\n",
      "https://dd.weather.gc.ca/20250818/WXO-DD/model_rdps/10km/06/040/20250818T06Z_MSC_RDPS_WindDir_AGL-10m_RLatLon0.09_PT040H.grib2 20250818T06Z_MSC_RDPS_WindDir_AGL-10m_RLatLon0.09_PT040H.grib2\n",
      "File downloaded successfully: 20250818T06Z_MSC_RDPS_WindDir_AGL-10m_RLatLon0.09_PT040H.grib2, moving to /temp/ ...\n",
      "Commence interpolation\n"
     ]
    },
    {
     "name": "stderr",
     "output_type": "stream",
     "text": [
      "c:\\Users\\lbuchart\\AppData\\Local\\anaconda3\\envs\\prom-env\\Lib\\site-packages\\cfgrib\\xarray_plugin.py:131: FutureWarning: In a future version, xarray will not decode timedelta values based on the presence of a timedelta-like units attribute by default. Instead it will rely on the presence of a timedelta64 dtype attribute, which is now xarray's default way of encoding timedelta64 values. To continue decoding timedeltas based on the presence of a timedelta-like units attribute, users will need to explicitly opt-in by passing True or CFTimedeltaCoder(decode_via_units=True) to decode_timedelta. To silence this warning, set decode_timedelta to True, False, or a 'CFTimedeltaCoder' instance.\n",
      "  vars, attrs, coord_names = xr.conventions.decode_cf_variables(\n"
     ]
    },
    {
     "name": "stdout",
     "output_type": "stream",
     "text": [
      "2025-08-19 16:00:00 wdir10 325.4\n",
      "193\n",
      "https://dd.weather.gc.ca/20250818/WXO-DD/model_rdps/10km/06/041/20250818T06Z_MSC_RDPS_WindDir_AGL-10m_RLatLon0.09_PT041H.grib2 20250818T06Z_MSC_RDPS_WindDir_AGL-10m_RLatLon0.09_PT041H.grib2\n",
      "File downloaded successfully: 20250818T06Z_MSC_RDPS_WindDir_AGL-10m_RLatLon0.09_PT041H.grib2, moving to /temp/ ...\n",
      "Commence interpolation\n"
     ]
    },
    {
     "name": "stderr",
     "output_type": "stream",
     "text": [
      "c:\\Users\\lbuchart\\AppData\\Local\\anaconda3\\envs\\prom-env\\Lib\\site-packages\\cfgrib\\xarray_plugin.py:131: FutureWarning: In a future version, xarray will not decode timedelta values based on the presence of a timedelta-like units attribute by default. Instead it will rely on the presence of a timedelta64 dtype attribute, which is now xarray's default way of encoding timedelta64 values. To continue decoding timedeltas based on the presence of a timedelta-like units attribute, users will need to explicitly opt-in by passing True or CFTimedeltaCoder(decode_via_units=True) to decode_timedelta. To silence this warning, set decode_timedelta to True, False, or a 'CFTimedeltaCoder' instance.\n",
      "  vars, attrs, coord_names = xr.conventions.decode_cf_variables(\n"
     ]
    },
    {
     "name": "stdout",
     "output_type": "stream",
     "text": [
      "2025-08-19 17:00:00 wdir10 322.6\n",
      "198\n",
      "https://dd.weather.gc.ca/20250818/WXO-DD/model_rdps/10km/06/042/20250818T06Z_MSC_RDPS_WindDir_AGL-10m_RLatLon0.09_PT042H.grib2 20250818T06Z_MSC_RDPS_WindDir_AGL-10m_RLatLon0.09_PT042H.grib2\n",
      "File downloaded successfully: 20250818T06Z_MSC_RDPS_WindDir_AGL-10m_RLatLon0.09_PT042H.grib2, moving to /temp/ ...\n",
      "Commence interpolation\n"
     ]
    },
    {
     "name": "stderr",
     "output_type": "stream",
     "text": [
      "c:\\Users\\lbuchart\\AppData\\Local\\anaconda3\\envs\\prom-env\\Lib\\site-packages\\cfgrib\\xarray_plugin.py:131: FutureWarning: In a future version, xarray will not decode timedelta values based on the presence of a timedelta-like units attribute by default. Instead it will rely on the presence of a timedelta64 dtype attribute, which is now xarray's default way of encoding timedelta64 values. To continue decoding timedeltas based on the presence of a timedelta-like units attribute, users will need to explicitly opt-in by passing True or CFTimedeltaCoder(decode_via_units=True) to decode_timedelta. To silence this warning, set decode_timedelta to True, False, or a 'CFTimedeltaCoder' instance.\n",
      "  vars, attrs, coord_names = xr.conventions.decode_cf_variables(\n"
     ]
    },
    {
     "name": "stdout",
     "output_type": "stream",
     "text": [
      "2025-08-19 18:00:00 wdir10 322.0\n",
      "203\n",
      "https://dd.weather.gc.ca/20250818/WXO-DD/model_rdps/10km/06/043/20250818T06Z_MSC_RDPS_WindDir_AGL-10m_RLatLon0.09_PT043H.grib2 20250818T06Z_MSC_RDPS_WindDir_AGL-10m_RLatLon0.09_PT043H.grib2\n",
      "File downloaded successfully: 20250818T06Z_MSC_RDPS_WindDir_AGL-10m_RLatLon0.09_PT043H.grib2, moving to /temp/ ...\n",
      "Commence interpolation\n"
     ]
    },
    {
     "name": "stderr",
     "output_type": "stream",
     "text": [
      "c:\\Users\\lbuchart\\AppData\\Local\\anaconda3\\envs\\prom-env\\Lib\\site-packages\\cfgrib\\xarray_plugin.py:131: FutureWarning: In a future version, xarray will not decode timedelta values based on the presence of a timedelta-like units attribute by default. Instead it will rely on the presence of a timedelta64 dtype attribute, which is now xarray's default way of encoding timedelta64 values. To continue decoding timedeltas based on the presence of a timedelta-like units attribute, users will need to explicitly opt-in by passing True or CFTimedeltaCoder(decode_via_units=True) to decode_timedelta. To silence this warning, set decode_timedelta to True, False, or a 'CFTimedeltaCoder' instance.\n",
      "  vars, attrs, coord_names = xr.conventions.decode_cf_variables(\n"
     ]
    },
    {
     "name": "stdout",
     "output_type": "stream",
     "text": [
      "2025-08-19 19:00:00 wdir10 320.9\n",
      "208\n",
      "https://dd.weather.gc.ca/20250818/WXO-DD/model_rdps/10km/06/044/20250818T06Z_MSC_RDPS_WindDir_AGL-10m_RLatLon0.09_PT044H.grib2 20250818T06Z_MSC_RDPS_WindDir_AGL-10m_RLatLon0.09_PT044H.grib2\n",
      "File downloaded successfully: 20250818T06Z_MSC_RDPS_WindDir_AGL-10m_RLatLon0.09_PT044H.grib2, moving to /temp/ ...\n",
      "Commence interpolation\n"
     ]
    },
    {
     "name": "stderr",
     "output_type": "stream",
     "text": [
      "c:\\Users\\lbuchart\\AppData\\Local\\anaconda3\\envs\\prom-env\\Lib\\site-packages\\cfgrib\\xarray_plugin.py:131: FutureWarning: In a future version, xarray will not decode timedelta values based on the presence of a timedelta-like units attribute by default. Instead it will rely on the presence of a timedelta64 dtype attribute, which is now xarray's default way of encoding timedelta64 values. To continue decoding timedeltas based on the presence of a timedelta-like units attribute, users will need to explicitly opt-in by passing True or CFTimedeltaCoder(decode_via_units=True) to decode_timedelta. To silence this warning, set decode_timedelta to True, False, or a 'CFTimedeltaCoder' instance.\n",
      "  vars, attrs, coord_names = xr.conventions.decode_cf_variables(\n"
     ]
    },
    {
     "name": "stdout",
     "output_type": "stream",
     "text": [
      "2025-08-19 20:00:00 wdir10 321.3\n",
      "213\n",
      "https://dd.weather.gc.ca/20250818/WXO-DD/model_rdps/10km/06/045/20250818T06Z_MSC_RDPS_WindDir_AGL-10m_RLatLon0.09_PT045H.grib2 20250818T06Z_MSC_RDPS_WindDir_AGL-10m_RLatLon0.09_PT045H.grib2\n",
      "File downloaded successfully: 20250818T06Z_MSC_RDPS_WindDir_AGL-10m_RLatLon0.09_PT045H.grib2, moving to /temp/ ...\n",
      "Commence interpolation\n"
     ]
    },
    {
     "name": "stderr",
     "output_type": "stream",
     "text": [
      "c:\\Users\\lbuchart\\AppData\\Local\\anaconda3\\envs\\prom-env\\Lib\\site-packages\\cfgrib\\xarray_plugin.py:131: FutureWarning: In a future version, xarray will not decode timedelta values based on the presence of a timedelta-like units attribute by default. Instead it will rely on the presence of a timedelta64 dtype attribute, which is now xarray's default way of encoding timedelta64 values. To continue decoding timedeltas based on the presence of a timedelta-like units attribute, users will need to explicitly opt-in by passing True or CFTimedeltaCoder(decode_via_units=True) to decode_timedelta. To silence this warning, set decode_timedelta to True, False, or a 'CFTimedeltaCoder' instance.\n",
      "  vars, attrs, coord_names = xr.conventions.decode_cf_variables(\n"
     ]
    },
    {
     "name": "stdout",
     "output_type": "stream",
     "text": [
      "2025-08-19 21:00:00 wdir10 320.5\n",
      "218\n",
      "https://dd.weather.gc.ca/20250818/WXO-DD/model_rdps/10km/06/046/20250818T06Z_MSC_RDPS_WindDir_AGL-10m_RLatLon0.09_PT046H.grib2 20250818T06Z_MSC_RDPS_WindDir_AGL-10m_RLatLon0.09_PT046H.grib2\n",
      "File downloaded successfully: 20250818T06Z_MSC_RDPS_WindDir_AGL-10m_RLatLon0.09_PT046H.grib2, moving to /temp/ ...\n",
      "Commence interpolation\n"
     ]
    },
    {
     "name": "stderr",
     "output_type": "stream",
     "text": [
      "c:\\Users\\lbuchart\\AppData\\Local\\anaconda3\\envs\\prom-env\\Lib\\site-packages\\cfgrib\\xarray_plugin.py:131: FutureWarning: In a future version, xarray will not decode timedelta values based on the presence of a timedelta-like units attribute by default. Instead it will rely on the presence of a timedelta64 dtype attribute, which is now xarray's default way of encoding timedelta64 values. To continue decoding timedeltas based on the presence of a timedelta-like units attribute, users will need to explicitly opt-in by passing True or CFTimedeltaCoder(decode_via_units=True) to decode_timedelta. To silence this warning, set decode_timedelta to True, False, or a 'CFTimedeltaCoder' instance.\n",
      "  vars, attrs, coord_names = xr.conventions.decode_cf_variables(\n"
     ]
    },
    {
     "name": "stdout",
     "output_type": "stream",
     "text": [
      "2025-08-19 22:00:00 wdir10 318.3\n",
      "223\n",
      "https://dd.weather.gc.ca/20250818/WXO-DD/model_rdps/10km/06/047/20250818T06Z_MSC_RDPS_WindDir_AGL-10m_RLatLon0.09_PT047H.grib2 20250818T06Z_MSC_RDPS_WindDir_AGL-10m_RLatLon0.09_PT047H.grib2\n",
      "File downloaded successfully: 20250818T06Z_MSC_RDPS_WindDir_AGL-10m_RLatLon0.09_PT047H.grib2, moving to /temp/ ...\n",
      "Commence interpolation\n"
     ]
    },
    {
     "name": "stderr",
     "output_type": "stream",
     "text": [
      "c:\\Users\\lbuchart\\AppData\\Local\\anaconda3\\envs\\prom-env\\Lib\\site-packages\\cfgrib\\xarray_plugin.py:131: FutureWarning: In a future version, xarray will not decode timedelta values based on the presence of a timedelta-like units attribute by default. Instead it will rely on the presence of a timedelta64 dtype attribute, which is now xarray's default way of encoding timedelta64 values. To continue decoding timedeltas based on the presence of a timedelta-like units attribute, users will need to explicitly opt-in by passing True or CFTimedeltaCoder(decode_via_units=True) to decode_timedelta. To silence this warning, set decode_timedelta to True, False, or a 'CFTimedeltaCoder' instance.\n",
      "  vars, attrs, coord_names = xr.conventions.decode_cf_variables(\n"
     ]
    },
    {
     "name": "stdout",
     "output_type": "stream",
     "text": [
      "2025-08-19 23:00:00 wdir10 318.8\n",
      "228\n",
      "https://dd.weather.gc.ca/20250818/WXO-DD/model_rdps/10km/06/048/20250818T06Z_MSC_RDPS_WindDir_AGL-10m_RLatLon0.09_PT048H.grib2 20250818T06Z_MSC_RDPS_WindDir_AGL-10m_RLatLon0.09_PT048H.grib2\n",
      "File downloaded successfully: 20250818T06Z_MSC_RDPS_WindDir_AGL-10m_RLatLon0.09_PT048H.grib2, moving to /temp/ ...\n",
      "Commence interpolation\n"
     ]
    },
    {
     "name": "stderr",
     "output_type": "stream",
     "text": [
      "c:\\Users\\lbuchart\\AppData\\Local\\anaconda3\\envs\\prom-env\\Lib\\site-packages\\cfgrib\\xarray_plugin.py:131: FutureWarning: In a future version, xarray will not decode timedelta values based on the presence of a timedelta-like units attribute by default. Instead it will rely on the presence of a timedelta64 dtype attribute, which is now xarray's default way of encoding timedelta64 values. To continue decoding timedeltas based on the presence of a timedelta-like units attribute, users will need to explicitly opt-in by passing True or CFTimedeltaCoder(decode_via_units=True) to decode_timedelta. To silence this warning, set decode_timedelta to True, False, or a 'CFTimedeltaCoder' instance.\n",
      "  vars, attrs, coord_names = xr.conventions.decode_cf_variables(\n"
     ]
    },
    {
     "name": "stdout",
     "output_type": "stream",
     "text": [
      "2025-08-20 00:00:00 wdir10 318.6\n",
      "233\n",
      "https://dd.weather.gc.ca/20250818/WXO-DD/model_rdps/10km/06/049/20250818T06Z_MSC_RDPS_WindDir_AGL-10m_RLatLon0.09_PT049H.grib2 20250818T06Z_MSC_RDPS_WindDir_AGL-10m_RLatLon0.09_PT049H.grib2\n",
      "File downloaded successfully: 20250818T06Z_MSC_RDPS_WindDir_AGL-10m_RLatLon0.09_PT049H.grib2, moving to /temp/ ...\n",
      "Commence interpolation\n"
     ]
    },
    {
     "name": "stderr",
     "output_type": "stream",
     "text": [
      "c:\\Users\\lbuchart\\AppData\\Local\\anaconda3\\envs\\prom-env\\Lib\\site-packages\\cfgrib\\xarray_plugin.py:131: FutureWarning: In a future version, xarray will not decode timedelta values based on the presence of a timedelta-like units attribute by default. Instead it will rely on the presence of a timedelta64 dtype attribute, which is now xarray's default way of encoding timedelta64 values. To continue decoding timedeltas based on the presence of a timedelta-like units attribute, users will need to explicitly opt-in by passing True or CFTimedeltaCoder(decode_via_units=True) to decode_timedelta. To silence this warning, set decode_timedelta to True, False, or a 'CFTimedeltaCoder' instance.\n",
      "  vars, attrs, coord_names = xr.conventions.decode_cf_variables(\n"
     ]
    },
    {
     "name": "stdout",
     "output_type": "stream",
     "text": [
      "2025-08-20 01:00:00 wdir10 316.4\n",
      "238\n",
      "https://dd.weather.gc.ca/20250818/WXO-DD/model_rdps/10km/06/050/20250818T06Z_MSC_RDPS_WindDir_AGL-10m_RLatLon0.09_PT050H.grib2 20250818T06Z_MSC_RDPS_WindDir_AGL-10m_RLatLon0.09_PT050H.grib2\n",
      "File downloaded successfully: 20250818T06Z_MSC_RDPS_WindDir_AGL-10m_RLatLon0.09_PT050H.grib2, moving to /temp/ ...\n",
      "Commence interpolation\n"
     ]
    },
    {
     "name": "stderr",
     "output_type": "stream",
     "text": [
      "c:\\Users\\lbuchart\\AppData\\Local\\anaconda3\\envs\\prom-env\\Lib\\site-packages\\cfgrib\\xarray_plugin.py:131: FutureWarning: In a future version, xarray will not decode timedelta values based on the presence of a timedelta-like units attribute by default. Instead it will rely on the presence of a timedelta64 dtype attribute, which is now xarray's default way of encoding timedelta64 values. To continue decoding timedeltas based on the presence of a timedelta-like units attribute, users will need to explicitly opt-in by passing True or CFTimedeltaCoder(decode_via_units=True) to decode_timedelta. To silence this warning, set decode_timedelta to True, False, or a 'CFTimedeltaCoder' instance.\n",
      "  vars, attrs, coord_names = xr.conventions.decode_cf_variables(\n"
     ]
    },
    {
     "name": "stdout",
     "output_type": "stream",
     "text": [
      "2025-08-20 02:00:00 wdir10 315.0\n",
      "2\n",
      "https://dd.weather.gc.ca/20250818/WXO-DD/model_rdps/10km/06/003/20250818T06Z_MSC_RDPS_WindSpeed_AGL-10m_RLatLon0.09_PT003H.grib2 20250818T06Z_MSC_RDPS_WindSpeed_AGL-10m_RLatLon0.09_PT003H.grib2\n",
      "File downloaded successfully: 20250818T06Z_MSC_RDPS_WindSpeed_AGL-10m_RLatLon0.09_PT003H.grib2, moving to /temp/ ...\n",
      "Commence interpolation\n"
     ]
    },
    {
     "name": "stderr",
     "output_type": "stream",
     "text": [
      "c:\\Users\\lbuchart\\AppData\\Local\\anaconda3\\envs\\prom-env\\Lib\\site-packages\\cfgrib\\xarray_plugin.py:131: FutureWarning: In a future version, xarray will not decode timedelta values based on the presence of a timedelta-like units attribute by default. Instead it will rely on the presence of a timedelta64 dtype attribute, which is now xarray's default way of encoding timedelta64 values. To continue decoding timedeltas based on the presence of a timedelta-like units attribute, users will need to explicitly opt-in by passing True or CFTimedeltaCoder(decode_via_units=True) to decode_timedelta. To silence this warning, set decode_timedelta to True, False, or a 'CFTimedeltaCoder' instance.\n",
      "  vars, attrs, coord_names = xr.conventions.decode_cf_variables(\n"
     ]
    },
    {
     "name": "stdout",
     "output_type": "stream",
     "text": [
      "2025-08-18 03:00:00 si10 2.22\n",
      "7\n",
      "https://dd.weather.gc.ca/20250818/WXO-DD/model_rdps/10km/06/004/20250818T06Z_MSC_RDPS_WindSpeed_AGL-10m_RLatLon0.09_PT004H.grib2 20250818T06Z_MSC_RDPS_WindSpeed_AGL-10m_RLatLon0.09_PT004H.grib2\n",
      "File downloaded successfully: 20250818T06Z_MSC_RDPS_WindSpeed_AGL-10m_RLatLon0.09_PT004H.grib2, moving to /temp/ ...\n",
      "Commence interpolation\n"
     ]
    },
    {
     "name": "stderr",
     "output_type": "stream",
     "text": [
      "c:\\Users\\lbuchart\\AppData\\Local\\anaconda3\\envs\\prom-env\\Lib\\site-packages\\cfgrib\\xarray_plugin.py:131: FutureWarning: In a future version, xarray will not decode timedelta values based on the presence of a timedelta-like units attribute by default. Instead it will rely on the presence of a timedelta64 dtype attribute, which is now xarray's default way of encoding timedelta64 values. To continue decoding timedeltas based on the presence of a timedelta-like units attribute, users will need to explicitly opt-in by passing True or CFTimedeltaCoder(decode_via_units=True) to decode_timedelta. To silence this warning, set decode_timedelta to True, False, or a 'CFTimedeltaCoder' instance.\n",
      "  vars, attrs, coord_names = xr.conventions.decode_cf_variables(\n"
     ]
    },
    {
     "name": "stdout",
     "output_type": "stream",
     "text": [
      "2025-08-18 04:00:00 si10 2.38\n",
      "12\n",
      "https://dd.weather.gc.ca/20250818/WXO-DD/model_rdps/10km/06/005/20250818T06Z_MSC_RDPS_WindSpeed_AGL-10m_RLatLon0.09_PT005H.grib2 20250818T06Z_MSC_RDPS_WindSpeed_AGL-10m_RLatLon0.09_PT005H.grib2\n",
      "File downloaded successfully: 20250818T06Z_MSC_RDPS_WindSpeed_AGL-10m_RLatLon0.09_PT005H.grib2, moving to /temp/ ...\n",
      "Commence interpolation\n"
     ]
    },
    {
     "name": "stderr",
     "output_type": "stream",
     "text": [
      "c:\\Users\\lbuchart\\AppData\\Local\\anaconda3\\envs\\prom-env\\Lib\\site-packages\\cfgrib\\xarray_plugin.py:131: FutureWarning: In a future version, xarray will not decode timedelta values based on the presence of a timedelta-like units attribute by default. Instead it will rely on the presence of a timedelta64 dtype attribute, which is now xarray's default way of encoding timedelta64 values. To continue decoding timedeltas based on the presence of a timedelta-like units attribute, users will need to explicitly opt-in by passing True or CFTimedeltaCoder(decode_via_units=True) to decode_timedelta. To silence this warning, set decode_timedelta to True, False, or a 'CFTimedeltaCoder' instance.\n",
      "  vars, attrs, coord_names = xr.conventions.decode_cf_variables(\n"
     ]
    },
    {
     "name": "stdout",
     "output_type": "stream",
     "text": [
      "2025-08-18 05:00:00 si10 2.75\n",
      "17\n",
      "https://dd.weather.gc.ca/20250818/WXO-DD/model_rdps/10km/06/006/20250818T06Z_MSC_RDPS_WindSpeed_AGL-10m_RLatLon0.09_PT006H.grib2 20250818T06Z_MSC_RDPS_WindSpeed_AGL-10m_RLatLon0.09_PT006H.grib2\n",
      "File downloaded successfully: 20250818T06Z_MSC_RDPS_WindSpeed_AGL-10m_RLatLon0.09_PT006H.grib2, moving to /temp/ ...\n",
      "Commence interpolation\n"
     ]
    },
    {
     "name": "stderr",
     "output_type": "stream",
     "text": [
      "c:\\Users\\lbuchart\\AppData\\Local\\anaconda3\\envs\\prom-env\\Lib\\site-packages\\cfgrib\\xarray_plugin.py:131: FutureWarning: In a future version, xarray will not decode timedelta values based on the presence of a timedelta-like units attribute by default. Instead it will rely on the presence of a timedelta64 dtype attribute, which is now xarray's default way of encoding timedelta64 values. To continue decoding timedeltas based on the presence of a timedelta-like units attribute, users will need to explicitly opt-in by passing True or CFTimedeltaCoder(decode_via_units=True) to decode_timedelta. To silence this warning, set decode_timedelta to True, False, or a 'CFTimedeltaCoder' instance.\n",
      "  vars, attrs, coord_names = xr.conventions.decode_cf_variables(\n"
     ]
    },
    {
     "name": "stdout",
     "output_type": "stream",
     "text": [
      "2025-08-18 06:00:00 si10 3.17\n",
      "22\n",
      "https://dd.weather.gc.ca/20250818/WXO-DD/model_rdps/10km/06/007/20250818T06Z_MSC_RDPS_WindSpeed_AGL-10m_RLatLon0.09_PT007H.grib2 20250818T06Z_MSC_RDPS_WindSpeed_AGL-10m_RLatLon0.09_PT007H.grib2\n",
      "File downloaded successfully: 20250818T06Z_MSC_RDPS_WindSpeed_AGL-10m_RLatLon0.09_PT007H.grib2, moving to /temp/ ...\n",
      "Commence interpolation\n"
     ]
    },
    {
     "name": "stderr",
     "output_type": "stream",
     "text": [
      "c:\\Users\\lbuchart\\AppData\\Local\\anaconda3\\envs\\prom-env\\Lib\\site-packages\\cfgrib\\xarray_plugin.py:131: FutureWarning: In a future version, xarray will not decode timedelta values based on the presence of a timedelta-like units attribute by default. Instead it will rely on the presence of a timedelta64 dtype attribute, which is now xarray's default way of encoding timedelta64 values. To continue decoding timedeltas based on the presence of a timedelta-like units attribute, users will need to explicitly opt-in by passing True or CFTimedeltaCoder(decode_via_units=True) to decode_timedelta. To silence this warning, set decode_timedelta to True, False, or a 'CFTimedeltaCoder' instance.\n",
      "  vars, attrs, coord_names = xr.conventions.decode_cf_variables(\n"
     ]
    },
    {
     "name": "stdout",
     "output_type": "stream",
     "text": [
      "2025-08-18 07:00:00 si10 3.02\n",
      "27\n",
      "https://dd.weather.gc.ca/20250818/WXO-DD/model_rdps/10km/06/008/20250818T06Z_MSC_RDPS_WindSpeed_AGL-10m_RLatLon0.09_PT008H.grib2 20250818T06Z_MSC_RDPS_WindSpeed_AGL-10m_RLatLon0.09_PT008H.grib2\n",
      "File downloaded successfully: 20250818T06Z_MSC_RDPS_WindSpeed_AGL-10m_RLatLon0.09_PT008H.grib2, moving to /temp/ ...\n",
      "Commence interpolation\n"
     ]
    },
    {
     "name": "stderr",
     "output_type": "stream",
     "text": [
      "c:\\Users\\lbuchart\\AppData\\Local\\anaconda3\\envs\\prom-env\\Lib\\site-packages\\cfgrib\\xarray_plugin.py:131: FutureWarning: In a future version, xarray will not decode timedelta values based on the presence of a timedelta-like units attribute by default. Instead it will rely on the presence of a timedelta64 dtype attribute, which is now xarray's default way of encoding timedelta64 values. To continue decoding timedeltas based on the presence of a timedelta-like units attribute, users will need to explicitly opt-in by passing True or CFTimedeltaCoder(decode_via_units=True) to decode_timedelta. To silence this warning, set decode_timedelta to True, False, or a 'CFTimedeltaCoder' instance.\n",
      "  vars, attrs, coord_names = xr.conventions.decode_cf_variables(\n"
     ]
    },
    {
     "name": "stdout",
     "output_type": "stream",
     "text": [
      "2025-08-18 08:00:00 si10 2.59\n",
      "32\n",
      "https://dd.weather.gc.ca/20250818/WXO-DD/model_rdps/10km/06/009/20250818T06Z_MSC_RDPS_WindSpeed_AGL-10m_RLatLon0.09_PT009H.grib2 20250818T06Z_MSC_RDPS_WindSpeed_AGL-10m_RLatLon0.09_PT009H.grib2\n",
      "File downloaded successfully: 20250818T06Z_MSC_RDPS_WindSpeed_AGL-10m_RLatLon0.09_PT009H.grib2, moving to /temp/ ...\n",
      "Commence interpolation\n"
     ]
    },
    {
     "name": "stderr",
     "output_type": "stream",
     "text": [
      "c:\\Users\\lbuchart\\AppData\\Local\\anaconda3\\envs\\prom-env\\Lib\\site-packages\\cfgrib\\xarray_plugin.py:131: FutureWarning: In a future version, xarray will not decode timedelta values based on the presence of a timedelta-like units attribute by default. Instead it will rely on the presence of a timedelta64 dtype attribute, which is now xarray's default way of encoding timedelta64 values. To continue decoding timedeltas based on the presence of a timedelta-like units attribute, users will need to explicitly opt-in by passing True or CFTimedeltaCoder(decode_via_units=True) to decode_timedelta. To silence this warning, set decode_timedelta to True, False, or a 'CFTimedeltaCoder' instance.\n",
      "  vars, attrs, coord_names = xr.conventions.decode_cf_variables(\n"
     ]
    },
    {
     "name": "stdout",
     "output_type": "stream",
     "text": [
      "2025-08-18 09:00:00 si10 2.27\n",
      "37\n",
      "https://dd.weather.gc.ca/20250818/WXO-DD/model_rdps/10km/06/010/20250818T06Z_MSC_RDPS_WindSpeed_AGL-10m_RLatLon0.09_PT010H.grib2 20250818T06Z_MSC_RDPS_WindSpeed_AGL-10m_RLatLon0.09_PT010H.grib2\n",
      "File downloaded successfully: 20250818T06Z_MSC_RDPS_WindSpeed_AGL-10m_RLatLon0.09_PT010H.grib2, moving to /temp/ ...\n",
      "Commence interpolation\n"
     ]
    },
    {
     "name": "stderr",
     "output_type": "stream",
     "text": [
      "c:\\Users\\lbuchart\\AppData\\Local\\anaconda3\\envs\\prom-env\\Lib\\site-packages\\cfgrib\\xarray_plugin.py:131: FutureWarning: In a future version, xarray will not decode timedelta values based on the presence of a timedelta-like units attribute by default. Instead it will rely on the presence of a timedelta64 dtype attribute, which is now xarray's default way of encoding timedelta64 values. To continue decoding timedeltas based on the presence of a timedelta-like units attribute, users will need to explicitly opt-in by passing True or CFTimedeltaCoder(decode_via_units=True) to decode_timedelta. To silence this warning, set decode_timedelta to True, False, or a 'CFTimedeltaCoder' instance.\n",
      "  vars, attrs, coord_names = xr.conventions.decode_cf_variables(\n"
     ]
    },
    {
     "name": "stdout",
     "output_type": "stream",
     "text": [
      "2025-08-18 10:00:00 si10 1.77\n",
      "42\n",
      "https://dd.weather.gc.ca/20250818/WXO-DD/model_rdps/10km/06/011/20250818T06Z_MSC_RDPS_WindSpeed_AGL-10m_RLatLon0.09_PT011H.grib2 20250818T06Z_MSC_RDPS_WindSpeed_AGL-10m_RLatLon0.09_PT011H.grib2\n",
      "File downloaded successfully: 20250818T06Z_MSC_RDPS_WindSpeed_AGL-10m_RLatLon0.09_PT011H.grib2, moving to /temp/ ...\n",
      "Commence interpolation\n"
     ]
    },
    {
     "name": "stderr",
     "output_type": "stream",
     "text": [
      "c:\\Users\\lbuchart\\AppData\\Local\\anaconda3\\envs\\prom-env\\Lib\\site-packages\\cfgrib\\xarray_plugin.py:131: FutureWarning: In a future version, xarray will not decode timedelta values based on the presence of a timedelta-like units attribute by default. Instead it will rely on the presence of a timedelta64 dtype attribute, which is now xarray's default way of encoding timedelta64 values. To continue decoding timedeltas based on the presence of a timedelta-like units attribute, users will need to explicitly opt-in by passing True or CFTimedeltaCoder(decode_via_units=True) to decode_timedelta. To silence this warning, set decode_timedelta to True, False, or a 'CFTimedeltaCoder' instance.\n",
      "  vars, attrs, coord_names = xr.conventions.decode_cf_variables(\n"
     ]
    },
    {
     "name": "stdout",
     "output_type": "stream",
     "text": [
      "2025-08-18 11:00:00 si10 1.6\n",
      "47\n",
      "https://dd.weather.gc.ca/20250818/WXO-DD/model_rdps/10km/06/012/20250818T06Z_MSC_RDPS_WindSpeed_AGL-10m_RLatLon0.09_PT012H.grib2 20250818T06Z_MSC_RDPS_WindSpeed_AGL-10m_RLatLon0.09_PT012H.grib2\n",
      "File downloaded successfully: 20250818T06Z_MSC_RDPS_WindSpeed_AGL-10m_RLatLon0.09_PT012H.grib2, moving to /temp/ ...\n",
      "Commence interpolation\n"
     ]
    },
    {
     "name": "stderr",
     "output_type": "stream",
     "text": [
      "c:\\Users\\lbuchart\\AppData\\Local\\anaconda3\\envs\\prom-env\\Lib\\site-packages\\cfgrib\\xarray_plugin.py:131: FutureWarning: In a future version, xarray will not decode timedelta values based on the presence of a timedelta-like units attribute by default. Instead it will rely on the presence of a timedelta64 dtype attribute, which is now xarray's default way of encoding timedelta64 values. To continue decoding timedeltas based on the presence of a timedelta-like units attribute, users will need to explicitly opt-in by passing True or CFTimedeltaCoder(decode_via_units=True) to decode_timedelta. To silence this warning, set decode_timedelta to True, False, or a 'CFTimedeltaCoder' instance.\n",
      "  vars, attrs, coord_names = xr.conventions.decode_cf_variables(\n"
     ]
    },
    {
     "name": "stdout",
     "output_type": "stream",
     "text": [
      "2025-08-18 12:00:00 si10 2.59\n",
      "52\n",
      "https://dd.weather.gc.ca/20250818/WXO-DD/model_rdps/10km/06/013/20250818T06Z_MSC_RDPS_WindSpeed_AGL-10m_RLatLon0.09_PT013H.grib2 20250818T06Z_MSC_RDPS_WindSpeed_AGL-10m_RLatLon0.09_PT013H.grib2\n",
      "File downloaded successfully: 20250818T06Z_MSC_RDPS_WindSpeed_AGL-10m_RLatLon0.09_PT013H.grib2, moving to /temp/ ...\n",
      "Commence interpolation\n"
     ]
    },
    {
     "name": "stderr",
     "output_type": "stream",
     "text": [
      "c:\\Users\\lbuchart\\AppData\\Local\\anaconda3\\envs\\prom-env\\Lib\\site-packages\\cfgrib\\xarray_plugin.py:131: FutureWarning: In a future version, xarray will not decode timedelta values based on the presence of a timedelta-like units attribute by default. Instead it will rely on the presence of a timedelta64 dtype attribute, which is now xarray's default way of encoding timedelta64 values. To continue decoding timedeltas based on the presence of a timedelta-like units attribute, users will need to explicitly opt-in by passing True or CFTimedeltaCoder(decode_via_units=True) to decode_timedelta. To silence this warning, set decode_timedelta to True, False, or a 'CFTimedeltaCoder' instance.\n",
      "  vars, attrs, coord_names = xr.conventions.decode_cf_variables(\n"
     ]
    },
    {
     "name": "stdout",
     "output_type": "stream",
     "text": [
      "2025-08-18 13:00:00 si10 3.71\n",
      "57\n",
      "https://dd.weather.gc.ca/20250818/WXO-DD/model_rdps/10km/06/014/20250818T06Z_MSC_RDPS_WindSpeed_AGL-10m_RLatLon0.09_PT014H.grib2 20250818T06Z_MSC_RDPS_WindSpeed_AGL-10m_RLatLon0.09_PT014H.grib2\n",
      "File downloaded successfully: 20250818T06Z_MSC_RDPS_WindSpeed_AGL-10m_RLatLon0.09_PT014H.grib2, moving to /temp/ ...\n",
      "Commence interpolation\n"
     ]
    },
    {
     "name": "stderr",
     "output_type": "stream",
     "text": [
      "c:\\Users\\lbuchart\\AppData\\Local\\anaconda3\\envs\\prom-env\\Lib\\site-packages\\cfgrib\\xarray_plugin.py:131: FutureWarning: In a future version, xarray will not decode timedelta values based on the presence of a timedelta-like units attribute by default. Instead it will rely on the presence of a timedelta64 dtype attribute, which is now xarray's default way of encoding timedelta64 values. To continue decoding timedeltas based on the presence of a timedelta-like units attribute, users will need to explicitly opt-in by passing True or CFTimedeltaCoder(decode_via_units=True) to decode_timedelta. To silence this warning, set decode_timedelta to True, False, or a 'CFTimedeltaCoder' instance.\n",
      "  vars, attrs, coord_names = xr.conventions.decode_cf_variables(\n"
     ]
    },
    {
     "name": "stdout",
     "output_type": "stream",
     "text": [
      "2025-08-18 14:00:00 si10 3.52\n",
      "62\n",
      "https://dd.weather.gc.ca/20250818/WXO-DD/model_rdps/10km/06/015/20250818T06Z_MSC_RDPS_WindSpeed_AGL-10m_RLatLon0.09_PT015H.grib2 20250818T06Z_MSC_RDPS_WindSpeed_AGL-10m_RLatLon0.09_PT015H.grib2\n",
      "File downloaded successfully: 20250818T06Z_MSC_RDPS_WindSpeed_AGL-10m_RLatLon0.09_PT015H.grib2, moving to /temp/ ...\n",
      "Commence interpolation\n"
     ]
    },
    {
     "name": "stderr",
     "output_type": "stream",
     "text": [
      "c:\\Users\\lbuchart\\AppData\\Local\\anaconda3\\envs\\prom-env\\Lib\\site-packages\\cfgrib\\xarray_plugin.py:131: FutureWarning: In a future version, xarray will not decode timedelta values based on the presence of a timedelta-like units attribute by default. Instead it will rely on the presence of a timedelta64 dtype attribute, which is now xarray's default way of encoding timedelta64 values. To continue decoding timedeltas based on the presence of a timedelta-like units attribute, users will need to explicitly opt-in by passing True or CFTimedeltaCoder(decode_via_units=True) to decode_timedelta. To silence this warning, set decode_timedelta to True, False, or a 'CFTimedeltaCoder' instance.\n",
      "  vars, attrs, coord_names = xr.conventions.decode_cf_variables(\n"
     ]
    },
    {
     "name": "stdout",
     "output_type": "stream",
     "text": [
      "2025-08-18 15:00:00 si10 3.59\n",
      "67\n",
      "https://dd.weather.gc.ca/20250818/WXO-DD/model_rdps/10km/06/016/20250818T06Z_MSC_RDPS_WindSpeed_AGL-10m_RLatLon0.09_PT016H.grib2 20250818T06Z_MSC_RDPS_WindSpeed_AGL-10m_RLatLon0.09_PT016H.grib2\n",
      "File downloaded successfully: 20250818T06Z_MSC_RDPS_WindSpeed_AGL-10m_RLatLon0.09_PT016H.grib2, moving to /temp/ ...\n",
      "Commence interpolation\n"
     ]
    },
    {
     "name": "stderr",
     "output_type": "stream",
     "text": [
      "c:\\Users\\lbuchart\\AppData\\Local\\anaconda3\\envs\\prom-env\\Lib\\site-packages\\cfgrib\\xarray_plugin.py:131: FutureWarning: In a future version, xarray will not decode timedelta values based on the presence of a timedelta-like units attribute by default. Instead it will rely on the presence of a timedelta64 dtype attribute, which is now xarray's default way of encoding timedelta64 values. To continue decoding timedeltas based on the presence of a timedelta-like units attribute, users will need to explicitly opt-in by passing True or CFTimedeltaCoder(decode_via_units=True) to decode_timedelta. To silence this warning, set decode_timedelta to True, False, or a 'CFTimedeltaCoder' instance.\n",
      "  vars, attrs, coord_names = xr.conventions.decode_cf_variables(\n"
     ]
    },
    {
     "name": "stdout",
     "output_type": "stream",
     "text": [
      "2025-08-18 16:00:00 si10 2.95\n",
      "72\n",
      "https://dd.weather.gc.ca/20250818/WXO-DD/model_rdps/10km/06/017/20250818T06Z_MSC_RDPS_WindSpeed_AGL-10m_RLatLon0.09_PT017H.grib2 20250818T06Z_MSC_RDPS_WindSpeed_AGL-10m_RLatLon0.09_PT017H.grib2\n",
      "File downloaded successfully: 20250818T06Z_MSC_RDPS_WindSpeed_AGL-10m_RLatLon0.09_PT017H.grib2, moving to /temp/ ...\n",
      "Commence interpolation\n"
     ]
    },
    {
     "name": "stderr",
     "output_type": "stream",
     "text": [
      "c:\\Users\\lbuchart\\AppData\\Local\\anaconda3\\envs\\prom-env\\Lib\\site-packages\\cfgrib\\xarray_plugin.py:131: FutureWarning: In a future version, xarray will not decode timedelta values based on the presence of a timedelta-like units attribute by default. Instead it will rely on the presence of a timedelta64 dtype attribute, which is now xarray's default way of encoding timedelta64 values. To continue decoding timedeltas based on the presence of a timedelta-like units attribute, users will need to explicitly opt-in by passing True or CFTimedeltaCoder(decode_via_units=True) to decode_timedelta. To silence this warning, set decode_timedelta to True, False, or a 'CFTimedeltaCoder' instance.\n",
      "  vars, attrs, coord_names = xr.conventions.decode_cf_variables(\n"
     ]
    },
    {
     "name": "stdout",
     "output_type": "stream",
     "text": [
      "2025-08-18 17:00:00 si10 1.26\n",
      "77\n",
      "https://dd.weather.gc.ca/20250818/WXO-DD/model_rdps/10km/06/018/20250818T06Z_MSC_RDPS_WindSpeed_AGL-10m_RLatLon0.09_PT018H.grib2 20250818T06Z_MSC_RDPS_WindSpeed_AGL-10m_RLatLon0.09_PT018H.grib2\n",
      "File downloaded successfully: 20250818T06Z_MSC_RDPS_WindSpeed_AGL-10m_RLatLon0.09_PT018H.grib2, moving to /temp/ ...\n",
      "Commence interpolation\n"
     ]
    },
    {
     "name": "stderr",
     "output_type": "stream",
     "text": [
      "c:\\Users\\lbuchart\\AppData\\Local\\anaconda3\\envs\\prom-env\\Lib\\site-packages\\cfgrib\\xarray_plugin.py:131: FutureWarning: In a future version, xarray will not decode timedelta values based on the presence of a timedelta-like units attribute by default. Instead it will rely on the presence of a timedelta64 dtype attribute, which is now xarray's default way of encoding timedelta64 values. To continue decoding timedeltas based on the presence of a timedelta-like units attribute, users will need to explicitly opt-in by passing True or CFTimedeltaCoder(decode_via_units=True) to decode_timedelta. To silence this warning, set decode_timedelta to True, False, or a 'CFTimedeltaCoder' instance.\n",
      "  vars, attrs, coord_names = xr.conventions.decode_cf_variables(\n"
     ]
    },
    {
     "name": "stdout",
     "output_type": "stream",
     "text": [
      "2025-08-18 18:00:00 si10 0.73\n",
      "82\n",
      "https://dd.weather.gc.ca/20250818/WXO-DD/model_rdps/10km/06/019/20250818T06Z_MSC_RDPS_WindSpeed_AGL-10m_RLatLon0.09_PT019H.grib2 20250818T06Z_MSC_RDPS_WindSpeed_AGL-10m_RLatLon0.09_PT019H.grib2\n",
      "File downloaded successfully: 20250818T06Z_MSC_RDPS_WindSpeed_AGL-10m_RLatLon0.09_PT019H.grib2, moving to /temp/ ...\n",
      "Commence interpolation\n"
     ]
    },
    {
     "name": "stderr",
     "output_type": "stream",
     "text": [
      "c:\\Users\\lbuchart\\AppData\\Local\\anaconda3\\envs\\prom-env\\Lib\\site-packages\\cfgrib\\xarray_plugin.py:131: FutureWarning: In a future version, xarray will not decode timedelta values based on the presence of a timedelta-like units attribute by default. Instead it will rely on the presence of a timedelta64 dtype attribute, which is now xarray's default way of encoding timedelta64 values. To continue decoding timedeltas based on the presence of a timedelta-like units attribute, users will need to explicitly opt-in by passing True or CFTimedeltaCoder(decode_via_units=True) to decode_timedelta. To silence this warning, set decode_timedelta to True, False, or a 'CFTimedeltaCoder' instance.\n",
      "  vars, attrs, coord_names = xr.conventions.decode_cf_variables(\n"
     ]
    },
    {
     "name": "stdout",
     "output_type": "stream",
     "text": [
      "2025-08-18 19:00:00 si10 1.48\n",
      "87\n",
      "https://dd.weather.gc.ca/20250818/WXO-DD/model_rdps/10km/06/020/20250818T06Z_MSC_RDPS_WindSpeed_AGL-10m_RLatLon0.09_PT020H.grib2 20250818T06Z_MSC_RDPS_WindSpeed_AGL-10m_RLatLon0.09_PT020H.grib2\n",
      "File downloaded successfully: 20250818T06Z_MSC_RDPS_WindSpeed_AGL-10m_RLatLon0.09_PT020H.grib2, moving to /temp/ ...\n",
      "Commence interpolation\n"
     ]
    },
    {
     "name": "stderr",
     "output_type": "stream",
     "text": [
      "c:\\Users\\lbuchart\\AppData\\Local\\anaconda3\\envs\\prom-env\\Lib\\site-packages\\cfgrib\\xarray_plugin.py:131: FutureWarning: In a future version, xarray will not decode timedelta values based on the presence of a timedelta-like units attribute by default. Instead it will rely on the presence of a timedelta64 dtype attribute, which is now xarray's default way of encoding timedelta64 values. To continue decoding timedeltas based on the presence of a timedelta-like units attribute, users will need to explicitly opt-in by passing True or CFTimedeltaCoder(decode_via_units=True) to decode_timedelta. To silence this warning, set decode_timedelta to True, False, or a 'CFTimedeltaCoder' instance.\n",
      "  vars, attrs, coord_names = xr.conventions.decode_cf_variables(\n"
     ]
    },
    {
     "name": "stdout",
     "output_type": "stream",
     "text": [
      "2025-08-18 20:00:00 si10 1.5\n",
      "92\n",
      "https://dd.weather.gc.ca/20250818/WXO-DD/model_rdps/10km/06/021/20250818T06Z_MSC_RDPS_WindSpeed_AGL-10m_RLatLon0.09_PT021H.grib2 20250818T06Z_MSC_RDPS_WindSpeed_AGL-10m_RLatLon0.09_PT021H.grib2\n",
      "File downloaded successfully: 20250818T06Z_MSC_RDPS_WindSpeed_AGL-10m_RLatLon0.09_PT021H.grib2, moving to /temp/ ...\n",
      "Commence interpolation\n"
     ]
    },
    {
     "name": "stderr",
     "output_type": "stream",
     "text": [
      "c:\\Users\\lbuchart\\AppData\\Local\\anaconda3\\envs\\prom-env\\Lib\\site-packages\\cfgrib\\xarray_plugin.py:131: FutureWarning: In a future version, xarray will not decode timedelta values based on the presence of a timedelta-like units attribute by default. Instead it will rely on the presence of a timedelta64 dtype attribute, which is now xarray's default way of encoding timedelta64 values. To continue decoding timedeltas based on the presence of a timedelta-like units attribute, users will need to explicitly opt-in by passing True or CFTimedeltaCoder(decode_via_units=True) to decode_timedelta. To silence this warning, set decode_timedelta to True, False, or a 'CFTimedeltaCoder' instance.\n",
      "  vars, attrs, coord_names = xr.conventions.decode_cf_variables(\n"
     ]
    },
    {
     "name": "stdout",
     "output_type": "stream",
     "text": [
      "2025-08-18 21:00:00 si10 1.61\n",
      "97\n",
      "https://dd.weather.gc.ca/20250818/WXO-DD/model_rdps/10km/06/022/20250818T06Z_MSC_RDPS_WindSpeed_AGL-10m_RLatLon0.09_PT022H.grib2 20250818T06Z_MSC_RDPS_WindSpeed_AGL-10m_RLatLon0.09_PT022H.grib2\n",
      "File downloaded successfully: 20250818T06Z_MSC_RDPS_WindSpeed_AGL-10m_RLatLon0.09_PT022H.grib2, moving to /temp/ ...\n",
      "Commence interpolation\n"
     ]
    },
    {
     "name": "stderr",
     "output_type": "stream",
     "text": [
      "c:\\Users\\lbuchart\\AppData\\Local\\anaconda3\\envs\\prom-env\\Lib\\site-packages\\cfgrib\\xarray_plugin.py:131: FutureWarning: In a future version, xarray will not decode timedelta values based on the presence of a timedelta-like units attribute by default. Instead it will rely on the presence of a timedelta64 dtype attribute, which is now xarray's default way of encoding timedelta64 values. To continue decoding timedeltas based on the presence of a timedelta-like units attribute, users will need to explicitly opt-in by passing True or CFTimedeltaCoder(decode_via_units=True) to decode_timedelta. To silence this warning, set decode_timedelta to True, False, or a 'CFTimedeltaCoder' instance.\n",
      "  vars, attrs, coord_names = xr.conventions.decode_cf_variables(\n"
     ]
    },
    {
     "name": "stdout",
     "output_type": "stream",
     "text": [
      "2025-08-18 22:00:00 si10 1.55\n",
      "102\n",
      "https://dd.weather.gc.ca/20250818/WXO-DD/model_rdps/10km/06/023/20250818T06Z_MSC_RDPS_WindSpeed_AGL-10m_RLatLon0.09_PT023H.grib2 20250818T06Z_MSC_RDPS_WindSpeed_AGL-10m_RLatLon0.09_PT023H.grib2\n",
      "File downloaded successfully: 20250818T06Z_MSC_RDPS_WindSpeed_AGL-10m_RLatLon0.09_PT023H.grib2, moving to /temp/ ...\n",
      "Commence interpolation\n"
     ]
    },
    {
     "name": "stderr",
     "output_type": "stream",
     "text": [
      "c:\\Users\\lbuchart\\AppData\\Local\\anaconda3\\envs\\prom-env\\Lib\\site-packages\\cfgrib\\xarray_plugin.py:131: FutureWarning: In a future version, xarray will not decode timedelta values based on the presence of a timedelta-like units attribute by default. Instead it will rely on the presence of a timedelta64 dtype attribute, which is now xarray's default way of encoding timedelta64 values. To continue decoding timedeltas based on the presence of a timedelta-like units attribute, users will need to explicitly opt-in by passing True or CFTimedeltaCoder(decode_via_units=True) to decode_timedelta. To silence this warning, set decode_timedelta to True, False, or a 'CFTimedeltaCoder' instance.\n",
      "  vars, attrs, coord_names = xr.conventions.decode_cf_variables(\n"
     ]
    },
    {
     "name": "stdout",
     "output_type": "stream",
     "text": [
      "2025-08-18 23:00:00 si10 1.63\n",
      "107\n",
      "https://dd.weather.gc.ca/20250818/WXO-DD/model_rdps/10km/06/024/20250818T06Z_MSC_RDPS_WindSpeed_AGL-10m_RLatLon0.09_PT024H.grib2 20250818T06Z_MSC_RDPS_WindSpeed_AGL-10m_RLatLon0.09_PT024H.grib2\n",
      "File downloaded successfully: 20250818T06Z_MSC_RDPS_WindSpeed_AGL-10m_RLatLon0.09_PT024H.grib2, moving to /temp/ ...\n",
      "Commence interpolation\n"
     ]
    },
    {
     "name": "stderr",
     "output_type": "stream",
     "text": [
      "c:\\Users\\lbuchart\\AppData\\Local\\anaconda3\\envs\\prom-env\\Lib\\site-packages\\cfgrib\\xarray_plugin.py:131: FutureWarning: In a future version, xarray will not decode timedelta values based on the presence of a timedelta-like units attribute by default. Instead it will rely on the presence of a timedelta64 dtype attribute, which is now xarray's default way of encoding timedelta64 values. To continue decoding timedeltas based on the presence of a timedelta-like units attribute, users will need to explicitly opt-in by passing True or CFTimedeltaCoder(decode_via_units=True) to decode_timedelta. To silence this warning, set decode_timedelta to True, False, or a 'CFTimedeltaCoder' instance.\n",
      "  vars, attrs, coord_names = xr.conventions.decode_cf_variables(\n"
     ]
    },
    {
     "name": "stdout",
     "output_type": "stream",
     "text": [
      "2025-08-19 00:00:00 si10 1.61\n",
      "112\n",
      "https://dd.weather.gc.ca/20250818/WXO-DD/model_rdps/10km/06/025/20250818T06Z_MSC_RDPS_WindSpeed_AGL-10m_RLatLon0.09_PT025H.grib2 20250818T06Z_MSC_RDPS_WindSpeed_AGL-10m_RLatLon0.09_PT025H.grib2\n",
      "File downloaded successfully: 20250818T06Z_MSC_RDPS_WindSpeed_AGL-10m_RLatLon0.09_PT025H.grib2, moving to /temp/ ...\n",
      "Commence interpolation\n"
     ]
    },
    {
     "name": "stderr",
     "output_type": "stream",
     "text": [
      "c:\\Users\\lbuchart\\AppData\\Local\\anaconda3\\envs\\prom-env\\Lib\\site-packages\\cfgrib\\xarray_plugin.py:131: FutureWarning: In a future version, xarray will not decode timedelta values based on the presence of a timedelta-like units attribute by default. Instead it will rely on the presence of a timedelta64 dtype attribute, which is now xarray's default way of encoding timedelta64 values. To continue decoding timedeltas based on the presence of a timedelta-like units attribute, users will need to explicitly opt-in by passing True or CFTimedeltaCoder(decode_via_units=True) to decode_timedelta. To silence this warning, set decode_timedelta to True, False, or a 'CFTimedeltaCoder' instance.\n",
      "  vars, attrs, coord_names = xr.conventions.decode_cf_variables(\n"
     ]
    },
    {
     "name": "stdout",
     "output_type": "stream",
     "text": [
      "2025-08-19 01:00:00 si10 1.9\n",
      "117\n",
      "https://dd.weather.gc.ca/20250818/WXO-DD/model_rdps/10km/06/026/20250818T06Z_MSC_RDPS_WindSpeed_AGL-10m_RLatLon0.09_PT026H.grib2 20250818T06Z_MSC_RDPS_WindSpeed_AGL-10m_RLatLon0.09_PT026H.grib2\n",
      "File downloaded successfully: 20250818T06Z_MSC_RDPS_WindSpeed_AGL-10m_RLatLon0.09_PT026H.grib2, moving to /temp/ ...\n",
      "Commence interpolation\n"
     ]
    },
    {
     "name": "stderr",
     "output_type": "stream",
     "text": [
      "c:\\Users\\lbuchart\\AppData\\Local\\anaconda3\\envs\\prom-env\\Lib\\site-packages\\cfgrib\\xarray_plugin.py:131: FutureWarning: In a future version, xarray will not decode timedelta values based on the presence of a timedelta-like units attribute by default. Instead it will rely on the presence of a timedelta64 dtype attribute, which is now xarray's default way of encoding timedelta64 values. To continue decoding timedeltas based on the presence of a timedelta-like units attribute, users will need to explicitly opt-in by passing True or CFTimedeltaCoder(decode_via_units=True) to decode_timedelta. To silence this warning, set decode_timedelta to True, False, or a 'CFTimedeltaCoder' instance.\n",
      "  vars, attrs, coord_names = xr.conventions.decode_cf_variables(\n"
     ]
    },
    {
     "name": "stdout",
     "output_type": "stream",
     "text": [
      "2025-08-19 02:00:00 si10 2.19\n",
      "122\n",
      "https://dd.weather.gc.ca/20250818/WXO-DD/model_rdps/10km/06/027/20250818T06Z_MSC_RDPS_WindSpeed_AGL-10m_RLatLon0.09_PT027H.grib2 20250818T06Z_MSC_RDPS_WindSpeed_AGL-10m_RLatLon0.09_PT027H.grib2\n",
      "File downloaded successfully: 20250818T06Z_MSC_RDPS_WindSpeed_AGL-10m_RLatLon0.09_PT027H.grib2, moving to /temp/ ...\n",
      "Commence interpolation\n"
     ]
    },
    {
     "name": "stderr",
     "output_type": "stream",
     "text": [
      "c:\\Users\\lbuchart\\AppData\\Local\\anaconda3\\envs\\prom-env\\Lib\\site-packages\\cfgrib\\xarray_plugin.py:131: FutureWarning: In a future version, xarray will not decode timedelta values based on the presence of a timedelta-like units attribute by default. Instead it will rely on the presence of a timedelta64 dtype attribute, which is now xarray's default way of encoding timedelta64 values. To continue decoding timedeltas based on the presence of a timedelta-like units attribute, users will need to explicitly opt-in by passing True or CFTimedeltaCoder(decode_via_units=True) to decode_timedelta. To silence this warning, set decode_timedelta to True, False, or a 'CFTimedeltaCoder' instance.\n",
      "  vars, attrs, coord_names = xr.conventions.decode_cf_variables(\n"
     ]
    },
    {
     "name": "stdout",
     "output_type": "stream",
     "text": [
      "2025-08-19 03:00:00 si10 2.17\n",
      "127\n",
      "https://dd.weather.gc.ca/20250818/WXO-DD/model_rdps/10km/06/028/20250818T06Z_MSC_RDPS_WindSpeed_AGL-10m_RLatLon0.09_PT028H.grib2 20250818T06Z_MSC_RDPS_WindSpeed_AGL-10m_RLatLon0.09_PT028H.grib2\n",
      "File downloaded successfully: 20250818T06Z_MSC_RDPS_WindSpeed_AGL-10m_RLatLon0.09_PT028H.grib2, moving to /temp/ ...\n",
      "Commence interpolation\n"
     ]
    },
    {
     "name": "stderr",
     "output_type": "stream",
     "text": [
      "c:\\Users\\lbuchart\\AppData\\Local\\anaconda3\\envs\\prom-env\\Lib\\site-packages\\cfgrib\\xarray_plugin.py:131: FutureWarning: In a future version, xarray will not decode timedelta values based on the presence of a timedelta-like units attribute by default. Instead it will rely on the presence of a timedelta64 dtype attribute, which is now xarray's default way of encoding timedelta64 values. To continue decoding timedeltas based on the presence of a timedelta-like units attribute, users will need to explicitly opt-in by passing True or CFTimedeltaCoder(decode_via_units=True) to decode_timedelta. To silence this warning, set decode_timedelta to True, False, or a 'CFTimedeltaCoder' instance.\n",
      "  vars, attrs, coord_names = xr.conventions.decode_cf_variables(\n"
     ]
    },
    {
     "name": "stdout",
     "output_type": "stream",
     "text": [
      "2025-08-19 04:00:00 si10 2.11\n",
      "132\n",
      "https://dd.weather.gc.ca/20250818/WXO-DD/model_rdps/10km/06/029/20250818T06Z_MSC_RDPS_WindSpeed_AGL-10m_RLatLon0.09_PT029H.grib2 20250818T06Z_MSC_RDPS_WindSpeed_AGL-10m_RLatLon0.09_PT029H.grib2\n",
      "File downloaded successfully: 20250818T06Z_MSC_RDPS_WindSpeed_AGL-10m_RLatLon0.09_PT029H.grib2, moving to /temp/ ...\n",
      "Commence interpolation\n"
     ]
    },
    {
     "name": "stderr",
     "output_type": "stream",
     "text": [
      "c:\\Users\\lbuchart\\AppData\\Local\\anaconda3\\envs\\prom-env\\Lib\\site-packages\\cfgrib\\xarray_plugin.py:131: FutureWarning: In a future version, xarray will not decode timedelta values based on the presence of a timedelta-like units attribute by default. Instead it will rely on the presence of a timedelta64 dtype attribute, which is now xarray's default way of encoding timedelta64 values. To continue decoding timedeltas based on the presence of a timedelta-like units attribute, users will need to explicitly opt-in by passing True or CFTimedeltaCoder(decode_via_units=True) to decode_timedelta. To silence this warning, set decode_timedelta to True, False, or a 'CFTimedeltaCoder' instance.\n",
      "  vars, attrs, coord_names = xr.conventions.decode_cf_variables(\n"
     ]
    },
    {
     "name": "stdout",
     "output_type": "stream",
     "text": [
      "2025-08-19 05:00:00 si10 3.43\n",
      "137\n",
      "https://dd.weather.gc.ca/20250818/WXO-DD/model_rdps/10km/06/030/20250818T06Z_MSC_RDPS_WindSpeed_AGL-10m_RLatLon0.09_PT030H.grib2 20250818T06Z_MSC_RDPS_WindSpeed_AGL-10m_RLatLon0.09_PT030H.grib2\n",
      "File downloaded successfully: 20250818T06Z_MSC_RDPS_WindSpeed_AGL-10m_RLatLon0.09_PT030H.grib2, moving to /temp/ ...\n",
      "Commence interpolation\n"
     ]
    },
    {
     "name": "stderr",
     "output_type": "stream",
     "text": [
      "c:\\Users\\lbuchart\\AppData\\Local\\anaconda3\\envs\\prom-env\\Lib\\site-packages\\cfgrib\\xarray_plugin.py:131: FutureWarning: In a future version, xarray will not decode timedelta values based on the presence of a timedelta-like units attribute by default. Instead it will rely on the presence of a timedelta64 dtype attribute, which is now xarray's default way of encoding timedelta64 values. To continue decoding timedeltas based on the presence of a timedelta-like units attribute, users will need to explicitly opt-in by passing True or CFTimedeltaCoder(decode_via_units=True) to decode_timedelta. To silence this warning, set decode_timedelta to True, False, or a 'CFTimedeltaCoder' instance.\n",
      "  vars, attrs, coord_names = xr.conventions.decode_cf_variables(\n"
     ]
    },
    {
     "name": "stdout",
     "output_type": "stream",
     "text": [
      "2025-08-19 06:00:00 si10 3.96\n",
      "142\n",
      "https://dd.weather.gc.ca/20250818/WXO-DD/model_rdps/10km/06/031/20250818T06Z_MSC_RDPS_WindSpeed_AGL-10m_RLatLon0.09_PT031H.grib2 20250818T06Z_MSC_RDPS_WindSpeed_AGL-10m_RLatLon0.09_PT031H.grib2\n",
      "File downloaded successfully: 20250818T06Z_MSC_RDPS_WindSpeed_AGL-10m_RLatLon0.09_PT031H.grib2, moving to /temp/ ...\n",
      "Commence interpolation\n"
     ]
    },
    {
     "name": "stderr",
     "output_type": "stream",
     "text": [
      "c:\\Users\\lbuchart\\AppData\\Local\\anaconda3\\envs\\prom-env\\Lib\\site-packages\\cfgrib\\xarray_plugin.py:131: FutureWarning: In a future version, xarray will not decode timedelta values based on the presence of a timedelta-like units attribute by default. Instead it will rely on the presence of a timedelta64 dtype attribute, which is now xarray's default way of encoding timedelta64 values. To continue decoding timedeltas based on the presence of a timedelta-like units attribute, users will need to explicitly opt-in by passing True or CFTimedeltaCoder(decode_via_units=True) to decode_timedelta. To silence this warning, set decode_timedelta to True, False, or a 'CFTimedeltaCoder' instance.\n",
      "  vars, attrs, coord_names = xr.conventions.decode_cf_variables(\n"
     ]
    },
    {
     "name": "stdout",
     "output_type": "stream",
     "text": [
      "2025-08-19 07:00:00 si10 3.96\n",
      "147\n",
      "https://dd.weather.gc.ca/20250818/WXO-DD/model_rdps/10km/06/032/20250818T06Z_MSC_RDPS_WindSpeed_AGL-10m_RLatLon0.09_PT032H.grib2 20250818T06Z_MSC_RDPS_WindSpeed_AGL-10m_RLatLon0.09_PT032H.grib2\n",
      "File downloaded successfully: 20250818T06Z_MSC_RDPS_WindSpeed_AGL-10m_RLatLon0.09_PT032H.grib2, moving to /temp/ ...\n",
      "Commence interpolation\n"
     ]
    },
    {
     "name": "stderr",
     "output_type": "stream",
     "text": [
      "c:\\Users\\lbuchart\\AppData\\Local\\anaconda3\\envs\\prom-env\\Lib\\site-packages\\cfgrib\\xarray_plugin.py:131: FutureWarning: In a future version, xarray will not decode timedelta values based on the presence of a timedelta-like units attribute by default. Instead it will rely on the presence of a timedelta64 dtype attribute, which is now xarray's default way of encoding timedelta64 values. To continue decoding timedeltas based on the presence of a timedelta-like units attribute, users will need to explicitly opt-in by passing True or CFTimedeltaCoder(decode_via_units=True) to decode_timedelta. To silence this warning, set decode_timedelta to True, False, or a 'CFTimedeltaCoder' instance.\n",
      "  vars, attrs, coord_names = xr.conventions.decode_cf_variables(\n"
     ]
    },
    {
     "name": "stdout",
     "output_type": "stream",
     "text": [
      "2025-08-19 08:00:00 si10 4.39\n",
      "152\n",
      "https://dd.weather.gc.ca/20250818/WXO-DD/model_rdps/10km/06/033/20250818T06Z_MSC_RDPS_WindSpeed_AGL-10m_RLatLon0.09_PT033H.grib2 20250818T06Z_MSC_RDPS_WindSpeed_AGL-10m_RLatLon0.09_PT033H.grib2\n",
      "File downloaded successfully: 20250818T06Z_MSC_RDPS_WindSpeed_AGL-10m_RLatLon0.09_PT033H.grib2, moving to /temp/ ...\n",
      "Commence interpolation\n"
     ]
    },
    {
     "name": "stderr",
     "output_type": "stream",
     "text": [
      "c:\\Users\\lbuchart\\AppData\\Local\\anaconda3\\envs\\prom-env\\Lib\\site-packages\\cfgrib\\xarray_plugin.py:131: FutureWarning: In a future version, xarray will not decode timedelta values based on the presence of a timedelta-like units attribute by default. Instead it will rely on the presence of a timedelta64 dtype attribute, which is now xarray's default way of encoding timedelta64 values. To continue decoding timedeltas based on the presence of a timedelta-like units attribute, users will need to explicitly opt-in by passing True or CFTimedeltaCoder(decode_via_units=True) to decode_timedelta. To silence this warning, set decode_timedelta to True, False, or a 'CFTimedeltaCoder' instance.\n",
      "  vars, attrs, coord_names = xr.conventions.decode_cf_variables(\n"
     ]
    },
    {
     "name": "stdout",
     "output_type": "stream",
     "text": [
      "2025-08-19 09:00:00 si10 7.35\n",
      "157\n",
      "https://dd.weather.gc.ca/20250818/WXO-DD/model_rdps/10km/06/034/20250818T06Z_MSC_RDPS_WindSpeed_AGL-10m_RLatLon0.09_PT034H.grib2 20250818T06Z_MSC_RDPS_WindSpeed_AGL-10m_RLatLon0.09_PT034H.grib2\n",
      "File downloaded successfully: 20250818T06Z_MSC_RDPS_WindSpeed_AGL-10m_RLatLon0.09_PT034H.grib2, moving to /temp/ ...\n",
      "Commence interpolation\n"
     ]
    },
    {
     "name": "stderr",
     "output_type": "stream",
     "text": [
      "c:\\Users\\lbuchart\\AppData\\Local\\anaconda3\\envs\\prom-env\\Lib\\site-packages\\cfgrib\\xarray_plugin.py:131: FutureWarning: In a future version, xarray will not decode timedelta values based on the presence of a timedelta-like units attribute by default. Instead it will rely on the presence of a timedelta64 dtype attribute, which is now xarray's default way of encoding timedelta64 values. To continue decoding timedeltas based on the presence of a timedelta-like units attribute, users will need to explicitly opt-in by passing True or CFTimedeltaCoder(decode_via_units=True) to decode_timedelta. To silence this warning, set decode_timedelta to True, False, or a 'CFTimedeltaCoder' instance.\n",
      "  vars, attrs, coord_names = xr.conventions.decode_cf_variables(\n"
     ]
    },
    {
     "name": "stdout",
     "output_type": "stream",
     "text": [
      "2025-08-19 10:00:00 si10 8.25\n",
      "162\n",
      "https://dd.weather.gc.ca/20250818/WXO-DD/model_rdps/10km/06/035/20250818T06Z_MSC_RDPS_WindSpeed_AGL-10m_RLatLon0.09_PT035H.grib2 20250818T06Z_MSC_RDPS_WindSpeed_AGL-10m_RLatLon0.09_PT035H.grib2\n",
      "File downloaded successfully: 20250818T06Z_MSC_RDPS_WindSpeed_AGL-10m_RLatLon0.09_PT035H.grib2, moving to /temp/ ...\n",
      "Commence interpolation\n"
     ]
    },
    {
     "name": "stderr",
     "output_type": "stream",
     "text": [
      "c:\\Users\\lbuchart\\AppData\\Local\\anaconda3\\envs\\prom-env\\Lib\\site-packages\\cfgrib\\xarray_plugin.py:131: FutureWarning: In a future version, xarray will not decode timedelta values based on the presence of a timedelta-like units attribute by default. Instead it will rely on the presence of a timedelta64 dtype attribute, which is now xarray's default way of encoding timedelta64 values. To continue decoding timedeltas based on the presence of a timedelta-like units attribute, users will need to explicitly opt-in by passing True or CFTimedeltaCoder(decode_via_units=True) to decode_timedelta. To silence this warning, set decode_timedelta to True, False, or a 'CFTimedeltaCoder' instance.\n",
      "  vars, attrs, coord_names = xr.conventions.decode_cf_variables(\n"
     ]
    },
    {
     "name": "stdout",
     "output_type": "stream",
     "text": [
      "2025-08-19 11:00:00 si10 7.29\n",
      "167\n",
      "https://dd.weather.gc.ca/20250818/WXO-DD/model_rdps/10km/06/036/20250818T06Z_MSC_RDPS_WindSpeed_AGL-10m_RLatLon0.09_PT036H.grib2 20250818T06Z_MSC_RDPS_WindSpeed_AGL-10m_RLatLon0.09_PT036H.grib2\n",
      "File downloaded successfully: 20250818T06Z_MSC_RDPS_WindSpeed_AGL-10m_RLatLon0.09_PT036H.grib2, moving to /temp/ ...\n",
      "Commence interpolation\n"
     ]
    },
    {
     "name": "stderr",
     "output_type": "stream",
     "text": [
      "c:\\Users\\lbuchart\\AppData\\Local\\anaconda3\\envs\\prom-env\\Lib\\site-packages\\cfgrib\\xarray_plugin.py:131: FutureWarning: In a future version, xarray will not decode timedelta values based on the presence of a timedelta-like units attribute by default. Instead it will rely on the presence of a timedelta64 dtype attribute, which is now xarray's default way of encoding timedelta64 values. To continue decoding timedeltas based on the presence of a timedelta-like units attribute, users will need to explicitly opt-in by passing True or CFTimedeltaCoder(decode_via_units=True) to decode_timedelta. To silence this warning, set decode_timedelta to True, False, or a 'CFTimedeltaCoder' instance.\n",
      "  vars, attrs, coord_names = xr.conventions.decode_cf_variables(\n"
     ]
    },
    {
     "name": "stdout",
     "output_type": "stream",
     "text": [
      "2025-08-19 12:00:00 si10 7.54\n",
      "172\n",
      "https://dd.weather.gc.ca/20250818/WXO-DD/model_rdps/10km/06/037/20250818T06Z_MSC_RDPS_WindSpeed_AGL-10m_RLatLon0.09_PT037H.grib2 20250818T06Z_MSC_RDPS_WindSpeed_AGL-10m_RLatLon0.09_PT037H.grib2\n",
      "File downloaded successfully: 20250818T06Z_MSC_RDPS_WindSpeed_AGL-10m_RLatLon0.09_PT037H.grib2, moving to /temp/ ...\n",
      "Commence interpolation\n"
     ]
    },
    {
     "name": "stderr",
     "output_type": "stream",
     "text": [
      "c:\\Users\\lbuchart\\AppData\\Local\\anaconda3\\envs\\prom-env\\Lib\\site-packages\\cfgrib\\xarray_plugin.py:131: FutureWarning: In a future version, xarray will not decode timedelta values based on the presence of a timedelta-like units attribute by default. Instead it will rely on the presence of a timedelta64 dtype attribute, which is now xarray's default way of encoding timedelta64 values. To continue decoding timedeltas based on the presence of a timedelta-like units attribute, users will need to explicitly opt-in by passing True or CFTimedeltaCoder(decode_via_units=True) to decode_timedelta. To silence this warning, set decode_timedelta to True, False, or a 'CFTimedeltaCoder' instance.\n",
      "  vars, attrs, coord_names = xr.conventions.decode_cf_variables(\n"
     ]
    },
    {
     "name": "stdout",
     "output_type": "stream",
     "text": [
      "2025-08-19 13:00:00 si10 7.12\n",
      "177\n",
      "https://dd.weather.gc.ca/20250818/WXO-DD/model_rdps/10km/06/038/20250818T06Z_MSC_RDPS_WindSpeed_AGL-10m_RLatLon0.09_PT038H.grib2 20250818T06Z_MSC_RDPS_WindSpeed_AGL-10m_RLatLon0.09_PT038H.grib2\n",
      "File downloaded successfully: 20250818T06Z_MSC_RDPS_WindSpeed_AGL-10m_RLatLon0.09_PT038H.grib2, moving to /temp/ ...\n",
      "Commence interpolation\n"
     ]
    },
    {
     "name": "stderr",
     "output_type": "stream",
     "text": [
      "c:\\Users\\lbuchart\\AppData\\Local\\anaconda3\\envs\\prom-env\\Lib\\site-packages\\cfgrib\\xarray_plugin.py:131: FutureWarning: In a future version, xarray will not decode timedelta values based on the presence of a timedelta-like units attribute by default. Instead it will rely on the presence of a timedelta64 dtype attribute, which is now xarray's default way of encoding timedelta64 values. To continue decoding timedeltas based on the presence of a timedelta-like units attribute, users will need to explicitly opt-in by passing True or CFTimedeltaCoder(decode_via_units=True) to decode_timedelta. To silence this warning, set decode_timedelta to True, False, or a 'CFTimedeltaCoder' instance.\n",
      "  vars, attrs, coord_names = xr.conventions.decode_cf_variables(\n"
     ]
    },
    {
     "name": "stdout",
     "output_type": "stream",
     "text": [
      "2025-08-19 14:00:00 si10 7.53\n",
      "182\n",
      "https://dd.weather.gc.ca/20250818/WXO-DD/model_rdps/10km/06/039/20250818T06Z_MSC_RDPS_WindSpeed_AGL-10m_RLatLon0.09_PT039H.grib2 20250818T06Z_MSC_RDPS_WindSpeed_AGL-10m_RLatLon0.09_PT039H.grib2\n",
      "File downloaded successfully: 20250818T06Z_MSC_RDPS_WindSpeed_AGL-10m_RLatLon0.09_PT039H.grib2, moving to /temp/ ...\n",
      "Commence interpolation\n"
     ]
    },
    {
     "name": "stderr",
     "output_type": "stream",
     "text": [
      "c:\\Users\\lbuchart\\AppData\\Local\\anaconda3\\envs\\prom-env\\Lib\\site-packages\\cfgrib\\xarray_plugin.py:131: FutureWarning: In a future version, xarray will not decode timedelta values based on the presence of a timedelta-like units attribute by default. Instead it will rely on the presence of a timedelta64 dtype attribute, which is now xarray's default way of encoding timedelta64 values. To continue decoding timedeltas based on the presence of a timedelta-like units attribute, users will need to explicitly opt-in by passing True or CFTimedeltaCoder(decode_via_units=True) to decode_timedelta. To silence this warning, set decode_timedelta to True, False, or a 'CFTimedeltaCoder' instance.\n",
      "  vars, attrs, coord_names = xr.conventions.decode_cf_variables(\n"
     ]
    },
    {
     "name": "stdout",
     "output_type": "stream",
     "text": [
      "2025-08-19 15:00:00 si10 7.51\n",
      "187\n",
      "https://dd.weather.gc.ca/20250818/WXO-DD/model_rdps/10km/06/040/20250818T06Z_MSC_RDPS_WindSpeed_AGL-10m_RLatLon0.09_PT040H.grib2 20250818T06Z_MSC_RDPS_WindSpeed_AGL-10m_RLatLon0.09_PT040H.grib2\n",
      "File downloaded successfully: 20250818T06Z_MSC_RDPS_WindSpeed_AGL-10m_RLatLon0.09_PT040H.grib2, moving to /temp/ ...\n",
      "Commence interpolation\n"
     ]
    },
    {
     "name": "stderr",
     "output_type": "stream",
     "text": [
      "c:\\Users\\lbuchart\\AppData\\Local\\anaconda3\\envs\\prom-env\\Lib\\site-packages\\cfgrib\\xarray_plugin.py:131: FutureWarning: In a future version, xarray will not decode timedelta values based on the presence of a timedelta-like units attribute by default. Instead it will rely on the presence of a timedelta64 dtype attribute, which is now xarray's default way of encoding timedelta64 values. To continue decoding timedeltas based on the presence of a timedelta-like units attribute, users will need to explicitly opt-in by passing True or CFTimedeltaCoder(decode_via_units=True) to decode_timedelta. To silence this warning, set decode_timedelta to True, False, or a 'CFTimedeltaCoder' instance.\n",
      "  vars, attrs, coord_names = xr.conventions.decode_cf_variables(\n"
     ]
    },
    {
     "name": "stdout",
     "output_type": "stream",
     "text": [
      "2025-08-19 16:00:00 si10 7.74\n",
      "192\n",
      "https://dd.weather.gc.ca/20250818/WXO-DD/model_rdps/10km/06/041/20250818T06Z_MSC_RDPS_WindSpeed_AGL-10m_RLatLon0.09_PT041H.grib2 20250818T06Z_MSC_RDPS_WindSpeed_AGL-10m_RLatLon0.09_PT041H.grib2\n",
      "File downloaded successfully: 20250818T06Z_MSC_RDPS_WindSpeed_AGL-10m_RLatLon0.09_PT041H.grib2, moving to /temp/ ...\n",
      "Commence interpolation\n"
     ]
    },
    {
     "name": "stderr",
     "output_type": "stream",
     "text": [
      "c:\\Users\\lbuchart\\AppData\\Local\\anaconda3\\envs\\prom-env\\Lib\\site-packages\\cfgrib\\xarray_plugin.py:131: FutureWarning: In a future version, xarray will not decode timedelta values based on the presence of a timedelta-like units attribute by default. Instead it will rely on the presence of a timedelta64 dtype attribute, which is now xarray's default way of encoding timedelta64 values. To continue decoding timedeltas based on the presence of a timedelta-like units attribute, users will need to explicitly opt-in by passing True or CFTimedeltaCoder(decode_via_units=True) to decode_timedelta. To silence this warning, set decode_timedelta to True, False, or a 'CFTimedeltaCoder' instance.\n",
      "  vars, attrs, coord_names = xr.conventions.decode_cf_variables(\n"
     ]
    },
    {
     "name": "stdout",
     "output_type": "stream",
     "text": [
      "2025-08-19 17:00:00 si10 7.36\n",
      "197\n",
      "https://dd.weather.gc.ca/20250818/WXO-DD/model_rdps/10km/06/042/20250818T06Z_MSC_RDPS_WindSpeed_AGL-10m_RLatLon0.09_PT042H.grib2 20250818T06Z_MSC_RDPS_WindSpeed_AGL-10m_RLatLon0.09_PT042H.grib2\n",
      "File downloaded successfully: 20250818T06Z_MSC_RDPS_WindSpeed_AGL-10m_RLatLon0.09_PT042H.grib2, moving to /temp/ ...\n",
      "Commence interpolation\n"
     ]
    },
    {
     "name": "stderr",
     "output_type": "stream",
     "text": [
      "c:\\Users\\lbuchart\\AppData\\Local\\anaconda3\\envs\\prom-env\\Lib\\site-packages\\cfgrib\\xarray_plugin.py:131: FutureWarning: In a future version, xarray will not decode timedelta values based on the presence of a timedelta-like units attribute by default. Instead it will rely on the presence of a timedelta64 dtype attribute, which is now xarray's default way of encoding timedelta64 values. To continue decoding timedeltas based on the presence of a timedelta-like units attribute, users will need to explicitly opt-in by passing True or CFTimedeltaCoder(decode_via_units=True) to decode_timedelta. To silence this warning, set decode_timedelta to True, False, or a 'CFTimedeltaCoder' instance.\n",
      "  vars, attrs, coord_names = xr.conventions.decode_cf_variables(\n"
     ]
    },
    {
     "name": "stdout",
     "output_type": "stream",
     "text": [
      "2025-08-19 18:00:00 si10 7.61\n",
      "202\n",
      "https://dd.weather.gc.ca/20250818/WXO-DD/model_rdps/10km/06/043/20250818T06Z_MSC_RDPS_WindSpeed_AGL-10m_RLatLon0.09_PT043H.grib2 20250818T06Z_MSC_RDPS_WindSpeed_AGL-10m_RLatLon0.09_PT043H.grib2\n",
      "File downloaded successfully: 20250818T06Z_MSC_RDPS_WindSpeed_AGL-10m_RLatLon0.09_PT043H.grib2, moving to /temp/ ...\n",
      "Commence interpolation\n"
     ]
    },
    {
     "name": "stderr",
     "output_type": "stream",
     "text": [
      "c:\\Users\\lbuchart\\AppData\\Local\\anaconda3\\envs\\prom-env\\Lib\\site-packages\\cfgrib\\xarray_plugin.py:131: FutureWarning: In a future version, xarray will not decode timedelta values based on the presence of a timedelta-like units attribute by default. Instead it will rely on the presence of a timedelta64 dtype attribute, which is now xarray's default way of encoding timedelta64 values. To continue decoding timedeltas based on the presence of a timedelta-like units attribute, users will need to explicitly opt-in by passing True or CFTimedeltaCoder(decode_via_units=True) to decode_timedelta. To silence this warning, set decode_timedelta to True, False, or a 'CFTimedeltaCoder' instance.\n",
      "  vars, attrs, coord_names = xr.conventions.decode_cf_variables(\n"
     ]
    },
    {
     "name": "stdout",
     "output_type": "stream",
     "text": [
      "2025-08-19 19:00:00 si10 7.8\n",
      "207\n",
      "https://dd.weather.gc.ca/20250818/WXO-DD/model_rdps/10km/06/044/20250818T06Z_MSC_RDPS_WindSpeed_AGL-10m_RLatLon0.09_PT044H.grib2 20250818T06Z_MSC_RDPS_WindSpeed_AGL-10m_RLatLon0.09_PT044H.grib2\n",
      "File downloaded successfully: 20250818T06Z_MSC_RDPS_WindSpeed_AGL-10m_RLatLon0.09_PT044H.grib2, moving to /temp/ ...\n",
      "Commence interpolation\n"
     ]
    },
    {
     "name": "stderr",
     "output_type": "stream",
     "text": [
      "c:\\Users\\lbuchart\\AppData\\Local\\anaconda3\\envs\\prom-env\\Lib\\site-packages\\cfgrib\\xarray_plugin.py:131: FutureWarning: In a future version, xarray will not decode timedelta values based on the presence of a timedelta-like units attribute by default. Instead it will rely on the presence of a timedelta64 dtype attribute, which is now xarray's default way of encoding timedelta64 values. To continue decoding timedeltas based on the presence of a timedelta-like units attribute, users will need to explicitly opt-in by passing True or CFTimedeltaCoder(decode_via_units=True) to decode_timedelta. To silence this warning, set decode_timedelta to True, False, or a 'CFTimedeltaCoder' instance.\n",
      "  vars, attrs, coord_names = xr.conventions.decode_cf_variables(\n"
     ]
    },
    {
     "name": "stdout",
     "output_type": "stream",
     "text": [
      "2025-08-19 20:00:00 si10 7.87\n",
      "212\n",
      "https://dd.weather.gc.ca/20250818/WXO-DD/model_rdps/10km/06/045/20250818T06Z_MSC_RDPS_WindSpeed_AGL-10m_RLatLon0.09_PT045H.grib2 20250818T06Z_MSC_RDPS_WindSpeed_AGL-10m_RLatLon0.09_PT045H.grib2\n",
      "File downloaded successfully: 20250818T06Z_MSC_RDPS_WindSpeed_AGL-10m_RLatLon0.09_PT045H.grib2, moving to /temp/ ...\n",
      "Commence interpolation\n"
     ]
    },
    {
     "name": "stderr",
     "output_type": "stream",
     "text": [
      "c:\\Users\\lbuchart\\AppData\\Local\\anaconda3\\envs\\prom-env\\Lib\\site-packages\\cfgrib\\xarray_plugin.py:131: FutureWarning: In a future version, xarray will not decode timedelta values based on the presence of a timedelta-like units attribute by default. Instead it will rely on the presence of a timedelta64 dtype attribute, which is now xarray's default way of encoding timedelta64 values. To continue decoding timedeltas based on the presence of a timedelta-like units attribute, users will need to explicitly opt-in by passing True or CFTimedeltaCoder(decode_via_units=True) to decode_timedelta. To silence this warning, set decode_timedelta to True, False, or a 'CFTimedeltaCoder' instance.\n",
      "  vars, attrs, coord_names = xr.conventions.decode_cf_variables(\n"
     ]
    },
    {
     "name": "stdout",
     "output_type": "stream",
     "text": [
      "2025-08-19 21:00:00 si10 8.08\n",
      "217\n",
      "https://dd.weather.gc.ca/20250818/WXO-DD/model_rdps/10km/06/046/20250818T06Z_MSC_RDPS_WindSpeed_AGL-10m_RLatLon0.09_PT046H.grib2 20250818T06Z_MSC_RDPS_WindSpeed_AGL-10m_RLatLon0.09_PT046H.grib2\n",
      "File downloaded successfully: 20250818T06Z_MSC_RDPS_WindSpeed_AGL-10m_RLatLon0.09_PT046H.grib2, moving to /temp/ ...\n",
      "Commence interpolation\n"
     ]
    },
    {
     "name": "stderr",
     "output_type": "stream",
     "text": [
      "c:\\Users\\lbuchart\\AppData\\Local\\anaconda3\\envs\\prom-env\\Lib\\site-packages\\cfgrib\\xarray_plugin.py:131: FutureWarning: In a future version, xarray will not decode timedelta values based on the presence of a timedelta-like units attribute by default. Instead it will rely on the presence of a timedelta64 dtype attribute, which is now xarray's default way of encoding timedelta64 values. To continue decoding timedeltas based on the presence of a timedelta-like units attribute, users will need to explicitly opt-in by passing True or CFTimedeltaCoder(decode_via_units=True) to decode_timedelta. To silence this warning, set decode_timedelta to True, False, or a 'CFTimedeltaCoder' instance.\n",
      "  vars, attrs, coord_names = xr.conventions.decode_cf_variables(\n"
     ]
    },
    {
     "name": "stdout",
     "output_type": "stream",
     "text": [
      "2025-08-19 22:00:00 si10 8.26\n",
      "222\n",
      "https://dd.weather.gc.ca/20250818/WXO-DD/model_rdps/10km/06/047/20250818T06Z_MSC_RDPS_WindSpeed_AGL-10m_RLatLon0.09_PT047H.grib2 20250818T06Z_MSC_RDPS_WindSpeed_AGL-10m_RLatLon0.09_PT047H.grib2\n",
      "File downloaded successfully: 20250818T06Z_MSC_RDPS_WindSpeed_AGL-10m_RLatLon0.09_PT047H.grib2, moving to /temp/ ...\n",
      "Commence interpolation\n"
     ]
    },
    {
     "name": "stderr",
     "output_type": "stream",
     "text": [
      "c:\\Users\\lbuchart\\AppData\\Local\\anaconda3\\envs\\prom-env\\Lib\\site-packages\\cfgrib\\xarray_plugin.py:131: FutureWarning: In a future version, xarray will not decode timedelta values based on the presence of a timedelta-like units attribute by default. Instead it will rely on the presence of a timedelta64 dtype attribute, which is now xarray's default way of encoding timedelta64 values. To continue decoding timedeltas based on the presence of a timedelta-like units attribute, users will need to explicitly opt-in by passing True or CFTimedeltaCoder(decode_via_units=True) to decode_timedelta. To silence this warning, set decode_timedelta to True, False, or a 'CFTimedeltaCoder' instance.\n",
      "  vars, attrs, coord_names = xr.conventions.decode_cf_variables(\n"
     ]
    },
    {
     "name": "stdout",
     "output_type": "stream",
     "text": [
      "2025-08-19 23:00:00 si10 8.32\n",
      "227\n",
      "https://dd.weather.gc.ca/20250818/WXO-DD/model_rdps/10km/06/048/20250818T06Z_MSC_RDPS_WindSpeed_AGL-10m_RLatLon0.09_PT048H.grib2 20250818T06Z_MSC_RDPS_WindSpeed_AGL-10m_RLatLon0.09_PT048H.grib2\n",
      "File downloaded successfully: 20250818T06Z_MSC_RDPS_WindSpeed_AGL-10m_RLatLon0.09_PT048H.grib2, moving to /temp/ ...\n",
      "Commence interpolation\n"
     ]
    },
    {
     "name": "stderr",
     "output_type": "stream",
     "text": [
      "c:\\Users\\lbuchart\\AppData\\Local\\anaconda3\\envs\\prom-env\\Lib\\site-packages\\cfgrib\\xarray_plugin.py:131: FutureWarning: In a future version, xarray will not decode timedelta values based on the presence of a timedelta-like units attribute by default. Instead it will rely on the presence of a timedelta64 dtype attribute, which is now xarray's default way of encoding timedelta64 values. To continue decoding timedeltas based on the presence of a timedelta-like units attribute, users will need to explicitly opt-in by passing True or CFTimedeltaCoder(decode_via_units=True) to decode_timedelta. To silence this warning, set decode_timedelta to True, False, or a 'CFTimedeltaCoder' instance.\n",
      "  vars, attrs, coord_names = xr.conventions.decode_cf_variables(\n"
     ]
    },
    {
     "name": "stdout",
     "output_type": "stream",
     "text": [
      "2025-08-20 00:00:00 si10 8.14\n",
      "232\n",
      "https://dd.weather.gc.ca/20250818/WXO-DD/model_rdps/10km/06/049/20250818T06Z_MSC_RDPS_WindSpeed_AGL-10m_RLatLon0.09_PT049H.grib2 20250818T06Z_MSC_RDPS_WindSpeed_AGL-10m_RLatLon0.09_PT049H.grib2\n",
      "File downloaded successfully: 20250818T06Z_MSC_RDPS_WindSpeed_AGL-10m_RLatLon0.09_PT049H.grib2, moving to /temp/ ...\n",
      "Commence interpolation\n"
     ]
    },
    {
     "name": "stderr",
     "output_type": "stream",
     "text": [
      "c:\\Users\\lbuchart\\AppData\\Local\\anaconda3\\envs\\prom-env\\Lib\\site-packages\\cfgrib\\xarray_plugin.py:131: FutureWarning: In a future version, xarray will not decode timedelta values based on the presence of a timedelta-like units attribute by default. Instead it will rely on the presence of a timedelta64 dtype attribute, which is now xarray's default way of encoding timedelta64 values. To continue decoding timedeltas based on the presence of a timedelta-like units attribute, users will need to explicitly opt-in by passing True or CFTimedeltaCoder(decode_via_units=True) to decode_timedelta. To silence this warning, set decode_timedelta to True, False, or a 'CFTimedeltaCoder' instance.\n",
      "  vars, attrs, coord_names = xr.conventions.decode_cf_variables(\n"
     ]
    },
    {
     "name": "stdout",
     "output_type": "stream",
     "text": [
      "2025-08-20 01:00:00 si10 7.93\n",
      "237\n",
      "https://dd.weather.gc.ca/20250818/WXO-DD/model_rdps/10km/06/050/20250818T06Z_MSC_RDPS_WindSpeed_AGL-10m_RLatLon0.09_PT050H.grib2 20250818T06Z_MSC_RDPS_WindSpeed_AGL-10m_RLatLon0.09_PT050H.grib2\n",
      "File downloaded successfully: 20250818T06Z_MSC_RDPS_WindSpeed_AGL-10m_RLatLon0.09_PT050H.grib2, moving to /temp/ ...\n",
      "Commence interpolation\n"
     ]
    },
    {
     "name": "stderr",
     "output_type": "stream",
     "text": [
      "c:\\Users\\lbuchart\\AppData\\Local\\anaconda3\\envs\\prom-env\\Lib\\site-packages\\cfgrib\\xarray_plugin.py:131: FutureWarning: In a future version, xarray will not decode timedelta values based on the presence of a timedelta-like units attribute by default. Instead it will rely on the presence of a timedelta64 dtype attribute, which is now xarray's default way of encoding timedelta64 values. To continue decoding timedeltas based on the presence of a timedelta-like units attribute, users will need to explicitly opt-in by passing True or CFTimedeltaCoder(decode_via_units=True) to decode_timedelta. To silence this warning, set decode_timedelta to True, False, or a 'CFTimedeltaCoder' instance.\n",
      "  vars, attrs, coord_names = xr.conventions.decode_cf_variables(\n"
     ]
    },
    {
     "name": "stdout",
     "output_type": "stream",
     "text": [
      "2025-08-20 02:00:00 si10 7.73\n",
      "4\n",
      "https://dd.weather.gc.ca/20250818/WXO-DD/model_rdps/10km/06/003/20250818T06Z_MSC_RDPS_Precip-Accum1h_Sfc_RLatLon0.09_PT003H.grib2 20250818T06Z_MSC_RDPS_Precip-Accum1h_Sfc_RLatLon0.09_PT003H.grib2\n",
      "File downloaded successfully: 20250818T06Z_MSC_RDPS_Precip-Accum1h_Sfc_RLatLon0.09_PT003H.grib2, moving to /temp/ ...\n",
      "Commence interpolation\n"
     ]
    },
    {
     "name": "stderr",
     "output_type": "stream",
     "text": [
      "c:\\Users\\lbuchart\\AppData\\Local\\anaconda3\\envs\\prom-env\\Lib\\site-packages\\cfgrib\\xarray_plugin.py:131: FutureWarning: In a future version, xarray will not decode timedelta values based on the presence of a timedelta-like units attribute by default. Instead it will rely on the presence of a timedelta64 dtype attribute, which is now xarray's default way of encoding timedelta64 values. To continue decoding timedeltas based on the presence of a timedelta-like units attribute, users will need to explicitly opt-in by passing True or CFTimedeltaCoder(decode_via_units=True) to decode_timedelta. To silence this warning, set decode_timedelta to True, False, or a 'CFTimedeltaCoder' instance.\n",
      "  vars, attrs, coord_names = xr.conventions.decode_cf_variables(\n"
     ]
    },
    {
     "name": "stdout",
     "output_type": "stream",
     "text": [
      "2025-08-18 03:00:00 unknown 0.012295\n",
      "9\n",
      "https://dd.weather.gc.ca/20250818/WXO-DD/model_rdps/10km/06/004/20250818T06Z_MSC_RDPS_Precip-Accum1h_Sfc_RLatLon0.09_PT004H.grib2 20250818T06Z_MSC_RDPS_Precip-Accum1h_Sfc_RLatLon0.09_PT004H.grib2\n",
      "File downloaded successfully: 20250818T06Z_MSC_RDPS_Precip-Accum1h_Sfc_RLatLon0.09_PT004H.grib2, moving to /temp/ ...\n",
      "Commence interpolation\n"
     ]
    },
    {
     "name": "stderr",
     "output_type": "stream",
     "text": [
      "c:\\Users\\lbuchart\\AppData\\Local\\anaconda3\\envs\\prom-env\\Lib\\site-packages\\cfgrib\\xarray_plugin.py:131: FutureWarning: In a future version, xarray will not decode timedelta values based on the presence of a timedelta-like units attribute by default. Instead it will rely on the presence of a timedelta64 dtype attribute, which is now xarray's default way of encoding timedelta64 values. To continue decoding timedeltas based on the presence of a timedelta-like units attribute, users will need to explicitly opt-in by passing True or CFTimedeltaCoder(decode_via_units=True) to decode_timedelta. To silence this warning, set decode_timedelta to True, False, or a 'CFTimedeltaCoder' instance.\n",
      "  vars, attrs, coord_names = xr.conventions.decode_cf_variables(\n"
     ]
    },
    {
     "name": "stdout",
     "output_type": "stream",
     "text": [
      "2025-08-18 04:00:00 unknown 0.003015\n",
      "14\n",
      "https://dd.weather.gc.ca/20250818/WXO-DD/model_rdps/10km/06/005/20250818T06Z_MSC_RDPS_Precip-Accum1h_Sfc_RLatLon0.09_PT005H.grib2 20250818T06Z_MSC_RDPS_Precip-Accum1h_Sfc_RLatLon0.09_PT005H.grib2\n",
      "File downloaded successfully: 20250818T06Z_MSC_RDPS_Precip-Accum1h_Sfc_RLatLon0.09_PT005H.grib2, moving to /temp/ ...\n",
      "Commence interpolation\n"
     ]
    },
    {
     "name": "stderr",
     "output_type": "stream",
     "text": [
      "c:\\Users\\lbuchart\\AppData\\Local\\anaconda3\\envs\\prom-env\\Lib\\site-packages\\cfgrib\\xarray_plugin.py:131: FutureWarning: In a future version, xarray will not decode timedelta values based on the presence of a timedelta-like units attribute by default. Instead it will rely on the presence of a timedelta64 dtype attribute, which is now xarray's default way of encoding timedelta64 values. To continue decoding timedeltas based on the presence of a timedelta-like units attribute, users will need to explicitly opt-in by passing True or CFTimedeltaCoder(decode_via_units=True) to decode_timedelta. To silence this warning, set decode_timedelta to True, False, or a 'CFTimedeltaCoder' instance.\n",
      "  vars, attrs, coord_names = xr.conventions.decode_cf_variables(\n"
     ]
    },
    {
     "name": "stdout",
     "output_type": "stream",
     "text": [
      "2025-08-18 05:00:00 unknown 0.00013\n",
      "19\n",
      "https://dd.weather.gc.ca/20250818/WXO-DD/model_rdps/10km/06/006/20250818T06Z_MSC_RDPS_Precip-Accum1h_Sfc_RLatLon0.09_PT006H.grib2 20250818T06Z_MSC_RDPS_Precip-Accum1h_Sfc_RLatLon0.09_PT006H.grib2\n",
      "File downloaded successfully: 20250818T06Z_MSC_RDPS_Precip-Accum1h_Sfc_RLatLon0.09_PT006H.grib2, moving to /temp/ ...\n",
      "Commence interpolation\n"
     ]
    },
    {
     "name": "stderr",
     "output_type": "stream",
     "text": [
      "c:\\Users\\lbuchart\\AppData\\Local\\anaconda3\\envs\\prom-env\\Lib\\site-packages\\cfgrib\\xarray_plugin.py:131: FutureWarning: In a future version, xarray will not decode timedelta values based on the presence of a timedelta-like units attribute by default. Instead it will rely on the presence of a timedelta64 dtype attribute, which is now xarray's default way of encoding timedelta64 values. To continue decoding timedeltas based on the presence of a timedelta-like units attribute, users will need to explicitly opt-in by passing True or CFTimedeltaCoder(decode_via_units=True) to decode_timedelta. To silence this warning, set decode_timedelta to True, False, or a 'CFTimedeltaCoder' instance.\n",
      "  vars, attrs, coord_names = xr.conventions.decode_cf_variables(\n"
     ]
    },
    {
     "name": "stdout",
     "output_type": "stream",
     "text": [
      "2025-08-18 06:00:00 unknown 0.0\n",
      "24\n",
      "https://dd.weather.gc.ca/20250818/WXO-DD/model_rdps/10km/06/007/20250818T06Z_MSC_RDPS_Precip-Accum1h_Sfc_RLatLon0.09_PT007H.grib2 20250818T06Z_MSC_RDPS_Precip-Accum1h_Sfc_RLatLon0.09_PT007H.grib2\n",
      "File downloaded successfully: 20250818T06Z_MSC_RDPS_Precip-Accum1h_Sfc_RLatLon0.09_PT007H.grib2, moving to /temp/ ...\n",
      "Commence interpolation\n"
     ]
    },
    {
     "name": "stderr",
     "output_type": "stream",
     "text": [
      "c:\\Users\\lbuchart\\AppData\\Local\\anaconda3\\envs\\prom-env\\Lib\\site-packages\\cfgrib\\xarray_plugin.py:131: FutureWarning: In a future version, xarray will not decode timedelta values based on the presence of a timedelta-like units attribute by default. Instead it will rely on the presence of a timedelta64 dtype attribute, which is now xarray's default way of encoding timedelta64 values. To continue decoding timedeltas based on the presence of a timedelta-like units attribute, users will need to explicitly opt-in by passing True or CFTimedeltaCoder(decode_via_units=True) to decode_timedelta. To silence this warning, set decode_timedelta to True, False, or a 'CFTimedeltaCoder' instance.\n",
      "  vars, attrs, coord_names = xr.conventions.decode_cf_variables(\n"
     ]
    },
    {
     "name": "stdout",
     "output_type": "stream",
     "text": [
      "2025-08-18 07:00:00 unknown 0.0\n",
      "29\n",
      "https://dd.weather.gc.ca/20250818/WXO-DD/model_rdps/10km/06/008/20250818T06Z_MSC_RDPS_Precip-Accum1h_Sfc_RLatLon0.09_PT008H.grib2 20250818T06Z_MSC_RDPS_Precip-Accum1h_Sfc_RLatLon0.09_PT008H.grib2\n",
      "File downloaded successfully: 20250818T06Z_MSC_RDPS_Precip-Accum1h_Sfc_RLatLon0.09_PT008H.grib2, moving to /temp/ ...\n",
      "Commence interpolation\n"
     ]
    },
    {
     "name": "stderr",
     "output_type": "stream",
     "text": [
      "c:\\Users\\lbuchart\\AppData\\Local\\anaconda3\\envs\\prom-env\\Lib\\site-packages\\cfgrib\\xarray_plugin.py:131: FutureWarning: In a future version, xarray will not decode timedelta values based on the presence of a timedelta-like units attribute by default. Instead it will rely on the presence of a timedelta64 dtype attribute, which is now xarray's default way of encoding timedelta64 values. To continue decoding timedeltas based on the presence of a timedelta-like units attribute, users will need to explicitly opt-in by passing True or CFTimedeltaCoder(decode_via_units=True) to decode_timedelta. To silence this warning, set decode_timedelta to True, False, or a 'CFTimedeltaCoder' instance.\n",
      "  vars, attrs, coord_names = xr.conventions.decode_cf_variables(\n"
     ]
    },
    {
     "name": "stdout",
     "output_type": "stream",
     "text": [
      "2025-08-18 08:00:00 unknown 0.0\n",
      "34\n",
      "https://dd.weather.gc.ca/20250818/WXO-DD/model_rdps/10km/06/009/20250818T06Z_MSC_RDPS_Precip-Accum1h_Sfc_RLatLon0.09_PT009H.grib2 20250818T06Z_MSC_RDPS_Precip-Accum1h_Sfc_RLatLon0.09_PT009H.grib2\n",
      "File downloaded successfully: 20250818T06Z_MSC_RDPS_Precip-Accum1h_Sfc_RLatLon0.09_PT009H.grib2, moving to /temp/ ...\n",
      "Commence interpolation\n"
     ]
    },
    {
     "name": "stderr",
     "output_type": "stream",
     "text": [
      "c:\\Users\\lbuchart\\AppData\\Local\\anaconda3\\envs\\prom-env\\Lib\\site-packages\\cfgrib\\xarray_plugin.py:131: FutureWarning: In a future version, xarray will not decode timedelta values based on the presence of a timedelta-like units attribute by default. Instead it will rely on the presence of a timedelta64 dtype attribute, which is now xarray's default way of encoding timedelta64 values. To continue decoding timedeltas based on the presence of a timedelta-like units attribute, users will need to explicitly opt-in by passing True or CFTimedeltaCoder(decode_via_units=True) to decode_timedelta. To silence this warning, set decode_timedelta to True, False, or a 'CFTimedeltaCoder' instance.\n",
      "  vars, attrs, coord_names = xr.conventions.decode_cf_variables(\n"
     ]
    },
    {
     "name": "stdout",
     "output_type": "stream",
     "text": [
      "2025-08-18 09:00:00 unknown 0.0\n",
      "39\n",
      "https://dd.weather.gc.ca/20250818/WXO-DD/model_rdps/10km/06/010/20250818T06Z_MSC_RDPS_Precip-Accum1h_Sfc_RLatLon0.09_PT010H.grib2 20250818T06Z_MSC_RDPS_Precip-Accum1h_Sfc_RLatLon0.09_PT010H.grib2\n",
      "File downloaded successfully: 20250818T06Z_MSC_RDPS_Precip-Accum1h_Sfc_RLatLon0.09_PT010H.grib2, moving to /temp/ ...\n",
      "Commence interpolation\n"
     ]
    },
    {
     "name": "stderr",
     "output_type": "stream",
     "text": [
      "c:\\Users\\lbuchart\\AppData\\Local\\anaconda3\\envs\\prom-env\\Lib\\site-packages\\cfgrib\\xarray_plugin.py:131: FutureWarning: In a future version, xarray will not decode timedelta values based on the presence of a timedelta-like units attribute by default. Instead it will rely on the presence of a timedelta64 dtype attribute, which is now xarray's default way of encoding timedelta64 values. To continue decoding timedeltas based on the presence of a timedelta-like units attribute, users will need to explicitly opt-in by passing True or CFTimedeltaCoder(decode_via_units=True) to decode_timedelta. To silence this warning, set decode_timedelta to True, False, or a 'CFTimedeltaCoder' instance.\n",
      "  vars, attrs, coord_names = xr.conventions.decode_cf_variables(\n"
     ]
    },
    {
     "name": "stdout",
     "output_type": "stream",
     "text": [
      "2025-08-18 10:00:00 unknown 0.0\n",
      "44\n",
      "https://dd.weather.gc.ca/20250818/WXO-DD/model_rdps/10km/06/011/20250818T06Z_MSC_RDPS_Precip-Accum1h_Sfc_RLatLon0.09_PT011H.grib2 20250818T06Z_MSC_RDPS_Precip-Accum1h_Sfc_RLatLon0.09_PT011H.grib2\n",
      "File downloaded successfully: 20250818T06Z_MSC_RDPS_Precip-Accum1h_Sfc_RLatLon0.09_PT011H.grib2, moving to /temp/ ...\n",
      "Commence interpolation\n"
     ]
    },
    {
     "name": "stderr",
     "output_type": "stream",
     "text": [
      "c:\\Users\\lbuchart\\AppData\\Local\\anaconda3\\envs\\prom-env\\Lib\\site-packages\\cfgrib\\xarray_plugin.py:131: FutureWarning: In a future version, xarray will not decode timedelta values based on the presence of a timedelta-like units attribute by default. Instead it will rely on the presence of a timedelta64 dtype attribute, which is now xarray's default way of encoding timedelta64 values. To continue decoding timedeltas based on the presence of a timedelta-like units attribute, users will need to explicitly opt-in by passing True or CFTimedeltaCoder(decode_via_units=True) to decode_timedelta. To silence this warning, set decode_timedelta to True, False, or a 'CFTimedeltaCoder' instance.\n",
      "  vars, attrs, coord_names = xr.conventions.decode_cf_variables(\n"
     ]
    },
    {
     "name": "stdout",
     "output_type": "stream",
     "text": [
      "2025-08-18 11:00:00 unknown 0.0\n",
      "49\n",
      "https://dd.weather.gc.ca/20250818/WXO-DD/model_rdps/10km/06/012/20250818T06Z_MSC_RDPS_Precip-Accum1h_Sfc_RLatLon0.09_PT012H.grib2 20250818T06Z_MSC_RDPS_Precip-Accum1h_Sfc_RLatLon0.09_PT012H.grib2\n",
      "File downloaded successfully: 20250818T06Z_MSC_RDPS_Precip-Accum1h_Sfc_RLatLon0.09_PT012H.grib2, moving to /temp/ ...\n",
      "Commence interpolation\n"
     ]
    },
    {
     "name": "stderr",
     "output_type": "stream",
     "text": [
      "c:\\Users\\lbuchart\\AppData\\Local\\anaconda3\\envs\\prom-env\\Lib\\site-packages\\cfgrib\\xarray_plugin.py:131: FutureWarning: In a future version, xarray will not decode timedelta values based on the presence of a timedelta-like units attribute by default. Instead it will rely on the presence of a timedelta64 dtype attribute, which is now xarray's default way of encoding timedelta64 values. To continue decoding timedeltas based on the presence of a timedelta-like units attribute, users will need to explicitly opt-in by passing True or CFTimedeltaCoder(decode_via_units=True) to decode_timedelta. To silence this warning, set decode_timedelta to True, False, or a 'CFTimedeltaCoder' instance.\n",
      "  vars, attrs, coord_names = xr.conventions.decode_cf_variables(\n"
     ]
    },
    {
     "name": "stdout",
     "output_type": "stream",
     "text": [
      "2025-08-18 12:00:00 unknown 0.0\n",
      "54\n",
      "https://dd.weather.gc.ca/20250818/WXO-DD/model_rdps/10km/06/013/20250818T06Z_MSC_RDPS_Precip-Accum1h_Sfc_RLatLon0.09_PT013H.grib2 20250818T06Z_MSC_RDPS_Precip-Accum1h_Sfc_RLatLon0.09_PT013H.grib2\n",
      "File downloaded successfully: 20250818T06Z_MSC_RDPS_Precip-Accum1h_Sfc_RLatLon0.09_PT013H.grib2, moving to /temp/ ...\n",
      "Commence interpolation\n"
     ]
    },
    {
     "name": "stderr",
     "output_type": "stream",
     "text": [
      "c:\\Users\\lbuchart\\AppData\\Local\\anaconda3\\envs\\prom-env\\Lib\\site-packages\\cfgrib\\xarray_plugin.py:131: FutureWarning: In a future version, xarray will not decode timedelta values based on the presence of a timedelta-like units attribute by default. Instead it will rely on the presence of a timedelta64 dtype attribute, which is now xarray's default way of encoding timedelta64 values. To continue decoding timedeltas based on the presence of a timedelta-like units attribute, users will need to explicitly opt-in by passing True or CFTimedeltaCoder(decode_via_units=True) to decode_timedelta. To silence this warning, set decode_timedelta to True, False, or a 'CFTimedeltaCoder' instance.\n",
      "  vars, attrs, coord_names = xr.conventions.decode_cf_variables(\n"
     ]
    },
    {
     "name": "stdout",
     "output_type": "stream",
     "text": [
      "2025-08-18 13:00:00 unknown 0.0\n",
      "59\n",
      "https://dd.weather.gc.ca/20250818/WXO-DD/model_rdps/10km/06/014/20250818T06Z_MSC_RDPS_Precip-Accum1h_Sfc_RLatLon0.09_PT014H.grib2 20250818T06Z_MSC_RDPS_Precip-Accum1h_Sfc_RLatLon0.09_PT014H.grib2\n",
      "File downloaded successfully: 20250818T06Z_MSC_RDPS_Precip-Accum1h_Sfc_RLatLon0.09_PT014H.grib2, moving to /temp/ ...\n",
      "Commence interpolation\n"
     ]
    },
    {
     "name": "stderr",
     "output_type": "stream",
     "text": [
      "c:\\Users\\lbuchart\\AppData\\Local\\anaconda3\\envs\\prom-env\\Lib\\site-packages\\cfgrib\\xarray_plugin.py:131: FutureWarning: In a future version, xarray will not decode timedelta values based on the presence of a timedelta-like units attribute by default. Instead it will rely on the presence of a timedelta64 dtype attribute, which is now xarray's default way of encoding timedelta64 values. To continue decoding timedeltas based on the presence of a timedelta-like units attribute, users will need to explicitly opt-in by passing True or CFTimedeltaCoder(decode_via_units=True) to decode_timedelta. To silence this warning, set decode_timedelta to True, False, or a 'CFTimedeltaCoder' instance.\n",
      "  vars, attrs, coord_names = xr.conventions.decode_cf_variables(\n"
     ]
    },
    {
     "name": "stdout",
     "output_type": "stream",
     "text": [
      "2025-08-18 14:00:00 unknown 0.0\n",
      "64\n",
      "https://dd.weather.gc.ca/20250818/WXO-DD/model_rdps/10km/06/015/20250818T06Z_MSC_RDPS_Precip-Accum1h_Sfc_RLatLon0.09_PT015H.grib2 20250818T06Z_MSC_RDPS_Precip-Accum1h_Sfc_RLatLon0.09_PT015H.grib2\n",
      "File downloaded successfully: 20250818T06Z_MSC_RDPS_Precip-Accum1h_Sfc_RLatLon0.09_PT015H.grib2, moving to /temp/ ...\n",
      "Commence interpolation\n"
     ]
    },
    {
     "name": "stderr",
     "output_type": "stream",
     "text": [
      "c:\\Users\\lbuchart\\AppData\\Local\\anaconda3\\envs\\prom-env\\Lib\\site-packages\\cfgrib\\xarray_plugin.py:131: FutureWarning: In a future version, xarray will not decode timedelta values based on the presence of a timedelta-like units attribute by default. Instead it will rely on the presence of a timedelta64 dtype attribute, which is now xarray's default way of encoding timedelta64 values. To continue decoding timedeltas based on the presence of a timedelta-like units attribute, users will need to explicitly opt-in by passing True or CFTimedeltaCoder(decode_via_units=True) to decode_timedelta. To silence this warning, set decode_timedelta to True, False, or a 'CFTimedeltaCoder' instance.\n",
      "  vars, attrs, coord_names = xr.conventions.decode_cf_variables(\n"
     ]
    },
    {
     "name": "stdout",
     "output_type": "stream",
     "text": [
      "2025-08-18 15:00:00 unknown 0.0\n",
      "69\n",
      "https://dd.weather.gc.ca/20250818/WXO-DD/model_rdps/10km/06/016/20250818T06Z_MSC_RDPS_Precip-Accum1h_Sfc_RLatLon0.09_PT016H.grib2 20250818T06Z_MSC_RDPS_Precip-Accum1h_Sfc_RLatLon0.09_PT016H.grib2\n",
      "File downloaded successfully: 20250818T06Z_MSC_RDPS_Precip-Accum1h_Sfc_RLatLon0.09_PT016H.grib2, moving to /temp/ ...\n",
      "Commence interpolation\n"
     ]
    },
    {
     "name": "stderr",
     "output_type": "stream",
     "text": [
      "c:\\Users\\lbuchart\\AppData\\Local\\anaconda3\\envs\\prom-env\\Lib\\site-packages\\cfgrib\\xarray_plugin.py:131: FutureWarning: In a future version, xarray will not decode timedelta values based on the presence of a timedelta-like units attribute by default. Instead it will rely on the presence of a timedelta64 dtype attribute, which is now xarray's default way of encoding timedelta64 values. To continue decoding timedeltas based on the presence of a timedelta-like units attribute, users will need to explicitly opt-in by passing True or CFTimedeltaCoder(decode_via_units=True) to decode_timedelta. To silence this warning, set decode_timedelta to True, False, or a 'CFTimedeltaCoder' instance.\n",
      "  vars, attrs, coord_names = xr.conventions.decode_cf_variables(\n"
     ]
    },
    {
     "name": "stdout",
     "output_type": "stream",
     "text": [
      "2025-08-18 16:00:00 unknown 0.010625\n",
      "74\n",
      "https://dd.weather.gc.ca/20250818/WXO-DD/model_rdps/10km/06/017/20250818T06Z_MSC_RDPS_Precip-Accum1h_Sfc_RLatLon0.09_PT017H.grib2 20250818T06Z_MSC_RDPS_Precip-Accum1h_Sfc_RLatLon0.09_PT017H.grib2\n",
      "File downloaded successfully: 20250818T06Z_MSC_RDPS_Precip-Accum1h_Sfc_RLatLon0.09_PT017H.grib2, moving to /temp/ ...\n",
      "Commence interpolation\n"
     ]
    },
    {
     "name": "stderr",
     "output_type": "stream",
     "text": [
      "c:\\Users\\lbuchart\\AppData\\Local\\anaconda3\\envs\\prom-env\\Lib\\site-packages\\cfgrib\\xarray_plugin.py:131: FutureWarning: In a future version, xarray will not decode timedelta values based on the presence of a timedelta-like units attribute by default. Instead it will rely on the presence of a timedelta64 dtype attribute, which is now xarray's default way of encoding timedelta64 values. To continue decoding timedeltas based on the presence of a timedelta-like units attribute, users will need to explicitly opt-in by passing True or CFTimedeltaCoder(decode_via_units=True) to decode_timedelta. To silence this warning, set decode_timedelta to True, False, or a 'CFTimedeltaCoder' instance.\n",
      "  vars, attrs, coord_names = xr.conventions.decode_cf_variables(\n"
     ]
    },
    {
     "name": "stdout",
     "output_type": "stream",
     "text": [
      "2025-08-18 17:00:00 unknown 0.0\n",
      "79\n",
      "https://dd.weather.gc.ca/20250818/WXO-DD/model_rdps/10km/06/018/20250818T06Z_MSC_RDPS_Precip-Accum1h_Sfc_RLatLon0.09_PT018H.grib2 20250818T06Z_MSC_RDPS_Precip-Accum1h_Sfc_RLatLon0.09_PT018H.grib2\n",
      "File downloaded successfully: 20250818T06Z_MSC_RDPS_Precip-Accum1h_Sfc_RLatLon0.09_PT018H.grib2, moving to /temp/ ...\n",
      "Commence interpolation\n"
     ]
    },
    {
     "name": "stderr",
     "output_type": "stream",
     "text": [
      "c:\\Users\\lbuchart\\AppData\\Local\\anaconda3\\envs\\prom-env\\Lib\\site-packages\\cfgrib\\xarray_plugin.py:131: FutureWarning: In a future version, xarray will not decode timedelta values based on the presence of a timedelta-like units attribute by default. Instead it will rely on the presence of a timedelta64 dtype attribute, which is now xarray's default way of encoding timedelta64 values. To continue decoding timedeltas based on the presence of a timedelta-like units attribute, users will need to explicitly opt-in by passing True or CFTimedeltaCoder(decode_via_units=True) to decode_timedelta. To silence this warning, set decode_timedelta to True, False, or a 'CFTimedeltaCoder' instance.\n",
      "  vars, attrs, coord_names = xr.conventions.decode_cf_variables(\n"
     ]
    },
    {
     "name": "stdout",
     "output_type": "stream",
     "text": [
      "2025-08-18 18:00:00 unknown 0.0\n",
      "84\n",
      "https://dd.weather.gc.ca/20250818/WXO-DD/model_rdps/10km/06/019/20250818T06Z_MSC_RDPS_Precip-Accum1h_Sfc_RLatLon0.09_PT019H.grib2 20250818T06Z_MSC_RDPS_Precip-Accum1h_Sfc_RLatLon0.09_PT019H.grib2\n",
      "File downloaded successfully: 20250818T06Z_MSC_RDPS_Precip-Accum1h_Sfc_RLatLon0.09_PT019H.grib2, moving to /temp/ ...\n",
      "Commence interpolation\n"
     ]
    },
    {
     "name": "stderr",
     "output_type": "stream",
     "text": [
      "c:\\Users\\lbuchart\\AppData\\Local\\anaconda3\\envs\\prom-env\\Lib\\site-packages\\cfgrib\\xarray_plugin.py:131: FutureWarning: In a future version, xarray will not decode timedelta values based on the presence of a timedelta-like units attribute by default. Instead it will rely on the presence of a timedelta64 dtype attribute, which is now xarray's default way of encoding timedelta64 values. To continue decoding timedeltas based on the presence of a timedelta-like units attribute, users will need to explicitly opt-in by passing True or CFTimedeltaCoder(decode_via_units=True) to decode_timedelta. To silence this warning, set decode_timedelta to True, False, or a 'CFTimedeltaCoder' instance.\n",
      "  vars, attrs, coord_names = xr.conventions.decode_cf_variables(\n"
     ]
    },
    {
     "name": "stdout",
     "output_type": "stream",
     "text": [
      "2025-08-18 19:00:00 unknown 0.000125\n",
      "89\n",
      "https://dd.weather.gc.ca/20250818/WXO-DD/model_rdps/10km/06/020/20250818T06Z_MSC_RDPS_Precip-Accum1h_Sfc_RLatLon0.09_PT020H.grib2 20250818T06Z_MSC_RDPS_Precip-Accum1h_Sfc_RLatLon0.09_PT020H.grib2\n",
      "File downloaded successfully: 20250818T06Z_MSC_RDPS_Precip-Accum1h_Sfc_RLatLon0.09_PT020H.grib2, moving to /temp/ ...\n",
      "Commence interpolation\n"
     ]
    },
    {
     "name": "stderr",
     "output_type": "stream",
     "text": [
      "c:\\Users\\lbuchart\\AppData\\Local\\anaconda3\\envs\\prom-env\\Lib\\site-packages\\cfgrib\\xarray_plugin.py:131: FutureWarning: In a future version, xarray will not decode timedelta values based on the presence of a timedelta-like units attribute by default. Instead it will rely on the presence of a timedelta64 dtype attribute, which is now xarray's default way of encoding timedelta64 values. To continue decoding timedeltas based on the presence of a timedelta-like units attribute, users will need to explicitly opt-in by passing True or CFTimedeltaCoder(decode_via_units=True) to decode_timedelta. To silence this warning, set decode_timedelta to True, False, or a 'CFTimedeltaCoder' instance.\n",
      "  vars, attrs, coord_names = xr.conventions.decode_cf_variables(\n"
     ]
    },
    {
     "name": "stdout",
     "output_type": "stream",
     "text": [
      "2025-08-18 20:00:00 unknown 0.06956\n",
      "94\n",
      "https://dd.weather.gc.ca/20250818/WXO-DD/model_rdps/10km/06/021/20250818T06Z_MSC_RDPS_Precip-Accum1h_Sfc_RLatLon0.09_PT021H.grib2 20250818T06Z_MSC_RDPS_Precip-Accum1h_Sfc_RLatLon0.09_PT021H.grib2\n",
      "File downloaded successfully: 20250818T06Z_MSC_RDPS_Precip-Accum1h_Sfc_RLatLon0.09_PT021H.grib2, moving to /temp/ ...\n",
      "Commence interpolation\n"
     ]
    },
    {
     "name": "stderr",
     "output_type": "stream",
     "text": [
      "c:\\Users\\lbuchart\\AppData\\Local\\anaconda3\\envs\\prom-env\\Lib\\site-packages\\cfgrib\\xarray_plugin.py:131: FutureWarning: In a future version, xarray will not decode timedelta values based on the presence of a timedelta-like units attribute by default. Instead it will rely on the presence of a timedelta64 dtype attribute, which is now xarray's default way of encoding timedelta64 values. To continue decoding timedeltas based on the presence of a timedelta-like units attribute, users will need to explicitly opt-in by passing True or CFTimedeltaCoder(decode_via_units=True) to decode_timedelta. To silence this warning, set decode_timedelta to True, False, or a 'CFTimedeltaCoder' instance.\n",
      "  vars, attrs, coord_names = xr.conventions.decode_cf_variables(\n"
     ]
    },
    {
     "name": "stdout",
     "output_type": "stream",
     "text": [
      "2025-08-18 21:00:00 unknown 0.56927\n",
      "99\n",
      "https://dd.weather.gc.ca/20250818/WXO-DD/model_rdps/10km/06/022/20250818T06Z_MSC_RDPS_Precip-Accum1h_Sfc_RLatLon0.09_PT022H.grib2 20250818T06Z_MSC_RDPS_Precip-Accum1h_Sfc_RLatLon0.09_PT022H.grib2\n",
      "File downloaded successfully: 20250818T06Z_MSC_RDPS_Precip-Accum1h_Sfc_RLatLon0.09_PT022H.grib2, moving to /temp/ ...\n",
      "Commence interpolation\n"
     ]
    },
    {
     "name": "stderr",
     "output_type": "stream",
     "text": [
      "c:\\Users\\lbuchart\\AppData\\Local\\anaconda3\\envs\\prom-env\\Lib\\site-packages\\cfgrib\\xarray_plugin.py:131: FutureWarning: In a future version, xarray will not decode timedelta values based on the presence of a timedelta-like units attribute by default. Instead it will rely on the presence of a timedelta64 dtype attribute, which is now xarray's default way of encoding timedelta64 values. To continue decoding timedeltas based on the presence of a timedelta-like units attribute, users will need to explicitly opt-in by passing True or CFTimedeltaCoder(decode_via_units=True) to decode_timedelta. To silence this warning, set decode_timedelta to True, False, or a 'CFTimedeltaCoder' instance.\n",
      "  vars, attrs, coord_names = xr.conventions.decode_cf_variables(\n"
     ]
    },
    {
     "name": "stdout",
     "output_type": "stream",
     "text": [
      "2025-08-18 22:00:00 unknown 0.18489\n",
      "104\n",
      "https://dd.weather.gc.ca/20250818/WXO-DD/model_rdps/10km/06/023/20250818T06Z_MSC_RDPS_Precip-Accum1h_Sfc_RLatLon0.09_PT023H.grib2 20250818T06Z_MSC_RDPS_Precip-Accum1h_Sfc_RLatLon0.09_PT023H.grib2\n",
      "File downloaded successfully: 20250818T06Z_MSC_RDPS_Precip-Accum1h_Sfc_RLatLon0.09_PT023H.grib2, moving to /temp/ ...\n",
      "Commence interpolation\n"
     ]
    },
    {
     "name": "stderr",
     "output_type": "stream",
     "text": [
      "c:\\Users\\lbuchart\\AppData\\Local\\anaconda3\\envs\\prom-env\\Lib\\site-packages\\cfgrib\\xarray_plugin.py:131: FutureWarning: In a future version, xarray will not decode timedelta values based on the presence of a timedelta-like units attribute by default. Instead it will rely on the presence of a timedelta64 dtype attribute, which is now xarray's default way of encoding timedelta64 values. To continue decoding timedeltas based on the presence of a timedelta-like units attribute, users will need to explicitly opt-in by passing True or CFTimedeltaCoder(decode_via_units=True) to decode_timedelta. To silence this warning, set decode_timedelta to True, False, or a 'CFTimedeltaCoder' instance.\n",
      "  vars, attrs, coord_names = xr.conventions.decode_cf_variables(\n"
     ]
    },
    {
     "name": "stdout",
     "output_type": "stream",
     "text": [
      "2025-08-18 23:00:00 unknown 0.00192\n",
      "109\n",
      "https://dd.weather.gc.ca/20250818/WXO-DD/model_rdps/10km/06/024/20250818T06Z_MSC_RDPS_Precip-Accum1h_Sfc_RLatLon0.09_PT024H.grib2 20250818T06Z_MSC_RDPS_Precip-Accum1h_Sfc_RLatLon0.09_PT024H.grib2\n",
      "File downloaded successfully: 20250818T06Z_MSC_RDPS_Precip-Accum1h_Sfc_RLatLon0.09_PT024H.grib2, moving to /temp/ ...\n",
      "Commence interpolation\n"
     ]
    },
    {
     "name": "stderr",
     "output_type": "stream",
     "text": [
      "c:\\Users\\lbuchart\\AppData\\Local\\anaconda3\\envs\\prom-env\\Lib\\site-packages\\cfgrib\\xarray_plugin.py:131: FutureWarning: In a future version, xarray will not decode timedelta values based on the presence of a timedelta-like units attribute by default. Instead it will rely on the presence of a timedelta64 dtype attribute, which is now xarray's default way of encoding timedelta64 values. To continue decoding timedeltas based on the presence of a timedelta-like units attribute, users will need to explicitly opt-in by passing True or CFTimedeltaCoder(decode_via_units=True) to decode_timedelta. To silence this warning, set decode_timedelta to True, False, or a 'CFTimedeltaCoder' instance.\n",
      "  vars, attrs, coord_names = xr.conventions.decode_cf_variables(\n"
     ]
    },
    {
     "name": "stdout",
     "output_type": "stream",
     "text": [
      "2025-08-19 00:00:00 unknown 0.0\n",
      "114\n",
      "https://dd.weather.gc.ca/20250818/WXO-DD/model_rdps/10km/06/025/20250818T06Z_MSC_RDPS_Precip-Accum1h_Sfc_RLatLon0.09_PT025H.grib2 20250818T06Z_MSC_RDPS_Precip-Accum1h_Sfc_RLatLon0.09_PT025H.grib2\n",
      "File downloaded successfully: 20250818T06Z_MSC_RDPS_Precip-Accum1h_Sfc_RLatLon0.09_PT025H.grib2, moving to /temp/ ...\n",
      "Commence interpolation\n"
     ]
    },
    {
     "name": "stderr",
     "output_type": "stream",
     "text": [
      "c:\\Users\\lbuchart\\AppData\\Local\\anaconda3\\envs\\prom-env\\Lib\\site-packages\\cfgrib\\xarray_plugin.py:131: FutureWarning: In a future version, xarray will not decode timedelta values based on the presence of a timedelta-like units attribute by default. Instead it will rely on the presence of a timedelta64 dtype attribute, which is now xarray's default way of encoding timedelta64 values. To continue decoding timedeltas based on the presence of a timedelta-like units attribute, users will need to explicitly opt-in by passing True or CFTimedeltaCoder(decode_via_units=True) to decode_timedelta. To silence this warning, set decode_timedelta to True, False, or a 'CFTimedeltaCoder' instance.\n",
      "  vars, attrs, coord_names = xr.conventions.decode_cf_variables(\n"
     ]
    },
    {
     "name": "stdout",
     "output_type": "stream",
     "text": [
      "2025-08-19 01:00:00 unknown 0.04876\n",
      "119\n",
      "https://dd.weather.gc.ca/20250818/WXO-DD/model_rdps/10km/06/026/20250818T06Z_MSC_RDPS_Precip-Accum1h_Sfc_RLatLon0.09_PT026H.grib2 20250818T06Z_MSC_RDPS_Precip-Accum1h_Sfc_RLatLon0.09_PT026H.grib2\n",
      "File downloaded successfully: 20250818T06Z_MSC_RDPS_Precip-Accum1h_Sfc_RLatLon0.09_PT026H.grib2, moving to /temp/ ...\n",
      "Commence interpolation\n"
     ]
    },
    {
     "name": "stderr",
     "output_type": "stream",
     "text": [
      "c:\\Users\\lbuchart\\AppData\\Local\\anaconda3\\envs\\prom-env\\Lib\\site-packages\\cfgrib\\xarray_plugin.py:131: FutureWarning: In a future version, xarray will not decode timedelta values based on the presence of a timedelta-like units attribute by default. Instead it will rely on the presence of a timedelta64 dtype attribute, which is now xarray's default way of encoding timedelta64 values. To continue decoding timedeltas based on the presence of a timedelta-like units attribute, users will need to explicitly opt-in by passing True or CFTimedeltaCoder(decode_via_units=True) to decode_timedelta. To silence this warning, set decode_timedelta to True, False, or a 'CFTimedeltaCoder' instance.\n",
      "  vars, attrs, coord_names = xr.conventions.decode_cf_variables(\n"
     ]
    },
    {
     "name": "stdout",
     "output_type": "stream",
     "text": [
      "2025-08-19 02:00:00 unknown 1.23628\n",
      "124\n",
      "https://dd.weather.gc.ca/20250818/WXO-DD/model_rdps/10km/06/027/20250818T06Z_MSC_RDPS_Precip-Accum1h_Sfc_RLatLon0.09_PT027H.grib2 20250818T06Z_MSC_RDPS_Precip-Accum1h_Sfc_RLatLon0.09_PT027H.grib2\n",
      "File downloaded successfully: 20250818T06Z_MSC_RDPS_Precip-Accum1h_Sfc_RLatLon0.09_PT027H.grib2, moving to /temp/ ...\n",
      "Commence interpolation\n"
     ]
    },
    {
     "name": "stderr",
     "output_type": "stream",
     "text": [
      "c:\\Users\\lbuchart\\AppData\\Local\\anaconda3\\envs\\prom-env\\Lib\\site-packages\\cfgrib\\xarray_plugin.py:131: FutureWarning: In a future version, xarray will not decode timedelta values based on the presence of a timedelta-like units attribute by default. Instead it will rely on the presence of a timedelta64 dtype attribute, which is now xarray's default way of encoding timedelta64 values. To continue decoding timedeltas based on the presence of a timedelta-like units attribute, users will need to explicitly opt-in by passing True or CFTimedeltaCoder(decode_via_units=True) to decode_timedelta. To silence this warning, set decode_timedelta to True, False, or a 'CFTimedeltaCoder' instance.\n",
      "  vars, attrs, coord_names = xr.conventions.decode_cf_variables(\n"
     ]
    },
    {
     "name": "stdout",
     "output_type": "stream",
     "text": [
      "2025-08-19 03:00:00 unknown 2.1386\n",
      "129\n",
      "https://dd.weather.gc.ca/20250818/WXO-DD/model_rdps/10km/06/028/20250818T06Z_MSC_RDPS_Precip-Accum1h_Sfc_RLatLon0.09_PT028H.grib2 20250818T06Z_MSC_RDPS_Precip-Accum1h_Sfc_RLatLon0.09_PT028H.grib2\n",
      "File downloaded successfully: 20250818T06Z_MSC_RDPS_Precip-Accum1h_Sfc_RLatLon0.09_PT028H.grib2, moving to /temp/ ...\n",
      "Commence interpolation\n"
     ]
    },
    {
     "name": "stderr",
     "output_type": "stream",
     "text": [
      "c:\\Users\\lbuchart\\AppData\\Local\\anaconda3\\envs\\prom-env\\Lib\\site-packages\\cfgrib\\xarray_plugin.py:131: FutureWarning: In a future version, xarray will not decode timedelta values based on the presence of a timedelta-like units attribute by default. Instead it will rely on the presence of a timedelta64 dtype attribute, which is now xarray's default way of encoding timedelta64 values. To continue decoding timedeltas based on the presence of a timedelta-like units attribute, users will need to explicitly opt-in by passing True or CFTimedeltaCoder(decode_via_units=True) to decode_timedelta. To silence this warning, set decode_timedelta to True, False, or a 'CFTimedeltaCoder' instance.\n",
      "  vars, attrs, coord_names = xr.conventions.decode_cf_variables(\n"
     ]
    },
    {
     "name": "stdout",
     "output_type": "stream",
     "text": [
      "2025-08-19 04:00:00 unknown 0.846505\n",
      "134\n",
      "https://dd.weather.gc.ca/20250818/WXO-DD/model_rdps/10km/06/029/20250818T06Z_MSC_RDPS_Precip-Accum1h_Sfc_RLatLon0.09_PT029H.grib2 20250818T06Z_MSC_RDPS_Precip-Accum1h_Sfc_RLatLon0.09_PT029H.grib2\n",
      "File downloaded successfully: 20250818T06Z_MSC_RDPS_Precip-Accum1h_Sfc_RLatLon0.09_PT029H.grib2, moving to /temp/ ...\n",
      "Commence interpolation\n"
     ]
    },
    {
     "name": "stderr",
     "output_type": "stream",
     "text": [
      "c:\\Users\\lbuchart\\AppData\\Local\\anaconda3\\envs\\prom-env\\Lib\\site-packages\\cfgrib\\xarray_plugin.py:131: FutureWarning: In a future version, xarray will not decode timedelta values based on the presence of a timedelta-like units attribute by default. Instead it will rely on the presence of a timedelta64 dtype attribute, which is now xarray's default way of encoding timedelta64 values. To continue decoding timedeltas based on the presence of a timedelta-like units attribute, users will need to explicitly opt-in by passing True or CFTimedeltaCoder(decode_via_units=True) to decode_timedelta. To silence this warning, set decode_timedelta to True, False, or a 'CFTimedeltaCoder' instance.\n",
      "  vars, attrs, coord_names = xr.conventions.decode_cf_variables(\n"
     ]
    },
    {
     "name": "stdout",
     "output_type": "stream",
     "text": [
      "2025-08-19 05:00:00 unknown 0.53942\n",
      "139\n",
      "https://dd.weather.gc.ca/20250818/WXO-DD/model_rdps/10km/06/030/20250818T06Z_MSC_RDPS_Precip-Accum1h_Sfc_RLatLon0.09_PT030H.grib2 20250818T06Z_MSC_RDPS_Precip-Accum1h_Sfc_RLatLon0.09_PT030H.grib2\n",
      "File downloaded successfully: 20250818T06Z_MSC_RDPS_Precip-Accum1h_Sfc_RLatLon0.09_PT030H.grib2, moving to /temp/ ...\n",
      "Commence interpolation\n"
     ]
    },
    {
     "name": "stderr",
     "output_type": "stream",
     "text": [
      "c:\\Users\\lbuchart\\AppData\\Local\\anaconda3\\envs\\prom-env\\Lib\\site-packages\\cfgrib\\xarray_plugin.py:131: FutureWarning: In a future version, xarray will not decode timedelta values based on the presence of a timedelta-like units attribute by default. Instead it will rely on the presence of a timedelta64 dtype attribute, which is now xarray's default way of encoding timedelta64 values. To continue decoding timedeltas based on the presence of a timedelta-like units attribute, users will need to explicitly opt-in by passing True or CFTimedeltaCoder(decode_via_units=True) to decode_timedelta. To silence this warning, set decode_timedelta to True, False, or a 'CFTimedeltaCoder' instance.\n",
      "  vars, attrs, coord_names = xr.conventions.decode_cf_variables(\n"
     ]
    },
    {
     "name": "stdout",
     "output_type": "stream",
     "text": [
      "2025-08-19 06:00:00 unknown 0.285535\n",
      "144\n",
      "https://dd.weather.gc.ca/20250818/WXO-DD/model_rdps/10km/06/031/20250818T06Z_MSC_RDPS_Precip-Accum1h_Sfc_RLatLon0.09_PT031H.grib2 20250818T06Z_MSC_RDPS_Precip-Accum1h_Sfc_RLatLon0.09_PT031H.grib2\n",
      "File downloaded successfully: 20250818T06Z_MSC_RDPS_Precip-Accum1h_Sfc_RLatLon0.09_PT031H.grib2, moving to /temp/ ...\n",
      "Commence interpolation\n"
     ]
    },
    {
     "name": "stderr",
     "output_type": "stream",
     "text": [
      "c:\\Users\\lbuchart\\AppData\\Local\\anaconda3\\envs\\prom-env\\Lib\\site-packages\\cfgrib\\xarray_plugin.py:131: FutureWarning: In a future version, xarray will not decode timedelta values based on the presence of a timedelta-like units attribute by default. Instead it will rely on the presence of a timedelta64 dtype attribute, which is now xarray's default way of encoding timedelta64 values. To continue decoding timedeltas based on the presence of a timedelta-like units attribute, users will need to explicitly opt-in by passing True or CFTimedeltaCoder(decode_via_units=True) to decode_timedelta. To silence this warning, set decode_timedelta to True, False, or a 'CFTimedeltaCoder' instance.\n",
      "  vars, attrs, coord_names = xr.conventions.decode_cf_variables(\n"
     ]
    },
    {
     "name": "stdout",
     "output_type": "stream",
     "text": [
      "2025-08-19 07:00:00 unknown 0.49399\n",
      "149\n",
      "https://dd.weather.gc.ca/20250818/WXO-DD/model_rdps/10km/06/032/20250818T06Z_MSC_RDPS_Precip-Accum1h_Sfc_RLatLon0.09_PT032H.grib2 20250818T06Z_MSC_RDPS_Precip-Accum1h_Sfc_RLatLon0.09_PT032H.grib2\n",
      "File downloaded successfully: 20250818T06Z_MSC_RDPS_Precip-Accum1h_Sfc_RLatLon0.09_PT032H.grib2, moving to /temp/ ...\n",
      "Commence interpolation\n"
     ]
    },
    {
     "name": "stderr",
     "output_type": "stream",
     "text": [
      "c:\\Users\\lbuchart\\AppData\\Local\\anaconda3\\envs\\prom-env\\Lib\\site-packages\\cfgrib\\xarray_plugin.py:131: FutureWarning: In a future version, xarray will not decode timedelta values based on the presence of a timedelta-like units attribute by default. Instead it will rely on the presence of a timedelta64 dtype attribute, which is now xarray's default way of encoding timedelta64 values. To continue decoding timedeltas based on the presence of a timedelta-like units attribute, users will need to explicitly opt-in by passing True or CFTimedeltaCoder(decode_via_units=True) to decode_timedelta. To silence this warning, set decode_timedelta to True, False, or a 'CFTimedeltaCoder' instance.\n",
      "  vars, attrs, coord_names = xr.conventions.decode_cf_variables(\n"
     ]
    },
    {
     "name": "stdout",
     "output_type": "stream",
     "text": [
      "2025-08-19 08:00:00 unknown 1.240515\n",
      "154\n",
      "https://dd.weather.gc.ca/20250818/WXO-DD/model_rdps/10km/06/033/20250818T06Z_MSC_RDPS_Precip-Accum1h_Sfc_RLatLon0.09_PT033H.grib2 20250818T06Z_MSC_RDPS_Precip-Accum1h_Sfc_RLatLon0.09_PT033H.grib2\n",
      "File downloaded successfully: 20250818T06Z_MSC_RDPS_Precip-Accum1h_Sfc_RLatLon0.09_PT033H.grib2, moving to /temp/ ...\n",
      "Commence interpolation\n"
     ]
    },
    {
     "name": "stderr",
     "output_type": "stream",
     "text": [
      "c:\\Users\\lbuchart\\AppData\\Local\\anaconda3\\envs\\prom-env\\Lib\\site-packages\\cfgrib\\xarray_plugin.py:131: FutureWarning: In a future version, xarray will not decode timedelta values based on the presence of a timedelta-like units attribute by default. Instead it will rely on the presence of a timedelta64 dtype attribute, which is now xarray's default way of encoding timedelta64 values. To continue decoding timedeltas based on the presence of a timedelta-like units attribute, users will need to explicitly opt-in by passing True or CFTimedeltaCoder(decode_via_units=True) to decode_timedelta. To silence this warning, set decode_timedelta to True, False, or a 'CFTimedeltaCoder' instance.\n",
      "  vars, attrs, coord_names = xr.conventions.decode_cf_variables(\n"
     ]
    },
    {
     "name": "stdout",
     "output_type": "stream",
     "text": [
      "2025-08-19 09:00:00 unknown 1.02896\n",
      "159\n",
      "https://dd.weather.gc.ca/20250818/WXO-DD/model_rdps/10km/06/034/20250818T06Z_MSC_RDPS_Precip-Accum1h_Sfc_RLatLon0.09_PT034H.grib2 20250818T06Z_MSC_RDPS_Precip-Accum1h_Sfc_RLatLon0.09_PT034H.grib2\n",
      "File downloaded successfully: 20250818T06Z_MSC_RDPS_Precip-Accum1h_Sfc_RLatLon0.09_PT034H.grib2, moving to /temp/ ...\n",
      "Commence interpolation\n"
     ]
    },
    {
     "name": "stderr",
     "output_type": "stream",
     "text": [
      "c:\\Users\\lbuchart\\AppData\\Local\\anaconda3\\envs\\prom-env\\Lib\\site-packages\\cfgrib\\xarray_plugin.py:131: FutureWarning: In a future version, xarray will not decode timedelta values based on the presence of a timedelta-like units attribute by default. Instead it will rely on the presence of a timedelta64 dtype attribute, which is now xarray's default way of encoding timedelta64 values. To continue decoding timedeltas based on the presence of a timedelta-like units attribute, users will need to explicitly opt-in by passing True or CFTimedeltaCoder(decode_via_units=True) to decode_timedelta. To silence this warning, set decode_timedelta to True, False, or a 'CFTimedeltaCoder' instance.\n",
      "  vars, attrs, coord_names = xr.conventions.decode_cf_variables(\n"
     ]
    },
    {
     "name": "stdout",
     "output_type": "stream",
     "text": [
      "2025-08-19 10:00:00 unknown 0.090555\n",
      "164\n",
      "https://dd.weather.gc.ca/20250818/WXO-DD/model_rdps/10km/06/035/20250818T06Z_MSC_RDPS_Precip-Accum1h_Sfc_RLatLon0.09_PT035H.grib2 20250818T06Z_MSC_RDPS_Precip-Accum1h_Sfc_RLatLon0.09_PT035H.grib2\n",
      "File downloaded successfully: 20250818T06Z_MSC_RDPS_Precip-Accum1h_Sfc_RLatLon0.09_PT035H.grib2, moving to /temp/ ...\n",
      "Commence interpolation\n"
     ]
    },
    {
     "name": "stderr",
     "output_type": "stream",
     "text": [
      "c:\\Users\\lbuchart\\AppData\\Local\\anaconda3\\envs\\prom-env\\Lib\\site-packages\\cfgrib\\xarray_plugin.py:131: FutureWarning: In a future version, xarray will not decode timedelta values based on the presence of a timedelta-like units attribute by default. Instead it will rely on the presence of a timedelta64 dtype attribute, which is now xarray's default way of encoding timedelta64 values. To continue decoding timedeltas based on the presence of a timedelta-like units attribute, users will need to explicitly opt-in by passing True or CFTimedeltaCoder(decode_via_units=True) to decode_timedelta. To silence this warning, set decode_timedelta to True, False, or a 'CFTimedeltaCoder' instance.\n",
      "  vars, attrs, coord_names = xr.conventions.decode_cf_variables(\n"
     ]
    },
    {
     "name": "stdout",
     "output_type": "stream",
     "text": [
      "2025-08-19 11:00:00 unknown 0.072665\n",
      "169\n",
      "https://dd.weather.gc.ca/20250818/WXO-DD/model_rdps/10km/06/036/20250818T06Z_MSC_RDPS_Precip-Accum1h_Sfc_RLatLon0.09_PT036H.grib2 20250818T06Z_MSC_RDPS_Precip-Accum1h_Sfc_RLatLon0.09_PT036H.grib2\n",
      "File downloaded successfully: 20250818T06Z_MSC_RDPS_Precip-Accum1h_Sfc_RLatLon0.09_PT036H.grib2, moving to /temp/ ...\n",
      "Commence interpolation\n"
     ]
    },
    {
     "name": "stderr",
     "output_type": "stream",
     "text": [
      "c:\\Users\\lbuchart\\AppData\\Local\\anaconda3\\envs\\prom-env\\Lib\\site-packages\\cfgrib\\xarray_plugin.py:131: FutureWarning: In a future version, xarray will not decode timedelta values based on the presence of a timedelta-like units attribute by default. Instead it will rely on the presence of a timedelta64 dtype attribute, which is now xarray's default way of encoding timedelta64 values. To continue decoding timedeltas based on the presence of a timedelta-like units attribute, users will need to explicitly opt-in by passing True or CFTimedeltaCoder(decode_via_units=True) to decode_timedelta. To silence this warning, set decode_timedelta to True, False, or a 'CFTimedeltaCoder' instance.\n",
      "  vars, attrs, coord_names = xr.conventions.decode_cf_variables(\n"
     ]
    },
    {
     "name": "stdout",
     "output_type": "stream",
     "text": [
      "2025-08-19 12:00:00 unknown 0.088205\n",
      "174\n",
      "https://dd.weather.gc.ca/20250818/WXO-DD/model_rdps/10km/06/037/20250818T06Z_MSC_RDPS_Precip-Accum1h_Sfc_RLatLon0.09_PT037H.grib2 20250818T06Z_MSC_RDPS_Precip-Accum1h_Sfc_RLatLon0.09_PT037H.grib2\n",
      "File downloaded successfully: 20250818T06Z_MSC_RDPS_Precip-Accum1h_Sfc_RLatLon0.09_PT037H.grib2, moving to /temp/ ...\n",
      "Commence interpolation\n"
     ]
    },
    {
     "name": "stderr",
     "output_type": "stream",
     "text": [
      "c:\\Users\\lbuchart\\AppData\\Local\\anaconda3\\envs\\prom-env\\Lib\\site-packages\\cfgrib\\xarray_plugin.py:131: FutureWarning: In a future version, xarray will not decode timedelta values based on the presence of a timedelta-like units attribute by default. Instead it will rely on the presence of a timedelta64 dtype attribute, which is now xarray's default way of encoding timedelta64 values. To continue decoding timedeltas based on the presence of a timedelta-like units attribute, users will need to explicitly opt-in by passing True or CFTimedeltaCoder(decode_via_units=True) to decode_timedelta. To silence this warning, set decode_timedelta to True, False, or a 'CFTimedeltaCoder' instance.\n",
      "  vars, attrs, coord_names = xr.conventions.decode_cf_variables(\n"
     ]
    },
    {
     "name": "stdout",
     "output_type": "stream",
     "text": [
      "2025-08-19 13:00:00 unknown 0.08876\n",
      "179\n",
      "https://dd.weather.gc.ca/20250818/WXO-DD/model_rdps/10km/06/038/20250818T06Z_MSC_RDPS_Precip-Accum1h_Sfc_RLatLon0.09_PT038H.grib2 20250818T06Z_MSC_RDPS_Precip-Accum1h_Sfc_RLatLon0.09_PT038H.grib2\n",
      "File downloaded successfully: 20250818T06Z_MSC_RDPS_Precip-Accum1h_Sfc_RLatLon0.09_PT038H.grib2, moving to /temp/ ...\n",
      "Commence interpolation\n"
     ]
    },
    {
     "name": "stderr",
     "output_type": "stream",
     "text": [
      "c:\\Users\\lbuchart\\AppData\\Local\\anaconda3\\envs\\prom-env\\Lib\\site-packages\\cfgrib\\xarray_plugin.py:131: FutureWarning: In a future version, xarray will not decode timedelta values based on the presence of a timedelta-like units attribute by default. Instead it will rely on the presence of a timedelta64 dtype attribute, which is now xarray's default way of encoding timedelta64 values. To continue decoding timedeltas based on the presence of a timedelta-like units attribute, users will need to explicitly opt-in by passing True or CFTimedeltaCoder(decode_via_units=True) to decode_timedelta. To silence this warning, set decode_timedelta to True, False, or a 'CFTimedeltaCoder' instance.\n",
      "  vars, attrs, coord_names = xr.conventions.decode_cf_variables(\n"
     ]
    },
    {
     "name": "stdout",
     "output_type": "stream",
     "text": [
      "2025-08-19 14:00:00 unknown 0.087055\n",
      "184\n",
      "https://dd.weather.gc.ca/20250818/WXO-DD/model_rdps/10km/06/039/20250818T06Z_MSC_RDPS_Precip-Accum1h_Sfc_RLatLon0.09_PT039H.grib2 20250818T06Z_MSC_RDPS_Precip-Accum1h_Sfc_RLatLon0.09_PT039H.grib2\n",
      "File downloaded successfully: 20250818T06Z_MSC_RDPS_Precip-Accum1h_Sfc_RLatLon0.09_PT039H.grib2, moving to /temp/ ...\n",
      "Commence interpolation\n"
     ]
    },
    {
     "name": "stderr",
     "output_type": "stream",
     "text": [
      "c:\\Users\\lbuchart\\AppData\\Local\\anaconda3\\envs\\prom-env\\Lib\\site-packages\\cfgrib\\xarray_plugin.py:131: FutureWarning: In a future version, xarray will not decode timedelta values based on the presence of a timedelta-like units attribute by default. Instead it will rely on the presence of a timedelta64 dtype attribute, which is now xarray's default way of encoding timedelta64 values. To continue decoding timedeltas based on the presence of a timedelta-like units attribute, users will need to explicitly opt-in by passing True or CFTimedeltaCoder(decode_via_units=True) to decode_timedelta. To silence this warning, set decode_timedelta to True, False, or a 'CFTimedeltaCoder' instance.\n",
      "  vars, attrs, coord_names = xr.conventions.decode_cf_variables(\n"
     ]
    },
    {
     "name": "stdout",
     "output_type": "stream",
     "text": [
      "2025-08-19 15:00:00 unknown 0.1696\n",
      "189\n",
      "https://dd.weather.gc.ca/20250818/WXO-DD/model_rdps/10km/06/040/20250818T06Z_MSC_RDPS_Precip-Accum1h_Sfc_RLatLon0.09_PT040H.grib2 20250818T06Z_MSC_RDPS_Precip-Accum1h_Sfc_RLatLon0.09_PT040H.grib2\n",
      "File downloaded successfully: 20250818T06Z_MSC_RDPS_Precip-Accum1h_Sfc_RLatLon0.09_PT040H.grib2, moving to /temp/ ...\n",
      "Commence interpolation\n"
     ]
    },
    {
     "name": "stderr",
     "output_type": "stream",
     "text": [
      "c:\\Users\\lbuchart\\AppData\\Local\\anaconda3\\envs\\prom-env\\Lib\\site-packages\\cfgrib\\xarray_plugin.py:131: FutureWarning: In a future version, xarray will not decode timedelta values based on the presence of a timedelta-like units attribute by default. Instead it will rely on the presence of a timedelta64 dtype attribute, which is now xarray's default way of encoding timedelta64 values. To continue decoding timedeltas based on the presence of a timedelta-like units attribute, users will need to explicitly opt-in by passing True or CFTimedeltaCoder(decode_via_units=True) to decode_timedelta. To silence this warning, set decode_timedelta to True, False, or a 'CFTimedeltaCoder' instance.\n",
      "  vars, attrs, coord_names = xr.conventions.decode_cf_variables(\n"
     ]
    },
    {
     "name": "stdout",
     "output_type": "stream",
     "text": [
      "2025-08-19 16:00:00 unknown 0.151345\n",
      "194\n",
      "https://dd.weather.gc.ca/20250818/WXO-DD/model_rdps/10km/06/041/20250818T06Z_MSC_RDPS_Precip-Accum1h_Sfc_RLatLon0.09_PT041H.grib2 20250818T06Z_MSC_RDPS_Precip-Accum1h_Sfc_RLatLon0.09_PT041H.grib2\n",
      "File downloaded successfully: 20250818T06Z_MSC_RDPS_Precip-Accum1h_Sfc_RLatLon0.09_PT041H.grib2, moving to /temp/ ...\n",
      "Commence interpolation\n"
     ]
    },
    {
     "name": "stderr",
     "output_type": "stream",
     "text": [
      "c:\\Users\\lbuchart\\AppData\\Local\\anaconda3\\envs\\prom-env\\Lib\\site-packages\\cfgrib\\xarray_plugin.py:131: FutureWarning: In a future version, xarray will not decode timedelta values based on the presence of a timedelta-like units attribute by default. Instead it will rely on the presence of a timedelta64 dtype attribute, which is now xarray's default way of encoding timedelta64 values. To continue decoding timedeltas based on the presence of a timedelta-like units attribute, users will need to explicitly opt-in by passing True or CFTimedeltaCoder(decode_via_units=True) to decode_timedelta. To silence this warning, set decode_timedelta to True, False, or a 'CFTimedeltaCoder' instance.\n",
      "  vars, attrs, coord_names = xr.conventions.decode_cf_variables(\n"
     ]
    },
    {
     "name": "stdout",
     "output_type": "stream",
     "text": [
      "2025-08-19 17:00:00 unknown 0.091135\n",
      "199\n",
      "https://dd.weather.gc.ca/20250818/WXO-DD/model_rdps/10km/06/042/20250818T06Z_MSC_RDPS_Precip-Accum1h_Sfc_RLatLon0.09_PT042H.grib2 20250818T06Z_MSC_RDPS_Precip-Accum1h_Sfc_RLatLon0.09_PT042H.grib2\n",
      "File downloaded successfully: 20250818T06Z_MSC_RDPS_Precip-Accum1h_Sfc_RLatLon0.09_PT042H.grib2, moving to /temp/ ...\n",
      "Commence interpolation\n"
     ]
    },
    {
     "name": "stderr",
     "output_type": "stream",
     "text": [
      "c:\\Users\\lbuchart\\AppData\\Local\\anaconda3\\envs\\prom-env\\Lib\\site-packages\\cfgrib\\xarray_plugin.py:131: FutureWarning: In a future version, xarray will not decode timedelta values based on the presence of a timedelta-like units attribute by default. Instead it will rely on the presence of a timedelta64 dtype attribute, which is now xarray's default way of encoding timedelta64 values. To continue decoding timedeltas based on the presence of a timedelta-like units attribute, users will need to explicitly opt-in by passing True or CFTimedeltaCoder(decode_via_units=True) to decode_timedelta. To silence this warning, set decode_timedelta to True, False, or a 'CFTimedeltaCoder' instance.\n",
      "  vars, attrs, coord_names = xr.conventions.decode_cf_variables(\n"
     ]
    },
    {
     "name": "stdout",
     "output_type": "stream",
     "text": [
      "2025-08-19 18:00:00 unknown 0.122285\n",
      "204\n",
      "https://dd.weather.gc.ca/20250818/WXO-DD/model_rdps/10km/06/043/20250818T06Z_MSC_RDPS_Precip-Accum1h_Sfc_RLatLon0.09_PT043H.grib2 20250818T06Z_MSC_RDPS_Precip-Accum1h_Sfc_RLatLon0.09_PT043H.grib2\n",
      "File downloaded successfully: 20250818T06Z_MSC_RDPS_Precip-Accum1h_Sfc_RLatLon0.09_PT043H.grib2, moving to /temp/ ...\n",
      "Commence interpolation\n"
     ]
    },
    {
     "name": "stderr",
     "output_type": "stream",
     "text": [
      "c:\\Users\\lbuchart\\AppData\\Local\\anaconda3\\envs\\prom-env\\Lib\\site-packages\\cfgrib\\xarray_plugin.py:131: FutureWarning: In a future version, xarray will not decode timedelta values based on the presence of a timedelta-like units attribute by default. Instead it will rely on the presence of a timedelta64 dtype attribute, which is now xarray's default way of encoding timedelta64 values. To continue decoding timedeltas based on the presence of a timedelta-like units attribute, users will need to explicitly opt-in by passing True or CFTimedeltaCoder(decode_via_units=True) to decode_timedelta. To silence this warning, set decode_timedelta to True, False, or a 'CFTimedeltaCoder' instance.\n",
      "  vars, attrs, coord_names = xr.conventions.decode_cf_variables(\n"
     ]
    },
    {
     "name": "stdout",
     "output_type": "stream",
     "text": [
      "2025-08-19 19:00:00 unknown 0.213625\n",
      "209\n",
      "https://dd.weather.gc.ca/20250818/WXO-DD/model_rdps/10km/06/044/20250818T06Z_MSC_RDPS_Precip-Accum1h_Sfc_RLatLon0.09_PT044H.grib2 20250818T06Z_MSC_RDPS_Precip-Accum1h_Sfc_RLatLon0.09_PT044H.grib2\n",
      "File downloaded successfully: 20250818T06Z_MSC_RDPS_Precip-Accum1h_Sfc_RLatLon0.09_PT044H.grib2, moving to /temp/ ...\n",
      "Commence interpolation\n"
     ]
    },
    {
     "name": "stderr",
     "output_type": "stream",
     "text": [
      "c:\\Users\\lbuchart\\AppData\\Local\\anaconda3\\envs\\prom-env\\Lib\\site-packages\\cfgrib\\xarray_plugin.py:131: FutureWarning: In a future version, xarray will not decode timedelta values based on the presence of a timedelta-like units attribute by default. Instead it will rely on the presence of a timedelta64 dtype attribute, which is now xarray's default way of encoding timedelta64 values. To continue decoding timedeltas based on the presence of a timedelta-like units attribute, users will need to explicitly opt-in by passing True or CFTimedeltaCoder(decode_via_units=True) to decode_timedelta. To silence this warning, set decode_timedelta to True, False, or a 'CFTimedeltaCoder' instance.\n",
      "  vars, attrs, coord_names = xr.conventions.decode_cf_variables(\n"
     ]
    },
    {
     "name": "stdout",
     "output_type": "stream",
     "text": [
      "2025-08-19 20:00:00 unknown 0.200405\n",
      "214\n",
      "https://dd.weather.gc.ca/20250818/WXO-DD/model_rdps/10km/06/045/20250818T06Z_MSC_RDPS_Precip-Accum1h_Sfc_RLatLon0.09_PT045H.grib2 20250818T06Z_MSC_RDPS_Precip-Accum1h_Sfc_RLatLon0.09_PT045H.grib2\n",
      "File downloaded successfully: 20250818T06Z_MSC_RDPS_Precip-Accum1h_Sfc_RLatLon0.09_PT045H.grib2, moving to /temp/ ...\n",
      "Commence interpolation\n"
     ]
    },
    {
     "name": "stderr",
     "output_type": "stream",
     "text": [
      "c:\\Users\\lbuchart\\AppData\\Local\\anaconda3\\envs\\prom-env\\Lib\\site-packages\\cfgrib\\xarray_plugin.py:131: FutureWarning: In a future version, xarray will not decode timedelta values based on the presence of a timedelta-like units attribute by default. Instead it will rely on the presence of a timedelta64 dtype attribute, which is now xarray's default way of encoding timedelta64 values. To continue decoding timedeltas based on the presence of a timedelta-like units attribute, users will need to explicitly opt-in by passing True or CFTimedeltaCoder(decode_via_units=True) to decode_timedelta. To silence this warning, set decode_timedelta to True, False, or a 'CFTimedeltaCoder' instance.\n",
      "  vars, attrs, coord_names = xr.conventions.decode_cf_variables(\n"
     ]
    },
    {
     "name": "stdout",
     "output_type": "stream",
     "text": [
      "2025-08-19 21:00:00 unknown 0.148125\n",
      "219\n",
      "https://dd.weather.gc.ca/20250818/WXO-DD/model_rdps/10km/06/046/20250818T06Z_MSC_RDPS_Precip-Accum1h_Sfc_RLatLon0.09_PT046H.grib2 20250818T06Z_MSC_RDPS_Precip-Accum1h_Sfc_RLatLon0.09_PT046H.grib2\n",
      "File downloaded successfully: 20250818T06Z_MSC_RDPS_Precip-Accum1h_Sfc_RLatLon0.09_PT046H.grib2, moving to /temp/ ...\n",
      "Commence interpolation\n"
     ]
    },
    {
     "name": "stderr",
     "output_type": "stream",
     "text": [
      "c:\\Users\\lbuchart\\AppData\\Local\\anaconda3\\envs\\prom-env\\Lib\\site-packages\\cfgrib\\xarray_plugin.py:131: FutureWarning: In a future version, xarray will not decode timedelta values based on the presence of a timedelta-like units attribute by default. Instead it will rely on the presence of a timedelta64 dtype attribute, which is now xarray's default way of encoding timedelta64 values. To continue decoding timedeltas based on the presence of a timedelta-like units attribute, users will need to explicitly opt-in by passing True or CFTimedeltaCoder(decode_via_units=True) to decode_timedelta. To silence this warning, set decode_timedelta to True, False, or a 'CFTimedeltaCoder' instance.\n",
      "  vars, attrs, coord_names = xr.conventions.decode_cf_variables(\n"
     ]
    },
    {
     "name": "stdout",
     "output_type": "stream",
     "text": [
      "2025-08-19 22:00:00 unknown 0.17783\n",
      "224\n",
      "https://dd.weather.gc.ca/20250818/WXO-DD/model_rdps/10km/06/047/20250818T06Z_MSC_RDPS_Precip-Accum1h_Sfc_RLatLon0.09_PT047H.grib2 20250818T06Z_MSC_RDPS_Precip-Accum1h_Sfc_RLatLon0.09_PT047H.grib2\n",
      "File downloaded successfully: 20250818T06Z_MSC_RDPS_Precip-Accum1h_Sfc_RLatLon0.09_PT047H.grib2, moving to /temp/ ...\n",
      "Commence interpolation\n"
     ]
    },
    {
     "name": "stderr",
     "output_type": "stream",
     "text": [
      "c:\\Users\\lbuchart\\AppData\\Local\\anaconda3\\envs\\prom-env\\Lib\\site-packages\\cfgrib\\xarray_plugin.py:131: FutureWarning: In a future version, xarray will not decode timedelta values based on the presence of a timedelta-like units attribute by default. Instead it will rely on the presence of a timedelta64 dtype attribute, which is now xarray's default way of encoding timedelta64 values. To continue decoding timedeltas based on the presence of a timedelta-like units attribute, users will need to explicitly opt-in by passing True or CFTimedeltaCoder(decode_via_units=True) to decode_timedelta. To silence this warning, set decode_timedelta to True, False, or a 'CFTimedeltaCoder' instance.\n",
      "  vars, attrs, coord_names = xr.conventions.decode_cf_variables(\n"
     ]
    },
    {
     "name": "stdout",
     "output_type": "stream",
     "text": [
      "2025-08-19 23:00:00 unknown 0.121375\n",
      "229\n",
      "https://dd.weather.gc.ca/20250818/WXO-DD/model_rdps/10km/06/048/20250818T06Z_MSC_RDPS_Precip-Accum1h_Sfc_RLatLon0.09_PT048H.grib2 20250818T06Z_MSC_RDPS_Precip-Accum1h_Sfc_RLatLon0.09_PT048H.grib2\n",
      "File downloaded successfully: 20250818T06Z_MSC_RDPS_Precip-Accum1h_Sfc_RLatLon0.09_PT048H.grib2, moving to /temp/ ...\n",
      "Commence interpolation\n"
     ]
    },
    {
     "name": "stderr",
     "output_type": "stream",
     "text": [
      "c:\\Users\\lbuchart\\AppData\\Local\\anaconda3\\envs\\prom-env\\Lib\\site-packages\\cfgrib\\xarray_plugin.py:131: FutureWarning: In a future version, xarray will not decode timedelta values based on the presence of a timedelta-like units attribute by default. Instead it will rely on the presence of a timedelta64 dtype attribute, which is now xarray's default way of encoding timedelta64 values. To continue decoding timedeltas based on the presence of a timedelta-like units attribute, users will need to explicitly opt-in by passing True or CFTimedeltaCoder(decode_via_units=True) to decode_timedelta. To silence this warning, set decode_timedelta to True, False, or a 'CFTimedeltaCoder' instance.\n",
      "  vars, attrs, coord_names = xr.conventions.decode_cf_variables(\n"
     ]
    },
    {
     "name": "stdout",
     "output_type": "stream",
     "text": [
      "2025-08-20 00:00:00 unknown 0.095015\n",
      "234\n",
      "https://dd.weather.gc.ca/20250818/WXO-DD/model_rdps/10km/06/049/20250818T06Z_MSC_RDPS_Precip-Accum1h_Sfc_RLatLon0.09_PT049H.grib2 20250818T06Z_MSC_RDPS_Precip-Accum1h_Sfc_RLatLon0.09_PT049H.grib2\n",
      "File downloaded successfully: 20250818T06Z_MSC_RDPS_Precip-Accum1h_Sfc_RLatLon0.09_PT049H.grib2, moving to /temp/ ...\n",
      "Commence interpolation\n"
     ]
    },
    {
     "name": "stderr",
     "output_type": "stream",
     "text": [
      "c:\\Users\\lbuchart\\AppData\\Local\\anaconda3\\envs\\prom-env\\Lib\\site-packages\\cfgrib\\xarray_plugin.py:131: FutureWarning: In a future version, xarray will not decode timedelta values based on the presence of a timedelta-like units attribute by default. Instead it will rely on the presence of a timedelta64 dtype attribute, which is now xarray's default way of encoding timedelta64 values. To continue decoding timedeltas based on the presence of a timedelta-like units attribute, users will need to explicitly opt-in by passing True or CFTimedeltaCoder(decode_via_units=True) to decode_timedelta. To silence this warning, set decode_timedelta to True, False, or a 'CFTimedeltaCoder' instance.\n",
      "  vars, attrs, coord_names = xr.conventions.decode_cf_variables(\n"
     ]
    },
    {
     "name": "stdout",
     "output_type": "stream",
     "text": [
      "2025-08-20 01:00:00 unknown 0.12523\n",
      "239\n",
      "https://dd.weather.gc.ca/20250818/WXO-DD/model_rdps/10km/06/050/20250818T06Z_MSC_RDPS_Precip-Accum1h_Sfc_RLatLon0.09_PT050H.grib2 20250818T06Z_MSC_RDPS_Precip-Accum1h_Sfc_RLatLon0.09_PT050H.grib2\n",
      "File downloaded successfully: 20250818T06Z_MSC_RDPS_Precip-Accum1h_Sfc_RLatLon0.09_PT050H.grib2, moving to /temp/ ...\n",
      "Commence interpolation\n"
     ]
    },
    {
     "name": "stderr",
     "output_type": "stream",
     "text": [
      "c:\\Users\\lbuchart\\AppData\\Local\\anaconda3\\envs\\prom-env\\Lib\\site-packages\\cfgrib\\xarray_plugin.py:131: FutureWarning: In a future version, xarray will not decode timedelta values based on the presence of a timedelta-like units attribute by default. Instead it will rely on the presence of a timedelta64 dtype attribute, which is now xarray's default way of encoding timedelta64 values. To continue decoding timedeltas based on the presence of a timedelta-like units attribute, users will need to explicitly opt-in by passing True or CFTimedeltaCoder(decode_via_units=True) to decode_timedelta. To silence this warning, set decode_timedelta to True, False, or a 'CFTimedeltaCoder' instance.\n",
      "  vars, attrs, coord_names = xr.conventions.decode_cf_variables(\n"
     ]
    },
    {
     "name": "stdout",
     "output_type": "stream",
     "text": [
      "2025-08-20 02:00:00 unknown 0.12094\n",
      "        HOURLY  HOUR        TEMP         RH          WD    WS PRECIP\n",
      "0   18/08/2025     3  285.190002  98.169998  209.100006  2.22   0.01\n",
      "1   18/08/2025     4  285.890015  94.559998  211.899994  2.38    0.0\n",
      "2   18/08/2025     5  287.799988  83.309998  214.399994  2.75    0.0\n",
      "3   18/08/2025     6  290.179993  69.089996  215.899994  3.17    0.0\n",
      "4   18/08/2025     7  291.799988  60.139999  214.600006  3.02    0.0\n",
      "5   18/08/2025     8  293.089996  54.860001  209.300003  2.59    0.0\n",
      "6   18/08/2025     9   294.01001  52.299999  199.600006  2.27    0.0\n",
      "7   18/08/2025    10  294.829987      50.32       194.0  1.77    0.0\n",
      "8   18/08/2025    11  295.350006      48.73  221.800003   1.6    0.0\n",
      "9   18/08/2025    12  295.049988      50.75  260.899994  2.59    0.0\n",
      "10  18/08/2025    13  293.709991  57.169998  273.100006  3.71    0.0\n",
      "11  18/08/2025    14  292.730011  60.360001  271.399994  3.52    0.0\n",
      "12  18/08/2025    15  291.140015  64.720001  266.799988  3.59    0.0\n",
      "13  18/08/2025    16   290.48999  70.099998       258.5  2.95   0.01\n",
      "14  18/08/2025    17  289.619995  77.400002       247.5  1.26    0.0\n",
      "15  18/08/2025    18  288.709991  82.400002       144.0  0.73    0.0\n",
      "16  18/08/2025    19  288.329987  86.419998  137.800003  1.48    0.0\n",
      "17  18/08/2025    20      288.25      91.43       163.0   1.5   0.07\n",
      "18  18/08/2025    21       288.0  95.919998  174.300003  1.61   0.57\n",
      "19  18/08/2025    22  288.029999  97.559998  171.399994  1.55   0.18\n",
      "20  18/08/2025    23  287.320007  98.349998  159.399994  1.63    0.0\n",
      "21  19/08/2025     0  286.920013  98.669998  145.800003  1.61    0.0\n",
      "22  19/08/2025     1  286.850006  99.190002       136.5   1.9   0.05\n",
      "23  19/08/2025     2  286.899994  99.559998  121.300003  2.19   1.24\n",
      "24  19/08/2025     3  286.790009  99.379997   98.900002  2.17   2.14\n",
      "25  19/08/2025     4  286.959991  99.160004   64.099998  2.11   0.85\n",
      "26  19/08/2025     5  287.429993  97.980003   49.900002  3.43   0.54\n",
      "27  19/08/2025     6  287.720001  96.540001   46.900002  3.96   0.29\n",
      "28  19/08/2025     7  288.109985  95.860001   45.599998  3.96   0.49\n",
      "29  19/08/2025     8  287.470001  96.949997        16.9  4.39   1.24\n",
      "30  19/08/2025     9  287.070007  96.400002         3.9  7.35   1.03\n",
      "31  19/08/2025    10   286.26001      92.75         5.0  8.25   0.09\n",
      "32  19/08/2025    11  286.570007  88.129997       357.5  7.29   0.07\n",
      "33  19/08/2025    12   286.73999  85.660004  344.100006  7.54   0.09\n",
      "34  19/08/2025    13  286.450012  85.349998  341.100006  7.12   0.09\n",
      "35  19/08/2025    14  285.839996  86.230003  337.899994  7.53   0.09\n",
      "36  19/08/2025    15  285.059998  89.379997  331.600006  7.51   0.17\n",
      "37  19/08/2025    16  284.130005  92.050003  325.399994  7.74   0.15\n",
      "38  19/08/2025    17  283.420013      93.43  322.600006  7.36   0.09\n",
      "39  19/08/2025    18  283.299988  94.239998       322.0  7.61   0.12\n",
      "40  19/08/2025    19  282.940002  96.040001  320.899994   7.8   0.21\n",
      "41  19/08/2025    20  282.899994  95.940002  321.299988  7.87    0.2\n",
      "42  19/08/2025    21  282.820007  95.599998       320.5  8.08   0.15\n",
      "43  19/08/2025    22  282.709991  95.629997  318.299988  8.26   0.18\n",
      "44  19/08/2025    23  282.600006  95.419998  318.799988  8.32   0.12\n",
      "45  20/08/2025     0       282.5  95.339996  318.600006  8.14    0.1\n",
      "46  20/08/2025     1  282.309998  95.389999  316.399994  7.93   0.13\n",
      "47  20/08/2025     2  282.079987  95.150002       315.0  7.73   0.12\n"
     ]
    }
   ],
   "source": [
    "# loop through the model_files DataFrame and download each file\n",
    "new_row = {}\n",
    "looptime = datetime.now()  # hacky workaround for my dataframe population, im not sorry, just lazy\n",
    "\n",
    "# loop through the required vars\n",
    "for ii in range(len(dynamic_vars.keys())):\n",
    "    ec_var = list(dynamic_vars.keys())[ii]\n",
    "    prom_var = list(dynamic_vars.values())[ii]\n",
    "\n",
    "    # just grab the dataframe for one variable then populate that column of the final \n",
    "    # prometheus dataframe - I dont want to hear it...\n",
    "    spec_model_files = model_files.loc[model_files[\"variable\"] == ec_var]\n",
    "\n",
    "    for index, row in spec_model_files.iterrows():\n",
    "        output_file = row['file']\n",
    "        file_url = row['full_path']\n",
    "        timestamp = row[\"datetime\"]\n",
    "        var = row[\"variable\"]\n",
    "\n",
    "        print(index)\n",
    "\n",
    "        print(file_url, output_file)\n",
    "        download_data(file_url, output_file)\n",
    "\n",
    "        if interp_dropdown.value == interp_dropdown.options[0]:\n",
    "        \n",
    "            value = KDTree_interpolate_grib2_to_point(f\"./temp/{output_file}\", var, coords)\n",
    "\n",
    "        elif interp_dropdown == interp_dropdown.options[1]:\n",
    "\n",
    "            value = GRID_interpolate_grib2_to_point(f\"./temp/{output_file}\", var, coords)\n",
    "\n",
    "        #print(f\"The variable is: {var} and  has a value of {value}\")\n",
    "\n",
    "        print(timestamp, var, value)\n",
    "        output_df.loc[output_df[\"temp_datetime\"] == timestamp, prom_var] = np.round(np.float32(value), 2)\n",
    "\n",
    "init = output_df[\"temp_datetime\"][0].strftime(\"%Y_%m_%d_%h\")\n",
    "output_df = output_df.drop(columns=['temp_datetime'])\n",
    "print(output_df)\n",
    "\n",
    "output_df.to_csv(f\"./output/{init}_prometheus_data_{str(forecast_slider.value)}\")\n",
    "      "
   ]
  }
 ],
 "metadata": {
  "kernelspec": {
   "display_name": "prom-env",
   "language": "python",
   "name": "python3"
  },
  "language_info": {
   "codemirror_mode": {
    "name": "ipython",
    "version": 3
   },
   "file_extension": ".py",
   "mimetype": "text/x-python",
   "name": "python",
   "nbconvert_exporter": "python",
   "pygments_lexer": "ipython3",
   "version": "3.13.5"
  }
 },
 "nbformat": 4,
 "nbformat_minor": 5
}
