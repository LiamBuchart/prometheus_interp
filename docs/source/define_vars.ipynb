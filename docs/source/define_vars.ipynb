{
 "cells": [
  {
   "cell_type": "markdown",
   "id": "b3da12b7",
   "metadata": {},
   "source": [
    "# User Input for a Prometheus Run\n",
    "=================================\n",
    "\n",
    "Please run each code block and follow the instructions.\n",
    "The end result will be a downloadable .csv file with the necessary values.\n",
    "Ensure that you have python and wget installed on your machine before starting.\n",
    "\n",
    "There is an accompanying how-to in the \"Installations\" tab."
   ]
  },
  {
   "cell_type": "code",
   "execution_count": 1,
   "id": "aa30f526",
   "metadata": {},
   "outputs": [],
   "source": [
    "# Necessary imports \n",
    "import pandas as pd\n",
    "import geopandas as gpd\n",
    "import numpy as np\n",
    "import matplotlib.pyplot as plt\n",
    "import geopandas as gpd\n",
    "import json\n",
    "import ipywidgets as widgets\n",
    "import requests\n",
    "import xarray as xr\n",
    "\n",
    "from ipyleaflet import Map, Marker, GeoJSON\n",
    "from ipywidgets import Output\n",
    "from IPython.display import display\n",
    "from datetime import datetime\n",
    "\n",
    "from etl_prometheus_data import interpolate_grib2_to_point\n",
    "from file_funcs import set_filenames\n"
   ]
  },
  {
   "cell_type": "code",
   "execution_count": 2,
   "id": "095fef03",
   "metadata": {},
   "outputs": [
    {
     "name": "stdout",
     "output_type": "stream",
     "text": [
      "Shapefile already exists. Downloading the latest data...\n"
     ]
    }
   ],
   "source": [
    "# run the etl_nfdf_polygons.py script to get the NFDF polygons\n",
    "%run etl_nfdb_polygons.py"
   ]
  },
  {
   "cell_type": "code",
   "execution_count": 2,
   "id": "a1e71ae7",
   "metadata": {},
   "outputs": [
    {
     "name": "stderr",
     "output_type": "stream",
     "text": [
      "C:\\Users\\lbuchart\\AppData\\Local\\Temp\\ipykernel_6252\\2273810375.py:14: DeprecationWarning: The 'unary_union' attribute is deprecated, use the 'union_all()' method instead.\n",
      "  center = gdf.geometry.unary_union.centroid.coords[0][::-1]\n"
     ]
    },
    {
     "name": "stdout",
     "output_type": "stream",
     "text": [
      "Click on the map to get coordinates\n",
      "Double-click to zoom in or use the zoom controls\n",
      "Your final click is the selected location\n"
     ]
    },
    {
     "data": {
      "application/vnd.jupyter.widget-view+json": {
       "model_id": "0f9168cb311344d795168b5fdeabfdce",
       "version_major": 2,
       "version_minor": 0
      },
      "text/plain": [
       "Map(center=[56.43705508967247, -106.76423227937384], controls=(ZoomControl(options=['position', 'zoom_in_text'…"
      ]
     },
     "metadata": {},
     "output_type": "display_data"
    },
    {
     "data": {
      "application/vnd.jupyter.widget-view+json": {
       "model_id": "08f3b08dfa134d55b3066eb148c28bd5",
       "version_major": 2,
       "version_minor": 0
      },
      "text/plain": [
       "Output()"
      ]
     },
     "metadata": {},
     "output_type": "display_data"
    }
   ],
   "source": [
    "# Load the GeoJSON file with geopandas\n",
    "gdf = gpd.read_file('Canada_perimeters.geojson')\n",
    "\n",
    "# Ensure CRS is WGS84\n",
    "gdf = gdf.to_crs(epsg=4326)\n",
    "\n",
    "# Optionally drop columns you don't need\n",
    "gdf = gdf.drop(columns=['FIRSTDATE', 'LASTDATE', 'CONSIS_ID'])\n",
    "\n",
    "# Convert to GeoJSON dict\n",
    "geojson_data = json.loads(gdf.to_json())\n",
    "\n",
    "# Center the map on the centroid of all polygons\n",
    "center = gdf.geometry.unary_union.centroid.coords[0][::-1]\n",
    "m = Map(center=center, zoom=4)\n",
    "\n",
    "# Add the GeoJSON layer\n",
    "geojson_layer = GeoJSON(\n",
    "    data=geojson_data,\n",
    "    name='NFDB Polygons',\n",
    "    style={\n",
    "        'color': 'red',\n",
    "        'weight': 1,\n",
    "        'fillColor': 'orange',\n",
    "        'fillOpacity': 0.6\n",
    "    }\n",
    ")\n",
    "m.add_layer(geojson_layer)\n",
    "\n",
    "# add marker that will be updated on click\n",
    "marker = Marker(location=center)    \n",
    "m.add_layer(marker)\n",
    "\n",
    "out = Output()\n",
    "\n",
    "def handle_map_click(**kwargs):\n",
    "    if kwargs.get('type') == 'click':\n",
    "        latlon = kwargs.get('coordinates')\n",
    "        marker.location = latlon\n",
    "        with out:\n",
    "            print(f\"Clicked location: {latlon}\")\n",
    "\n",
    "m.on_interaction(handle_map_click)\n",
    "\n",
    "print(\"Click on the map to get coordinates\")\n",
    "print(\"Double-click to zoom in or use the zoom controls\")\n",
    "print(\"Your final click is the selected location\")\n",
    "display(m, out)"
   ]
  },
  {
   "cell_type": "code",
   "execution_count": 3,
   "id": "47a5f7ee",
   "metadata": {},
   "outputs": [
    {
     "name": "stdout",
     "output_type": "stream",
     "text": [
      "The final coordinates you have selected are: [47.849294596884526, -53.187844080716324]\n"
     ]
    }
   ],
   "source": [
    "coords = marker.location\n",
    "print(f\"The final coordinates you have selected are: {coords}\")\n",
    "\n",
    "# save the map to an HTML file\n",
    "m.save('nfdb_polygons_map.html')\n"
   ]
  },
  {
   "cell_type": "code",
   "execution_count": 4,
   "id": "7c7867f3",
   "metadata": {},
   "outputs": [],
   "source": [
    "# now select model and dates to download ECCC data\n",
    "from IPython.display import display\n",
    "model_dropdown = widgets.Dropdown(\n",
    "    options=['rdps', 'hrdps'],\n",
    "    value='rdps',\n",
    "    description='Model:',\n",
    ")\n",
    "\n",
    "model_run = widgets.Dropdown(\n",
    "    options=['00', '06', '12', '18'],\n",
    "    value='00',\n",
    "    description='Model Initialization Time:',\n",
    ")"
   ]
  },
  {
   "cell_type": "code",
   "execution_count": 5,
   "id": "19646c01",
   "metadata": {},
   "outputs": [
    {
     "data": {
      "application/vnd.jupyter.widget-view+json": {
       "model_id": "e8510823f4654fc4830f0d55d32a7c7a",
       "version_major": 2,
       "version_minor": 0
      },
      "text/plain": [
       "Dropdown(description='Model:', options=('rdps', 'hrdps'), value='rdps')"
      ]
     },
     "metadata": {},
     "output_type": "display_data"
    },
    {
     "data": {
      "application/vnd.jupyter.widget-view+json": {
       "model_id": "c11ffdfa41814643a2899aafb640ba29",
       "version_major": 2,
       "version_minor": 0
      },
      "text/plain": [
       "Dropdown(description='Model Initialization Time:', options=('00', '06', '12', '18'), value='00')"
      ]
     },
     "metadata": {},
     "output_type": "display_data"
    },
    {
     "data": {
      "application/vnd.jupyter.widget-view+json": {
       "model_id": "b01f939580f34bd984edf23fc022c37d",
       "version_major": 2,
       "version_minor": 0
      },
      "text/plain": [
       "IntSlider(value=2025, continuous_update=False, description='Year:', max=2025, min=2020)"
      ]
     },
     "metadata": {},
     "output_type": "display_data"
    },
    {
     "data": {
      "application/vnd.jupyter.widget-view+json": {
       "model_id": "5da74daf7d274e61bc68e5b6d25d8abf",
       "version_major": 2,
       "version_minor": 0
      },
      "text/plain": [
       "IntSlider(value=1, continuous_update=False, description='Month:', max=12, min=1)"
      ]
     },
     "metadata": {},
     "output_type": "display_data"
    },
    {
     "data": {
      "application/vnd.jupyter.widget-view+json": {
       "model_id": "169c4a42f8c2414395f999a3325af888",
       "version_major": 2,
       "version_minor": 0
      },
      "text/plain": [
       "IntSlider(value=1, continuous_update=False, description='Day:', max=31, min=1)"
      ]
     },
     "metadata": {},
     "output_type": "display_data"
    },
    {
     "data": {
      "application/vnd.jupyter.widget-view+json": {
       "model_id": "19ef421d907442ac98751a8b7a17f03c",
       "version_major": 2,
       "version_minor": 0
      },
      "text/plain": [
       "IntSlider(value=48, continuous_update=False, description='Forecast Length (hours):', max=72, min=24, step=6)"
      ]
     },
     "metadata": {},
     "output_type": "display_data"
    },
    {
     "name": "stdout",
     "output_type": "stream",
     "text": [
      "Once you are happy with your selections\n",
      "Move to the next cell to begin the download process\n",
      "Note that the MSC Datamart only has data from the previous 30 days\n"
     ]
    }
   ],
   "source": [
    "current_year = datetime.now().year\n",
    "year_slider = widgets.IntSlider(\n",
    "    value=int(current_year),\n",
    "    min=2020,\n",
    "    max = int(current_year),\n",
    "    step=1,\n",
    "    description='Year:',\n",
    "    continuous_update=False\n",
    ")\n",
    "\n",
    "month_slider = widgets.IntSlider(\n",
    "    value=1,\n",
    "    min=1,\n",
    "    max=12,\n",
    "    step=1,\n",
    "    description='Month:',\n",
    "    continuous_update=False\n",
    ")\n",
    "\n",
    "day_slider = widgets.IntSlider(\n",
    "    value=1,\n",
    "    min=1, \n",
    "    max=31,\n",
    "    step=1,\n",
    "    description='Day:',\n",
    "    continuous_update=False\n",
    ")\n",
    "\n",
    "forecast_slider = widgets.IntSlider(\n",
    "    value=48,\n",
    "    min=24,\n",
    "    max=72,\n",
    "    step=6,\n",
    "    description='Forecast Length (hours):',\n",
    "    continuous_update=False\n",
    ")\n",
    "\n",
    "# Display the widgets\n",
    "display(model_dropdown, model_run, year_slider, month_slider, day_slider, forecast_slider)\n",
    "\n",
    "print(\"Once you are happy with your selections\")\n",
    "print(\"Move to the next cell to begin the download process\")\n",
    "\n",
    "print(\"Note that the MSC Datamart only has data from the previous 30 days\")"
   ]
  },
  {
   "cell_type": "code",
   "execution_count": null,
   "id": "544a5a9f",
   "metadata": {},
   "outputs": [],
   "source": []
  },
  {
   "cell_type": "code",
   "execution_count": 6,
   "id": "87948fe5",
   "metadata": {},
   "outputs": [
    {
     "name": "stdout",
     "output_type": "stream",
     "text": [
      "Selected Model: rdps\n",
      "Selected Model Run: 12\n",
      "Selected Date: 2025-08-10\n",
      "Forecast Length: 24 hours\n",
      "                                            full_path  \\\n",
      "0   https://dd.weather.gc.ca/20250810/WXO-DD/model...   \n",
      "1   https://dd.weather.gc.ca/20250810/WXO-DD/model...   \n",
      "2   https://dd.weather.gc.ca/20250810/WXO-DD/model...   \n",
      "3   https://dd.weather.gc.ca/20250810/WXO-DD/model...   \n",
      "4   https://dd.weather.gc.ca/20250810/WXO-DD/model...   \n",
      "..                                                ...   \n",
      "91  https://dd.weather.gc.ca/20250810/WXO-DD/model...   \n",
      "92  https://dd.weather.gc.ca/20250810/WXO-DD/model...   \n",
      "93  https://dd.weather.gc.ca/20250810/WXO-DD/model...   \n",
      "94  https://dd.weather.gc.ca/20250810/WXO-DD/model...   \n",
      "95  https://dd.weather.gc.ca/20250810/WXO-DD/model...   \n",
      "\n",
      "                                            extension  \\\n",
      "0   https://dd.weather.gc.ca/20250810/WXO-DD/model...   \n",
      "1   https://dd.weather.gc.ca/20250810/WXO-DD/model...   \n",
      "2   https://dd.weather.gc.ca/20250810/WXO-DD/model...   \n",
      "3   https://dd.weather.gc.ca/20250810/WXO-DD/model...   \n",
      "4   https://dd.weather.gc.ca/20250810/WXO-DD/model...   \n",
      "..                                                ...   \n",
      "91  https://dd.weather.gc.ca/20250810/WXO-DD/model...   \n",
      "92  https://dd.weather.gc.ca/20250810/WXO-DD/model...   \n",
      "93  https://dd.weather.gc.ca/20250810/WXO-DD/model...   \n",
      "94  https://dd.weather.gc.ca/20250810/WXO-DD/model...   \n",
      "95  https://dd.weather.gc.ca/20250810/WXO-DD/model...   \n",
      "\n",
      "                                                 file  \n",
      "0   20250810T12Z_MSC_RDPS_AirTemp_AGL_2m_RLatLon0....  \n",
      "1   20250810T12Z_MSC_RDPS_RelativeHumidity_AGL_2m_...  \n",
      "2   20250810T12Z_MSC_RDPS_WindSpeed_AGL_10m_RLatLo...  \n",
      "3   20250810T12Z_MSC_RDPS_WindDir_AGL_10m_RLatLon0...  \n",
      "4   20250810T12Z_MSC_RDPS_AirTemp_AGL_2m_RLatLon0....  \n",
      "..                                                ...  \n",
      "91  20250810T12Z_MSC_RDPS_WindDir_AGL_10m_RLatLon0...  \n",
      "92  20250810T12Z_MSC_RDPS_AirTemp_AGL_2m_RLatLon0....  \n",
      "93  20250810T12Z_MSC_RDPS_RelativeHumidity_AGL_2m_...  \n",
      "94  20250810T12Z_MSC_RDPS_WindSpeed_AGL_10m_RLatLo...  \n",
      "95  20250810T12Z_MSC_RDPS_WindDir_AGL_10m_RLatLon0...  \n",
      "\n",
      "[96 rows x 3 columns]\n"
     ]
    }
   ],
   "source": [
    "model_files = set_filenames(model_dropdown.value, model_run.value, year_slider.value, month_slider.value, day_slider.value, forecast_slider.value)\n",
    "print(model_files)"
   ]
  },
  {
   "cell_type": "code",
   "execution_count": null,
   "id": "11441269",
   "metadata": {},
   "outputs": [],
   "source": [
    "# download the files using the requests library\n",
    "import requests\n",
    "\n",
    "# loop through the model_files DataFrame and download each file\n",
    "for index, row in model_files.iterrows():\n",
    "    output_file = row['file']\n",
    "    file_url = row['full_path']\n",
    "    try:\n",
    "        # Send a GET request to download the file\n",
    "        response = requests.get(file_url, stream=True)\n",
    "        response.raise_for_status()  # Check for HTTP request errors\n",
    "\n",
    "        # Write the content to a local file\n",
    "        with open(output_file, \"wb\") as file:\n",
    "            for chunk in response.iter_content(chunk_size=8192):\n",
    "                file.write(chunk)\n",
    "\n",
    "        print(f\"File downloaded successfully: {output_file}\")\n",
    "\n",
    "        # interpolate then delete the data to keep the temp directory clean\n",
    "        \n",
    "\n",
    "    except requests.exceptions.RequestException as e:\n",
    "        print(f\"An error occurred: {e}\")   "
   ]
  }
 ],
 "metadata": {
  "kernelspec": {
   "display_name": ".venv",
   "language": "python",
   "name": "python3"
  },
  "language_info": {
   "codemirror_mode": {
    "name": "ipython",
    "version": 3
   },
   "file_extension": ".py",
   "mimetype": "text/x-python",
   "name": "python",
   "nbconvert_exporter": "python",
   "pygments_lexer": "ipython3",
   "version": "3.13.5"
  }
 },
 "nbformat": 4,
 "nbformat_minor": 5
}
