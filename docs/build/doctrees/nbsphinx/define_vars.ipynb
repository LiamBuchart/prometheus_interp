{
 "cells": [
  {
   "cell_type": "markdown",
   "id": "b3da12b7",
   "metadata": {},
   "source": [
    "# User Input for a Prometheus Run\n",
    "=================================\n",
    "Please run each code block and follow the instructions\n",
    "The end result will be a downloadable .csv file with the necessary values\n",
    "Ensure that you have wget installed on your machine"
   ]
  },
  {
   "cell_type": "code",
   "execution_count": null,
   "id": "aa30f526",
   "metadata": {},
   "outputs": [
    {
     "name": "stderr",
     "output_type": "stream",
     "text": [
      "2025-08-01 14:33:01.473 Thread 'MainThread': missing ScriptRunContext! This warning can be ignored when running in bare mode.\n"
     ]
    }
   ],
   "source": [
    "# Necessary imports \n",
    "import pandas as pd\n",
    "import geopandas as gpd\n",
    "import folium\n",
    "import numpy as np\n",
    "import matplotlib.pyplot as plt\n",
    "import streamlit as st\n",
    "\n",
    "from streamlit_folium import st_folium\n",
    "from shapely.geometry import Polygon\n",
    "from shapely.geometry import shape\n",
    "\n",
    "\n"
   ]
  },
  {
   "cell_type": "code",
   "execution_count": 12,
   "id": "095fef03",
   "metadata": {},
   "outputs": [
    {
     "name": "stdout",
     "output_type": "stream",
     "text": [
      "Shapefile already exists. Downloading the latest data...\n"
     ]
    }
   ],
   "source": [
    "# run the etl_nfdf_polygons.py script to get the NFDF polygons\n",
    "%run etl_nfdb_polygons.py"
   ]
  },
  {
   "cell_type": "code",
   "execution_count": null,
   "id": "d235533c",
   "metadata": {},
   "outputs": [],
   "source": [
    "# load the goejson file with the NFDB polygons\n",
    "polygons = gpd.read_file('Canada_perimeters.geojson')\n",
    "\n",
    "# drop a coupole columns that are not needed\n",
    "perimeters = polygons.drop(columns=['FIRSTDATE', 'LASTDATE', 'CONSIS_ID'])\n",
    "\n",
    "# initialize a folium map\n",
    "m = folium.Map(location=[52, -120],\n",
    "               zoom_start=4,\n",
    "               tiles='OpenStreetMap')\n",
    "\n",
    "\n",
    "# add the polygons to the map\n",
    "folium.GeoJson(\n",
    "    perimeters,\n",
    "    name='NFDB Polygons',\n",
    "    style_function=lambda x: {\n",
    "        'fillColor': 'orange',\n",
    "        'color': 'red',\n",
    "        'weight': 1,\n",
    "        'fillOpacity': 0.6\n",
    "    }\n",
    ").add_to(m)\n",
    "\n",
    "# display the layer switcher widget\n",
    "folium.LayerControl().add_to(m)\n",
    "\n",
    "print(\"Please Click on your location on the coordinates of your choice to generate a coordinate pair:\")\n",
    "m"
   ]
  },
  {
   "cell_type": "code",
   "execution_count": null,
   "id": "8d981ec1",
   "metadata": {},
   "outputs": [],
   "source": [
    "# save the map to an HTML file\n",
    "m.save('nfdb_polygons_map.html')"
   ]
  }
 ],
 "metadata": {
  "kernelspec": {
   "display_name": ".venv",
   "language": "python",
   "name": "python3"
  },
  "language_info": {
   "codemirror_mode": {
    "name": "ipython",
    "version": 3
   },
   "file_extension": ".py",
   "mimetype": "text/x-python",
   "name": "python",
   "nbconvert_exporter": "python",
   "pygments_lexer": "ipython3",
   "version": "3.13.5"
  }
 },
 "nbformat": 4,
 "nbformat_minor": 5
}
